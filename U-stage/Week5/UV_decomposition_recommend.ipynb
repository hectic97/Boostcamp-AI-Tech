{
  "nbformat": 4,
  "nbformat_minor": 0,
  "metadata": {
    "colab": {
      "name": "UV_decomposition_recommend.ipynb",
      "provenance": [],
      "collapsed_sections": [],
      "toc_visible": true
    },
    "kernelspec": {
      "display_name": "Python 3",
      "name": "python3"
    }
  },
  "cells": [
    {
      "cell_type": "code",
      "metadata": {
        "id": "RXgAgI1ewdlI"
      },
      "source": [
        "import random\r\n",
        "import numpy as np \r\n",
        "import pandas as pd\r\n",
        "import operator\r\n",
        "from scipy.sparse import coo_matrix\r\n",
        "from numpy.linalg import norm\r\n",
        "from sklearn.metrics import mean_squared_error"
      ],
      "execution_count": 131,
      "outputs": []
    },
    {
      "cell_type": "code",
      "metadata": {
        "id": "FoOA5llhNw_4"
      },
      "source": [
        "# from google.colab import drive\n",
        "# drive.mount('/content/drive')"
      ],
      "execution_count": 132,
      "outputs": []
    },
    {
      "cell_type": "code",
      "metadata": {
        "id": "0gdhwpu2wtfk",
        "colab": {
          "base_uri": "https://localhost:8080/"
        },
        "outputId": "161bf43d-7fc1-4039-db51-e3ed0c5c115b"
      },
      "source": [
        "ls"
      ],
      "execution_count": 133,
      "outputs": [
        {
          "output_type": "stream",
          "text": [
            "\u001b[0m\u001b[01;34mdrive\u001b[0m/  \u001b[01;34msample_data\u001b[0m/\n"
          ],
          "name": "stdout"
        }
      ]
    },
    {
      "cell_type": "code",
      "metadata": {
        "id": "E9Km6q1Dkk0O",
        "colab": {
          "base_uri": "https://localhost:8080/"
        },
        "outputId": "2de3ce2c-30b9-412a-fd39-4b33ecb41d57"
      },
      "source": [
        "import os, sys \r\n",
        "from google.colab import drive \r\n",
        "\r\n",
        "### 해당 코드 실행 시 colab에서 실행중인 폴더의 /content/drive/My Drive가 구글 드라이브에 연결됨\r\n",
        "\r\n",
        "drive.mount('/content/drive')\r\n"
      ],
      "execution_count": 134,
      "outputs": [
        {
          "output_type": "stream",
          "text": [
            "Drive already mounted at /content/drive; to attempt to forcibly remount, call drive.mount(\"/content/drive\", force_remount=True).\n"
          ],
          "name": "stdout"
        }
      ]
    },
    {
      "cell_type": "code",
      "metadata": {
        "id": "I40uSNFYerGO",
        "colab": {
          "base_uri": "https://localhost:8080/",
          "height": 240
        },
        "outputId": "b2991319-df72-4b70-fe1b-08965f9b55d6"
      },
      "source": [
        "#### 영화 데이터셋 형태 확인 ####\r\n",
        "movies = pd.read_csv(\"drive/MyDrive/data/others/movies.csv\")\r\n",
        "\r\n",
        "print(\"### Movie Dataset Format ###\", end = '\\n\\n')\r\n",
        "movies.head()"
      ],
      "execution_count": 135,
      "outputs": [
        {
          "output_type": "stream",
          "text": [
            "### Movie Dataset Format ###\n",
            "\n"
          ],
          "name": "stdout"
        },
        {
          "output_type": "execute_result",
          "data": {
            "text/html": [
              "<div>\n",
              "<style scoped>\n",
              "    .dataframe tbody tr th:only-of-type {\n",
              "        vertical-align: middle;\n",
              "    }\n",
              "\n",
              "    .dataframe tbody tr th {\n",
              "        vertical-align: top;\n",
              "    }\n",
              "\n",
              "    .dataframe thead th {\n",
              "        text-align: right;\n",
              "    }\n",
              "</style>\n",
              "<table border=\"1\" class=\"dataframe\">\n",
              "  <thead>\n",
              "    <tr style=\"text-align: right;\">\n",
              "      <th></th>\n",
              "      <th>movieId</th>\n",
              "      <th>title</th>\n",
              "      <th>genres</th>\n",
              "    </tr>\n",
              "  </thead>\n",
              "  <tbody>\n",
              "    <tr>\n",
              "      <th>0</th>\n",
              "      <td>1</td>\n",
              "      <td>Toy Story (1995)</td>\n",
              "      <td>Adventure|Animation|Children|Comedy|Fantasy</td>\n",
              "    </tr>\n",
              "    <tr>\n",
              "      <th>1</th>\n",
              "      <td>2</td>\n",
              "      <td>Jumanji (1995)</td>\n",
              "      <td>Adventure|Children|Fantasy</td>\n",
              "    </tr>\n",
              "    <tr>\n",
              "      <th>2</th>\n",
              "      <td>3</td>\n",
              "      <td>Grumpier Old Men (1995)</td>\n",
              "      <td>Comedy|Romance</td>\n",
              "    </tr>\n",
              "    <tr>\n",
              "      <th>3</th>\n",
              "      <td>4</td>\n",
              "      <td>Waiting to Exhale (1995)</td>\n",
              "      <td>Comedy|Drama|Romance</td>\n",
              "    </tr>\n",
              "    <tr>\n",
              "      <th>4</th>\n",
              "      <td>5</td>\n",
              "      <td>Father of the Bride Part II (1995)</td>\n",
              "      <td>Comedy</td>\n",
              "    </tr>\n",
              "  </tbody>\n",
              "</table>\n",
              "</div>"
            ],
            "text/plain": [
              "   movieId  ...                                       genres\n",
              "0        1  ...  Adventure|Animation|Children|Comedy|Fantasy\n",
              "1        2  ...                   Adventure|Children|Fantasy\n",
              "2        3  ...                               Comedy|Romance\n",
              "3        4  ...                         Comedy|Drama|Romance\n",
              "4        5  ...                                       Comedy\n",
              "\n",
              "[5 rows x 3 columns]"
            ]
          },
          "metadata": {
            "tags": []
          },
          "execution_count": 135
        }
      ]
    },
    {
      "cell_type": "code",
      "metadata": {
        "id": "YIPStkMqgZUH"
      },
      "source": [
        "################### 가상 유저 추가해주기 위한 작업 데이터 전처리 - 장르별 영화 리스트를 뽑는다 #################\r\n",
        "\r\n",
        "# 이 셀을 실행하는 이유는 후에 특정 장르를 좋아하는 가상의 유저를 만들어서 추천의 결과를 보기 위함입니다.\r\n",
        "\r\n",
        "movie_dict = dict()                 # {movie_id : (movie_title, movie_genre)}\r\n",
        "musical_list = list()               # musical 장르의 영화들\r\n",
        "horror_list = list()                # horror 장르의 영화들\r\n",
        "documentary_list = list()           # documentary 장르의 영화들\r\n",
        "comedy_list = list()                # comedy 장르의 영화들\r\n",
        "animation_list = list()\r\n",
        "\r\n",
        "for (movie_id, movie_title, movie_genre) in movies.itertuples(index=False):\r\n",
        "    movie_dict[movie_id] = (movie_title, movie_genre)\r\n",
        "    if 'Musical' in movie_genre:\r\n",
        "        musical_list.append(movie_id)\r\n",
        "    if 'Horror' in movie_genre:\r\n",
        "        horror_list.append(movie_id)\r\n",
        "    if 'Documentary' in movie_genre:\r\n",
        "        documentary_list.append(movie_id)\r\n",
        "    if 'Comedy' in movie_genre:\r\n",
        "        comedy_list.append(movie_id)\r\n",
        "    if 'Animation' in movie_genre:\r\n",
        "        animation_list.append(movie_id)"
      ],
      "execution_count": 136,
      "outputs": []
    },
    {
      "cell_type": "code",
      "metadata": {
        "id": "hmAWs5jy9VkB",
        "colab": {
          "base_uri": "https://localhost:8080/"
        },
        "outputId": "f83831fa-60ca-4e19-fe10-20ce4933bf1a"
      },
      "source": [
        "ratings = pd.read_csv(\"drive/MyDrive/data/others/ratings.csv\")\r\n",
        "\r\n",
        "# 평점 데이터셋 형태 확인\r\n",
        "print(\"### Rating Dataset Format ###\", end='\\n\\n')\r\n",
        "print(ratings.head(), end='\\n\\n\\n')\r\n",
        "ratings.drop(['timestamp'], axis=1, inplace=True)\r\n",
        "print(ratings.head())"
      ],
      "execution_count": 137,
      "outputs": [
        {
          "output_type": "stream",
          "text": [
            "### Rating Dataset Format ###\n",
            "\n",
            "   userId  movieId  rating  timestamp\n",
            "0       1        1     4.0  964982703\n",
            "1       1        3     4.0  964981247\n",
            "2       1        6     4.0  964982224\n",
            "3       1       47     5.0  964983815\n",
            "4       1       50     5.0  964982931\n",
            "\n",
            "\n",
            "   userId  movieId  rating\n",
            "0       1        1     4.0\n",
            "1       1        3     4.0\n",
            "2       1        6     4.0\n",
            "3       1       47     5.0\n",
            "4       1       50     5.0\n"
          ],
          "name": "stdout"
        }
      ]
    },
    {
      "cell_type": "code",
      "metadata": {
        "id": "vglb1zq9XRJD",
        "colab": {
          "base_uri": "https://localhost:8080/"
        },
        "outputId": "74414ba8-a496-4088-bea5-c920c6e8e730"
      },
      "source": [
        "'''\r\n",
        "    유저가 평균적으로 영화를 130개정도 본 것으로 나타나서 일반적으로 추가하는 사람들도 그정도로 설정\r\n",
        "    그리고, 영화에 대한 평점을 줄 때는 영화 순서를 섞고, 무조건 5점을 주는 것이 아니라 4, 5점 중 랜덤으로 설정\r\n",
        "    낮은 점수를 줄 때도 마찬가지.\r\n",
        "'''\r\n",
        "# uid==800을 가지는 유저를 추가한다. 이 유저는 뮤지컬의 광팬이다.\r\n",
        "\r\n",
        "random.shuffle(musical_list);\r\n",
        "random.shuffle(horror_list);\r\n",
        "random.shuffle(documentary_list);\r\n",
        "random.shuffle(comedy_list);\r\n",
        "\r\n",
        "print(ratings)\r\n",
        "new_uid = 800\r\n",
        "rows = list()\r\n",
        "for movie_id in musical_list[:100]:\r\n",
        "    rows.append([new_uid, movie_id, random.randint(4,5)])\r\n",
        "for movie_id in horror_list[:50]:\r\n",
        "    rows.append([new_uid, movie_id, random.randint(1,2)])\r\n",
        "for movie_id in documentary_list[:20]:\r\n",
        "    rows.append([new_uid, movie_id, random.randint(2,3)])\r\n",
        "for row in rows:\r\n",
        "    ratings = ratings.append(pd.Series(row, index=ratings.columns), ignore_index=True)\r\n",
        "print(ratings)\r\n"
      ],
      "execution_count": 138,
      "outputs": [
        {
          "output_type": "stream",
          "text": [
            "        userId  movieId  rating\n",
            "0            1        1     4.0\n",
            "1            1        3     4.0\n",
            "2            1        6     4.0\n",
            "3            1       47     5.0\n",
            "4            1       50     5.0\n",
            "...        ...      ...     ...\n",
            "100831     610   166534     4.0\n",
            "100832     610   168248     5.0\n",
            "100833     610   168250     5.0\n",
            "100834     610   168252     5.0\n",
            "100835     610   170875     3.0\n",
            "\n",
            "[100836 rows x 3 columns]\n",
            "        userId  movieId  rating\n",
            "0            1        1     4.0\n",
            "1            1        3     4.0\n",
            "2            1        6     4.0\n",
            "3            1       47     5.0\n",
            "4            1       50     5.0\n",
            "...        ...      ...     ...\n",
            "101001     800    61236     3.0\n",
            "101002     800     5669     3.0\n",
            "101003     800     1189     3.0\n",
            "101004     800   178323     3.0\n",
            "101005     800     2330     3.0\n",
            "\n",
            "[101006 rows x 3 columns]\n"
          ],
          "name": "stdout"
        }
      ]
    },
    {
      "cell_type": "code",
      "metadata": {
        "id": "3Rg96RFt10xs",
        "colab": {
          "base_uri": "https://localhost:8080/"
        },
        "outputId": "7387973e-d0b3-406d-9dd5-deccffb8693a"
      },
      "source": [
        "# uid==850을 가지는 유저를 추가한다. 이 유저는 다큐 영화의 광팬이다.\r\n",
        "\r\n",
        "random.shuffle(musical_list);\r\n",
        "random.shuffle(horror_list);\r\n",
        "random.shuffle(documentary_list);\r\n",
        "random.shuffle(comedy_list);\r\n",
        "random.shuffle(animation_list);\r\n",
        "\r\n",
        "\r\n",
        "print(ratings)\r\n",
        "new_uid = 850\r\n",
        "rows = list()\r\n",
        "for movie_id in documentary_list[:100]:\r\n",
        "    rows.append([new_uid, movie_id, random.randint(4,5)])\r\n",
        "for movie_id in horror_list[:50]:\r\n",
        "    rows.append([new_uid, movie_id, random.randint(1,2)])\r\n",
        "for movie_id in animation_list[:10]:\r\n",
        "    rows.append([new_uid, movie_id, random.randint(1,2)])\r\n",
        "\r\n",
        "for row in rows:\r\n",
        "    ratings = ratings.append(pd.Series(row, index=ratings.columns), ignore_index=True)\r\n",
        "print(ratings)"
      ],
      "execution_count": 139,
      "outputs": [
        {
          "output_type": "stream",
          "text": [
            "        userId  movieId  rating\n",
            "0            1        1     4.0\n",
            "1            1        3     4.0\n",
            "2            1        6     4.0\n",
            "3            1       47     5.0\n",
            "4            1       50     5.0\n",
            "...        ...      ...     ...\n",
            "101001     800    61236     3.0\n",
            "101002     800     5669     3.0\n",
            "101003     800     1189     3.0\n",
            "101004     800   178323     3.0\n",
            "101005     800     2330     3.0\n",
            "\n",
            "[101006 rows x 3 columns]\n",
            "        userId  movieId  rating\n",
            "0            1        1     4.0\n",
            "1            1        3     4.0\n",
            "2            1        6     4.0\n",
            "3            1       47     5.0\n",
            "4            1       50     5.0\n",
            "...        ...      ...     ...\n",
            "101161     850    84414     1.0\n",
            "101162     850    98799     2.0\n",
            "101163     850   174141     2.0\n",
            "101164     850   163809     2.0\n",
            "101165     850   136016     1.0\n",
            "\n",
            "[101166 rows x 3 columns]\n"
          ],
          "name": "stdout"
        }
      ]
    },
    {
      "cell_type": "code",
      "metadata": {
        "id": "0mdpHH8kxGuL",
        "colab": {
          "base_uri": "https://localhost:8080/"
        },
        "outputId": "08bdc910-f742-46d7-a524-0402a987a568"
      },
      "source": [
        "# uid==900을 가지는 유저를 추가한다. 이 유저는 호러의 광팬이다.\r\n",
        "\r\n",
        "random.shuffle(musical_list);\r\n",
        "random.shuffle(horror_list);\r\n",
        "random.shuffle(documentary_list);\r\n",
        "random.shuffle(comedy_list);\r\n",
        "random.shuffle(animation_list);\r\n",
        "\r\n",
        "new_uid = 900\r\n",
        "rows = list()\r\n",
        "for movie_id in horror_list[:120]:\r\n",
        "    rows.append([new_uid, movie_id, random.randint(4,5)])\r\n",
        "for movie_id in documentary_list[:10]:\r\n",
        "    rows.append([new_uid, movie_id, random.randint(1,2)])\r\n",
        "for movie_id in comedy_list[:30]:\r\n",
        "    rows.append([new_uid, movie_id, random.randint(1,2)])\r\n",
        "for movie_id in animation_list[:20]:\r\n",
        "    rows.append([new_uid, movie_id, random.randint(1,2)])\r\n",
        "for row in rows:\r\n",
        "    ratings = ratings.append(pd.Series(row, index=ratings.columns), ignore_index=True)\r\n",
        "print(ratings)"
      ],
      "execution_count": 140,
      "outputs": [
        {
          "output_type": "stream",
          "text": [
            "        userId  movieId  rating\n",
            "0            1        1     4.0\n",
            "1            1        3     4.0\n",
            "2            1        6     4.0\n",
            "3            1       47     5.0\n",
            "4            1       50     5.0\n",
            "...        ...      ...     ...\n",
            "101341     900    97913     2.0\n",
            "101342     900     2123     2.0\n",
            "101343     900   136297     2.0\n",
            "101344     900    33090     1.0\n",
            "101345     900     5041     2.0\n",
            "\n",
            "[101346 rows x 3 columns]\n"
          ],
          "name": "stdout"
        }
      ]
    },
    {
      "cell_type": "code",
      "metadata": {
        "id": "SnjlX5BT_yKC",
        "colab": {
          "base_uri": "https://localhost:8080/"
        },
        "outputId": "908ee259-7661-4d17-c651-a58b91807793"
      },
      "source": [
        "# uid==950을 가지는 유저를 추가한다. 이 유저는 애니메이션의 광팬이다.\r\n",
        "\r\n",
        "random.shuffle(musical_list);\r\n",
        "random.shuffle(horror_list);\r\n",
        "random.shuffle(documentary_list);\r\n",
        "random.shuffle(comedy_list);\r\n",
        "random.shuffle(animation_list);\r\n",
        "\r\n",
        "new_uid = 950\r\n",
        "rows = list()\r\n",
        "for movie_id in horror_list[:20]:\r\n",
        "    rows.append([new_uid, movie_id, random.randint(1,2)])\r\n",
        "for movie_id in documentary_list[:10]:\r\n",
        "    rows.append([new_uid, movie_id, random.randint(1,3)])\r\n",
        "for movie_id in comedy_list[:30]:\r\n",
        "    rows.append([new_uid, movie_id, random.randint(2,4)])\r\n",
        "for movie_id in animation_list[:150]:\r\n",
        "    rows.append([new_uid, movie_id, random.randint(3,5)])\r\n",
        "for row in rows:\r\n",
        "    ratings = ratings.append(pd.Series(row, index=ratings.columns), ignore_index=True)\r\n",
        "print(ratings)"
      ],
      "execution_count": 141,
      "outputs": [
        {
          "output_type": "stream",
          "text": [
            "        userId  movieId  rating\n",
            "0            1        1     4.0\n",
            "1            1        3     4.0\n",
            "2            1        6     4.0\n",
            "3            1       47     5.0\n",
            "4            1       50     5.0\n",
            "...        ...      ...     ...\n",
            "101551     950    36708     5.0\n",
            "101552     950    81847     5.0\n",
            "101553     950   118894     3.0\n",
            "101554     950     6857     5.0\n",
            "101555     950   101142     4.0\n",
            "\n",
            "[101556 rows x 3 columns]\n"
          ],
          "name": "stdout"
        }
      ]
    },
    {
      "cell_type": "code",
      "metadata": {
        "id": "4u-StcnO9Vl3",
        "colab": {
          "base_uri": "https://localhost:8080/"
        },
        "outputId": "1acbddf8-987d-420b-f70f-9d0cf1774425"
      },
      "source": [
        "########################################################################\r\n",
        "######### Mapping user id, movie id to user index, movie index #########\r\n",
        "########################################################################\r\n",
        "\r\n",
        "uid_2_idx = dict()     # user id --> user idx\r\n",
        "mid_2_idx = dict()    # movie id --> movie idx\r\n",
        "\r\n",
        "u_idx = 0\r\n",
        "m_idx = 0\r\n",
        "for user_id, movie_id, r in ratings.itertuples(index=False):\r\n",
        "    if user_id not in uid_2_idx:\r\n",
        "        uid_2_idx[user_id] = u_idx\r\n",
        "        u_idx = u_idx+1\r\n",
        "\r\n",
        "    if movie_id not in mid_2_idx:\r\n",
        "        mid_2_idx[movie_id] = m_idx\r\n",
        "        m_idx = m_idx+1\r\n",
        "\r\n",
        "num_user = len(uid_2_idx)\r\n",
        "num_movie = len(mid_2_idx)\r\n",
        "print(num_user) # 유저수\r\n",
        "print(num_movie) # 영화수\r\n",
        "\r\n",
        "uidx_2_id = {v:k for (k,v) in uid_2_idx.items()}    # user idx --> user id\r\n",
        "midx_2_id = {v:k for (k,v) in mid_2_idx.items()}    # movie idx --> movie id\r\n"
      ],
      "execution_count": 142,
      "outputs": [
        {
          "output_type": "stream",
          "text": [
            "614\n",
            "9724\n"
          ],
          "name": "stdout"
        }
      ]
    },
    {
      "cell_type": "code",
      "metadata": {
        "id": "5bpAhY-QAQ5i",
        "colab": {
          "base_uri": "https://localhost:8080/"
        },
        "outputId": "6b3b9493-fabd-447f-c2d8-65accc8e8965"
      },
      "source": [
        "# rating matrix 초기화\r\n",
        "rating_matrix = np.zeros((num_user, num_movie)) # num_user x num_movie를 크기로 가지는 numpy 행렬 선언, 각 요소는 유저가 영화에 매긴 rating을 나타냄.\r\n",
        "\r\n",
        "for user_id, movie_id, r in ratings.itertuples(index=False):\r\n",
        "    u_idx = uid_2_idx[user_id]\r\n",
        "    m_idx = mid_2_idx[movie_id]\r\n",
        "    rating_matrix[u_idx, m_idx] = r\r\n",
        "\r\n",
        "rating_matrix"
      ],
      "execution_count": 143,
      "outputs": [
        {
          "output_type": "execute_result",
          "data": {
            "text/plain": [
              "array([[4., 4., 4., ..., 0., 0., 0.],\n",
              "       [0., 0., 0., ..., 0., 0., 0.],\n",
              "       [0., 0., 0., ..., 0., 0., 0.],\n",
              "       ...,\n",
              "       [0., 0., 0., ..., 0., 0., 0.],\n",
              "       [0., 0., 0., ..., 0., 0., 0.],\n",
              "       [5., 0., 0., ..., 0., 0., 0.]])"
            ]
          },
          "metadata": {
            "tags": []
          },
          "execution_count": 143
        }
      ]
    },
    {
      "cell_type": "code",
      "metadata": {
        "id": "vNh0QF9ROiEl"
      },
      "source": [
        "######################################################################################################################################\r\n",
        "# Training Set과 Test Set을 분리해 주는 함수\r\n",
        "# kind='user'인 경우 같은 user 내의 rating을, kind = 'item'인 경우 같은 item(movie) 내의 rating을 train set과 test set으로 분리해준다.\r\n",
        "######################################################################################################################################\r\n",
        "def train_test_split(ratings):\r\n",
        "    test = np.zeros_like(ratings)\r\n",
        "    train = ratings.copy()\r\n",
        "    for x in range(ratings.shape[0]):\r\n",
        "        nonzero_idx = ratings[x, :].nonzero()[0]\r\n",
        "        test_ratings = np.random.choice(nonzero_idx, \r\n",
        "                                        size=int(len(nonzero_idx)/5),  \r\n",
        "                                        replace=False)\r\n",
        "        train[x, test_ratings] = 0.\r\n",
        "        test[x, test_ratings] = ratings[x, test_ratings]\r\n",
        "        \r\n",
        "    assert(np.all((train * test) == 0))     # train set과 test set이 완전히 분리되었는지 확인\r\n",
        "\r\n",
        "    return train, test\r\n",
        "\r\n",
        "######################################################################################\r\n",
        "###################### 유저별 평균을 기존 rating에서 빼준다 ##########################\r\n",
        "######################################################################################\r\n",
        "####### *****rating이 \"있는\" 값들의 평균만을 rating이 있는 곳에서만 빼준다############\r\n",
        "def subtract_mean_ratings(ratings):\r\n",
        "    mean_subtracted_ratings = np.zeros_like(ratings)\r\n",
        "    avg_ratings = np.zeros(ratings.shape[0])\r\n",
        "    for i in range(ratings.shape[0]):\r\n",
        "        nonzero_idx = ratings[i].nonzero()[0]                       # rating 값이 존재하는(0이 아닌) index 추출\r\n",
        "        sum_ratings = np.sum(ratings[i])          \r\n",
        "        num_nonzero = len(nonzero_idx)\r\n",
        "        avg_rating = sum_ratings / num_nonzero                      # rating 값들의 평균값 계산\r\n",
        "        if num_nonzero == 0:                  \r\n",
        "            avg_rating = 0\r\n",
        "        avg_ratings[i] = avg_rating\r\n",
        "        mean_subtracted_ratings[i, nonzero_idx] = ratings[i, nonzero_idx] - avg_rating \r\n",
        "                                                                    # 원 rating matrix에서 평균 값을 빼줌\r\n",
        "    return mean_subtracted_ratings, avg_ratings\r\n"
      ],
      "execution_count": 144,
      "outputs": []
    },
    {
      "cell_type": "code",
      "metadata": {
        "id": "HeFBFpNpN5PM"
      },
      "source": [
        "train_ratings, test_ratings = train_test_split(rating_matrix)\n",
        "mean_subtracted_ratings, avg_ratings = subtract_mean_ratings(train_ratings)"
      ],
      "execution_count": 145,
      "outputs": []
    },
    {
      "cell_type": "code",
      "metadata": {
        "id": "22zzcXhMwaO5"
      },
      "source": [
        "def calculate_rmse(R, U, V, lambda_u, lambda_v):\r\n",
        "    error = 0\r\n",
        "    for u, i, r_ui in zip(R.row, R.col, R.data):\r\n",
        "        error += (r_ui - np.dot(U[u] , V.T[i]))**2\r\n",
        "    for u in range(U.shape[0]):\r\n",
        "        error += lambda_u * (norm(U[u])**2) # L2 Normalization\r\n",
        "    for i in range(V.shape[1]):\r\n",
        "        error += lambda_v * (norm(V.T[i])**2) # L2 Normalization\r\n",
        "    rmse = np.sqrt(error/len(R.data))\r\n",
        "    return rmse\r\n",
        "\r\n",
        "def SGD(U, V, R, lr, lambda_u, lambda_v):\r\n",
        "    for u, i, r_ui in R:\r\n",
        "        e = r_ui - np.dot(U[u],V.T[i])\r\n",
        "        grad_u = 2 * e * -V.T[i] + 2 * lambda_u * U[u]\r\n",
        "        grad_v = 2 * e * -U[u] + 2 * lambda_v * V.T[i]\r\n",
        "        U[u] = U[u] - lr * grad_u\r\n",
        "        V.T[i] = V.T[i] - lr * grad_v\r\n",
        "        \r\n",
        "    return U, V\r\n",
        "\r\n",
        "\r\n",
        "def train(ratings, dim=10, max_epoch=50, lambda_u=0.1, lambda_v=0.1, lr=0.01):\r\n",
        "    #lambda_u : regularization coefficient of U matrix, lambda_v : regularizatoin coeff of V matrix,\r\n",
        "    # lr : learning rate\r\n",
        "    num_u, num_i = ratings.shape\r\n",
        "\r\n",
        "    U = np.random.rand(num_u, dim)\r\n",
        "    V = np.random.rand(dim, num_i)\r\n",
        "    R = coo_matrix(ratings)\r\n",
        "    rmse = calculate_rmse(R, U, V, lambda_u, lambda_v)\r\n",
        "    print(\"Initial RMSE: \" + str(rmse))\r\n",
        "\r\n",
        "    for epoch in range(max_epoch):\r\n",
        "        if epoch != 0 and epoch%10==0:\r\n",
        "            lr /= 2\r\n",
        "        rating_data = list(zip(R.row, R.col, R.data))\r\n",
        "        random.shuffle(rating_data)\r\n",
        "        U, V = SGD(U, V, rating_data, lr, lambda_u, lambda_v)\r\n",
        "        rmse = calculate_rmse(R, U, V, lambda_u, lambda_v)        \r\n",
        "        print('Epoch: {:5}, RMSE: {:15}, Learning Rate:{}'.format(epoch, rmse, lr))\r\n",
        "    \r\n",
        "    return U, V \r\n",
        "\r\n",
        "def predict(U, V, user_id=None):\r\n",
        "    # user_id가 주어지지 않은 경우엔 전체 예측된 평점 행렬을 return,\r\n",
        "    # 주어진 경우엔 해당 유저에 대한 예측 평점 행렬을 return한다.\r\n",
        "\r\n",
        "    if user_id is None:\r\n",
        "        return np.dot(U, V)\r\n",
        "    else:\r\n",
        "        user_idx = uid_2_idx[user_id]\r\n",
        "        return np.dot(U[user_idx], V )\r\n",
        "\r\n",
        "\r\n",
        "#######################################################################################\r\n",
        "##########user id = uid인 유저에게 유저가 본 영화를 제외하고 N개를 추천해준다######\r\n",
        "#######################################################################################\r\n",
        "def recommend_for_uid(uid, ori_rating_matrix, U, V, top_N):\r\n",
        "\r\n",
        "    movie_rating_dict = dict()\r\n",
        "    u_predicted_rating = predict(U, V, user_id=uid)\r\n",
        "    for movie_idx, pred_rating in enumerate(u_predicted_rating):\r\n",
        "        movie_rating_dict[movie_idx] = pred_rating\r\n",
        "    \r\n",
        "    uidx = uid_2_idx[uid]\r\n",
        "    sorted_dict = sorted(movie_rating_dict.items(), key=operator.itemgetter(1), reverse=True)       # 전체 영화를 대상으로 예측 rating을 기준으로 나열\r\n",
        "    already_seen_movie_idxs = np.nonzero(ori_rating_matrix[uidx])[0]                                # 유저가 평점을매긴(이미 본) 영화들의 idx\r\n",
        "\r\n",
        "    print_cnt = 0\r\n",
        "    for idx, pred_rating in sorted_dict:\r\n",
        "        if print_cnt == top_N:\r\n",
        "            break\r\n",
        "        if idx not in already_seen_movie_idxs:\r\n",
        "            print(str(movie_dict[midx_2_id[idx]])+\"    \"+str(pred_rating))\r\n",
        "            print_cnt = print_cnt+1\r\n"
      ],
      "execution_count": 146,
      "outputs": []
    },
    {
      "cell_type": "code",
      "metadata": {
        "id": "mbm168gnDW1p",
        "colab": {
          "base_uri": "https://localhost:8080/",
          "height": 376
        },
        "outputId": "1e6b3bdf-bdc2-4de7-8a58-d87fb8927856"
      },
      "source": [
        "U, V = train(mean_subtracted_ratings)"
      ],
      "execution_count": 147,
      "outputs": [
        {
          "output_type": "stream",
          "text": [
            "Initial RMSE: 2.7255522172249265\n",
            "Epoch:     0, RMSE: 0.9779512854132124, Learning Rate:0.01\n",
            "Epoch:     1, RMSE: 0.9529294290248149, Learning Rate:0.01\n"
          ],
          "name": "stdout"
        },
        {
          "output_type": "error",
          "ename": "KeyboardInterrupt",
          "evalue": "ignored",
          "traceback": [
            "\u001b[0;31m---------------------------------------------------------------------------\u001b[0m",
            "\u001b[0;31mKeyboardInterrupt\u001b[0m                         Traceback (most recent call last)",
            "\u001b[0;32m<ipython-input-147-2d755780c85c>\u001b[0m in \u001b[0;36m<module>\u001b[0;34m()\u001b[0m\n\u001b[0;32m----> 1\u001b[0;31m \u001b[0mU\u001b[0m\u001b[0;34m,\u001b[0m \u001b[0mV\u001b[0m \u001b[0;34m=\u001b[0m \u001b[0mtrain\u001b[0m\u001b[0;34m(\u001b[0m\u001b[0mmean_subtracted_ratings\u001b[0m\u001b[0;34m)\u001b[0m\u001b[0;34m\u001b[0m\u001b[0;34m\u001b[0m\u001b[0m\n\u001b[0m",
            "\u001b[0;32m<ipython-input-146-45af9b35824c>\u001b[0m in \u001b[0;36mtrain\u001b[0;34m(ratings, dim, max_epoch, lambda_u, lambda_v, lr)\u001b[0m\n\u001b[1;32m     38\u001b[0m         \u001b[0mrandom\u001b[0m\u001b[0;34m.\u001b[0m\u001b[0mshuffle\u001b[0m\u001b[0;34m(\u001b[0m\u001b[0mrating_data\u001b[0m\u001b[0;34m)\u001b[0m\u001b[0;34m\u001b[0m\u001b[0;34m\u001b[0m\u001b[0m\n\u001b[1;32m     39\u001b[0m         \u001b[0mU\u001b[0m\u001b[0;34m,\u001b[0m \u001b[0mV\u001b[0m \u001b[0;34m=\u001b[0m \u001b[0mSGD\u001b[0m\u001b[0;34m(\u001b[0m\u001b[0mU\u001b[0m\u001b[0;34m,\u001b[0m \u001b[0mV\u001b[0m\u001b[0;34m,\u001b[0m \u001b[0mrating_data\u001b[0m\u001b[0;34m,\u001b[0m \u001b[0mlr\u001b[0m\u001b[0;34m,\u001b[0m \u001b[0mlambda_u\u001b[0m\u001b[0;34m,\u001b[0m \u001b[0mlambda_v\u001b[0m\u001b[0;34m)\u001b[0m\u001b[0;34m\u001b[0m\u001b[0;34m\u001b[0m\u001b[0m\n\u001b[0;32m---> 40\u001b[0;31m         \u001b[0mrmse\u001b[0m \u001b[0;34m=\u001b[0m \u001b[0mcalculate_rmse\u001b[0m\u001b[0;34m(\u001b[0m\u001b[0mR\u001b[0m\u001b[0;34m,\u001b[0m \u001b[0mU\u001b[0m\u001b[0;34m,\u001b[0m \u001b[0mV\u001b[0m\u001b[0;34m,\u001b[0m \u001b[0mlambda_u\u001b[0m\u001b[0;34m,\u001b[0m \u001b[0mlambda_v\u001b[0m\u001b[0;34m)\u001b[0m\u001b[0;34m\u001b[0m\u001b[0;34m\u001b[0m\u001b[0m\n\u001b[0m\u001b[1;32m     41\u001b[0m         \u001b[0mprint\u001b[0m\u001b[0;34m(\u001b[0m\u001b[0;34m'Epoch: {:5}, RMSE: {:15}, Learning Rate:{}'\u001b[0m\u001b[0;34m.\u001b[0m\u001b[0mformat\u001b[0m\u001b[0;34m(\u001b[0m\u001b[0mepoch\u001b[0m\u001b[0;34m,\u001b[0m \u001b[0mrmse\u001b[0m\u001b[0;34m,\u001b[0m \u001b[0mlr\u001b[0m\u001b[0;34m)\u001b[0m\u001b[0;34m)\u001b[0m\u001b[0;34m\u001b[0m\u001b[0;34m\u001b[0m\u001b[0m\n\u001b[1;32m     42\u001b[0m \u001b[0;34m\u001b[0m\u001b[0m\n",
            "\u001b[0;32m<ipython-input-146-45af9b35824c>\u001b[0m in \u001b[0;36mcalculate_rmse\u001b[0;34m(R, U, V, lambda_u, lambda_v)\u001b[0m\n\u001b[1;32m      2\u001b[0m     \u001b[0merror\u001b[0m \u001b[0;34m=\u001b[0m \u001b[0;36m0\u001b[0m\u001b[0;34m\u001b[0m\u001b[0;34m\u001b[0m\u001b[0m\n\u001b[1;32m      3\u001b[0m     \u001b[0;32mfor\u001b[0m \u001b[0mu\u001b[0m\u001b[0;34m,\u001b[0m \u001b[0mi\u001b[0m\u001b[0;34m,\u001b[0m \u001b[0mr_ui\u001b[0m \u001b[0;32min\u001b[0m \u001b[0mzip\u001b[0m\u001b[0;34m(\u001b[0m\u001b[0mR\u001b[0m\u001b[0;34m.\u001b[0m\u001b[0mrow\u001b[0m\u001b[0;34m,\u001b[0m \u001b[0mR\u001b[0m\u001b[0;34m.\u001b[0m\u001b[0mcol\u001b[0m\u001b[0;34m,\u001b[0m \u001b[0mR\u001b[0m\u001b[0;34m.\u001b[0m\u001b[0mdata\u001b[0m\u001b[0;34m)\u001b[0m\u001b[0;34m:\u001b[0m\u001b[0;34m\u001b[0m\u001b[0;34m\u001b[0m\u001b[0m\n\u001b[0;32m----> 4\u001b[0;31m         \u001b[0merror\u001b[0m \u001b[0;34m+=\u001b[0m \u001b[0;34m(\u001b[0m\u001b[0mr_ui\u001b[0m \u001b[0;34m-\u001b[0m \u001b[0mnp\u001b[0m\u001b[0;34m.\u001b[0m\u001b[0mdot\u001b[0m\u001b[0;34m(\u001b[0m\u001b[0mU\u001b[0m\u001b[0;34m[\u001b[0m\u001b[0mu\u001b[0m\u001b[0;34m]\u001b[0m \u001b[0;34m,\u001b[0m \u001b[0mV\u001b[0m\u001b[0;34m.\u001b[0m\u001b[0mT\u001b[0m\u001b[0;34m[\u001b[0m\u001b[0mi\u001b[0m\u001b[0;34m]\u001b[0m\u001b[0;34m)\u001b[0m\u001b[0;34m)\u001b[0m\u001b[0;34m**\u001b[0m\u001b[0;36m2\u001b[0m\u001b[0;34m\u001b[0m\u001b[0;34m\u001b[0m\u001b[0m\n\u001b[0m\u001b[1;32m      5\u001b[0m     \u001b[0;32mfor\u001b[0m \u001b[0mu\u001b[0m \u001b[0;32min\u001b[0m \u001b[0mrange\u001b[0m\u001b[0;34m(\u001b[0m\u001b[0mU\u001b[0m\u001b[0;34m.\u001b[0m\u001b[0mshape\u001b[0m\u001b[0;34m[\u001b[0m\u001b[0;36m0\u001b[0m\u001b[0;34m]\u001b[0m\u001b[0;34m)\u001b[0m\u001b[0;34m:\u001b[0m\u001b[0;34m\u001b[0m\u001b[0;34m\u001b[0m\u001b[0m\n\u001b[1;32m      6\u001b[0m         \u001b[0merror\u001b[0m \u001b[0;34m+=\u001b[0m \u001b[0mlambda_u\u001b[0m \u001b[0;34m*\u001b[0m \u001b[0;34m(\u001b[0m\u001b[0mnorm\u001b[0m\u001b[0;34m(\u001b[0m\u001b[0mU\u001b[0m\u001b[0;34m[\u001b[0m\u001b[0mu\u001b[0m\u001b[0;34m]\u001b[0m\u001b[0;34m)\u001b[0m\u001b[0;34m**\u001b[0m\u001b[0;36m2\u001b[0m\u001b[0;34m)\u001b[0m \u001b[0;31m# L2 Normalization\u001b[0m\u001b[0;34m\u001b[0m\u001b[0;34m\u001b[0m\u001b[0m\n",
            "\u001b[0;31mKeyboardInterrupt\u001b[0m: "
          ]
        }
      ]
    },
    {
      "cell_type": "code",
      "metadata": {
        "id": "T_ralUqhZVGV",
        "colab": {
          "base_uri": "https://localhost:8080/"
        },
        "outputId": "4050b214-6f29-4d6b-91ad-224a2bf45feb"
      },
      "source": [
        "predicted_ratings = predict(U, V)\r\n",
        "predicted_ratings += avg_ratings.reshape([-1,1])\r\n",
        "print(predicted_ratings)"
      ],
      "execution_count": 148,
      "outputs": [
        {
          "output_type": "stream",
          "text": [
            "[[4.49875605 4.25876359 4.51960543 ... 4.39401113 3.89768776 4.20862012]\n",
            " [3.97291939 4.29052901 4.04835139 ... 4.00964466 3.37209102 3.9083888 ]\n",
            " [1.88284468 3.14692895 2.08277607 ... 2.61182789 2.62868073 2.38284943]\n",
            " ...\n",
            " [3.57481517 3.7114272  3.5701179  ... 4.10170264 2.71513602 4.31123356]\n",
            " [3.11639933 3.35366026 3.26504478 ... 2.56291284 2.829947   3.6245471 ]\n",
            " [4.0761744  4.05374665 4.3810409  ... 3.54262992 3.12751287 2.65956761]]\n"
          ],
          "name": "stdout"
        }
      ]
    },
    {
      "cell_type": "code",
      "metadata": {
        "id": "xZj01amDwC7T"
      },
      "source": [
        "# 타겟 유저를 정해서, 해당 유저가 본 영화들의 분포를 뽑아내보기\r\n",
        "# 유저의 추첨 결과가 올바르게 나왔는지 해석하기 위하여 해당 함수를 만들어서 추천 결과와 출력합니다.  \r\n",
        "def print_user_preference(ori_rating_matrix, u_idx, type):\r\n",
        "    '''\r\n",
        "        type : ['avg', 'sum', 'cnt']\r\n",
        "        avg 는 평균 평점, sum은 평점의 합, cnt은 평점 매긴 횟수\r\n",
        "    '''\r\n",
        "    target_hist = ori_rating_matrix[u_idx]\r\n",
        "    target_seen_movie_idx =  np.nonzero(target_hist)[0]\r\n",
        "    target_genre_dict = dict()\r\n",
        "    target_genre_sum_rating_dict = dict()\r\n",
        "    for movie_idx in target_seen_movie_idx:\r\n",
        "        _, genre = movie_dict[midx_2_id[movie_idx]]\r\n",
        "        for g in genre.split(\"|\"):\r\n",
        "            if g not in target_genre_dict.keys():\r\n",
        "                target_genre_dict[g]=0\r\n",
        "                target_genre_sum_rating_dict[g]=0\r\n",
        "            target_genre_dict[g]=target_genre_dict[g]+1\r\n",
        "            target_genre_sum_rating_dict[g] = target_genre_sum_rating_dict[g] + ori_rating_matrix[u_idx][movie_idx]\r\n",
        "\r\n",
        "    # # 많이 본 횟수 대로 \r\n",
        "    if type=='cnt':\r\n",
        "        target_genre_dict = sorted(target_genre_dict.items(), key=operator.itemgetter(1), reverse=True)\r\n",
        "        for k,v in target_genre_dict:\r\n",
        "            print(k,v)\r\n",
        "    \r\n",
        "    # # 영화 평점의 합대로\r\n",
        "    elif type=='sum':\r\n",
        "        target_genre_sum_rating_dict = sorted(target_genre_sum_rating_dict.items(), key=operator.itemgetter(1), reverse=True)\r\n",
        "        for k,v in target_genre_sum_rating_dict:\r\n",
        "            print(k,v)\r\n",
        "        \r\n",
        "    # 영화 평균 평점 순서대로\r\n",
        "    elif type==\"avg\":    \r\n",
        "        target_genre_avg_rating_dict = dict()\r\n",
        "        for k,v in target_genre_sum_rating_dict.items():\r\n",
        "            target_genre_avg_rating_dict[k] = v/target_genre_dict[k]\r\n",
        "        target_genre_avg_rating_dict = sorted(target_genre_avg_rating_dict.items(), key=operator.itemgetter(1), reverse=True)\r\n",
        "        for k,v in target_genre_avg_rating_dict:\r\n",
        "            print(k,v)\r\n",
        "    \r\n",
        "    else:\r\n",
        "        target_genre_avg_rating_dict = dict()\r\n",
        "        for k,v in target_genre_sum_rating_dict.items():\r\n",
        "            target_genre_avg_rating_dict[k] = v/target_genre_dict[k]\r\n",
        "        target_genre_avg_rating_dict = sorted(target_genre_avg_rating_dict.items(), key=operator.itemgetter(1), reverse=True)\r\n",
        "        for k,v in target_genre_avg_rating_dict:\r\n",
        "            print(k,v,target_genre_dict[k],target_genre_sum_rating_dict[k])"
      ],
      "execution_count": 149,
      "outputs": []
    },
    {
      "cell_type": "code",
      "metadata": {
        "id": "t92lSG2RjcMn",
        "colab": {
          "base_uri": "https://localhost:8080/"
        },
        "outputId": "b81b814a-47f3-40e0-f9dc-fb98c1b4f9c9"
      },
      "source": [
        "##### Check the RMSE of the test set ####### \r\n",
        "pred = predicted_ratings[test_ratings.nonzero()].flatten()\r\n",
        "actual = test_ratings[test_ratings.nonzero()].flatten()\r\n",
        "\r\n",
        "print(\"### Test RMSE ###\")\r\n",
        "print(np.sqrt(mean_squared_error(pred,actual)))"
      ],
      "execution_count": 150,
      "outputs": [
        {
          "output_type": "stream",
          "text": [
            "### Test RMSE ###\n",
            "0.7625993219454933\n"
          ],
          "name": "stdout"
        }
      ]
    },
    {
      "cell_type": "code",
      "metadata": {
        "id": "hlgj8jBnDW3x"
      },
      "source": [
        "musical_fan = 800\r\n",
        "docu_fan = 850\r\n",
        "horror_fan = 900\r\n",
        "animation_fan =  950"
      ],
      "execution_count": 151,
      "outputs": []
    },
    {
      "cell_type": "code",
      "metadata": {
        "id": "vZaDTFklxcop",
        "colab": {
          "base_uri": "https://localhost:8080/"
        },
        "outputId": "32b2010b-0266-47b1-dcbb-29f4fa71590e"
      },
      "source": [
        "# 해당 유저가 본 영화의 분포를 알고 싶으면 print_user_preference 함수를 실행시켜보세요!\r\n",
        "# print_user_preference(rating_matrix, musical_fan, 'sum')\r\n",
        "recommend_for_uid(musical_fan, rating_matrix, U, V, top_N=30)"
      ],
      "execution_count": 152,
      "outputs": [
        {
          "output_type": "stream",
          "text": [
            "('Wallace & Gromit: The Best of Aardman Animation (1996)', 'Adventure|Animation|Comedy')    2.3294221938963253\n",
            "('Night on Earth (1991)', 'Comedy|Drama')    2.1299870079617826\n",
            "('Fifty Shades Darker (2017)', 'Drama|Romance')    2.0203418228650447\n",
            "('Annie (1982)', 'Children|Musical')    1.9505318797404674\n",
            "('Ice Harvest, The (2005)', 'Action|Comedy|Crime|Thriller')    1.9433975110514679\n",
            "('Party Girl (1995)', 'Comedy')    1.8879813799505716\n",
            "('Broken English (1996)', 'Drama')    1.7824617153258704\n",
            "('Lady Bird (2017)', 'Comedy')    1.7724658819755716\n",
            "('Friday the 13th Part VIII: Jason Takes Manhattan (1989)', 'Horror')    1.755614196733208\n",
            "('Last Night (1998)', 'Drama|Sci-Fi')    1.7509274420834746\n",
            "('Harmonists, The (1997)', 'Drama')    1.7351091226040836\n",
            "('Stoned (2005)', 'Drama')    1.730696143807202\n",
            "('Bottle Rocket (1996)', 'Adventure|Comedy|Crime|Romance')    1.7278949295815687\n",
            "('The Jinx: The Life and Deaths of Robert Durst (2015)', 'Documentary')    1.7048364068467667\n",
            "('NeverEnding Story III, The (1994)', 'Adventure|Children|Fantasy')    1.6800900325597148\n",
            "('Kids in the Hall: Brain Candy (1996)', 'Comedy')    1.6747997632133613\n",
            "('Amityville Curse, The (1990)', 'Horror')    1.668938690269155\n",
            "('Cercle Rouge, Le (Red Circle, The) (1970)', 'Crime|Thriller')    1.6676900596712905\n",
            "(\"Kelly's Heroes (1970)\", 'Action|Comedy|War')    1.6332136848592347\n",
            "('Skyline (2010)', 'Sci-Fi|Thriller')    1.6322135278054415\n",
            "(\"It's the Great Pumpkin, Charlie Brown (1966)\", 'Animation|Children|Comedy')    1.6169479016500872\n",
            "('Night at the Opera, A (1935)', 'Comedy|Musical|Romance')    1.605752603484345\n",
            "(\"Schindler's List (1993)\", 'Drama|War')    1.6034836108513788\n",
            "('I Spit on Your Grave (Day of the Woman) (1978)', 'Horror|Thriller')    1.5959015727157206\n",
            "('Mystery Date (1991)', 'Comedy')    1.5934593478829344\n",
            "('Dead Snow (Død snø) (2009)', 'Action|Adventure|Comedy|Horror')    1.5910483091462195\n",
            "('Miracle on 34th Street (1947)', 'Comedy|Drama')    1.5822889846654749\n",
            "('How the Grinch Stole Christmas! (1966)', 'Animation|Comedy|Fantasy|Musical')    1.5780306439554546\n",
            "('Discreet Charm of the Bourgeoisie, The (Charme discret de la bourgeoisie, Le) (1972)', 'Comedy|Drama|Fantasy')    1.5699754108219366\n",
            "('Three Colors: Red (Trois couleurs: Rouge) (1994)', 'Drama')    1.5658805609571296\n"
          ],
          "name": "stdout"
        }
      ]
    },
    {
      "cell_type": "code",
      "metadata": {
        "id": "I9Bvdj5Oxnsy",
        "colab": {
          "base_uri": "https://localhost:8080/"
        },
        "outputId": "955b94e2-65ae-4539-baa7-19f0c3106000"
      },
      "source": [
        "# 해당 유저가 본 영화의 분포를 알고 싶으면 print_user_preference 함수를 실행시켜보세요!\r\n",
        "# print_user_preference(rating_matrix, docu_fan,'sum')\r\n",
        "recommend_for_uid(docu_fan, rating_matrix, U, V, top_N=30)"
      ],
      "execution_count": 153,
      "outputs": [
        {
          "output_type": "stream",
          "text": [
            "('Annie (1982)', 'Children|Musical')    2.428396435676265\n",
            "('Fifty Shades Darker (2017)', 'Drama|Romance')    2.1014870683723634\n",
            "('Broken English (1996)', 'Drama')    1.9857706556868644\n",
            "('NeverEnding Story III, The (1994)', 'Adventure|Children|Fantasy')    1.9343324391143413\n",
            "('Annie Get Your Gun (1950)', 'Comedy|Musical|Romance|Western')    1.9155414911512876\n",
            "('Untamed Heart (1993)', 'Drama|Romance')    1.8364445944914811\n",
            "('Grease 2 (1982)', 'Comedy|Musical|Romance')    1.8145219955351415\n",
            "('Pecker (1998)', 'Comedy|Drama')    1.7814486963096348\n",
            "('Thousand Acres, A (1997)', 'Drama')    1.7740053400611009\n",
            "('Jaws 2 (1978)', 'Horror|Thriller')    1.7620380874572448\n",
            "('Day at the Races, A (1937)', 'Comedy|Musical')    1.7424369368883166\n",
            "('Bridge, The (2006)', 'Documentary')    1.7307631618997217\n",
            "('Jiro Dreams of Sushi (2011)', 'Documentary')    1.716750847210569\n",
            "(\"Who's That Knocking at My Door? (1967)\", 'Drama')    1.6791849277106157\n",
            "('All of Me (1984)', 'Comedy|Fantasy')    1.6720842694091418\n",
            "('City Hunter (Sing si lip yan) (1993)', 'Action|Comedy|Romance')    1.6477271260647488\n",
            "('Sweet November (2001)', 'Drama|Romance')    1.641541424069797\n",
            "('Jackass 3D (2010)', 'Action|Comedy|Documentary')    1.6383846547850582\n",
            "('Maniac Cop 2 (1990)', 'Action|Horror|Thriller')    1.6326801614844075\n",
            "('Human Nature (2001)', 'Comedy|Romance')    1.6108134681216062\n",
            "(\"Gulliver's Travels (1939)\", 'Adventure|Animation|Children')    1.6082533744123226\n",
            "('When a Stranger Calls (1979)', 'Horror|Thriller')    1.6077692766561849\n",
            "('Louis C.K.: Chewed Up (2008)', 'Comedy')    1.604835165343496\n",
            "('Fuzz (1972)', 'Drama')    1.594966270954394\n",
            "('Maximum Risk (1996)', 'Action|Adventure|Thriller')    1.5893581986254275\n",
            "('Journeys with George (2002)', 'Documentary')    1.5829257284319276\n",
            "('Now You See Me (2013)', 'Crime|Mystery|Thriller')    1.5817138250234954\n",
            "('Fast, Cheap & Out of Control (1997)', 'Documentary')    1.5784791584220197\n",
            "('Jeff Ross Roasts Criminals: Live at Brazos County Jail (2015)', 'Comedy|Documentary')    1.571363334688202\n",
            "('Accidental Spy, The (Dak miu mai shing) (2001)', 'Action|Comedy|Thriller')    1.5566062430827428\n"
          ],
          "name": "stdout"
        }
      ]
    },
    {
      "cell_type": "code",
      "metadata": {
        "id": "3gtm2ef3xjwQ",
        "colab": {
          "base_uri": "https://localhost:8080/"
        },
        "outputId": "d7775956-d269-43db-ee31-75570b5721d7"
      },
      "source": [
        "# 해당 유저가 본 영화의 분포를 알고 싶으면 print_user_preference 함수를 실행시켜보세요!\r\n",
        "# print_user_preference(rating_matrix, horror_fan,'sum')\r\n",
        "recommend_for_uid(horror_fan, rating_matrix, U, V, top_N=30)"
      ],
      "execution_count": 154,
      "outputs": [
        {
          "output_type": "stream",
          "text": [
            "('Cold Comes the Night (2013)', 'Crime|Drama|Thriller')    2.070432850710189\n",
            "('Rocky V (1990)', 'Action|Drama')    1.9837074514134583\n",
            "('Spice World (1997)', 'Comedy')    1.970624012192709\n",
            "('Forces of Nature (1999)', 'Comedy|Romance')    1.9530698758471616\n",
            "('George Washington (2000)', 'Drama')    1.9128076100211377\n",
            "('House of Wax (2005)', 'Horror|Thriller')    1.7725467375044932\n",
            "('Memoirs of an Invisible Man (1992)', 'Comedy|Romance|Sci-Fi|Thriller')    1.7693879713497893\n",
            "('Omega Code, The (1999)', 'Action')    1.767972128844468\n",
            "('Last Knights (2015)', 'Action|Adventure')    1.7400057168845184\n",
            "('House on Haunted Hill (1999)', 'Horror|Thriller')    1.7395817631946855\n",
            "('Twin Dragons (Shuang long hui) (1992)', 'Action|Comedy')    1.7362606122792548\n",
            "('Wrongfully Accused (1998)', 'Action|Comedy')    1.7120285814866738\n",
            "('Man Apart, A (2003)', 'Action|Crime|Drama|Thriller')    1.7046081084555915\n",
            "('Dobermann (1997)', 'Action|Crime')    1.6964988854553917\n",
            "('Albatross (2011)', 'Drama')    1.694300341872267\n",
            "('Bigger, Stronger, Faster* (2008)', 'Documentary')    1.6930430703109747\n",
            "('Light Years (Gandahar) (1988)', 'Adventure|Animation|Fantasy|Sci-Fi')    1.6920300784738715\n",
            "('Comic Book: The Movie (2004)', 'Comedy')    1.6765954043260434\n",
            "('Angel Eyes (2001)', 'Romance|Thriller')    1.6296929843670105\n",
            "('Johnny Mnemonic (1995)', 'Action|Sci-Fi|Thriller')    1.591394170387642\n",
            "('The Book of Life (2014)', 'Adventure|Animation|Romance')    1.5712066518313645\n",
            "('Kickin It Old Skool (2007)', 'Comedy')    1.5699960535579334\n",
            "('The Amazing Screw-On Head (2006)', 'Action|Adventure|Animation|Comedy|Sci-Fi')    1.561628382078745\n",
            "('Dave Chappelle: Equanimity (2017)', 'Comedy')    1.5497826644006267\n",
            "('Dick Tracy (1990)', 'Action|Crime')    1.5458406893528922\n",
            "('Tomcats (2001)', 'Comedy')    1.5391174078493506\n",
            "('Wild Things (1998)', 'Crime|Drama|Mystery|Thriller')    1.5379096426086132\n",
            "('Two Jakes, The (1990)', 'Drama')    1.5351318510393446\n",
            "(\"My Boyfriend's Back (1993)\", 'Comedy')    1.5311784715830281\n",
            "('Hands on a Hard Body (1996)', 'Comedy|Documentary')    1.5301250229758145\n"
          ],
          "name": "stdout"
        }
      ]
    },
    {
      "cell_type": "code",
      "metadata": {
        "id": "nSdpjiJf860-",
        "colab": {
          "base_uri": "https://localhost:8080/"
        },
        "outputId": "7baa37c8-ba7d-41f2-bd4e-195a687362c8"
      },
      "source": [
        "# 해당 유저가 본 영화의 분포를 알고 싶으면 print_user_preference 함수를 실행시켜보세요!\r\n",
        "# print_user_preference(rating_matrix, horror_fan,'sum')\r\n",
        "recommend_for_uid(animation_fan, rating_matrix, U, V, top_N=30)"
      ],
      "execution_count": 155,
      "outputs": [
        {
          "output_type": "stream",
          "text": [
            "('Louis C.K.: Shameless (2007)', 'Comedy')    1.3814449465930794\n",
            "('Killing Fields, The (1984)', 'Drama|War')    1.3441525875273044\n",
            "('The Artist (2011)', 'Comedy|Drama|Romance')    1.3429217913680478\n",
            "(\"Guess Who's Coming to Dinner (1967)\", 'Drama')    1.3370388670241222\n",
            "('12 Angry Men (1957)', 'Drama')    1.3264739589002876\n",
            "('Gentlemen of Fortune (Dzhentlmeny udachi) (1972)', 'Comedy|Crime|Drama|Mystery')    1.3207753272899934\n",
            "('Baraka (1992)', 'Documentary')    1.3149367838020252\n",
            "('Dragon Ball Z: Bojack Unbound (Doragon bôru Z 9: Ginga girigiri!! Butchigiri no sugoi yatsu) (1993)', 'Action|Adventure|Animation|Fantasy')    1.3005803577538022\n",
            "('Yojimbo (1961)', 'Action|Adventure')    1.2870636198543985\n",
            "(\"Devil's Playground (2002)\", 'Documentary')    1.2813235644377237\n",
            "('A Detective Story (2003)', 'Animation|Sci-Fi')    1.2797290089880549\n",
            "('Black Mirror: White Christmas (2014)', 'Drama|Horror|Mystery|Sci-Fi|Thriller')    1.2784456359449394\n",
            "(\"Man Bites Dog (C'est arrivé près de chez vous) (1992)\", 'Comedy|Crime|Drama|Thriller')    1.2642073256057087\n",
            "('Beyond Bedlam (1993)', 'Drama|Horror')    1.2621051030396637\n",
            "('Kill Bill: Vol. 2 (2004)', 'Action|Drama|Thriller')    1.259347639541351\n",
            "('Rough Night (2017)', 'Comedy|Drama')    1.254053587241863\n",
            "('Get the Gringo (2012)', 'Action|Crime|Drama|Thriller')    1.2522426573699454\n",
            "('Skin I Live In, The (La piel que habito) (2011)', 'Drama')    1.2477673688145738\n",
            "(\"Kelly's Heroes (1970)\", 'Action|Comedy|War')    1.245714365717305\n",
            "('Battle Royale 2: Requiem (Batoru rowaiaru II: Chinkonka) (2003)', 'Action|Drama|Thriller|War')    1.2276432927989942\n",
            "('Raise the Red Lantern (Da hong deng long gao gao gua) (1991)', 'Drama')    1.21908304667939\n",
            "('Picture Bride (Bijo photo) (1994)', 'Drama|Romance')    1.2115352797178058\n",
            "('Rear Window (1954)', 'Mystery|Thriller')    1.19913144527693\n",
            "('Come and See (Idi i smotri) (1985)', 'Drama|War')    1.197178651774863\n",
            "('Wild Bunch, The (1969)', 'Adventure|Western')    1.191179998967716\n",
            "('Kill Bill: Vol. 1 (2003)', 'Action|Crime|Thriller')    1.179969749987423\n",
            "('Midnight Cowboy (1969)', 'Drama')    1.1748455130196884\n",
            "('Harsh Times (2006)', 'Action|Crime|Drama')    1.1741931004945438\n",
            "('BURN-E (2008)', 'Adventure|Animation|Children|Sci-Fi')    1.1705442845822869\n",
            "('Shine (1996)', 'Drama|Romance')    1.1579373949310903\n"
          ],
          "name": "stdout"
        }
      ]
    },
    {
      "cell_type": "markdown",
      "metadata": {
        "id": "mOjrAnlAO1Un"
      },
      "source": [
        "# Test Code"
      ]
    },
    {
      "cell_type": "code",
      "metadata": {
        "id": "ECV1KEDPPbQ-"
      },
      "source": [
        "################ Generating Synthetic Data #######################\r\n",
        "synthetic_rating = np.zeros((5,10))\r\n",
        "\r\n",
        "for i in range(10):\r\n",
        "    random.seed(i)\r\n",
        "    u_idx = random.randint(0,4)\r\n",
        "    i_idx = random.randint(0,9)\r\n",
        "    r_ui = random.randint(1,5)\r\n",
        "    synthetic_rating[u_idx ,i_idx] = r_ui\r\n",
        "\r\n",
        "synthetic_R = coo_matrix(synthetic_rating)\r\n",
        "synthetic_R_zipped = list(zip(synthetic_R.row, synthetic_R.col, synthetic_R.data))\r\n",
        "np.random.seed(7)\r\n",
        "synthetic_U = np.random.rand(5, 3)\r\n",
        "synthetic_V = np.random.rand(3, 10)"
      ],
      "execution_count": 157,
      "outputs": []
    },
    {
      "cell_type": "code",
      "metadata": {
        "id": "W5fswgL8p-hU"
      },
      "source": [
        "answer_U = np.load('./drive/MyDrive/data/others/answer_U.npy')\r\n",
        "answer_V = np.load('./drive/MyDrive/data/others/answer_V.npy')\r\n",
        "answer_rmse = np.load('./drive/MyDrive/data/others/answer_rmse.npy')"
      ],
      "execution_count": 158,
      "outputs": []
    },
    {
      "cell_type": "code",
      "metadata": {
        "id": "E_XZKIbymCHA"
      },
      "source": [
        "def test_code(sgd, rmse):\r\n",
        "    U, V = sgd(synthetic_U, synthetic_V, synthetic_R_zipped, lr=0.01, lambda_u=0.1, lambda_v=0.1) \r\n",
        "    mse_u = mean_squared_error(U, answer_U)\r\n",
        "    mse_v = mean_squared_error(V, answer_V)\r\n",
        "    assert(mse_u <1e-2 or mse_v < 1e-2), 'calculated U, V is different with the answer : SGD 함수 오류'   ## 정답과 오차범위 내의 값이 아니면 assertion 오류\r\n",
        "\r\n",
        "    rmse = calculate_rmse(synthetic_R, U, V, lambda_u=0.1, lambda_v=0.1)\r\n",
        "    assert(abs(answer_rmse-rmse)<1e-05), 'calculated rmse is diferent with the answer : RMSE 함수 오류'   ## 정답과 오차범위 내의 값이 아니면 assertion 오류\r\n",
        "    \r\n",
        "    print(\"모든 함수 알맞게 구현됨\")\r\n"
      ],
      "execution_count": 159,
      "outputs": []
    },
    {
      "cell_type": "code",
      "metadata": {
        "id": "zYKTqyN2pQEx",
        "colab": {
          "base_uri": "https://localhost:8080/"
        },
        "outputId": "373f351f-05f0-46cd-f658-37eca7e8b09c"
      },
      "source": [
        "test_code(SGD, calculate_rmse)"
      ],
      "execution_count": 160,
      "outputs": [
        {
          "output_type": "stream",
          "text": [
            "모든 함수 알맞게 구현됨\n"
          ],
          "name": "stdout"
        }
      ]
    }
  ]
}