{
  "nbformat": 4,
  "nbformat_minor": 0,
  "metadata": {
    "colab": {
      "name": "실습7_solution.ipynb",
      "provenance": [],
      "collapsed_sections": [],
      "toc_visible": true
    },
    "kernelspec": {
      "display_name": "Python 3",
      "name": "python3"
    },
    "widgets": {
      "application/vnd.jupyter.widget-state+json": {
        "d739a301322e4d179d1a40ed11b659a1": {
          "model_module": "@jupyter-widgets/controls",
          "model_name": "HBoxModel",
          "state": {
            "_view_name": "HBoxView",
            "_dom_classes": [],
            "_model_name": "HBoxModel",
            "_view_module": "@jupyter-widgets/controls",
            "_model_module_version": "1.5.0",
            "_view_count": null,
            "_view_module_version": "1.5.0",
            "box_style": "",
            "layout": "IPY_MODEL_58913d267e674b389ae90e787c334cdf",
            "_model_module": "@jupyter-widgets/controls",
            "children": [
              "IPY_MODEL_1b11567fd13b4f0f9c61093341761d17",
              "IPY_MODEL_183f28dbd228400f92f46e8b7b438364"
            ]
          }
        },
        "58913d267e674b389ae90e787c334cdf": {
          "model_module": "@jupyter-widgets/base",
          "model_name": "LayoutModel",
          "state": {
            "_view_name": "LayoutView",
            "grid_template_rows": null,
            "right": null,
            "justify_content": null,
            "_view_module": "@jupyter-widgets/base",
            "overflow": null,
            "_model_module_version": "1.2.0",
            "_view_count": null,
            "flex_flow": null,
            "width": null,
            "min_width": null,
            "border": null,
            "align_items": null,
            "bottom": null,
            "_model_module": "@jupyter-widgets/base",
            "top": null,
            "grid_column": null,
            "overflow_y": null,
            "overflow_x": null,
            "grid_auto_flow": null,
            "grid_area": null,
            "grid_template_columns": null,
            "flex": null,
            "_model_name": "LayoutModel",
            "justify_items": null,
            "grid_row": null,
            "max_height": null,
            "align_content": null,
            "visibility": null,
            "align_self": null,
            "height": null,
            "min_height": null,
            "padding": null,
            "grid_auto_rows": null,
            "grid_gap": null,
            "max_width": null,
            "order": null,
            "_view_module_version": "1.2.0",
            "grid_template_areas": null,
            "object_position": null,
            "object_fit": null,
            "grid_auto_columns": null,
            "margin": null,
            "display": null,
            "left": null
          }
        },
        "1b11567fd13b4f0f9c61093341761d17": {
          "model_module": "@jupyter-widgets/controls",
          "model_name": "FloatProgressModel",
          "state": {
            "_view_name": "ProgressView",
            "style": "IPY_MODEL_561ca3f56646430f919f04e54ce39667",
            "_dom_classes": [],
            "description": "Computing transition probabilities: 100%",
            "_model_name": "FloatProgressModel",
            "bar_style": "success",
            "max": 77,
            "_view_module": "@jupyter-widgets/controls",
            "_model_module_version": "1.5.0",
            "value": 77,
            "_view_count": null,
            "_view_module_version": "1.5.0",
            "orientation": "horizontal",
            "min": 0,
            "description_tooltip": null,
            "_model_module": "@jupyter-widgets/controls",
            "layout": "IPY_MODEL_0b6500f8091e46778f41b96d57342803"
          }
        },
        "183f28dbd228400f92f46e8b7b438364": {
          "model_module": "@jupyter-widgets/controls",
          "model_name": "HTMLModel",
          "state": {
            "_view_name": "HTMLView",
            "style": "IPY_MODEL_cdf51178bac94cb5bde5347c763ba196",
            "_dom_classes": [],
            "description": "",
            "_model_name": "HTMLModel",
            "placeholder": "​",
            "_view_module": "@jupyter-widgets/controls",
            "_model_module_version": "1.5.0",
            "value": " 77/77 [00:59&lt;00:00,  1.29it/s]",
            "_view_count": null,
            "_view_module_version": "1.5.0",
            "description_tooltip": null,
            "_model_module": "@jupyter-widgets/controls",
            "layout": "IPY_MODEL_8e99a5aaa8394bd59df2efdf095d9d00"
          }
        },
        "561ca3f56646430f919f04e54ce39667": {
          "model_module": "@jupyter-widgets/controls",
          "model_name": "ProgressStyleModel",
          "state": {
            "_view_name": "StyleView",
            "_model_name": "ProgressStyleModel",
            "description_width": "initial",
            "_view_module": "@jupyter-widgets/base",
            "_model_module_version": "1.5.0",
            "_view_count": null,
            "_view_module_version": "1.2.0",
            "bar_color": null,
            "_model_module": "@jupyter-widgets/controls"
          }
        },
        "0b6500f8091e46778f41b96d57342803": {
          "model_module": "@jupyter-widgets/base",
          "model_name": "LayoutModel",
          "state": {
            "_view_name": "LayoutView",
            "grid_template_rows": null,
            "right": null,
            "justify_content": null,
            "_view_module": "@jupyter-widgets/base",
            "overflow": null,
            "_model_module_version": "1.2.0",
            "_view_count": null,
            "flex_flow": null,
            "width": null,
            "min_width": null,
            "border": null,
            "align_items": null,
            "bottom": null,
            "_model_module": "@jupyter-widgets/base",
            "top": null,
            "grid_column": null,
            "overflow_y": null,
            "overflow_x": null,
            "grid_auto_flow": null,
            "grid_area": null,
            "grid_template_columns": null,
            "flex": null,
            "_model_name": "LayoutModel",
            "justify_items": null,
            "grid_row": null,
            "max_height": null,
            "align_content": null,
            "visibility": null,
            "align_self": null,
            "height": null,
            "min_height": null,
            "padding": null,
            "grid_auto_rows": null,
            "grid_gap": null,
            "max_width": null,
            "order": null,
            "_view_module_version": "1.2.0",
            "grid_template_areas": null,
            "object_position": null,
            "object_fit": null,
            "grid_auto_columns": null,
            "margin": null,
            "display": null,
            "left": null
          }
        },
        "cdf51178bac94cb5bde5347c763ba196": {
          "model_module": "@jupyter-widgets/controls",
          "model_name": "DescriptionStyleModel",
          "state": {
            "_view_name": "StyleView",
            "_model_name": "DescriptionStyleModel",
            "description_width": "",
            "_view_module": "@jupyter-widgets/base",
            "_model_module_version": "1.5.0",
            "_view_count": null,
            "_view_module_version": "1.2.0",
            "_model_module": "@jupyter-widgets/controls"
          }
        },
        "8e99a5aaa8394bd59df2efdf095d9d00": {
          "model_module": "@jupyter-widgets/base",
          "model_name": "LayoutModel",
          "state": {
            "_view_name": "LayoutView",
            "grid_template_rows": null,
            "right": null,
            "justify_content": null,
            "_view_module": "@jupyter-widgets/base",
            "overflow": null,
            "_model_module_version": "1.2.0",
            "_view_count": null,
            "flex_flow": null,
            "width": null,
            "min_width": null,
            "border": null,
            "align_items": null,
            "bottom": null,
            "_model_module": "@jupyter-widgets/base",
            "top": null,
            "grid_column": null,
            "overflow_y": null,
            "overflow_x": null,
            "grid_auto_flow": null,
            "grid_area": null,
            "grid_template_columns": null,
            "flex": null,
            "_model_name": "LayoutModel",
            "justify_items": null,
            "grid_row": null,
            "max_height": null,
            "align_content": null,
            "visibility": null,
            "align_self": null,
            "height": null,
            "min_height": null,
            "padding": null,
            "grid_auto_rows": null,
            "grid_gap": null,
            "max_width": null,
            "order": null,
            "_view_module_version": "1.2.0",
            "grid_template_areas": null,
            "object_position": null,
            "object_fit": null,
            "grid_auto_columns": null,
            "margin": null,
            "display": null,
            "left": null
          }
        },
        "9fad02626b7c497e94318b71472cd6cd": {
          "model_module": "@jupyter-widgets/controls",
          "model_name": "HBoxModel",
          "state": {
            "_view_name": "HBoxView",
            "_dom_classes": [],
            "_model_name": "HBoxModel",
            "_view_module": "@jupyter-widgets/controls",
            "_model_module_version": "1.5.0",
            "_view_count": null,
            "_view_module_version": "1.5.0",
            "box_style": "",
            "layout": "IPY_MODEL_150abeb1f06a4b09904a59f2e4cdd34b",
            "_model_module": "@jupyter-widgets/controls",
            "children": [
              "IPY_MODEL_dea9bf73d4724d35bc6593e165d5f0da",
              "IPY_MODEL_27fe48b770b2498ebe7c1c564a1a42c5"
            ]
          }
        },
        "150abeb1f06a4b09904a59f2e4cdd34b": {
          "model_module": "@jupyter-widgets/base",
          "model_name": "LayoutModel",
          "state": {
            "_view_name": "LayoutView",
            "grid_template_rows": null,
            "right": null,
            "justify_content": null,
            "_view_module": "@jupyter-widgets/base",
            "overflow": null,
            "_model_module_version": "1.2.0",
            "_view_count": null,
            "flex_flow": null,
            "width": null,
            "min_width": null,
            "border": null,
            "align_items": null,
            "bottom": null,
            "_model_module": "@jupyter-widgets/base",
            "top": null,
            "grid_column": null,
            "overflow_y": null,
            "overflow_x": null,
            "grid_auto_flow": null,
            "grid_area": null,
            "grid_template_columns": null,
            "flex": null,
            "_model_name": "LayoutModel",
            "justify_items": null,
            "grid_row": null,
            "max_height": null,
            "align_content": null,
            "visibility": null,
            "align_self": null,
            "height": null,
            "min_height": null,
            "padding": null,
            "grid_auto_rows": null,
            "grid_gap": null,
            "max_width": null,
            "order": null,
            "_view_module_version": "1.2.0",
            "grid_template_areas": null,
            "object_position": null,
            "object_fit": null,
            "grid_auto_columns": null,
            "margin": null,
            "display": null,
            "left": null
          }
        },
        "dea9bf73d4724d35bc6593e165d5f0da": {
          "model_module": "@jupyter-widgets/controls",
          "model_name": "FloatProgressModel",
          "state": {
            "_view_name": "ProgressView",
            "style": "IPY_MODEL_ef2ddc3d38064cad9e64d4135483f1b0",
            "_dom_classes": [],
            "description": "Computing transition probabilities: 100%",
            "_model_name": "FloatProgressModel",
            "bar_style": "success",
            "max": 2708,
            "_view_module": "@jupyter-widgets/controls",
            "_model_module_version": "1.5.0",
            "value": 2708,
            "_view_count": null,
            "_view_module_version": "1.5.0",
            "orientation": "horizontal",
            "min": 0,
            "description_tooltip": null,
            "_model_module": "@jupyter-widgets/controls",
            "layout": "IPY_MODEL_22247c85e9f442faa2894f064bf05e62"
          }
        },
        "27fe48b770b2498ebe7c1c564a1a42c5": {
          "model_module": "@jupyter-widgets/controls",
          "model_name": "HTMLModel",
          "state": {
            "_view_name": "HTMLView",
            "style": "IPY_MODEL_1f5aa59623b242149c33e4da281783ab",
            "_dom_classes": [],
            "description": "",
            "_model_name": "HTMLModel",
            "placeholder": "​",
            "_view_module": "@jupyter-widgets/controls",
            "_model_module_version": "1.5.0",
            "value": " 2708/2708 [00:00&lt;00:00, 5784.92it/s]",
            "_view_count": null,
            "_view_module_version": "1.5.0",
            "description_tooltip": null,
            "_model_module": "@jupyter-widgets/controls",
            "layout": "IPY_MODEL_ea7913bf75ad400b8a5e4d56b322e427"
          }
        },
        "ef2ddc3d38064cad9e64d4135483f1b0": {
          "model_module": "@jupyter-widgets/controls",
          "model_name": "ProgressStyleModel",
          "state": {
            "_view_name": "StyleView",
            "_model_name": "ProgressStyleModel",
            "description_width": "initial",
            "_view_module": "@jupyter-widgets/base",
            "_model_module_version": "1.5.0",
            "_view_count": null,
            "_view_module_version": "1.2.0",
            "bar_color": null,
            "_model_module": "@jupyter-widgets/controls"
          }
        },
        "22247c85e9f442faa2894f064bf05e62": {
          "model_module": "@jupyter-widgets/base",
          "model_name": "LayoutModel",
          "state": {
            "_view_name": "LayoutView",
            "grid_template_rows": null,
            "right": null,
            "justify_content": null,
            "_view_module": "@jupyter-widgets/base",
            "overflow": null,
            "_model_module_version": "1.2.0",
            "_view_count": null,
            "flex_flow": null,
            "width": null,
            "min_width": null,
            "border": null,
            "align_items": null,
            "bottom": null,
            "_model_module": "@jupyter-widgets/base",
            "top": null,
            "grid_column": null,
            "overflow_y": null,
            "overflow_x": null,
            "grid_auto_flow": null,
            "grid_area": null,
            "grid_template_columns": null,
            "flex": null,
            "_model_name": "LayoutModel",
            "justify_items": null,
            "grid_row": null,
            "max_height": null,
            "align_content": null,
            "visibility": null,
            "align_self": null,
            "height": null,
            "min_height": null,
            "padding": null,
            "grid_auto_rows": null,
            "grid_gap": null,
            "max_width": null,
            "order": null,
            "_view_module_version": "1.2.0",
            "grid_template_areas": null,
            "object_position": null,
            "object_fit": null,
            "grid_auto_columns": null,
            "margin": null,
            "display": null,
            "left": null
          }
        },
        "1f5aa59623b242149c33e4da281783ab": {
          "model_module": "@jupyter-widgets/controls",
          "model_name": "DescriptionStyleModel",
          "state": {
            "_view_name": "StyleView",
            "_model_name": "DescriptionStyleModel",
            "description_width": "",
            "_view_module": "@jupyter-widgets/base",
            "_model_module_version": "1.5.0",
            "_view_count": null,
            "_view_module_version": "1.2.0",
            "_model_module": "@jupyter-widgets/controls"
          }
        },
        "ea7913bf75ad400b8a5e4d56b322e427": {
          "model_module": "@jupyter-widgets/base",
          "model_name": "LayoutModel",
          "state": {
            "_view_name": "LayoutView",
            "grid_template_rows": null,
            "right": null,
            "justify_content": null,
            "_view_module": "@jupyter-widgets/base",
            "overflow": null,
            "_model_module_version": "1.2.0",
            "_view_count": null,
            "flex_flow": null,
            "width": null,
            "min_width": null,
            "border": null,
            "align_items": null,
            "bottom": null,
            "_model_module": "@jupyter-widgets/base",
            "top": null,
            "grid_column": null,
            "overflow_y": null,
            "overflow_x": null,
            "grid_auto_flow": null,
            "grid_area": null,
            "grid_template_columns": null,
            "flex": null,
            "_model_name": "LayoutModel",
            "justify_items": null,
            "grid_row": null,
            "max_height": null,
            "align_content": null,
            "visibility": null,
            "align_self": null,
            "height": null,
            "min_height": null,
            "padding": null,
            "grid_auto_rows": null,
            "grid_gap": null,
            "max_width": null,
            "order": null,
            "_view_module_version": "1.2.0",
            "grid_template_areas": null,
            "object_position": null,
            "object_fit": null,
            "grid_auto_columns": null,
            "margin": null,
            "display": null,
            "left": null
          }
        }
      }
    }
  },
  "cells": [
    {
      "cell_type": "markdown",
      "metadata": {
        "id": "5Aq9cIiJDZ6Q"
      },
      "source": [
        "ㄹ**Lab 7 : Node2Vec**\r\n",
        "- Instuctor : Kijung Shin\r\n",
        "- Teaching Assistants : Hyunju Lee(main), Deukryeol Yoon, Shinhwan Kang \r\n",
        "- 본 실습에서는 random walk 기반 network embedding 방법 중 하나인 node2vec 알고리즘을 사용하여 clustering, node classification과 같은 여러 downstream task들을 수행해본다.\r\n",
        "\r\n",
        "* 학습 목표\r\n",
        "\r\n",
        "> 1. node2vec library의 사용법을 익힌다.\r\n",
        "2. node2vec embedding 벡터를 사용하여 여러 downstream tasks(clustering, node classification)를 수행하는 방법을 익힌다.\r\n",
        "\r\n",
        "\r\n"
      ]
    },
    {
      "cell_type": "markdown",
      "metadata": {
        "id": "bHiUHDnSskhN"
      },
      "source": [
        "**Clustering with Node2Vec**\r\n"
      ]
    },
    {
      "cell_type": "code",
      "metadata": {
        "colab": {
          "base_uri": "https://localhost:8080/"
        },
        "id": "lnXQW6Jae6yr",
        "outputId": "0f313ce0-7517-4664-c38e-51f50451967f"
      },
      "source": [
        "!pip install networkx\r\n",
        "!pip install node2vec"
      ],
      "execution_count": 2,
      "outputs": [
        {
          "output_type": "stream",
          "text": [
            "Requirement already satisfied: networkx in /usr/local/lib/python3.7/dist-packages (2.5)\n",
            "Requirement already satisfied: decorator>=4.3.0 in /usr/local/lib/python3.7/dist-packages (from networkx) (4.4.2)\n",
            "Collecting node2vec\n",
            "  Downloading https://files.pythonhosted.org/packages/47/60/af8b5f2ca767e4ee56366886cba1430aab0b1a1c0b188df244098e33ea19/node2vec-0.4.1.tar.gz\n",
            "Requirement already satisfied: networkx in /usr/local/lib/python3.7/dist-packages (from node2vec) (2.5)\n",
            "Requirement already satisfied: gensim in /usr/local/lib/python3.7/dist-packages (from node2vec) (3.6.0)\n",
            "Requirement already satisfied: numpy in /usr/local/lib/python3.7/dist-packages (from node2vec) (1.19.5)\n",
            "Requirement already satisfied: tqdm in /usr/local/lib/python3.7/dist-packages (from node2vec) (4.41.1)\n",
            "Requirement already satisfied: joblib>=0.13.2 in /usr/local/lib/python3.7/dist-packages (from node2vec) (1.0.1)\n",
            "Requirement already satisfied: decorator>=4.3.0 in /usr/local/lib/python3.7/dist-packages (from networkx->node2vec) (4.4.2)\n",
            "Requirement already satisfied: smart-open>=1.2.1 in /usr/local/lib/python3.7/dist-packages (from gensim->node2vec) (4.2.0)\n",
            "Requirement already satisfied: six>=1.5.0 in /usr/local/lib/python3.7/dist-packages (from gensim->node2vec) (1.15.0)\n",
            "Requirement already satisfied: scipy>=0.18.1 in /usr/local/lib/python3.7/dist-packages (from gensim->node2vec) (1.4.1)\n",
            "Building wheels for collected packages: node2vec\n",
            "  Building wheel for node2vec (setup.py) ... \u001b[?25l\u001b[?25hdone\n",
            "  Created wheel for node2vec: filename=node2vec-0.4.1-cp37-none-any.whl size=5734 sha256=7dec2e622a9f92e14adf1d70e9fc2ba91c857feee47458a4aeb471bb69bd95ee\n",
            "  Stored in directory: /root/.cache/pip/wheels/b3/59/ea/22e964f74bb864c5423cf82027a4d69dd65bac0bbf95fd46f5\n",
            "Successfully built node2vec\n",
            "Installing collected packages: node2vec\n",
            "Successfully installed node2vec-0.4.1\n"
          ],
          "name": "stdout"
        }
      ]
    },
    {
      "cell_type": "code",
      "metadata": {
        "id": "yxFaWxeyOLs7",
        "outputId": "2b94cb37-3001-4273-cb6e-2cdd2d8af7a3",
        "colab": {
          "base_uri": "https://localhost:8080/"
        }
      },
      "source": [
        "from google.colab import drive\n",
        "drive.mount('/content/drive')"
      ],
      "execution_count": 1,
      "outputs": [
        {
          "output_type": "stream",
          "text": [
            "Mounted at /content/drive\n"
          ],
          "name": "stdout"
        }
      ]
    },
    {
      "cell_type": "code",
      "metadata": {
        "id": "aLToXdFXCtI_",
        "outputId": "c3d92d9b-0918-4935-b5ac-269bcaa9ee4a",
        "colab": {
          "base_uri": "https://localhost:8080/"
        }
      },
      "source": [
        "import os, sys \r\n",
        "from google.colab import drive \r\n",
        "\r\n",
        "### 해당 코드 실행 시 colab에서 실행중인 폴더의 /content/drive/My Drive가 구글 드라이브에 연결됨\r\n",
        "\r\n",
        "drive.mount('/content/drive')\r\n"
      ],
      "execution_count": 3,
      "outputs": [
        {
          "output_type": "stream",
          "text": [
            "Drive already mounted at /content/drive; to attempt to forcibly remount, call drive.mount(\"/content/drive\", force_remount=True).\n"
          ],
          "name": "stdout"
        }
      ]
    },
    {
      "cell_type": "code",
      "metadata": {
        "id": "MT_WeNIqe8qF"
      },
      "source": [
        "import networkx as nx\r\n",
        "from node2vec import Node2Vec\r\n",
        "from matplotlib import pyplot as plt"
      ],
      "execution_count": 4,
      "outputs": []
    },
    {
      "cell_type": "code",
      "metadata": {
        "id": "Z6FTeAyz3KsC",
        "colab": {
          "base_uri": "https://localhost:8080/",
          "height": 53
        },
        "outputId": "cc0af47f-6844-41d1-81f0-6d92c1e291c5"
      },
      "source": [
        "###################### Dataset Description ##########################\r\n",
        "'''\r\n",
        "    [Reference]\r\n",
        "        title={The Network Data Repository with Interactive Graph Analytics and Visualization},\r\n",
        "        author={Ryan A. Rossi and Nesreen K. Ahmed},\r\n",
        "        booktitle={AAAI},\r\n",
        "        url={http://networkrepository.com},\r\n",
        "        year={2015}\r\n",
        "\r\n",
        "'''\r\n",
        "###### lesmis.mtx : <node 1> <node 2> <weight> ######################\r\n",
        "###### weight : 레미제라블에 동시에 등장한 등장인물의 횟수 ##########\r\n",
        "#####################################################################"
      ],
      "execution_count": 5,
      "outputs": [
        {
          "output_type": "execute_result",
          "data": {
            "application/vnd.google.colaboratory.intrinsic+json": {
              "type": "string"
            },
            "text/plain": [
              "'\\n    [Reference]\\n        title={The Network Data Repository with Interactive Graph Analytics and Visualization},\\n        author={Ryan A. Rossi and Nesreen K. Ahmed},\\n        booktitle={AAAI},\\n        url={http://networkrepository.com},\\n        year={2015}\\n\\n'"
            ]
          },
          "metadata": {
            "tags": []
          },
          "execution_count": 5
        }
      ]
    },
    {
      "cell_type": "code",
      "metadata": {
        "id": "8Czt2vSKNrJd"
      },
      "source": [
        "##### Weighted Graph Generation #####\r\n",
        "\r\n",
        "weighted_edgelist=[]\r\n",
        "with open('drive/MyDrive/data/lab/lab7/lesmis.mtx', 'r') as f:\r\n",
        "    for line in f:\r\n",
        "        l = line.strip().split()\r\n",
        "        if l[0].isdigit() == False:\r\n",
        "            continue\r\n",
        "        weighted_edgelist.append((str(int(l[0])-1), str(int(l[1])-1), float(l[2])))\r\n",
        "\r\n",
        "\r\n",
        "G = nx.Graph()\r\n",
        "G.add_weighted_edges_from(weighted_edgelist)       "
      ],
      "execution_count": 6,
      "outputs": []
    },
    {
      "cell_type": "code",
      "metadata": {
        "colab": {
          "base_uri": "https://localhost:8080/",
          "height": 67,
          "referenced_widgets": [
            "d739a301322e4d179d1a40ed11b659a1",
            "58913d267e674b389ae90e787c334cdf",
            "1b11567fd13b4f0f9c61093341761d17",
            "183f28dbd228400f92f46e8b7b438364",
            "561ca3f56646430f919f04e54ce39667",
            "0b6500f8091e46778f41b96d57342803",
            "cdf51178bac94cb5bde5347c763ba196",
            "8e99a5aaa8394bd59df2efdf095d9d00"
          ]
        },
        "id": "xvPe0je6OU-I",
        "outputId": "1a780cbd-682c-4533-cbce-12b0b6be9e0a"
      },
      "source": [
        "############################ Fill in Your Code ############################################\r\n",
        "\r\n",
        "# edge 별 확률 계산(p, q에 따른 edge별 확률 계산) & random walk 생성 \r\n",
        "node2vec = Node2Vec(G, dimensions=16, walk_length=4, num_walks=200, workers=4)      # p = 1, q = 1 as default\r\n",
        "# node embedding 구하기\r\n",
        "model = node2vec.fit(window=2, min_count=1, batch_words=4)\r\n",
        "\r\n",
        "##############################################################################################"
      ],
      "execution_count": 7,
      "outputs": [
        {
          "output_type": "display_data",
          "data": {
            "application/vnd.jupyter.widget-view+json": {
              "model_id": "d739a301322e4d179d1a40ed11b659a1",
              "version_minor": 0,
              "version_major": 2
            },
            "text/plain": [
              "HBox(children=(FloatProgress(value=0.0, description='Computing transition probabilities', max=77.0, style=Prog…"
            ]
          },
          "metadata": {
            "tags": []
          }
        },
        {
          "output_type": "stream",
          "text": [
            "\n"
          ],
          "name": "stdout"
        }
      ]
    },
    {
      "cell_type": "code",
      "metadata": {
        "colab": {
          "base_uri": "https://localhost:8080/"
        },
        "id": "zyKUiAjFOX4Z",
        "outputId": "728c4e1d-5004-441b-c3fe-a0fd863c0952"
      },
      "source": [
        "print(\"#### Embedding Vector of Node 2 ####\")\r\n",
        "print(model.wv['2'])"
      ],
      "execution_count": 8,
      "outputs": [
        {
          "output_type": "stream",
          "text": [
            "#### Embedding Vector of Node 2 ####\n",
            "[ 0.33903828  0.43090862  0.17692237 -0.7939274   0.6491305  -0.2098503\n",
            " -1.0610273   1.1693543  -0.39267272 -0.3162759   0.612558    0.55325323\n",
            " -0.45061627 -0.967273   -0.6440434  -1.1614807 ]\n"
          ],
          "name": "stdout"
        }
      ]
    },
    {
      "cell_type": "code",
      "metadata": {
        "colab": {
          "base_uri": "https://localhost:8080/"
        },
        "id": "7kmfarfuOrWx",
        "outputId": "1ae56a12-cf0f-4bb8-cb15-6fc4da674758"
      },
      "source": [
        "##### Node 2와 가장 유사한 10개의 node를 출력 #####\r\n",
        "\r\n",
        "print(\"#### Most Similar Nodes to Node 2\")\r\n",
        "model.wv.most_similar('2')  "
      ],
      "execution_count": 9,
      "outputs": [
        {
          "output_type": "stream",
          "text": [
            "#### Most Similar Nodes to Node 2\n"
          ],
          "name": "stdout"
        },
        {
          "output_type": "execute_result",
          "data": {
            "text/plain": [
              "[('3', 0.9969054460525513),\n",
              " ('7', 0.994147539138794),\n",
              " ('6', 0.9938610792160034),\n",
              " ('5', 0.9913018941879272),\n",
              " ('4', 0.9906114339828491),\n",
              " ('8', 0.9898799657821655),\n",
              " ('9', 0.9890292882919312),\n",
              " ('1', 0.9867995977401733),\n",
              " ('0', 0.9864295125007629),\n",
              " ('13', 0.6862064003944397)]"
            ]
          },
          "metadata": {
            "tags": []
          },
          "execution_count": 9
        }
      ]
    },
    {
      "cell_type": "code",
      "metadata": {
        "id": "oqkbYe-HRfnG"
      },
      "source": [
        "from sklearn.cluster import KMeans\r\n",
        "import numpy as np\r\n",
        "from matplotlib import pyplot as plt"
      ],
      "execution_count": 10,
      "outputs": []
    },
    {
      "cell_type": "code",
      "metadata": {
        "id": "ZHxSKmtkwL-Y"
      },
      "source": [
        "#### sklearn.cluster의 KMeans 알고리즘을 실행시키기 위해 node별 embedding 값을 array로 변환해준다 \r\n",
        "#### 노드 번호에 해당하는 index에 embedding 값을 저장\r\n",
        "vectors_array = np.zeros((len(G.nodes), 16))\r\n",
        "for node in G.nodes:\r\n",
        "    vectors_array[int(node)] = model.wv[node]"
      ],
      "execution_count": 11,
      "outputs": []
    },
    {
      "cell_type": "code",
      "metadata": {
        "id": "PspreKosSYIZ"
      },
      "source": [
        "#### kmeans clustering 알고리즘 실행 ###\r\n",
        "\r\n",
        "############### Fill in Your Code #############################\r\n",
        "\r\n",
        "kmeans = KMeans(n_clusters=5, random_state=0).fit(vectors_array)\r\n",
        "\r\n",
        "################################################################"
      ],
      "execution_count": 12,
      "outputs": []
    },
    {
      "cell_type": "code",
      "metadata": {
        "colab": {
          "base_uri": "https://localhost:8080/",
          "height": 248
        },
        "id": "9J3yUl2duh82",
        "outputId": "05c0a066-2041-475f-bb7c-b34ec858b8c4"
      },
      "source": [
        "\r\n",
        "\r\n",
        "#### 그래프 시각화 - 각 클러스터별로 다른 색깔을 갖도록 함 ####\r\n",
        "pos = nx.spring_layout(G)\r\n",
        "node_color=[]\r\n",
        "node_degree = []\r\n",
        "for node in G.nodes:\r\n",
        "    node_degree.append(G.degree[node]*10)\r\n",
        "    i = int(node)\r\n",
        "    if kmeans.labels_[i] == 0:\r\n",
        "        node_color.append('red')\r\n",
        "    elif kmeans.labels_[i] == 1:\r\n",
        "        node_color.append('yellow')\r\n",
        "    elif kmeans.labels_[i] == 2:\r\n",
        "        node_color.append('blue')\r\n",
        "    elif kmeans.labels_[i] == 3:\r\n",
        "        node_color.append('green')\r\n",
        "    else:\r\n",
        "        node_color.append('orange')\r\n",
        "\r\n",
        "img = nx.draw_networkx_nodes(G, pos, node_color = node_color, node_size=node_degree)\r\n",
        "nx.draw_networkx_edges(G, pos)\r\n",
        "plt.show()"
      ],
      "execution_count": 13,
      "outputs": [
        {
          "output_type": "display_data",
          "data": {
            "image/png": "[encoded data removed]",
            "text/plain": [
              "<Figure size 432x288 with 1 Axes>"
            ]
          },
          "metadata": {
            "tags": []
          }
        }
      ]
    },
    {
      "cell_type": "markdown",
      "metadata": {
        "id": "I19bflrVwtoS"
      },
      "source": [
        "**Node Classification**"
      ]
    },
    {
      "cell_type": "code",
      "metadata": {
        "id": "9BJoGFxMz8iq"
      },
      "source": [
        "###################### Dataset Description ##########################\r\n",
        "##### cora.content : <paper_id> <word_attributes> <class_name> #####\r\n",
        "##### cora.cites : <ID of cited paper> <ID of citing paper> #########\r\n",
        "#####################################################################"
      ],
      "execution_count": 14,
      "outputs": []
    },
    {
      "cell_type": "code",
      "metadata": {
        "id": "Ar7ntURPvhXj"
      },
      "source": [
        "# Directed Graph Generation \r\n",
        "# 메모리 활용을 위해 node class는 숫자로 re-labelling하여 사용\r\n",
        "\r\n",
        "node_class = dict()\r\n",
        "edgelist = list()\r\n",
        "class_num = 1\r\n",
        "class_name_to_num = dict()\r\n",
        "with open('drive/MyDrive/data/lab/lab7/cora.content', 'r') as f, open('drive/MyDrive/data/lab/lab7/cora.cites','r') as f2:\r\n",
        "    for line in f:\r\n",
        "        l = line.strip().split()\r\n",
        "        class_name = l[-1]\r\n",
        "        if class_name not in class_name_to_num:\r\n",
        "            class_name_to_num[class_name] = class_num\r\n",
        "            class_num += 1\r\n",
        "        node_class[l[0]] = class_name_to_num[class_name]\r\n",
        "\r\n",
        "    for line in f2:\r\n",
        "        l = line.strip().split()\r\n",
        "        edgelist.append((l[1],l[0]))\r\n",
        "\r\n",
        "\r\n",
        "G = nx.DiGraph()\r\n",
        "G.add_edges_from(edgelist)\r\n"
      ],
      "execution_count": 15,
      "outputs": []
    },
    {
      "cell_type": "code",
      "metadata": {
        "id": "hGT4nJ8TBPhC"
      },
      "source": [
        "import time"
      ],
      "execution_count": 16,
      "outputs": []
    },
    {
      "cell_type": "code",
      "metadata": {
        "colab": {
          "base_uri": "https://localhost:8080/",
          "height": 85,
          "referenced_widgets": [
            "9fad02626b7c497e94318b71472cd6cd",
            "150abeb1f06a4b09904a59f2e4cdd34b",
            "dea9bf73d4724d35bc6593e165d5f0da",
            "27fe48b770b2498ebe7c1c564a1a42c5",
            "ef2ddc3d38064cad9e64d4135483f1b0",
            "22247c85e9f442faa2894f064bf05e62",
            "1f5aa59623b242149c33e4da281783ab",
            "ea7913bf75ad400b8a5e4d56b322e427"
          ]
        },
        "id": "HW3jnYD36zmM",
        "outputId": "ef4aa4d7-4531-4474-c37a-ad919e0fc9ad"
      },
      "source": [
        "s= time.time()\r\n",
        "##### Node Embedding #####\r\n",
        "node2vec = Node2Vec(G, dimensions=32, walk_length=50, num_walks=200, workers=4)  \r\n",
        "model = node2vec.fit(window=10, min_count=1, batch_words=4) \r\n",
        "print(\"runtime: \", time.time() - s)"
      ],
      "execution_count": 17,
      "outputs": [
        {
          "output_type": "display_data",
          "data": {
            "application/vnd.jupyter.widget-view+json": {
              "model_id": "9fad02626b7c497e94318b71472cd6cd",
              "version_minor": 0,
              "version_major": 2
            },
            "text/plain": [
              "HBox(children=(FloatProgress(value=0.0, description='Computing transition probabilities', max=2708.0, style=Pr…"
            ]
          },
          "metadata": {
            "tags": []
          }
        },
        {
          "output_type": "stream",
          "text": [
            "\n",
            "runtime:  684.6062746047974\n"
          ],
          "name": "stdout"
        }
      ]
    },
    {
      "cell_type": "code",
      "metadata": {
        "id": "_BxpLU5O84VF"
      },
      "source": [
        "from sklearn.model_selection import train_test_split\r\n",
        "from sklearn.neural_network import MLPClassifier\r\n",
        "from sklearn.metrics import mean_squared_error, accuracy_score\r\n"
      ],
      "execution_count": 18,
      "outputs": []
    },
    {
      "cell_type": "code",
      "metadata": {
        "id": "TKyelh4V9yXE",
        "colab": {
          "base_uri": "https://localhost:8080/"
        },
        "outputId": "3af7abfb-1118-4983-ee1d-c7c42301ca89"
      },
      "source": [
        "#### X : embedding of a node, y : class label of a node ####\r\n",
        "\r\n",
        "X = list()\r\n",
        "y = list()\r\n",
        "node_name_to_idx = dict()\r\n",
        "for i, (v, class_) in enumerate(node_class.items()):\r\n",
        "    node_name_to_idx[v] = i\r\n",
        "    X.append(model.wv[v])\r\n",
        "    y.append(class_)\r\n",
        "X = np.array(X)\r\n",
        "y = np.array(y)\r\n",
        "\r\n",
        "#################### Fill in Your Code ################################\r\n",
        "\r\n",
        "X_train, X_test, y_train, y_test = train_test_split(X, y, shuffle= True)\r\n",
        "clf = MLPClassifier(max_iter=500).fit(X_train, y_train)\r\n",
        "\r\n",
        "#######################################################################\r\n"
      ],
      "execution_count": 19,
      "outputs": [
        {
          "output_type": "stream",
          "text": [
            "/usr/local/lib/python3.7/dist-packages/sklearn/neural_network/_multilayer_perceptron.py:571: ConvergenceWarning: Stochastic Optimizer: Maximum iterations (500) reached and the optimization hasn't converged yet.\n",
            "  % self.max_iter, ConvergenceWarning)\n"
          ],
          "name": "stderr"
        }
      ]
    },
    {
      "cell_type": "code",
      "metadata": {
        "id": "8GWJi0MCb2nZ",
        "colab": {
          "base_uri": "https://localhost:8080/"
        },
        "outputId": "e66f74aa-686c-4cac-d028-c937dde28eb4"
      },
      "source": [
        "#################### Fill in Your Code ################################\r\n",
        "\r\n",
        "\r\n",
        "y_predict = clf.predict(X_test)\r\n",
        "\r\n",
        "######################################################################\r\n",
        "\r\n",
        "print(\"###### Result of prediction #####\")\r\n",
        "print(\"Accuracy : {0:05.2f}% \".format(accuracy_score(y_test, y_predict)*100))"
      ],
      "execution_count": 20,
      "outputs": [
        {
          "output_type": "stream",
          "text": [
            "###### Result of prediction #####\n",
            "Accuracy : 78.58% \n"
          ],
          "name": "stdout"
        }
      ]
    },
    {
      "cell_type": "code",
      "metadata": {
        "colab": {
          "base_uri": "https://localhost:8080/"
        },
        "id": "PXpZWpOVtr-l",
        "outputId": "7bebc290-b367-4e40-acff-82b721f53e5a"
      },
      "source": [
        "print(\"########## Comparison of Predicted and Test Results ######\")\r\n",
        "for i in range(len(y_test)//20):\r\n",
        "    print(\"#########################################################\")\r\n",
        "    print(\"예측: \", y_predict[i*20:(i+1)*20])\r\n",
        "    print(\"실제: \", y_test[i*20:(i+1)*20])"
      ],
      "execution_count": 21,
      "outputs": [
        {
          "output_type": "stream",
          "text": [
            "########## Comparison of Predicted and Test Results ######\n",
            "#########################################################\n",
            "예측:  [4 1 6 7 7 2 6 2 5 6 7 1 4 7 6 1 6 6 3 2]\n",
            "실제:  [5 1 6 7 7 5 6 2 1 6 7 1 4 7 6 4 7 6 3 2]\n",
            "#########################################################\n",
            "예측:  [1 7 6 4 1 6 4 6 2 4 3 4 4 5 7 6 3 6 1 1]\n",
            "실제:  [1 7 6 4 1 6 1 7 2 1 3 4 4 4 7 6 3 6 1 1]\n",
            "#########################################################\n",
            "예측:  [1 1 3 7 5 4 1 1 3 4 5 1 1 5 7 4 2 2 4 1]\n",
            "실제:  [1 1 3 2 5 1 5 1 1 4 5 4 1 5 7 4 5 2 4 1]\n",
            "#########################################################\n",
            "예측:  [6 1 2 3 1 1 2 1 5 4 5 5 1 6 4 7 1 3 7 7]\n",
            "실제:  [6 1 2 3 1 1 5 1 5 4 1 5 4 6 4 1 1 3 7 7]\n",
            "#########################################################\n",
            "예측:  [7 1 1 1 4 1 6 3 1 5 1 1 5 7 2 5 1 3 1 6]\n",
            "실제:  [7 1 1 1 5 3 6 3 1 5 1 3 5 7 2 1 1 4 1 6]\n",
            "#########################################################\n",
            "예측:  [1 1 1 5 1 5 7 1 6 3 6 1 5 6 6 1 1 2 2 4]\n",
            "실제:  [1 1 1 5 1 5 4 1 6 3 6 6 5 6 6 1 1 2 2 1]\n",
            "#########################################################\n",
            "예측:  [1 6 1 4 1 1 4 5 5 1 6 5 7 6 1 5 6 1 4 6]\n",
            "실제:  [1 6 1 4 1 1 1 7 5 1 6 5 7 6 1 5 6 1 3 6]\n",
            "#########################################################\n",
            "예측:  [7 1 3 1 6 2 1 4 4 4 1 6 1 7 7 6 1 3 4 7]\n",
            "실제:  [1 1 3 1 6 2 7 4 4 4 1 6 1 7 7 4 1 3 4 7]\n",
            "#########################################################\n",
            "예측:  [6 1 1 7 1 6 6 2 4 7 1 5 7 1 4 1 7 1 3 7]\n",
            "실제:  [3 1 1 6 1 6 6 2 4 7 1 5 7 6 1 1 1 1 3 7]\n",
            "#########################################################\n",
            "예측:  [3 1 5 6 6 4 5 5 1 1 1 1 1 3 6 4 6 4 4 1]\n",
            "실제:  [7 6 5 6 5 1 5 5 1 1 1 1 1 3 6 4 6 7 4 1]\n",
            "#########################################################\n",
            "예측:  [1 6 6 7 5 6 7 1 1 3 5 1 5 3 4 1 5 4 6 1]\n",
            "실제:  [1 6 6 7 1 6 7 5 1 3 5 1 7 7 4 1 5 1 6 1]\n",
            "#########################################################\n",
            "예측:  [3 6 1 6 7 1 5 5 3 1 4 7 5 4 1 6 3 1 5 1]\n",
            "실제:  [3 6 1 6 7 1 7 5 4 1 4 7 1 4 1 6 3 1 5 1]\n",
            "#########################################################\n",
            "예측:  [1 4 5 1 1 6 6 7 1 1 1 5 4 1 4 1 4 4 6 4]\n",
            "실제:  [1 4 5 1 1 6 6 7 1 1 3 5 4 1 7 1 4 4 1 4]\n",
            "#########################################################\n",
            "예측:  [1 1 4 6 1 1 1 1 6 3 4 4 3 1 6 6 7 5 1 2]\n",
            "실제:  [1 5 4 6 2 5 1 1 6 3 4 4 1 1 6 6 7 5 1 2]\n",
            "#########################################################\n",
            "예측:  [6 1 1 2 6 6 2 6 1 4 1 4 7 6 4 3 1 5 3 6]\n",
            "실제:  [6 1 1 2 5 6 7 6 1 4 1 2 1 6 4 5 1 5 3 6]\n",
            "#########################################################\n",
            "예측:  [4 1 2 1 1 4 4 1 6 6 6 4 6 7 5 6 3 1 5 3]\n",
            "실제:  [4 1 2 1 6 4 4 1 6 6 4 4 6 5 5 6 3 1 5 3]\n",
            "#########################################################\n",
            "예측:  [6 6 3 6 1 4 6 1 1 1 4 5 5 1 5 7 6 1 1 5]\n",
            "실제:  [6 6 5 6 1 7 6 6 1 1 4 5 1 1 1 6 6 1 1 5]\n",
            "#########################################################\n",
            "예측:  [1 6 1 7 2 1 1 6 5 1 1 6 2 1 7 1 5 1 3 6]\n",
            "실제:  [1 6 1 7 2 1 1 6 5 1 1 6 5 3 7 1 1 1 3 6]\n",
            "#########################################################\n",
            "예측:  [2 1 2 1 4 1 1 4 6 7 7 4 4 5 4 5 3 6 1 6]\n",
            "실제:  [2 1 2 1 4 1 1 4 6 2 7 4 4 5 4 5 3 6 1 6]\n",
            "#########################################################\n",
            "예측:  [6 1 6 4 6 6 4 3 1 6 4 1 7 1 5 1 3 1 1 5]\n",
            "실제:  [6 1 6 4 6 6 4 3 1 6 4 1 7 4 5 1 5 7 4 5]\n",
            "#########################################################\n",
            "예측:  [6 1 2 1 7 1 1 5 4 1 3 6 1 1 1 4 1 3 3 5]\n",
            "실제:  [6 1 2 4 2 1 1 5 4 1 3 6 1 4 1 4 1 3 3 5]\n",
            "#########################################################\n",
            "예측:  [2 2 6 4 6 6 1 7 7 7 4 6 2 7 1 5 4 6 5 1]\n",
            "실제:  [7 2 6 4 1 3 1 7 7 7 4 6 1 7 5 5 1 6 5 6]\n",
            "#########################################################\n",
            "예측:  [5 6 3 1 7 3 7 1 5 1 3 4 1 6 1 3 4 3 5 3]\n",
            "실제:  [5 6 3 1 1 3 5 1 5 1 3 5 1 6 1 1 4 3 1 3]\n",
            "#########################################################\n",
            "예측:  [6 4 7 2 2 4 1 3 2 1 3 3 2 6 4 5 1 4 1 6]\n",
            "실제:  [6 2 1 2 2 4 1 3 2 1 7 3 2 6 5 5 5 4 1 6]\n",
            "#########################################################\n",
            "예측:  [4 3 4 1 1 1 5 7 1 1 6 6 7 3 4 1 1 7 5 6]\n",
            "실제:  [4 3 4 3 1 1 5 6 1 1 6 6 7 3 4 1 2 5 1 6]\n",
            "#########################################################\n",
            "예측:  [4 6 2 4 6 7 3 3 7 4 4 7 6 1 6 1 1 6 1 7]\n",
            "실제:  [1 6 2 4 6 7 3 3 7 4 4 6 6 4 6 1 1 1 1 1]\n",
            "#########################################################\n",
            "예측:  [5 2 5 4 7 7 1 7 2 4 1 3 5 4 5 6 6 7 7 1]\n",
            "실제:  [2 2 1 4 7 7 1 7 7 4 7 7 4 4 1 6 6 7 7 1]\n",
            "#########################################################\n",
            "예측:  [1 5 3 2 1 3 1 1 5 1 1 4 4 2 1 4 3 4 3 5]\n",
            "실제:  [4 5 6 2 5 3 1 1 5 1 5 4 4 2 3 1 3 4 3 5]\n",
            "#########################################################\n",
            "예측:  [3 4 1 1 1 1 5 7 1 6 1 5 7 3 1 3 5 7 4 5]\n",
            "실제:  [3 5 1 1 4 1 5 2 1 6 1 5 7 3 1 3 2 7 4 5]\n",
            "#########################################################\n",
            "예측:  [1 7 6 5 5 6 1 4 5 2 1 7 6 6 4 5 6 6 7 1]\n",
            "실제:  [2 7 6 7 1 6 5 1 5 2 1 1 6 6 4 5 6 1 7 1]\n",
            "#########################################################\n",
            "예측:  [1 4 5 4 4 4 7 5 3 7 7 7 2 1 1 2 4 1 7 7]\n",
            "실제:  [1 4 5 1 4 4 7 5 3 7 7 7 5 1 1 2 4 1 7 7]\n",
            "#########################################################\n",
            "예측:  [6 1 1 1 1 3 2 1 1 3 1 4 6 4 1 1 1 7 4 7]\n",
            "실제:  [6 1 1 1 1 1 2 1 1 3 1 4 6 7 1 1 1 7 4 2]\n",
            "#########################################################\n",
            "예측:  [5 7 4 7 7 1 7 1 3 4 7 6 6 6 1 1 5 2 3 1]\n",
            "실제:  [5 7 4 7 7 1 2 1 3 4 7 6 6 6 1 1 5 2 3 1]\n"
          ],
          "name": "stdout"
        }
      ]
    },
    {
      "cell_type": "code",
      "metadata": {
        "id": "7qsK-PGtOo7v"
      },
      "source": [
        ""
      ],
      "execution_count": null,
      "outputs": []
    }
  ]
}