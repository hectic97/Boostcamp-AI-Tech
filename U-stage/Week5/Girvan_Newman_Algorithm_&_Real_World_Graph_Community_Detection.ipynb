{
  "nbformat": 4,
  "nbformat_minor": 0,
  "metadata": {
    "colab": {
      "name": "Girvan-Newman Algorithm & Real World Graph Community Detection.ipynb",
      "provenance": [],
      "collapsed_sections": [],
      "include_colab_link": true
    },
    "kernelspec": {
      "name": "python3",
      "display_name": "Python 3"
    }
  },
  "cells": [
    {
      "cell_type": "markdown",
      "metadata": {
        "id": "view-in-github",
        "colab_type": "text"
      },
      "source": [
        "<a href=\"https://colab.research.google.com/github/hectic97/Boostcamp-AI-Tech/blob/main/U-stage/Week5/Girvan_Newman_Algorithm_%26_Real_World_Graph_Community_Detection.ipynb\" target=\"_parent\"><img src=\"https://colab.research.google.com/assets/colab-badge.svg\" alt=\"Open In Colab\"/></a>"
      ]
    },
    {
      "cell_type": "code",
      "metadata": {
        "id": "UjNpSI2nZNsN"
      },
      "source": [
        "import matplotlib.pyplot as plt             # 그래프를 그리기 위한 라이브러리\r\n",
        "import numpy as np                          \r\n",
        "import networkx as nx                       # 그래프의 기본적인 연산들을 위한 라이브러리\r\n",
        "from networkx.algorithms import community   # modularity 계산을 위한 라이브러리\r\n",
        "\r\n",
        "G = nx.Graph()\r\n",
        "f = open('.drive/MyDrive/data/lab/community_graph.txt')    # 만약 그래프가 잘 로딩되지않는다면, ls/cd 명령어를 통해 해결 가능\r\n",
        "for line in f:\r\n",
        "    v1, v2 = map(int, line.split())\r\n",
        "    G.add_edge(v1, v2)\r\n",
        "\r\n",
        "\r\n",
        "szCom1 = 8          # nodeColor: Red\r\n",
        "szCom2 = 10         # nodeColor: Yellow\r\n",
        "szCom3 = 12         # nodeColor: Blue\r\n",
        "nodeColorList=[]\r\n",
        "for i in range(szCom1+szCom2+szCom3):\r\n",
        "    if i<szCom1:\r\n",
        "        nodeColorList = nodeColorList + ['red']\r\n",
        "    elif i<szCom1+szCom2:\r\n",
        "        nodeColorList = nodeColorList + ['yellow']\r\n",
        "    else:\r\n",
        "        nodeColorList = nodeColorList + ['blue']"
      ],
      "execution_count": null,
      "outputs": []
    },
    {
      "cell_type": "code",
      "metadata": {
        "id": "Bk2lZ2Euaiit"
      },
      "source": [
        "print(\"그래프의 노드의 개수는 {}, 엣지의 개수는 {}개입니다.\".format(G.number_of_nodes(), G.number_of_edges()))"
      ],
      "execution_count": null,
      "outputs": []
    },
    {
      "cell_type": "code",
      "metadata": {
        "id": "6ax1JwCuXX9J"
      },
      "source": [
        "def GirvanNewmanAlgorithm(G, nodeColorList):\r\n",
        "    copyG = G.copy()                                                        # 기존 그래프를 복사하여, 복사된 그래프를 사용하여 엣지를 하나씩 제거하는 작업을 진행한다.\r\n",
        "    pos = nx.spring_layout(copyG)\r\n",
        "\r\n",
        "    \"\"\" 초기화 \"\"\"\r\n",
        "    step = 0                                                                # 엣지를 하나 제거할 때마다 한 step 증가\r\n",
        "    logModularityList = []                                                  # 후에 modularity를 plot하기 위하여 값들을 저장    \r\n",
        "    maxModCom = []                                                          # comRecord 는 modularity가 최대일 때의 커뮤니티의 정보들을 저장\r\n",
        "    maxMod = -1                                                             # maxMod은 modularity가 최대일 때 값 기록, modularity 값의 범위는 [-1,1]\r\n",
        "    maxStep = 0                                                             # maxStep은 modularity가 최대일 때 step값 기록\r\n",
        "\r\n",
        "    \"\"\" Girvan-Newman algorithm \"\"\"\r\n",
        "    while len(copyG.edges()) > 0:                                                           # 모든 엣지가 사라질때까지 진행한다. \r\n",
        "        recComList = sorted(nx.connected_components(copyG), key=len, reverse=True)          # 현재 그래프에 존재하는 커뮤니티를 나타낸다. [{Com1}, {Com2}, {Com3} ... ]\r\n",
        "        recMod = community.modularity(G, communities=recComList)                            # 추출된 커뮤니티의 modularity 계산\r\n",
        "        if recMod > maxMod:                                                                 # 이전 최대 modularity보다 현재 modularity가 높을 경우 기록\r\n",
        "            maxModG = copyG.copy()\r\n",
        "            maxMod = recMod\r\n",
        "            maxModCom = []\r\n",
        "            for j in range(len(recComList)):\r\n",
        "                maxModCom = maxModCom + [recComList[j]]\r\n",
        "            maxStep = step\r\n",
        "            \r\n",
        "        logModularityList = logModularityList + [recMod]                    # plot을 위해 저장한다.\r\n",
        "\r\n",
        "        \"\"\" remove edge \"\"\"\r\n",
        "        step = step + 1\r\n",
        "        betweenness = nx.edge_betweenness_centrality(copyG)                 # betweennes centrality 계산\r\n",
        "        maxEdge = max(betweenness, key=betweenness.get)                     # betweeness centrality가 가장 큰 엣지 선택\r\n",
        "\r\n",
        "        nx.draw_networkx_nodes(copyG, pos, node_color= nodeColorList, node_size=100)\r\n",
        "        nx.draw_networkx_edges(copyG, pos, edgelist=set(copyG.edges)-set(maxEdge), alpha=0.3)           # alpha: 기존 엣지들의 투명도를 조절하여 삭제되는 엣지가 돋보이도록하는 코드, alpha가 커질수록 진해짐.\r\n",
        "        nx.draw_networkx_edges(copyG, pos, edgelist={maxEdge}, edge_color='black')         # 삭제 되는 엣지\r\n",
        "        plt.show()\r\n",
        "        print(\"Step: \", step, \" ↑Modularity↑: \", recMod)\r\n",
        "\r\n",
        "        copyG.remove_edge(maxEdge[0], maxEdge[1])                               # 엣지를 제거한다.\r\n",
        "\r\n",
        "    return maxModG, maxMod, maxModCom, maxStep, logModularityList"
      ],
      "execution_count": null,
      "outputs": []
    },
    {
      "cell_type": "code",
      "metadata": {
        "id": "Ulx6houicrJ7"
      },
      "source": [
        "'''\r\n",
        "    maxModG             : 가장 큰 Modularity 값을 가지고 있을 때의 그래프\r\n",
        "    maxMod              : 가장 큰 Modularity 값\r\n",
        "    maxModCom           : 가장 큰 Modularity 값을 가졌을 때, 커뮤니티의 정보\r\n",
        "    maxStep             : 가장 큰 Modularity 값을 가졌을 때, Step 값\r\n",
        "    logModularityList   : 각 Step마다의 Modularity 값\r\n",
        "'''\r\n",
        "maxModG, maxM, maxModCom, maxStep, logModularityList = GirvanNewmanAlgorithm(G, nodeColorList)"
      ],
      "execution_count": null,
      "outputs": []
    },
    {
      "cell_type": "code",
      "metadata": {
        "id": "NgMjKm3sApPb"
      },
      "source": [
        "# 각 Step별로 Modularity 값 플롯\r\n",
        "fig = plt.figure()\r\n",
        "plt.subplots_adjust(hspace=0.5, wspace=0.3)\r\n",
        "plt.plot(range(0,G.number_of_edges()), logModularityList)\r\n",
        "plt.xlabel('Step')\r\n",
        "plt.ylabel('Modularity')\r\n",
        "plt.show()"
      ],
      "execution_count": null,
      "outputs": []
    },
    {
      "cell_type": "code",
      "metadata": {
        "id": "Z5s2wSkJcrLn"
      },
      "source": [
        "\"\"\" 그래프 출력 \"\"\"\r\n",
        "pos = nx.spring_layout(G)\r\n",
        "fig = plt.figure(figsize=(7, 6))\r\n",
        "predictedNodeColorList = []                         # 예측한 커뮤니티에 따라서, 노드별의 색깔을 담은 리스트\r\n",
        "for i in range(len(G.nodes)):                       # 각 노드 별로 인덱스에 맞추어 \r\n",
        "    if i in maxModCom[0]:                           # 커뮤니티 별로 색깔을 지정해준다\r\n",
        "        predictedNodeColorList = predictedNodeColorList + ['red']\r\n",
        "    elif i in maxModCom[1]:\r\n",
        "        predictedNodeColorList = predictedNodeColorList + ['yellow']\r\n",
        "    elif i in maxModCom[2]:\r\n",
        "        predictedNodeColorList = predictedNodeColorList + ['blue']\r\n",
        "nx.draw_networkx_nodes(G, pos, node_color=predictedNodeColorList, node_size=100)\r\n",
        "nx.draw_networkx_edges(G, pos)\r\n",
        "plt.show()"
      ],
      "execution_count": null,
      "outputs": []
    },
    {
      "cell_type": "code",
      "metadata": {
        "id": "vTMXJXReZ4DM"
      },
      "source": [
        ""
      ],
      "execution_count": null,
      "outputs": []
    },
    {
      "cell_type": "code",
      "metadata": {
        "id": "BUWXqTDU0_wT"
      },
      "source": [
        ""
      ],
      "execution_count": null,
      "outputs": []
    },
    {
      "cell_type": "code",
      "metadata": {
        "id": "L-lasFvT90Sr"
      },
      "source": [
        "from networkx.algorithms.community import girvan_newman\r\n",
        "from networkx.algorithms.community import kernighan_lin_bisection\r\n",
        "\r\n",
        "'''\r\n",
        "    Karate Club Graph\r\n",
        "    # of nodes :  34\r\n",
        "    # of edges :  78\r\n",
        "    Label : ['Mr.Hi', 'Officer']\r\n",
        "'''\r\n",
        "\r\n",
        "G = nx.karate_club_graph()                              # Karate Club Graph 데이터 불러오기\r\n",
        "label = [G.nodes[i][\"club\"] for i in range(len(G.nodes))]\r\n",
        "pos = nx.spring_layout(G)\r\n",
        "def plotResult(G, pos, com):\r\n",
        "    '''\r\n",
        "        Community가 주어진다면, 해당 커뮤니티별로 노드의 색깔을 달리하여 그래프를 출력한다.\r\n",
        "    '''\r\n",
        "    nodeColorList = [0] * G.number_of_nodes()\r\n",
        "\r\n",
        "    colors = ['red','blue','green','purple']            # 최대 4개의 커뮤니티\r\n",
        "    for i in range(len(com)):\r\n",
        "        for node in com[i]:\r\n",
        "            nodeColorList[node] = colors[i];      \r\n",
        "    nx.draw_networkx_nodes(G, pos, node_color=nodeColorList, node_size=100)\r\n",
        "    nx.draw_networkx_edges(G, pos)\r\n",
        "    plt.plot()"
      ],
      "execution_count": null,
      "outputs": []
    },
    {
      "cell_type": "code",
      "metadata": {
        "id": "371_r0hO_rJC"
      },
      "source": [
        "nodeColorList = []\r\n",
        "for i in range(len(G.nodes)):                       # 각 노드 별로 인덱스에 맞추어 \r\n",
        "    if label[i] == 'Mr. Hi':                        # 커뮤니티 별로 색깔을 지정해준다\r\n",
        "        nodeColorList = nodeColorList + ['red']\r\n",
        "    elif label[i] == 'Officer':\r\n",
        "        nodeColorList = nodeColorList + ['blue']\r\n",
        "\r\n",
        "nx.draw_networkx_nodes(G,pos, node_color=nodeColorList, node_size=100)\r\n",
        "nx.draw_networkx_edges(G, pos)\r\n",
        "plt.show()"
      ],
      "execution_count": null,
      "outputs": []
    },
    {
      "cell_type": "code",
      "metadata": {
        "id": "LOBp_S9nfWmv"
      },
      "source": [
        "comKarateList  = list(girvan_newman(G))     # Girvan-Newman 알고리즘의 경우, 각 step마다의 community가 저장되어 있기때문에 커뮤니티가 2개로 나누어진 시점의 Community를 가져온다.\r\n",
        "for com in comKarateList:\r\n",
        "    if len(com) == 2:\r\n",
        "        comKarate = com\r\n",
        "plotResult(G, pos, comKarate)"
      ],
      "execution_count": null,
      "outputs": []
    },
    {
      "cell_type": "code",
      "metadata": {
        "id": "HUf1IWUufGHR"
      },
      "source": [
        "comKarate  = list(kernighan_lin_bisection(G))\r\n",
        "plotResult(G, pos, comKarate)"
      ],
      "execution_count": null,
      "outputs": []
    },
    {
      "cell_type": "code",
      "metadata": {
        "id": "a-ghmFBYfGWg"
      },
      "source": [
        "    "
      ],
      "execution_count": null,
      "outputs": []
    },
    {
      "cell_type": "code",
      "metadata": {
        "id": "yt1R7deHZqye"
      },
      "source": [
        " "
      ],
      "execution_count": null,
      "outputs": []
    }
  ]
}