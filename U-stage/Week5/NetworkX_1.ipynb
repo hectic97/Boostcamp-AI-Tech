{
  "nbformat": 4,
  "nbformat_minor": 0,
  "metadata": {
    "colab": {
      "name": "NetworkX_1.ipynb",
      "provenance": [],
      "collapsed_sections": []
    },
    "kernelspec": {
      "name": "python3",
      "display_name": "Python 3"
    }
  },
  "cells": [
    {
      "cell_type": "markdown",
      "metadata": {
        "id": "ELHe4WkmNi7v"
      },
      "source": [
        "**Lab 1-1 : Graph Basic**\r\n",
        "- Instuctor : Kijung Shin\r\n"
      ]
    },
    {
      "cell_type": "code",
      "metadata": {
        "id": "5wBs1FcZN8lt"
      },
      "source": [
        "# 실습에 필요한 library를 임포트합니다.\r\n",
        "import networkx as nx                           # NetworkX\r\n",
        "import numpy as np                              # 선형대수를 위한 라이브러리\r\n",
        "import matplotlib.pyplot as plt                 # 그림을 그리기 위한 라이브러리\r\n",
        "import sys\r\n",
        "np.set_printoptions(threshold=sys.maxsize)      "
      ],
      "execution_count": 2,
      "outputs": []
    },
    {
      "cell_type": "code",
      "metadata": {
        "id": "5HaZbl3YN5X8",
        "colab": {
          "base_uri": "https://localhost:8080/"
        },
        "outputId": "7cd53869-6da9-4377-8a42-f8998593643e"
      },
      "source": [
        "print(\"###### Graph Init ######\")               \r\n",
        "G= nx.Graph()                                   # 방향성이 없는 그래프\r\n",
        "DiGraph = nx.DiGraph()                          # 방향성이 있는 그래프"
      ],
      "execution_count": 3,
      "outputs": [
        {
          "output_type": "stream",
          "text": [
            "###### Graph Init ######\n"
          ],
          "name": "stdout"
        }
      ]
    },
    {
      "cell_type": "code",
      "metadata": {
        "colab": {
          "base_uri": "https://localhost:8080/"
        },
        "id": "2HqTFL81b1Yj",
        "outputId": "0aa6c61e-c8fa-4580-e1b4-8b464f471a52"
      },
      "source": [
        "print(\"###### Add Node to Graph ######\")                    \r\n",
        "print(\"# Add node 1\")                                      \r\n",
        "G.add_node(1)                                               # 정점 1 추가\r\n",
        "print(\"Num of nodes in G : \" + str(G.number_of_nodes()))    # 정점의 수 반환\r\n",
        "print(\"Graph : \" + str(G.nodes)+ \"\\n\")                      # 정점의 목록 반환"
      ],
      "execution_count": 4,
      "outputs": [
        {
          "output_type": "stream",
          "text": [
            "###### Add Node to Graph ######\n",
            "# Add node 1\n",
            "Num of nodes in G : 1\n",
            "Graph : [1]\n",
            "\n"
          ],
          "name": "stdout"
        }
      ]
    },
    {
      "cell_type": "code",
      "metadata": {
        "colab": {
          "base_uri": "https://localhost:8080/"
        },
        "id": "4ek4x0xFdbEa",
        "outputId": "6597a325-1991-456d-83d9-70f5643724f5"
      },
      "source": [
        "print(\"# Add vertex 2 ~ 10\")                                # 정점 2 ~ 10 추가\r\n",
        "for i in range (1, 11):\r\n",
        "    G.add_node(i)\r\n",
        "print(\"Num of nodes in G : \" + str(G.number_of_nodes()))\r\n",
        "print(\"Graph : \" + str(G.nodes) + \"\\n\")"
      ],
      "execution_count": 5,
      "outputs": [
        {
          "output_type": "stream",
          "text": [
            "# Add vertex 2 ~ 10\n",
            "Num of nodes in G : 10\n",
            "Graph : [1, 2, 3, 4, 5, 6, 7, 8, 9, 10]\n",
            "\n"
          ],
          "name": "stdout"
        }
      ]
    },
    {
      "cell_type": "code",
      "metadata": {
        "colab": {
          "base_uri": "https://localhost:8080/"
        },
        "id": "MF5Pr2bsdjrq",
        "outputId": "48cc6723-efac-4251-f6b1-58622da4850f"
      },
      "source": [
        "print(\"###### Add Edge to Graph ######\")                    \r\n",
        "G = nx.Graph()\r\n",
        "print(\"#Add edge (1, 2)\")                                   \r\n",
        "G.add_edge(1, 2)                                            # 정점 1과 2 사이에 간선 추가\r\n",
        "print(\"Graph : \" + str(G.edges) + \"\\n\")                     # 간선의 목록 반환"
      ],
      "execution_count": 6,
      "outputs": [
        {
          "output_type": "stream",
          "text": [
            "###### Add Edge to Graph ######\n",
            "#Add edge (1, 2)\n",
            "Graph : [(1, 2)]\n",
            "\n"
          ],
          "name": "stdout"
        }
      ]
    },
    {
      "cell_type": "code",
      "metadata": {
        "colab": {
          "base_uri": "https://localhost:8080/"
        },
        "id": "a7zrRb46eX4w",
        "outputId": "898f68f1-df05-438f-977c-4c13cc8d04a4"
      },
      "source": [
        "print(\"#Add edge (1, i) for i = 2 ~ 10\")                    # 정점 1과 다른 정점 사이의 간선 추가\r\n",
        "for i in range (2, 11):\r\n",
        "    G.add_edge(1, i)\r\n",
        "print(\"Graph : \" + str(G.edges) + \"\\n\")"
      ],
      "execution_count": 7,
      "outputs": [
        {
          "output_type": "stream",
          "text": [
            "#Add edge (1, i) for i = 2 ~ 10\n",
            "Graph : [(1, 2), (1, 3), (1, 4), (1, 5), (1, 6), (1, 7), (1, 8), (1, 9), (1, 10)]\n",
            "\n"
          ],
          "name": "stdout"
        }
      ]
    },
    {
      "cell_type": "code",
      "metadata": {
        "colab": {
          "base_uri": "https://localhost:8080/",
          "height": 248
        },
        "id": "0yJA5jg8efSo",
        "outputId": "5cf3bb65-2789-456b-845c-e3a7c939de40"
      },
      "source": [
        "# 그래프를 시각화\r\n",
        "# 정점의 위치 결정\r\n",
        "pos = nx.spring_layout(G)                                               \r\n",
        "# 정점의 색과 크기를 지정하여 출력\r\n",
        "im = nx.draw_networkx_nodes(G, pos, node_color=\"red\", node_size=100)    \r\n",
        "# 간선 출력\r\n",
        "nx.draw_networkx_edges(G, pos)                                          \r\n",
        "# 각 정점의 라벨을 출력\r\n",
        "nx.draw_networkx_labels(G, pos, font_size=10, font_color=\"black\")       \r\n",
        "plt.show()\r\n"
      ],
      "execution_count": 8,
      "outputs": [
        {
          "output_type": "display_data",
          "data": {
            "image/png": "[encoded data removed]",
            "text/plain": [
              "<Figure size 432x288 with 1 Axes>"
            ]
          },
          "metadata": {
            "tags": []
          }
        }
      ]
    }
  ]
}