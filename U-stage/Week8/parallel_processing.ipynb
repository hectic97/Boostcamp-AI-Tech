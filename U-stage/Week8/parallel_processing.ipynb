{
  "nbformat": 4,
  "nbformat_minor": 0,
  "metadata": {
    "colab": {
      "name": "parallel_processing.ipynb",
      "provenance": [],
      "collapsed_sections": [],
      "include_colab_link": true
    },
    "kernelspec": {
      "name": "python3",
      "display_name": "Python 3"
    }
  },
  "cells": [
    {
      "cell_type": "markdown",
      "metadata": {
        "id": "view-in-github",
        "colab_type": "text"
      },
      "source": [
        "<a href=\"https://colab.research.google.com/github/hectic97/Boostcamp-AI-Tech/blob/main/U-stage/Week8/parallel_processing.ipynb\" target=\"_parent\"><img src=\"https://colab.research.google.com/assets/colab-badge.svg\" alt=\"Open In Colab\"/></a>"
      ]
    },
    {
      "cell_type": "code",
      "metadata": {
        "colab": {
          "base_uri": "https://localhost:8080/"
        },
        "id": "YzhSUfWixJor",
        "outputId": "5014d838-33a0-4805-be67-046632f41e12"
      },
      "source": [
        "# install ray\n",
        "!pip install ray"
      ],
      "execution_count": 2,
      "outputs": [
        {
          "output_type": "stream",
          "text": [
            "Collecting ray\n",
            "\u001b[?25l  Downloading https://files.pythonhosted.org/packages/11/14/15d0f0aec20a4674a996429160565a071688f27f49f789327ebed8188ffb/ray-1.2.0-cp37-cp37m-manylinux2014_x86_64.whl (47.5MB)\n",
            "\u001b[K     |████████████████████████████████| 47.5MB 91kB/s \n",
            "\u001b[?25hCollecting aiohttp\n",
            "\u001b[?25l  Downloading https://files.pythonhosted.org/packages/88/c0/5890b4c8b04a79b7360e8fe4490feb0bb3ab179743f199f0e6220cebd568/aiohttp-3.7.4.post0-cp37-cp37m-manylinux2014_x86_64.whl (1.3MB)\n",
            "\u001b[K     |████████████████████████████████| 1.3MB 41.2MB/s \n",
            "\u001b[?25hRequirement already satisfied: requests in /usr/local/lib/python3.7/dist-packages (from ray) (2.23.0)\n",
            "Requirement already satisfied: prometheus-client>=0.7.1 in /usr/local/lib/python3.7/dist-packages (from ray) (0.9.0)\n",
            "Requirement already satisfied: pyyaml in /usr/local/lib/python3.7/dist-packages (from ray) (3.13)\n",
            "Collecting py-spy>=0.2.0\n",
            "\u001b[?25l  Downloading https://files.pythonhosted.org/packages/0c/b7/2056a6f06adb93f679f2a1e415dd33219b7c66ba69b8fd2ff1668b8064ed/py_spy-0.3.4-py2.py3-none-manylinux1_x86_64.whl (3.2MB)\n",
            "\u001b[K     |████████████████████████████████| 3.2MB 27.2MB/s \n",
            "\u001b[?25hRequirement already satisfied: protobuf>=3.8.0 in /usr/local/lib/python3.7/dist-packages (from ray) (3.12.4)\n",
            "Collecting colorful\n",
            "\u001b[?25l  Downloading https://files.pythonhosted.org/packages/b0/8e/e386e248266952d24d73ed734c2f5513f34d9557032618c8910e605dfaf6/colorful-0.5.4-py2.py3-none-any.whl (201kB)\n",
            "\u001b[K     |████████████████████████████████| 204kB 44.3MB/s \n",
            "\u001b[?25hCollecting redis>=3.5.0\n",
            "\u001b[?25l  Downloading https://files.pythonhosted.org/packages/a7/7c/24fb0511df653cf1a5d938d8f5d19802a88cef255706fdda242ff97e91b7/redis-3.5.3-py2.py3-none-any.whl (72kB)\n",
            "\u001b[K     |████████████████████████████████| 81kB 7.4MB/s \n",
            "\u001b[?25hRequirement already satisfied: click>=7.0 in /usr/local/lib/python3.7/dist-packages (from ray) (7.1.2)\n",
            "Collecting gpustat\n",
            "\u001b[?25l  Downloading https://files.pythonhosted.org/packages/b4/69/d8c849715171aeabd61af7da080fdc60948b5a396d2422f1f4672e43d008/gpustat-0.6.0.tar.gz (78kB)\n",
            "\u001b[K     |████████████████████████████████| 81kB 7.2MB/s \n",
            "\u001b[?25hCollecting opencensus\n",
            "\u001b[?25l  Downloading https://files.pythonhosted.org/packages/e2/d6/b952f11b29c3a0cbec5620de3c4260cecd8c4329d83e91587edb48691e15/opencensus-0.7.12-py2.py3-none-any.whl (127kB)\n",
            "\u001b[K     |████████████████████████████████| 133kB 35.9MB/s \n",
            "\u001b[?25hCollecting aiohttp-cors\n",
            "  Downloading https://files.pythonhosted.org/packages/13/e7/e436a0c0eb5127d8b491a9b83ecd2391c6ff7dcd5548dfaec2080a2340fd/aiohttp_cors-0.7.0-py3-none-any.whl\n",
            "Requirement already satisfied: msgpack<2.0.0,>=1.0.0 in /usr/local/lib/python3.7/dist-packages (from ray) (1.0.2)\n",
            "Collecting aioredis\n",
            "\u001b[?25l  Downloading https://files.pythonhosted.org/packages/b0/64/1b1612d0a104f21f80eb4c6e1b6075f2e6aba8e228f46f229cfd3fdac859/aioredis-1.3.1-py3-none-any.whl (65kB)\n",
            "\u001b[K     |████████████████████████████████| 71kB 6.8MB/s \n",
            "\u001b[?25hCollecting colorama\n",
            "  Downloading https://files.pythonhosted.org/packages/44/98/5b86278fbbf250d239ae0ecb724f8572af1c91f4a11edf4d36a206189440/colorama-0.4.4-py2.py3-none-any.whl\n",
            "Requirement already satisfied: jsonschema in /usr/local/lib/python3.7/dist-packages (from ray) (2.6.0)\n",
            "Requirement already satisfied: numpy>=1.16 in /usr/local/lib/python3.7/dist-packages (from ray) (1.19.5)\n",
            "Requirement already satisfied: grpcio>=1.28.1 in /usr/local/lib/python3.7/dist-packages (from ray) (1.32.0)\n",
            "Requirement already satisfied: filelock in /usr/local/lib/python3.7/dist-packages (from ray) (3.0.12)\n",
            "Requirement already satisfied: attrs>=17.3.0 in /usr/local/lib/python3.7/dist-packages (from aiohttp->ray) (20.3.0)\n",
            "Collecting yarl<2.0,>=1.0\n",
            "\u001b[?25l  Downloading https://files.pythonhosted.org/packages/f1/62/046834c5fc998c88ab2ef722f5d42122230a632212c8afa76418324f53ff/yarl-1.6.3-cp37-cp37m-manylinux2014_x86_64.whl (294kB)\n",
            "\u001b[K     |████████████████████████████████| 296kB 47.6MB/s \n",
            "\u001b[?25hCollecting async-timeout<4.0,>=3.0\n",
            "  Downloading https://files.pythonhosted.org/packages/e1/1e/5a4441be21b0726c4464f3f23c8b19628372f606755a9d2e46c187e65ec4/async_timeout-3.0.1-py3-none-any.whl\n",
            "Requirement already satisfied: typing-extensions>=3.6.5 in /usr/local/lib/python3.7/dist-packages (from aiohttp->ray) (3.7.4.3)\n",
            "Collecting multidict<7.0,>=4.5\n",
            "\u001b[?25l  Downloading https://files.pythonhosted.org/packages/7c/a6/4123b8165acbe773d1a8dc8e3f0d1edea16d29f7de018eda769abb56bd30/multidict-5.1.0-cp37-cp37m-manylinux2014_x86_64.whl (142kB)\n",
            "\u001b[K     |████████████████████████████████| 143kB 55.6MB/s \n",
            "\u001b[?25hRequirement already satisfied: chardet<5.0,>=2.0 in /usr/local/lib/python3.7/dist-packages (from aiohttp->ray) (3.0.4)\n",
            "Requirement already satisfied: idna<3,>=2.5 in /usr/local/lib/python3.7/dist-packages (from requests->ray) (2.10)\n",
            "Requirement already satisfied: urllib3!=1.25.0,!=1.25.1,<1.26,>=1.21.1 in /usr/local/lib/python3.7/dist-packages (from requests->ray) (1.24.3)\n",
            "Requirement already satisfied: certifi>=2017.4.17 in /usr/local/lib/python3.7/dist-packages (from requests->ray) (2020.12.5)\n",
            "Requirement already satisfied: six>=1.9 in /usr/local/lib/python3.7/dist-packages (from protobuf>=3.8.0->ray) (1.15.0)\n",
            "Requirement already satisfied: setuptools in /usr/local/lib/python3.7/dist-packages (from protobuf>=3.8.0->ray) (54.0.0)\n",
            "Requirement already satisfied: nvidia-ml-py3>=7.352.0 in /usr/local/lib/python3.7/dist-packages (from gpustat->ray) (7.352.0)\n",
            "Requirement already satisfied: psutil in /usr/local/lib/python3.7/dist-packages (from gpustat->ray) (5.4.8)\n",
            "Collecting blessings>=1.6\n",
            "  Downloading https://files.pythonhosted.org/packages/03/74/489f85a78247609c6b4f13733cbf3ba0d864b11aa565617b645d6fdf2a4a/blessings-1.7-py3-none-any.whl\n",
            "Collecting opencensus-context==0.1.2\n",
            "  Downloading https://files.pythonhosted.org/packages/f1/33/990f1bd9e7ee770fc8d3c154fc24743a96f16a0e49e14e1b7540cc2fdd93/opencensus_context-0.1.2-py2.py3-none-any.whl\n",
            "Requirement already satisfied: google-api-core<2.0.0,>=1.0.0 in /usr/local/lib/python3.7/dist-packages (from opencensus->ray) (1.26.1)\n",
            "Collecting hiredis\n",
            "\u001b[?25l  Downloading https://files.pythonhosted.org/packages/ed/09/986288478cd05126c7f8eeec912d051b8e4fa52965d5c26d066d6dbce194/hiredis-1.1.0-cp37-cp37m-manylinux2010_x86_64.whl (62kB)\n",
            "\u001b[K     |████████████████████████████████| 71kB 6.9MB/s \n",
            "\u001b[?25hRequirement already satisfied: pytz in /usr/local/lib/python3.7/dist-packages (from google-api-core<2.0.0,>=1.0.0->opencensus->ray) (2018.9)\n",
            "Requirement already satisfied: packaging>=14.3 in /usr/local/lib/python3.7/dist-packages (from google-api-core<2.0.0,>=1.0.0->opencensus->ray) (20.9)\n",
            "Requirement already satisfied: googleapis-common-protos<2.0dev,>=1.6.0 in /usr/local/lib/python3.7/dist-packages (from google-api-core<2.0.0,>=1.0.0->opencensus->ray) (1.53.0)\n",
            "Requirement already satisfied: google-auth<2.0dev,>=1.21.1 in /usr/local/lib/python3.7/dist-packages (from google-api-core<2.0.0,>=1.0.0->opencensus->ray) (1.27.1)\n",
            "Requirement already satisfied: pyparsing>=2.0.2 in /usr/local/lib/python3.7/dist-packages (from packaging>=14.3->google-api-core<2.0.0,>=1.0.0->opencensus->ray) (2.4.7)\n",
            "Requirement already satisfied: pyasn1-modules>=0.2.1 in /usr/local/lib/python3.7/dist-packages (from google-auth<2.0dev,>=1.21.1->google-api-core<2.0.0,>=1.0.0->opencensus->ray) (0.2.8)\n",
            "Requirement already satisfied: cachetools<5.0,>=2.0.0 in /usr/local/lib/python3.7/dist-packages (from google-auth<2.0dev,>=1.21.1->google-api-core<2.0.0,>=1.0.0->opencensus->ray) (4.2.1)\n",
            "Requirement already satisfied: rsa<5,>=3.1.4; python_version >= \"3.6\" in /usr/local/lib/python3.7/dist-packages (from google-auth<2.0dev,>=1.21.1->google-api-core<2.0.0,>=1.0.0->opencensus->ray) (4.7.2)\n",
            "Requirement already satisfied: pyasn1<0.5.0,>=0.4.6 in /usr/local/lib/python3.7/dist-packages (from pyasn1-modules>=0.2.1->google-auth<2.0dev,>=1.21.1->google-api-core<2.0.0,>=1.0.0->opencensus->ray) (0.4.8)\n",
            "Building wheels for collected packages: gpustat\n",
            "  Building wheel for gpustat (setup.py) ... \u001b[?25l\u001b[?25hdone\n",
            "  Created wheel for gpustat: filename=gpustat-0.6.0-cp37-none-any.whl size=12621 sha256=ffe3e4d4d329691744335d2ecbd8c887cd2dab7d654910a82f74cdedc7e6e76d\n",
            "  Stored in directory: /root/.cache/pip/wheels/48/b4/d5/fb5b7f1d040f2ff20687e3bad6867d63155dbde5a7c10f4293\n",
            "Successfully built gpustat\n",
            "Installing collected packages: multidict, yarl, async-timeout, aiohttp, py-spy, colorful, redis, blessings, gpustat, opencensus-context, opencensus, aiohttp-cors, hiredis, aioredis, colorama, ray\n",
            "Successfully installed aiohttp-3.7.4.post0 aiohttp-cors-0.7.0 aioredis-1.3.1 async-timeout-3.0.1 blessings-1.7 colorama-0.4.4 colorful-0.5.4 gpustat-0.6.0 hiredis-1.1.0 multidict-5.1.0 opencensus-0.7.12 opencensus-context-0.1.2 py-spy-0.3.4 ray-1.2.0 redis-3.5.3 yarl-1.6.3\n"
          ],
          "name": "stdout"
        }
      ]
    },
    {
      "cell_type": "code",
      "metadata": {
        "id": "y8xyhnQnG8ui",
        "colab": {
          "base_uri": "https://localhost:8080/"
        },
        "outputId": "4aec7292-b9f3-40ed-dd2e-4de0e50cce1d"
      },
      "source": [
        "import ray\n",
        "import time\n",
        "\n",
        "# Check node\n",
        "ray.init()"
      ],
      "execution_count": 3,
      "outputs": [
        {
          "output_type": "stream",
          "text": [
            "2021-03-17 01:11:47,706\tINFO services.py:1174 -- View the Ray dashboard at \u001b[1m\u001b[32mhttp://127.0.0.1:8265\u001b[39m\u001b[22m\n"
          ],
          "name": "stderr"
        },
        {
          "output_type": "execute_result",
          "data": {
            "text/plain": [
              "{'metrics_export_port': 57166,\n",
              " 'node_id': '9acaf34c33c69eb046e5386b020b58c2f62dc4eb8caaf925bdd79fa8',\n",
              " 'node_ip_address': '172.28.0.2',\n",
              " 'object_store_address': '/tmp/ray/session_2021-03-17_01-11-47_007509_62/sockets/plasma_store',\n",
              " 'raylet_ip_address': '172.28.0.2',\n",
              " 'raylet_socket_name': '/tmp/ray/session_2021-03-17_01-11-47_007509_62/sockets/raylet',\n",
              " 'redis_address': '172.28.0.2:6379',\n",
              " 'session_dir': '/tmp/ray/session_2021-03-17_01-11-47_007509_62',\n",
              " 'webui_url': '127.0.0.1:8265'}"
            ]
          },
          "metadata": {
            "tags": []
          },
          "execution_count": 3
        }
      ]
    },
    {
      "cell_type": "markdown",
      "metadata": {
        "id": "EtG_tKukzZYk"
      },
      "source": [
        "## ray\n",
        "\n",
        "remote function은 Ray의 프로세스에 의해 비동기적으로 실행됩니다. 따라서 아래의 코드는 ray에 의해서 비동기적으로 실행됩니다."
      ]
    },
    {
      "cell_type": "code",
      "metadata": {
        "id": "nMTWsgjUxRo2"
      },
      "source": [
        "@ray.remote(num_cpus=1)\n",
        "def f(x):\n",
        "    time.sleep(1)\n",
        "    return x\n",
        "\n",
        "def g(x):\n",
        "    time.sleep(1)\n",
        "    return x"
      ],
      "execution_count": 7,
      "outputs": []
    },
    {
      "cell_type": "code",
      "metadata": {
        "colab": {
          "base_uri": "https://localhost:8080/"
        },
        "id": "_hW9yct6nQ9F",
        "outputId": "6f92aff3-158a-465e-a7e4-1db97c1d0939"
      },
      "source": [
        "start = time.time()\n",
        "# Start 4 tasks in parallel.\n",
        "result_ids = []\n",
        "for i in range(4):\n",
        "    result_ids.append(f.remote(i))\n",
        "\n",
        "# Wait for the tasks to complete and retrieve the results.\n",
        "# With at least 4 cores, this will take 1 second.\n",
        "results = ray.get(result_ids)  # [0, 1, 2, 3]\n",
        "\n",
        "print(\"Ray 소요시간: {}\".format(time.time() - start))\n",
        "\n",
        "start = time.time()\n",
        "result_ids = []\n",
        "for i in range(4):\n",
        "    result_ids.append(g(i))\n",
        "print(\"No Ray 소요시간: {}\".format(time.time()-start))"
      ],
      "execution_count": 9,
      "outputs": [
        {
          "output_type": "stream",
          "text": [
            "Ray 소요시간: 2.0075857639312744\n",
            "No Ray 소요시간: 4.003834247589111\n"
          ],
          "name": "stdout"
        }
      ]
    },
    {
      "cell_type": "markdown",
      "metadata": {
        "id": "F4aHeFvZx_Mo"
      },
      "source": [
        "## Sequential"
      ]
    },
    {
      "cell_type": "markdown",
      "metadata": {
        "id": "33oGSQDC0mO1"
      },
      "source": [
        "## Task Dependency\n",
        "\n",
        "한 Task가 끝나야 다른 Task를 실행할 수 있는 경우가 있습니다. 이런 경우를 Task Dependency가 있다고 합니다.\n",
        "\n",
        "병렬로 x_id와 y_id를 연산하고 z_id를 구하는 예제\n",
        "\n",
        "```\n",
        "[x_id, y_id] > z_id\n",
        "```"
      ]
    },
    {
      "cell_type": "code",
      "metadata": {
        "id": "ZvLob0wI0X7z",
        "colab": {
          "base_uri": "https://localhost:8080/"
        },
        "outputId": "2f5b71d1-b809-4338-b06f-6a41206ef7a9"
      },
      "source": [
        "import numpy as np\n",
        "\n",
        "@ray.remote\n",
        "def create_matrix(size):\n",
        "    return np.random.normal(size=size)\n",
        "\n",
        "@ray.remote\n",
        "def multiply_matrices(x, y):\n",
        "    return np.dot(x, y)\n",
        "\n",
        "size = 0 # check O(?) as # of input increases\n",
        "\n",
        "# Get the results with ray.\n",
        "start = time.time()\n",
        "x_id = create_matrix.remote([size, size])\n",
        "y_id = create_matrix.remote([size, size])\n",
        "z_id = multiply_matrices.remote(x_id, y_id)\n",
        "z = ray.get(z_id)\n",
        "print(\"{} z_id_with_ray : {}\".format(size, time.time() - start))\n",
        "\n",
        "size = 10\n",
        "\n",
        "start = time.time()\n",
        "x_id = create_matrix.remote([size, size])\n",
        "y_id = create_matrix.remote([size, size])\n",
        "z_id = multiply_matrices.remote(x_id, y_id)\n",
        "z = ray.get(z_id)\n",
        "print(\"{} z_id_with_ray : {}\".format(size,time.time() - start))\n",
        "\n",
        "size = 100\n",
        "\n",
        "start = time.time()\n",
        "x_id = create_matrix.remote([size, size])\n",
        "y_id = create_matrix.remote([size, size])\n",
        "z_id = multiply_matrices.remote(x_id, y_id)\n",
        "z = ray.get(z_id)\n",
        "print(\"{} z_id_with_ray : {}\".format(size,time.time() - start))\n",
        "\n",
        "size = 1000\n",
        "\n",
        "start = time.time()\n",
        "x_id = create_matrix.remote([size, size])\n",
        "y_id = create_matrix.remote([size, size])\n",
        "z_id = multiply_matrices.remote(x_id, y_id)\n",
        "z = ray.get(z_id)\n",
        "print(\"{} z_id_with_ray : {}\".format(size,time.time() - start))\n",
        "\n"
      ],
      "execution_count": 15,
      "outputs": [
        {
          "output_type": "stream",
          "text": [
            "0 z_id_with_ray : 0.03999590873718262\n",
            "10 z_id_with_ray : 0.015011310577392578\n",
            "100 z_id_with_ray : 0.019176006317138672\n",
            "1000 z_id_with_ray : 0.3899657726287842\n"
          ],
          "name": "stdout"
        }
      ]
    },
    {
      "cell_type": "markdown",
      "metadata": {
        "id": "UVnShf2h0u99"
      },
      "source": [
        "## Aggregation\n",
        "\n",
        "연산을 어떻게 병렬로 배치하느냐에 따라서 보는 속도의 차이\n",
        "![](https://miro.medium.com/max/1400/1*vHz3troEmr4uLns0V8VmdA.jpeg)\n"
      ]
    },
    {
      "cell_type": "code",
      "metadata": {
        "id": "zfWoicHK0YAH"
      },
      "source": [
        "import time\n",
        "\n",
        "@ray.remote\n",
        "def add(x, y):\n",
        "    time.sleep(1)\n",
        "    return x + y"
      ],
      "execution_count": 16,
      "outputs": []
    },
    {
      "cell_type": "code",
      "metadata": {
        "colab": {
          "base_uri": "https://localhost:8080/"
        },
        "id": "lDZ2TQmY0YDR",
        "outputId": "b457015d-eb85-4651-a52d-462413c7e392"
      },
      "source": [
        "start = time.time()\n",
        "# Aggregate the values slowly. This approach takes O(n) where n is the\n",
        "# number of values being aggregated. In this case, 7 seconds.\n",
        "id1 = add.remote(1, 2)\n",
        "id2 = add.remote(id1, 3)\n",
        "id3 = add.remote(id2, 4)\n",
        "id4 = add.remote(id3, 5)\n",
        "id5 = add.remote(id4, 6)\n",
        "id6 = add.remote(id5, 7)\n",
        "id7 = add.remote(id6, 8)\n",
        "result = ray.get(id7)\n",
        "print(\"Vanilla version : {}\".format(time.time() - start))\n",
        "\n",
        "\n",
        "start = time.time()\n",
        "# Aggregate the values in a tree-structured pattern. This approach\n",
        "# takes O(log(n)). In this case, 3 seconds.\n",
        "id1 = add.remote(1, 2)\n",
        "id2 = add.remote(3, 4)\n",
        "id3 = add.remote(5, 6)\n",
        "id4 = add.remote(7, 8)\n",
        "id5 = add.remote(id1, id2)\n",
        "id6 = add.remote(id3, id4)\n",
        "id7 = add.remote(id5, id6)\n",
        "result = ray.get(id7)\n",
        "print(\"Advanced version : {}\".format(time.time() - start))"
      ],
      "execution_count": 17,
      "outputs": [
        {
          "output_type": "stream",
          "text": [
            "Vanilla version : 7.0391762256622314\n",
            "Advanced version : 4.01997971534729\n"
          ],
          "name": "stdout"
        }
      ]
    },
    {
      "cell_type": "markdown",
      "metadata": {
        "id": "JeQmX7qP174N"
      },
      "source": [
        "## Reference\n",
        "\n",
        "https://towardsdatascience.com/modern-parallel-and-distributed-python-a-quick-tutorial-on-ray-99f8d70369b8"
      ]
    }
  ]
}