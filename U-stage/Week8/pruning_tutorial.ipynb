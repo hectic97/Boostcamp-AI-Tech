{
  "nbformat": 4,
  "nbformat_minor": 0,
  "metadata": {
    "accelerator": "GPU",
    "colab": {
      "name": "pruneing_tutorial.ipynb",
      "provenance": [],
      "collapsed_sections": [],
      "toc_visible": true,
      "include_colab_link": true
    },
    "kernelspec": {
      "display_name": "Python 3",
      "name": "python3"
    },
    "widgets": {
      "application/vnd.jupyter.widget-state+json": {
        "341e45dc89954d5d904e6704c03f3b69": {
          "model_module": "@jupyter-widgets/controls",
          "model_name": "HBoxModel",
          "state": {
            "_view_name": "HBoxView",
            "_dom_classes": [],
            "_model_name": "HBoxModel",
            "_view_module": "@jupyter-widgets/controls",
            "_model_module_version": "1.5.0",
            "_view_count": null,
            "_view_module_version": "1.5.0",
            "box_style": "",
            "layout": "IPY_MODEL_e4be9beb7c184254a1ec8c0f8a6178de",
            "_model_module": "@jupyter-widgets/controls",
            "children": [
              "IPY_MODEL_fb820ba8016644ac88c546e45447f1c1",
              "IPY_MODEL_5953f3470b4d45d4b37102d9f78ee470"
            ]
          }
        },
        "e4be9beb7c184254a1ec8c0f8a6178de": {
          "model_module": "@jupyter-widgets/base",
          "model_name": "LayoutModel",
          "state": {
            "_view_name": "LayoutView",
            "grid_template_rows": null,
            "right": null,
            "justify_content": null,
            "_view_module": "@jupyter-widgets/base",
            "overflow": null,
            "_model_module_version": "1.2.0",
            "_view_count": null,
            "flex_flow": null,
            "width": null,
            "min_width": null,
            "border": null,
            "align_items": null,
            "bottom": null,
            "_model_module": "@jupyter-widgets/base",
            "top": null,
            "grid_column": null,
            "overflow_y": null,
            "overflow_x": null,
            "grid_auto_flow": null,
            "grid_area": null,
            "grid_template_columns": null,
            "flex": null,
            "_model_name": "LayoutModel",
            "justify_items": null,
            "grid_row": null,
            "max_height": null,
            "align_content": null,
            "visibility": null,
            "align_self": null,
            "height": null,
            "min_height": null,
            "padding": null,
            "grid_auto_rows": null,
            "grid_gap": null,
            "max_width": null,
            "order": null,
            "_view_module_version": "1.2.0",
            "grid_template_areas": null,
            "object_position": null,
            "object_fit": null,
            "grid_auto_columns": null,
            "margin": null,
            "display": null,
            "left": null
          }
        },
        "fb820ba8016644ac88c546e45447f1c1": {
          "model_module": "@jupyter-widgets/controls",
          "model_name": "FloatProgressModel",
          "state": {
            "_view_name": "ProgressView",
            "style": "IPY_MODEL_60b5c502a3da49f988e2268c9ad03e85",
            "_dom_classes": [],
            "description": "",
            "_model_name": "FloatProgressModel",
            "bar_style": "success",
            "max": 170498071,
            "_view_module": "@jupyter-widgets/controls",
            "_model_module_version": "1.5.0",
            "value": 170498071,
            "_view_count": null,
            "_view_module_version": "1.5.0",
            "orientation": "horizontal",
            "min": 0,
            "description_tooltip": null,
            "_model_module": "@jupyter-widgets/controls",
            "layout": "IPY_MODEL_1a2b357fe612402eaf921e35108f3ddb"
          }
        },
        "5953f3470b4d45d4b37102d9f78ee470": {
          "model_module": "@jupyter-widgets/controls",
          "model_name": "HTMLModel",
          "state": {
            "_view_name": "HTMLView",
            "style": "IPY_MODEL_46562c15d88042278e37e822bf40deb2",
            "_dom_classes": [],
            "description": "",
            "_model_name": "HTMLModel",
            "placeholder": "​",
            "_view_module": "@jupyter-widgets/controls",
            "_model_module_version": "1.5.0",
            "value": " 170499072/? [00:23&lt;00:00, 7408848.00it/s]",
            "_view_count": null,
            "_view_module_version": "1.5.0",
            "description_tooltip": null,
            "_model_module": "@jupyter-widgets/controls",
            "layout": "IPY_MODEL_1be2c58e638a4556a759592952aeded8"
          }
        },
        "60b5c502a3da49f988e2268c9ad03e85": {
          "model_module": "@jupyter-widgets/controls",
          "model_name": "ProgressStyleModel",
          "state": {
            "_view_name": "StyleView",
            "_model_name": "ProgressStyleModel",
            "description_width": "initial",
            "_view_module": "@jupyter-widgets/base",
            "_model_module_version": "1.5.0",
            "_view_count": null,
            "_view_module_version": "1.2.0",
            "bar_color": null,
            "_model_module": "@jupyter-widgets/controls"
          }
        },
        "1a2b357fe612402eaf921e35108f3ddb": {
          "model_module": "@jupyter-widgets/base",
          "model_name": "LayoutModel",
          "state": {
            "_view_name": "LayoutView",
            "grid_template_rows": null,
            "right": null,
            "justify_content": null,
            "_view_module": "@jupyter-widgets/base",
            "overflow": null,
            "_model_module_version": "1.2.0",
            "_view_count": null,
            "flex_flow": null,
            "width": null,
            "min_width": null,
            "border": null,
            "align_items": null,
            "bottom": null,
            "_model_module": "@jupyter-widgets/base",
            "top": null,
            "grid_column": null,
            "overflow_y": null,
            "overflow_x": null,
            "grid_auto_flow": null,
            "grid_area": null,
            "grid_template_columns": null,
            "flex": null,
            "_model_name": "LayoutModel",
            "justify_items": null,
            "grid_row": null,
            "max_height": null,
            "align_content": null,
            "visibility": null,
            "align_self": null,
            "height": null,
            "min_height": null,
            "padding": null,
            "grid_auto_rows": null,
            "grid_gap": null,
            "max_width": null,
            "order": null,
            "_view_module_version": "1.2.0",
            "grid_template_areas": null,
            "object_position": null,
            "object_fit": null,
            "grid_auto_columns": null,
            "margin": null,
            "display": null,
            "left": null
          }
        },
        "46562c15d88042278e37e822bf40deb2": {
          "model_module": "@jupyter-widgets/controls",
          "model_name": "DescriptionStyleModel",
          "state": {
            "_view_name": "StyleView",
            "_model_name": "DescriptionStyleModel",
            "description_width": "",
            "_view_module": "@jupyter-widgets/base",
            "_model_module_version": "1.5.0",
            "_view_count": null,
            "_view_module_version": "1.2.0",
            "_model_module": "@jupyter-widgets/controls"
          }
        },
        "1be2c58e638a4556a759592952aeded8": {
          "model_module": "@jupyter-widgets/base",
          "model_name": "LayoutModel",
          "state": {
            "_view_name": "LayoutView",
            "grid_template_rows": null,
            "right": null,
            "justify_content": null,
            "_view_module": "@jupyter-widgets/base",
            "overflow": null,
            "_model_module_version": "1.2.0",
            "_view_count": null,
            "flex_flow": null,
            "width": null,
            "min_width": null,
            "border": null,
            "align_items": null,
            "bottom": null,
            "_model_module": "@jupyter-widgets/base",
            "top": null,
            "grid_column": null,
            "overflow_y": null,
            "overflow_x": null,
            "grid_auto_flow": null,
            "grid_area": null,
            "grid_template_columns": null,
            "flex": null,
            "_model_name": "LayoutModel",
            "justify_items": null,
            "grid_row": null,
            "max_height": null,
            "align_content": null,
            "visibility": null,
            "align_self": null,
            "height": null,
            "min_height": null,
            "padding": null,
            "grid_auto_rows": null,
            "grid_gap": null,
            "max_width": null,
            "order": null,
            "_view_module_version": "1.2.0",
            "grid_template_areas": null,
            "object_position": null,
            "object_fit": null,
            "grid_auto_columns": null,
            "margin": null,
            "display": null,
            "left": null
          }
        }
      }
    }
  },
  "cells": [
    {
      "cell_type": "markdown",
      "metadata": {
        "id": "view-in-github",
        "colab_type": "text"
      },
      "source": [
        "<a href=\"https://colab.research.google.com/github/hectic97/Boostcamp-AI-Tech/blob/main/U-stage/Week8/pruning_tutorial.ipynb\" target=\"_parent\"><img src=\"https://colab.research.google.com/assets/colab-badge.svg\" alt=\"Open In Colab\"/></a>"
      ]
    },
    {
      "cell_type": "markdown",
      "metadata": {
        "id": "QB3VdM2CRMIC"
      },
      "source": [
        "## 주안점\r\n",
        "#### Pruning 전/후 model size 비교\r\n",
        "\r\n",
        "- [참고] https://pytorch.org/tutorials/intermediate/pruning_tutorial.html\r\n",
        "\r\n",
        "Authored by: 진영화 jyh2378@gmail.com"
      ]
    },
    {
      "cell_type": "code",
      "metadata": {
        "id": "f5ti_Q1t1UBA"
      },
      "source": [
        "###### Check GPU runtime is enabled\n",
        "\n",
        "import os\n",
        "import time\n",
        "import matplotlib.pyplot as plt\n",
        "import torch\n",
        "import torch.nn as nn\n",
        "import torch.nn.functional as F\n",
        "from torch.utils.data import DataLoader\n",
        "import torchvision\n",
        "from torchvision import transforms"
      ],
      "execution_count": 1,
      "outputs": []
    },
    {
      "cell_type": "markdown",
      "metadata": {
        "id": "4zbgc4NBMq_o"
      },
      "source": [
        "# 모델 생성\n",
        "먼저 프루닝을 수행하기 위한 간단한 모델을 생성하고 훈련시켜 봅시다.\n",
        "\n",
        "모델은 LeNet5, 데이터는 Mnist를 사용하겠습니다."
      ]
    },
    {
      "cell_type": "markdown",
      "metadata": {
        "id": "2N98B5tP4GKu"
      },
      "source": [
        "<center><img src='https://t1.daumcdn.net/cfile/tistory/99170D4C5C7E21250E' width=70%></center>\n",
        "\n",
        "<center> <em>LeNet5의 구조</em></center>"
      ]
    },
    {
      "cell_type": "code",
      "metadata": {
        "id": "JMSlmDCGUIYX",
        "colab": {
          "base_uri": "https://localhost:8080/",
          "height": 103,
          "referenced_widgets": [
            "341e45dc89954d5d904e6704c03f3b69",
            "e4be9beb7c184254a1ec8c0f8a6178de",
            "fb820ba8016644ac88c546e45447f1c1",
            "5953f3470b4d45d4b37102d9f78ee470",
            "60b5c502a3da49f988e2268c9ad03e85",
            "1a2b357fe612402eaf921e35108f3ddb",
            "46562c15d88042278e37e822bf40deb2",
            "1be2c58e638a4556a759592952aeded8"
          ]
        },
        "outputId": "fabd845d-7e70-48dc-984c-301155cd5436"
      },
      "source": [
        "train_loader = DataLoader(torchvision.datasets.CIFAR10('../data', train=True, download=True,\n",
        "                                                    transform=transforms.Compose([transforms.ToTensor(),\n",
        "                                                                        transforms.Normalize((0.1307,), (0.3081,))\n",
        "                                                    ])),\n",
        "               batch_size=64, shuffle=True, num_workers=1, pin_memory=True)\n",
        "\n",
        "test_loader = DataLoader(torchvision.datasets.CIFAR10('../data', train=False, \n",
        "                                                    transform=transforms.Compose([transforms.ToTensor(),\n",
        "                                                                        transforms.Normalize((0.1307,), (0.3081,))\n",
        "                                                    ])),\n",
        "              batch_size=64, shuffle=False, num_workers=1, pin_memory=True)"
      ],
      "execution_count": 4,
      "outputs": [
        {
          "output_type": "stream",
          "text": [
            "Downloading https://www.cs.toronto.edu/~kriz/cifar-10-python.tar.gz to ../data/cifar-10-python.tar.gz\n"
          ],
          "name": "stdout"
        },
        {
          "output_type": "display_data",
          "data": {
            "application/vnd.jupyter.widget-view+json": {
              "model_id": "341e45dc89954d5d904e6704c03f3b69",
              "version_minor": 0,
              "version_major": 2
            },
            "text/plain": [
              "HBox(children=(FloatProgress(value=0.0, max=170498071.0), HTML(value='')))"
            ]
          },
          "metadata": {
            "tags": []
          }
        },
        {
          "output_type": "stream",
          "text": [
            "\n",
            "Extracting ../data/cifar-10-python.tar.gz to ../data\n"
          ],
          "name": "stdout"
        }
      ]
    },
    {
      "cell_type": "code",
      "metadata": {
        "colab": {
          "base_uri": "https://localhost:8080/",
          "height": 511
        },
        "id": "39pOm4tjUrV6",
        "outputId": "2ba5ff97-dabe-482f-b2bb-87482be9cc17"
      },
      "source": [
        "# show some sample images\n",
        "import numpy as np\n",
        "\n",
        "images, labels = next(iter(train_loader))\n",
        "\n",
        "print(images.shape)\n",
        "print(labels.shape)\n",
        "\n",
        "figure = plt.figure() #image_caption\n",
        "num_of_images = 20\n",
        "for index in range(1, num_of_images + 1):\n",
        "    plt.subplot(6, 10, index)\n",
        "    plt.axis('off')\n",
        "    plt.imshow(images[index].numpy().transpose(1,2,0).squeeze(), cmap='gray_r')\n",
        "print(labels[1:21])"
      ],
      "execution_count": 10,
      "outputs": [
        {
          "output_type": "stream",
          "text": [
            "Clipping input data to the valid range for imshow with RGB data ([0..1] for floats or [0..255] for integers).\n",
            "Clipping input data to the valid range for imshow with RGB data ([0..1] for floats or [0..255] for integers).\n",
            "Clipping input data to the valid range for imshow with RGB data ([0..1] for floats or [0..255] for integers).\n",
            "Clipping input data to the valid range for imshow with RGB data ([0..1] for floats or [0..255] for integers).\n",
            "Clipping input data to the valid range for imshow with RGB data ([0..1] for floats or [0..255] for integers).\n",
            "Clipping input data to the valid range for imshow with RGB data ([0..1] for floats or [0..255] for integers).\n",
            "Clipping input data to the valid range for imshow with RGB data ([0..1] for floats or [0..255] for integers).\n",
            "Clipping input data to the valid range for imshow with RGB data ([0..1] for floats or [0..255] for integers).\n",
            "Clipping input data to the valid range for imshow with RGB data ([0..1] for floats or [0..255] for integers).\n",
            "Clipping input data to the valid range for imshow with RGB data ([0..1] for floats or [0..255] for integers).\n",
            "Clipping input data to the valid range for imshow with RGB data ([0..1] for floats or [0..255] for integers).\n",
            "Clipping input data to the valid range for imshow with RGB data ([0..1] for floats or [0..255] for integers).\n",
            "Clipping input data to the valid range for imshow with RGB data ([0..1] for floats or [0..255] for integers).\n"
          ],
          "name": "stderr"
        },
        {
          "output_type": "stream",
          "text": [
            "torch.Size([64, 3, 32, 32])\n",
            "torch.Size([64])\n"
          ],
          "name": "stdout"
        },
        {
          "output_type": "stream",
          "text": [
            "Clipping input data to the valid range for imshow with RGB data ([0..1] for floats or [0..255] for integers).\n",
            "Clipping input data to the valid range for imshow with RGB data ([0..1] for floats or [0..255] for integers).\n",
            "Clipping input data to the valid range for imshow with RGB data ([0..1] for floats or [0..255] for integers).\n",
            "Clipping input data to the valid range for imshow with RGB data ([0..1] for floats or [0..255] for integers).\n",
            "Clipping input data to the valid range for imshow with RGB data ([0..1] for floats or [0..255] for integers).\n",
            "Clipping input data to the valid range for imshow with RGB data ([0..1] for floats or [0..255] for integers).\n",
            "Clipping input data to the valid range for imshow with RGB data ([0..1] for floats or [0..255] for integers).\n"
          ],
          "name": "stderr"
        },
        {
          "output_type": "stream",
          "text": [
            "tensor([1, 0, 7, 6, 2, 9, 7, 9, 3, 2, 2, 3, 8, 4, 8, 6, 2, 3, 1, 8])\n"
          ],
          "name": "stdout"
        },
        {
          "output_type": "display_data",
          "data": {
            "image/png": "[encoded data removed]",
            "text/plain": [
              "<Figure size 432x288 with 20 Axes>"
            ]
          },
          "metadata": {
            "tags": [],
            "needs_background": "light"
          }
        }
      ]
    },
    {
      "cell_type": "code",
      "metadata": {
        "id": "A-6SmhckMTvO"
      },
      "source": [
        "class LeNet(nn.Module):\n",
        "    def __init__(self):\n",
        "        super(LeNet, self).__init__()\n",
        "        # 1 input image channel, 6 output channels, 3x3 square conv kernel\n",
        "        self.conv1 = nn.Conv2d(3, 6, 3)\n",
        "        self.conv2 = nn.Conv2d(6, 16, 3)\n",
        "        self.fc1 = nn.Linear(576, 120)  # 5x5 image dimension\n",
        "        self.fc2 = nn.Linear(120, 84)\n",
        "        self.fc3 = nn.Linear(84, 10)\n",
        "\n",
        "    def forward(self, x):\n",
        "        x = F.max_pool2d(F.relu(self.conv1(x)), (2, 2))\n",
        "        x = F.max_pool2d(F.relu(self.conv2(x)), 2)\n",
        "        x = x.view(-1, int(x.nelement() / x.shape[0]))\n",
        "        # print(x.shape)\n",
        "        x = F.relu(self.fc1(x))\n",
        "        x = F.relu(self.fc2(x))\n",
        "        x = self.fc3(x)\n",
        "        return x\n",
        "\n",
        "device = torch.device(\"cuda\" if torch.cuda.is_available() else \"cpu\")\n",
        "model = LeNet().to(device=device)"
      ],
      "execution_count": 21,
      "outputs": []
    },
    {
      "cell_type": "code",
      "metadata": {
        "id": "BTJNZzy8MXfo"
      },
      "source": [
        "def train(args, model, device, train_loader, optimizer, criterion, epoch):\n",
        "    \"\"\" Train the model with given dataset\n",
        "    \n",
        "    Args:\n",
        "        args: args like log interval\n",
        "        model: ResNet model to train\n",
        "        device: CPU/GPU\n",
        "        train_loader: dataset iterator\n",
        "        optimizer: optimizer to update weights\n",
        "        epoch: number of epochs to train for\n",
        "    \"\"\"\n",
        "    model.train()\n",
        "    for batch_idx, (data, target) in enumerate(train_loader):\n",
        "        data, target = data.to(device), target.to(device)\n",
        "        optimizer.zero_grad()\n",
        "        output = model(data)\n",
        "        loss = criterion(output, target)\n",
        "        loss.backward()\n",
        "        optimizer.step()\n",
        "\n",
        "        if batch_idx % args[\"log_interval\"] == 0:\n",
        "            print('Train Epoch: {} [{}/{} ({:.0f}%)]\\tLoss: {:.6f}'.format(\n",
        "                epoch, batch_idx * len(data), len(train_loader.dataset),\n",
        "                100. * batch_idx / len(train_loader), loss.item()))"
      ],
      "execution_count": 22,
      "outputs": []
    },
    {
      "cell_type": "code",
      "metadata": {
        "colab": {
          "base_uri": "https://localhost:8080/"
        },
        "id": "87FmftGKSIto",
        "outputId": "e6104c84-a629-4be0-e50e-c480f5d08db4"
      },
      "source": [
        "batch_size = 64\r\n",
        "epochs = 10\r\n",
        "lr = 0.001\r\n",
        "momentum = 0.9\r\n",
        "seed = 1\r\n",
        "log_interval = 500\r\n",
        "save_model = True\r\n",
        "no_cuda = False\r\n",
        "\r\n",
        "use_cuda = not no_cuda and torch.cuda.is_available()\r\n",
        "torch.manual_seed(seed)\r\n",
        "device = torch.device(\"cuda\" if use_cuda else \"cpu\")\r\n",
        "model = LeNet().to(device)\r\n",
        "optimizer = torch.optim.Adam(model.parameters(), lr=lr)\r\n",
        "criterion = nn.CrossEntropyLoss()\r\n",
        "args = {}\r\n",
        "args[\"log_interval\"] = log_interval\r\n",
        "for epoch in range(1, epochs + 1):\r\n",
        "    train(args, model, device, train_loader, optimizer, criterion, epoch)\r\n",
        "\r\n",
        "if (save_model):\r\n",
        "    torch.save(model.state_dict(),\"mnist_cnn.pt\")"
      ],
      "execution_count": 23,
      "outputs": [
        {
          "output_type": "stream",
          "text": [
            "Train Epoch: 1 [0/50000 (0%)]\tLoss: 2.300841\n",
            "Train Epoch: 1 [32000/50000 (64%)]\tLoss: 1.484489\n",
            "Train Epoch: 2 [0/50000 (0%)]\tLoss: 1.394825\n",
            "Train Epoch: 2 [32000/50000 (64%)]\tLoss: 1.593757\n",
            "Train Epoch: 3 [0/50000 (0%)]\tLoss: 1.346398\n",
            "Train Epoch: 3 [32000/50000 (64%)]\tLoss: 1.359072\n",
            "Train Epoch: 4 [0/50000 (0%)]\tLoss: 1.042976\n",
            "Train Epoch: 4 [32000/50000 (64%)]\tLoss: 0.942786\n",
            "Train Epoch: 5 [0/50000 (0%)]\tLoss: 1.064879\n",
            "Train Epoch: 5 [32000/50000 (64%)]\tLoss: 0.920342\n",
            "Train Epoch: 6 [0/50000 (0%)]\tLoss: 0.891386\n",
            "Train Epoch: 6 [32000/50000 (64%)]\tLoss: 1.000265\n",
            "Train Epoch: 7 [0/50000 (0%)]\tLoss: 0.947973\n",
            "Train Epoch: 7 [32000/50000 (64%)]\tLoss: 1.307106\n",
            "Train Epoch: 8 [0/50000 (0%)]\tLoss: 0.938511\n",
            "Train Epoch: 8 [32000/50000 (64%)]\tLoss: 0.947997\n",
            "Train Epoch: 9 [0/50000 (0%)]\tLoss: 1.006714\n",
            "Train Epoch: 9 [32000/50000 (64%)]\tLoss: 0.861046\n",
            "Train Epoch: 10 [0/50000 (0%)]\tLoss: 0.877800\n",
            "Train Epoch: 10 [32000/50000 (64%)]\tLoss: 1.104817\n"
          ],
          "name": "stdout"
        }
      ]
    },
    {
      "cell_type": "code",
      "metadata": {
        "colab": {
          "base_uri": "https://localhost:8080/"
        },
        "id": "z9ftFwREVifL",
        "outputId": "40e75769-68cf-498d-cad0-215cb67a9cae"
      },
      "source": [
        "def print_size_of_model(model):\n",
        "    \"\"\" Print the size of the model.\n",
        "    \n",
        "    Args:\n",
        "        model: model whose size needs to be determined\n",
        "\n",
        "    \"\"\"\n",
        "    torch.save(model.state_dict(), \"temp.p\")\n",
        "    print('Size of the model(MB):', os.path.getsize(\"temp.p\")/1e6)\n",
        "    os.remove('temp.p')\n",
        "  \n",
        "print_size_of_model(model)"
      ],
      "execution_count": 24,
      "outputs": [
        {
          "output_type": "stream",
          "text": [
            "Size of the model(MB): 0.328649\n"
          ],
          "name": "stdout"
        }
      ]
    },
    {
      "cell_type": "code",
      "metadata": {
        "id": "qpvyGuZtVjN6"
      },
      "source": [
        "def test(model, device, test_loader, quantize=False, fbgemm=False):\n",
        "    model.to(device)\n",
        "    model.eval()\n",
        "    print(model)\n",
        "    test_loss = 0\n",
        "    correct = 0\n",
        "    with torch.no_grad():\n",
        "        for data, target in test_loader:\n",
        "            data, target = data.to(device), target.to(device)\n",
        "            st = time.time()\n",
        "            output = model(data)\n",
        "            et = time.time()\n",
        "            test_loss += F.nll_loss(F.log_softmax(output, dim=-1), target, reduction='sum').item() # sum up batch loss\n",
        "            pred = output.argmax(dim=1, keepdim=True) # get the index of the max log-probability\n",
        "            correct += pred.eq(target.view_as(pred)).sum().item()\n",
        "\n",
        "    test_loss /= len(test_loader.dataset)\n",
        "    \n",
        "    print(\"========================================= PERFORMANCE =============================================\")\n",
        "    print_size_of_model(model)\n",
        "    print('\\nTest set: Average loss: {:.4f}, Accuracy: {}/{} ({:.0f}%)\\n'.format(\n",
        "        test_loss, correct, len(test_loader.dataset),\n",
        "        100. * correct / len(test_loader.dataset)))\n",
        "    print('Elapsed time = {:0.4f} milliseconds'.format((et - st) * 1000))\n",
        "    print(\"====================================================================================================\")"
      ],
      "execution_count": 25,
      "outputs": []
    },
    {
      "cell_type": "code",
      "metadata": {
        "colab": {
          "base_uri": "https://localhost:8080/"
        },
        "id": "319h_l8HW4zt",
        "outputId": "ecfb3f93-f5d6-4f8e-b960-3cb6cc0dfa93"
      },
      "source": [
        "device = 'cpu'\n",
        "test(model=model, device=device, test_loader=test_loader)"
      ],
      "execution_count": 26,
      "outputs": [
        {
          "output_type": "stream",
          "text": [
            "LeNet(\n",
            "  (conv1): Conv2d(3, 6, kernel_size=(3, 3), stride=(1, 1))\n",
            "  (conv2): Conv2d(6, 16, kernel_size=(3, 3), stride=(1, 1))\n",
            "  (fc1): Linear(in_features=576, out_features=120, bias=True)\n",
            "  (fc2): Linear(in_features=120, out_features=84, bias=True)\n",
            "  (fc3): Linear(in_features=84, out_features=10, bias=True)\n",
            ")\n",
            "========================================= PERFORMANCE =============================================\n",
            "Size of the model(MB): 0.328585\n",
            "\n",
            "Test set: Average loss: 1.0419, Accuracy: 6402/10000 (64%)\n",
            "\n",
            "Elapsed time = 2.4292 milliseconds\n",
            "====================================================================================================\n"
          ],
          "name": "stdout"
        }
      ]
    },
    {
      "cell_type": "markdown",
      "metadata": {
        "id": "4wFFtDTJMp7s"
      },
      "source": [
        "# 레이어 weight 확인\n",
        "먼저 생성된 모델의 첫 번째 레이어를 구성하는 파라미터 들을 확인해봅시다.\n",
        "weight와 bias로 구성이 되어 있는 것을 확인할 수 있습니다."
      ]
    },
    {
      "cell_type": "code",
      "metadata": {
        "colab": {
          "base_uri": "https://localhost:8080/"
        },
        "id": "zmbHBZEuM2oH",
        "outputId": "b6b8d9df-c520-400e-b2ad-af99c56f1e90"
      },
      "source": [
        "module = model.conv1\n",
        "print(list(module.named_parameters())) # will not change even after pruning\n",
        "print(module.weight) # now it is the same as module.named_parameters()"
      ],
      "execution_count": 27,
      "outputs": [
        {
          "output_type": "stream",
          "text": [
            "[('weight', Parameter containing:\n",
            "tensor([[[[ 0.2024, -0.1096, -0.0591],\n",
            "          [ 0.0960, -0.3782,  0.1715],\n",
            "          [-0.1034,  0.0725,  0.1319]],\n",
            "\n",
            "         [[ 0.0739, -0.0114, -0.0540],\n",
            "          [ 0.0949, -0.2900,  0.0435],\n",
            "          [-0.0695,  0.0064,  0.1052]],\n",
            "\n",
            "         [[ 0.2391,  0.0035, -0.0984],\n",
            "          [-0.0721, -0.2251,  0.0179],\n",
            "          [-0.0910,  0.0180,  0.2372]]],\n",
            "\n",
            "\n",
            "        [[[ 0.1354, -0.1102,  0.1989],\n",
            "          [ 0.0864,  0.2606,  0.1899],\n",
            "          [-0.2727, -0.3303, -0.1454]],\n",
            "\n",
            "         [[ 0.1770,  0.0107,  0.1193],\n",
            "          [-0.0953,  0.2146, -0.0885],\n",
            "          [ 0.0197, -0.1974, -0.2109]],\n",
            "\n",
            "         [[ 0.1478, -0.0241,  0.1199],\n",
            "          [-0.0054,  0.0543, -0.1415],\n",
            "          [-0.1349, -0.0109, -0.0577]]],\n",
            "\n",
            "\n",
            "        [[[ 0.1499,  0.2650, -0.0123],\n",
            "          [-0.0983,  0.2945,  0.1187],\n",
            "          [-0.1224,  0.1955,  0.1845]],\n",
            "\n",
            "         [[-0.0017, -0.0910, -0.1106],\n",
            "          [-0.1587,  0.0769, -0.1918],\n",
            "          [-0.3392,  0.0222, -0.0985]],\n",
            "\n",
            "         [[-0.0071,  0.1028,  0.0626],\n",
            "          [-0.0491,  0.1858,  0.1223],\n",
            "          [-0.3199,  0.0837, -0.1147]]],\n",
            "\n",
            "\n",
            "        [[[-0.2218, -0.0900, -0.0563],\n",
            "          [ 0.0068, -0.2220, -0.2724],\n",
            "          [ 0.1657, -0.0056,  0.1102]],\n",
            "\n",
            "         [[ 0.0804, -0.1511,  0.0726],\n",
            "          [ 0.0259, -0.1372, -0.1271],\n",
            "          [ 0.1347,  0.1162, -0.0555]],\n",
            "\n",
            "         [[ 0.0428,  0.2417,  0.0322],\n",
            "          [ 0.1447,  0.1433, -0.1106],\n",
            "          [-0.0801,  0.2930,  0.0546]]],\n",
            "\n",
            "\n",
            "        [[[ 0.0189, -0.0085,  0.0558],\n",
            "          [ 0.0507,  0.1383, -0.1355],\n",
            "          [ 0.0658,  0.0826,  0.1266]],\n",
            "\n",
            "         [[ 0.0492, -0.0804, -0.0169],\n",
            "          [-0.1645,  0.0715,  0.2822],\n",
            "          [-0.0506,  0.0961, -0.0683]],\n",
            "\n",
            "         [[-0.2153,  0.0801,  0.2607],\n",
            "          [ 0.1291, -0.0296,  0.1454],\n",
            "          [ 0.1853,  0.1264,  0.1418]]],\n",
            "\n",
            "\n",
            "        [[[ 0.1032, -0.0042,  0.0213],\n",
            "          [-0.1320, -0.2077,  0.0084],\n",
            "          [-0.0469, -0.1971,  0.1612]],\n",
            "\n",
            "         [[ 0.1114, -0.0694,  0.1594],\n",
            "          [ 0.0990,  0.0964,  0.2636],\n",
            "          [-0.0832,  0.0997,  0.0836]],\n",
            "\n",
            "         [[ 0.0271, -0.2183, -0.0444],\n",
            "          [-0.0844, -0.1288,  0.2395],\n",
            "          [-0.0870, -0.2635,  0.1441]]]], requires_grad=True)), ('bias', Parameter containing:\n",
            "tensor([ 0.0359,  0.0059, -0.0366,  0.1202, -0.1031,  0.0273],\n",
            "       requires_grad=True))]\n",
            "Parameter containing:\n",
            "tensor([[[[ 0.2024, -0.1096, -0.0591],\n",
            "          [ 0.0960, -0.3782,  0.1715],\n",
            "          [-0.1034,  0.0725,  0.1319]],\n",
            "\n",
            "         [[ 0.0739, -0.0114, -0.0540],\n",
            "          [ 0.0949, -0.2900,  0.0435],\n",
            "          [-0.0695,  0.0064,  0.1052]],\n",
            "\n",
            "         [[ 0.2391,  0.0035, -0.0984],\n",
            "          [-0.0721, -0.2251,  0.0179],\n",
            "          [-0.0910,  0.0180,  0.2372]]],\n",
            "\n",
            "\n",
            "        [[[ 0.1354, -0.1102,  0.1989],\n",
            "          [ 0.0864,  0.2606,  0.1899],\n",
            "          [-0.2727, -0.3303, -0.1454]],\n",
            "\n",
            "         [[ 0.1770,  0.0107,  0.1193],\n",
            "          [-0.0953,  0.2146, -0.0885],\n",
            "          [ 0.0197, -0.1974, -0.2109]],\n",
            "\n",
            "         [[ 0.1478, -0.0241,  0.1199],\n",
            "          [-0.0054,  0.0543, -0.1415],\n",
            "          [-0.1349, -0.0109, -0.0577]]],\n",
            "\n",
            "\n",
            "        [[[ 0.1499,  0.2650, -0.0123],\n",
            "          [-0.0983,  0.2945,  0.1187],\n",
            "          [-0.1224,  0.1955,  0.1845]],\n",
            "\n",
            "         [[-0.0017, -0.0910, -0.1106],\n",
            "          [-0.1587,  0.0769, -0.1918],\n",
            "          [-0.3392,  0.0222, -0.0985]],\n",
            "\n",
            "         [[-0.0071,  0.1028,  0.0626],\n",
            "          [-0.0491,  0.1858,  0.1223],\n",
            "          [-0.3199,  0.0837, -0.1147]]],\n",
            "\n",
            "\n",
            "        [[[-0.2218, -0.0900, -0.0563],\n",
            "          [ 0.0068, -0.2220, -0.2724],\n",
            "          [ 0.1657, -0.0056,  0.1102]],\n",
            "\n",
            "         [[ 0.0804, -0.1511,  0.0726],\n",
            "          [ 0.0259, -0.1372, -0.1271],\n",
            "          [ 0.1347,  0.1162, -0.0555]],\n",
            "\n",
            "         [[ 0.0428,  0.2417,  0.0322],\n",
            "          [ 0.1447,  0.1433, -0.1106],\n",
            "          [-0.0801,  0.2930,  0.0546]]],\n",
            "\n",
            "\n",
            "        [[[ 0.0189, -0.0085,  0.0558],\n",
            "          [ 0.0507,  0.1383, -0.1355],\n",
            "          [ 0.0658,  0.0826,  0.1266]],\n",
            "\n",
            "         [[ 0.0492, -0.0804, -0.0169],\n",
            "          [-0.1645,  0.0715,  0.2822],\n",
            "          [-0.0506,  0.0961, -0.0683]],\n",
            "\n",
            "         [[-0.2153,  0.0801,  0.2607],\n",
            "          [ 0.1291, -0.0296,  0.1454],\n",
            "          [ 0.1853,  0.1264,  0.1418]]],\n",
            "\n",
            "\n",
            "        [[[ 0.1032, -0.0042,  0.0213],\n",
            "          [-0.1320, -0.2077,  0.0084],\n",
            "          [-0.0469, -0.1971,  0.1612]],\n",
            "\n",
            "         [[ 0.1114, -0.0694,  0.1594],\n",
            "          [ 0.0990,  0.0964,  0.2636],\n",
            "          [-0.0832,  0.0997,  0.0836]],\n",
            "\n",
            "         [[ 0.0271, -0.2183, -0.0444],\n",
            "          [-0.0844, -0.1288,  0.2395],\n",
            "          [-0.0870, -0.2635,  0.1441]]]], requires_grad=True)\n"
          ],
          "name": "stdout"
        }
      ]
    },
    {
      "cell_type": "code",
      "metadata": {
        "colab": {
          "base_uri": "https://localhost:8080/"
        },
        "id": "sDfC1HTgMX3P",
        "outputId": "9177c896-05ed-4909-c6e1-cd2757ea4205"
      },
      "source": [
        "# Check named_buffer is empty\n",
        "print(list(module.named_buffers()))  # now the buffer is empty. It will show up after being pruned."
      ],
      "execution_count": 28,
      "outputs": [
        {
          "output_type": "stream",
          "text": [
            "[]\n"
          ],
          "name": "stdout"
        }
      ]
    },
    {
      "cell_type": "code",
      "metadata": {
        "colab": {
          "base_uri": "https://localhost:8080/"
        },
        "id": "itF_G9Uf16FW",
        "outputId": "6ca16851-18de-407b-dd60-b1ed3ccc6848"
      },
      "source": [
        "output_orig = model(images[:1])\r\n",
        "print(f\"original output: {output_orig}\")"
      ],
      "execution_count": 29,
      "outputs": [
        {
          "output_type": "stream",
          "text": [
            "original output: tensor([[ 0.0143, -5.5676, -0.3807,  0.4022, -1.7623, -0.8912, -1.1366, -5.3665,\n",
            "          3.3781, -3.2475]], grad_fn=<AddmmBackward>)\n"
          ],
          "name": "stdout"
        }
      ]
    },
    {
      "cell_type": "markdown",
      "metadata": {
        "id": "38gFa0uzhnfm"
      },
      "source": [
        "# Unstructured Pruning\n",
        "기본적인 프루닝 방법은 스칼라 단위의 값(=하나의 숫자)에 대해 프루닝을 하는 것입니다.\n",
        "\n",
        "Pytorch에서 제공하는 prune method를 이용하여 이를 수행해보겠습니다.\n",
        "프루닝할 값을 고르는 방법 또한 여러가지입니다만, 우선 random으로 선택하는 방식을 적용해 보겠습니다."
      ]
    },
    {
      "cell_type": "code",
      "metadata": {
        "id": "652QSScGhxov"
      },
      "source": [
        "import torch.nn.utils.prune as prune"
      ],
      "execution_count": 30,
      "outputs": []
    },
    {
      "cell_type": "code",
      "metadata": {
        "colab": {
          "base_uri": "https://localhost:8080/"
        },
        "id": "mbdyH0jjzgsj",
        "outputId": "2abb8912-8772-4b5b-9a1c-5d1b21cef450"
      },
      "source": [
        "prune.random_unstructured(module, name=\"weight\", amount=0.3)"
      ],
      "execution_count": 31,
      "outputs": [
        {
          "output_type": "execute_result",
          "data": {
            "text/plain": [
              "Conv2d(3, 6, kernel_size=(3, 3), stride=(1, 1))"
            ]
          },
          "metadata": {
            "tags": []
          },
          "execution_count": 31
        }
      ]
    },
    {
      "cell_type": "code",
      "metadata": {
        "colab": {
          "base_uri": "https://localhost:8080/"
        },
        "id": "bVsSTYoXzi-J",
        "outputId": "d999fd53-58b5-4c31-c2d1-803f890c5dd9"
      },
      "source": [
        "print(list(module.named_parameters()))"
      ],
      "execution_count": 32,
      "outputs": [
        {
          "output_type": "stream",
          "text": [
            "[('bias', Parameter containing:\n",
            "tensor([ 0.0359,  0.0059, -0.0366,  0.1202, -0.1031,  0.0273],\n",
            "       requires_grad=True)), ('weight_orig', Parameter containing:\n",
            "tensor([[[[ 0.2024, -0.1096, -0.0591],\n",
            "          [ 0.0960, -0.3782,  0.1715],\n",
            "          [-0.1034,  0.0725,  0.1319]],\n",
            "\n",
            "         [[ 0.0739, -0.0114, -0.0540],\n",
            "          [ 0.0949, -0.2900,  0.0435],\n",
            "          [-0.0695,  0.0064,  0.1052]],\n",
            "\n",
            "         [[ 0.2391,  0.0035, -0.0984],\n",
            "          [-0.0721, -0.2251,  0.0179],\n",
            "          [-0.0910,  0.0180,  0.2372]]],\n",
            "\n",
            "\n",
            "        [[[ 0.1354, -0.1102,  0.1989],\n",
            "          [ 0.0864,  0.2606,  0.1899],\n",
            "          [-0.2727, -0.3303, -0.1454]],\n",
            "\n",
            "         [[ 0.1770,  0.0107,  0.1193],\n",
            "          [-0.0953,  0.2146, -0.0885],\n",
            "          [ 0.0197, -0.1974, -0.2109]],\n",
            "\n",
            "         [[ 0.1478, -0.0241,  0.1199],\n",
            "          [-0.0054,  0.0543, -0.1415],\n",
            "          [-0.1349, -0.0109, -0.0577]]],\n",
            "\n",
            "\n",
            "        [[[ 0.1499,  0.2650, -0.0123],\n",
            "          [-0.0983,  0.2945,  0.1187],\n",
            "          [-0.1224,  0.1955,  0.1845]],\n",
            "\n",
            "         [[-0.0017, -0.0910, -0.1106],\n",
            "          [-0.1587,  0.0769, -0.1918],\n",
            "          [-0.3392,  0.0222, -0.0985]],\n",
            "\n",
            "         [[-0.0071,  0.1028,  0.0626],\n",
            "          [-0.0491,  0.1858,  0.1223],\n",
            "          [-0.3199,  0.0837, -0.1147]]],\n",
            "\n",
            "\n",
            "        [[[-0.2218, -0.0900, -0.0563],\n",
            "          [ 0.0068, -0.2220, -0.2724],\n",
            "          [ 0.1657, -0.0056,  0.1102]],\n",
            "\n",
            "         [[ 0.0804, -0.1511,  0.0726],\n",
            "          [ 0.0259, -0.1372, -0.1271],\n",
            "          [ 0.1347,  0.1162, -0.0555]],\n",
            "\n",
            "         [[ 0.0428,  0.2417,  0.0322],\n",
            "          [ 0.1447,  0.1433, -0.1106],\n",
            "          [-0.0801,  0.2930,  0.0546]]],\n",
            "\n",
            "\n",
            "        [[[ 0.0189, -0.0085,  0.0558],\n",
            "          [ 0.0507,  0.1383, -0.1355],\n",
            "          [ 0.0658,  0.0826,  0.1266]],\n",
            "\n",
            "         [[ 0.0492, -0.0804, -0.0169],\n",
            "          [-0.1645,  0.0715,  0.2822],\n",
            "          [-0.0506,  0.0961, -0.0683]],\n",
            "\n",
            "         [[-0.2153,  0.0801,  0.2607],\n",
            "          [ 0.1291, -0.0296,  0.1454],\n",
            "          [ 0.1853,  0.1264,  0.1418]]],\n",
            "\n",
            "\n",
            "        [[[ 0.1032, -0.0042,  0.0213],\n",
            "          [-0.1320, -0.2077,  0.0084],\n",
            "          [-0.0469, -0.1971,  0.1612]],\n",
            "\n",
            "         [[ 0.1114, -0.0694,  0.1594],\n",
            "          [ 0.0990,  0.0964,  0.2636],\n",
            "          [-0.0832,  0.0997,  0.0836]],\n",
            "\n",
            "         [[ 0.0271, -0.2183, -0.0444],\n",
            "          [-0.0844, -0.1288,  0.2395],\n",
            "          [-0.0870, -0.2635,  0.1441]]]], requires_grad=True))]\n"
          ],
          "name": "stdout"
        }
      ]
    },
    {
      "cell_type": "markdown",
      "metadata": {
        "id": "Xz7vmYxmz_JC"
      },
      "source": [
        "기존 레이어는 'weight', 'bias'로 구성이 되어있었던 파라미터가 'weight_orig', 'bias'라는 이름으로 바뀐 것을 볼 수 있습니다. 'weight'가 'weight_orig'라는 이름으로 바뀌었네요\n",
        "\n",
        "하지만 값은 전혀 변한 것이 없습니다. 그러면 무엇이 수행이 된 것일까요?"
      ]
    },
    {
      "cell_type": "code",
      "metadata": {
        "colab": {
          "base_uri": "https://localhost:8080/"
        },
        "id": "UMADExKO0pp-",
        "outputId": "a4b62fb2-0c5c-46c9-efed-b26761df8229"
      },
      "source": [
        "print(list(module.named_buffers()))"
      ],
      "execution_count": 33,
      "outputs": [
        {
          "output_type": "stream",
          "text": [
            "[('weight_mask', tensor([[[[1., 0., 1.],\n",
            "          [1., 1., 1.],\n",
            "          [1., 1., 1.]],\n",
            "\n",
            "         [[1., 1., 1.],\n",
            "          [0., 1., 1.],\n",
            "          [1., 0., 1.]],\n",
            "\n",
            "         [[0., 1., 1.],\n",
            "          [1., 1., 1.],\n",
            "          [1., 0., 0.]]],\n",
            "\n",
            "\n",
            "        [[[0., 0., 1.],\n",
            "          [1., 0., 1.],\n",
            "          [1., 1., 0.]],\n",
            "\n",
            "         [[0., 1., 1.],\n",
            "          [1., 1., 0.],\n",
            "          [1., 1., 1.]],\n",
            "\n",
            "         [[1., 1., 1.],\n",
            "          [1., 1., 0.],\n",
            "          [0., 0., 1.]]],\n",
            "\n",
            "\n",
            "        [[[1., 0., 0.],\n",
            "          [0., 1., 0.],\n",
            "          [1., 1., 1.]],\n",
            "\n",
            "         [[0., 1., 0.],\n",
            "          [0., 1., 1.],\n",
            "          [1., 1., 1.]],\n",
            "\n",
            "         [[1., 1., 0.],\n",
            "          [1., 1., 1.],\n",
            "          [1., 1., 1.]]],\n",
            "\n",
            "\n",
            "        [[[1., 1., 0.],\n",
            "          [1., 0., 1.],\n",
            "          [0., 1., 1.]],\n",
            "\n",
            "         [[1., 0., 1.],\n",
            "          [1., 1., 1.],\n",
            "          [1., 0., 0.]],\n",
            "\n",
            "         [[1., 1., 1.],\n",
            "          [1., 0., 0.],\n",
            "          [1., 0., 1.]]],\n",
            "\n",
            "\n",
            "        [[[1., 1., 1.],\n",
            "          [0., 0., 1.],\n",
            "          [0., 0., 1.]],\n",
            "\n",
            "         [[1., 0., 1.],\n",
            "          [0., 1., 1.],\n",
            "          [1., 0., 1.]],\n",
            "\n",
            "         [[1., 0., 1.],\n",
            "          [1., 0., 1.],\n",
            "          [0., 1., 1.]]],\n",
            "\n",
            "\n",
            "        [[[1., 1., 1.],\n",
            "          [1., 1., 0.],\n",
            "          [1., 1., 1.]],\n",
            "\n",
            "         [[1., 1., 0.],\n",
            "          [0., 1., 1.],\n",
            "          [0., 1., 1.]],\n",
            "\n",
            "         [[1., 0., 1.],\n",
            "          [0., 1., 1.],\n",
            "          [0., 1., 1.]]]]))]\n"
          ],
          "name": "stdout"
        }
      ]
    },
    {
      "cell_type": "markdown",
      "metadata": {
        "id": "VZ2DCH-P1Jot"
      },
      "source": [
        "prune 함수를 수행하고 나면, 레이어의 named_buffers()에 'weight_mask'라는 새로운 파라미터가 하나 생성된 것을 볼 수 있습니다.\n",
        "\n",
        "\n",
        "프루닝이라면 일반적으로 특정 값을 0으로 만들어 영향력을 없애는 것으로 생각할 수 있습니다. 하지만 pytorch에서는 직접 값을 바로 0으로 바꾸는 대신, mask 텐서를 추가로 생성하여 프루닝을 수행하게 됩니다. 삭제할 값을 0, 보존할 값을 1로 설정한 mask 텐서를 생성한 후, 실제 계산을 수행할때 mask와 weight를 원소별로 곱한 텐서를 활용하게 되지요.\n",
        "\n",
        "pruning mask가 적용된 weight의 결과는 레이어의 weight 속성에서 확인할 수 있습니다."
      ]
    },
    {
      "cell_type": "code",
      "metadata": {
        "colab": {
          "base_uri": "https://localhost:8080/"
        },
        "id": "Eua36t5M1WZP",
        "outputId": "9f5f72bc-af7b-41a6-8bb4-9f8da9f737e2"
      },
      "source": [
        "print(module.weight)"
      ],
      "execution_count": 34,
      "outputs": [
        {
          "output_type": "stream",
          "text": [
            "tensor([[[[ 0.2024, -0.0000, -0.0591],\n",
            "          [ 0.0960, -0.3782,  0.1715],\n",
            "          [-0.1034,  0.0725,  0.1319]],\n",
            "\n",
            "         [[ 0.0739, -0.0114, -0.0540],\n",
            "          [ 0.0000, -0.2900,  0.0435],\n",
            "          [-0.0695,  0.0000,  0.1052]],\n",
            "\n",
            "         [[ 0.0000,  0.0035, -0.0984],\n",
            "          [-0.0721, -0.2251,  0.0179],\n",
            "          [-0.0910,  0.0000,  0.0000]]],\n",
            "\n",
            "\n",
            "        [[[ 0.0000, -0.0000,  0.1989],\n",
            "          [ 0.0864,  0.0000,  0.1899],\n",
            "          [-0.2727, -0.3303, -0.0000]],\n",
            "\n",
            "         [[ 0.0000,  0.0107,  0.1193],\n",
            "          [-0.0953,  0.2146, -0.0000],\n",
            "          [ 0.0197, -0.1974, -0.2109]],\n",
            "\n",
            "         [[ 0.1478, -0.0241,  0.1199],\n",
            "          [-0.0054,  0.0543, -0.0000],\n",
            "          [-0.0000, -0.0000, -0.0577]]],\n",
            "\n",
            "\n",
            "        [[[ 0.1499,  0.0000, -0.0000],\n",
            "          [-0.0000,  0.2945,  0.0000],\n",
            "          [-0.1224,  0.1955,  0.1845]],\n",
            "\n",
            "         [[-0.0000, -0.0910, -0.0000],\n",
            "          [-0.0000,  0.0769, -0.1918],\n",
            "          [-0.3392,  0.0222, -0.0985]],\n",
            "\n",
            "         [[-0.0071,  0.1028,  0.0000],\n",
            "          [-0.0491,  0.1858,  0.1223],\n",
            "          [-0.3199,  0.0837, -0.1147]]],\n",
            "\n",
            "\n",
            "        [[[-0.2218, -0.0900, -0.0000],\n",
            "          [ 0.0068, -0.0000, -0.2724],\n",
            "          [ 0.0000, -0.0056,  0.1102]],\n",
            "\n",
            "         [[ 0.0804, -0.0000,  0.0726],\n",
            "          [ 0.0259, -0.1372, -0.1271],\n",
            "          [ 0.1347,  0.0000, -0.0000]],\n",
            "\n",
            "         [[ 0.0428,  0.2417,  0.0322],\n",
            "          [ 0.1447,  0.0000, -0.0000],\n",
            "          [-0.0801,  0.0000,  0.0546]]],\n",
            "\n",
            "\n",
            "        [[[ 0.0189, -0.0085,  0.0558],\n",
            "          [ 0.0000,  0.0000, -0.1355],\n",
            "          [ 0.0000,  0.0000,  0.1266]],\n",
            "\n",
            "         [[ 0.0492, -0.0000, -0.0169],\n",
            "          [-0.0000,  0.0715,  0.2822],\n",
            "          [-0.0506,  0.0000, -0.0683]],\n",
            "\n",
            "         [[-0.2153,  0.0000,  0.2607],\n",
            "          [ 0.1291, -0.0000,  0.1454],\n",
            "          [ 0.0000,  0.1264,  0.1418]]],\n",
            "\n",
            "\n",
            "        [[[ 0.1032, -0.0042,  0.0213],\n",
            "          [-0.1320, -0.2077,  0.0000],\n",
            "          [-0.0469, -0.1971,  0.1612]],\n",
            "\n",
            "         [[ 0.1114, -0.0694,  0.0000],\n",
            "          [ 0.0000,  0.0964,  0.2636],\n",
            "          [-0.0000,  0.0997,  0.0836]],\n",
            "\n",
            "         [[ 0.0271, -0.0000, -0.0444],\n",
            "          [-0.0000, -0.1288,  0.2395],\n",
            "          [-0.0000, -0.2635,  0.1441]]]], grad_fn=<MulBackward0>)\n"
          ],
          "name": "stdout"
        }
      ]
    },
    {
      "cell_type": "markdown",
      "metadata": {
        "id": "4s3tjkgfFtN1"
      },
      "source": [
        "그러면 기존 모델의 출력값과 첫번째 레이어를 가지치기한 모델의 결과를 비교해봅시다.\r\n",
        "값에 차이가 생긴 것을 볼 수가 있습니다."
      ]
    },
    {
      "cell_type": "code",
      "metadata": {
        "colab": {
          "base_uri": "https://localhost:8080/"
        },
        "id": "tkPZQElOEr7v",
        "outputId": "e6568909-99f8-42da-b4df-57080b535051"
      },
      "source": [
        "output_pruned_conv1 = model(images[:1])\r\n",
        "print(f\"original output: {output_orig}\")\r\n",
        "print(f\"pruned weight output: {output_pruned_conv1}\")\r\n",
        "print(f\"difference: {output_orig - output_pruned_conv1}\")"
      ],
      "execution_count": 35,
      "outputs": [
        {
          "output_type": "stream",
          "text": [
            "original output: tensor([[ 0.0143, -5.5676, -0.3807,  0.4022, -1.7623, -0.8912, -1.1366, -5.3665,\n",
            "          3.3781, -3.2475]], grad_fn=<AddmmBackward>)\n",
            "pruned weight output: tensor([[-2.6644, -5.7121,  0.5480, -0.1833,  1.7761, -0.9048,  0.6734, -3.9677,\n",
            "         -0.0472, -4.6528]], grad_fn=<AddmmBackward>)\n",
            "difference: tensor([[ 2.6787,  0.1445, -0.9287,  0.5855, -3.5384,  0.0136, -1.8099, -1.3988,\n",
            "          3.4253,  1.4053]], grad_fn=<SubBackward0>)\n"
          ],
          "name": "stdout"
        }
      ]
    },
    {
      "cell_type": "markdown",
      "metadata": {
        "id": "RgdIeWxR2o8S"
      },
      "source": [
        "전체 성능 테스트에서도 어느정도 성능이 떨어진 것을 볼 수 있습니다. Elapsed time은 약간 늘어난 것을 볼 수 있는데 mask 계산이 추가되어 그런 것으로 짐작할 수 있습니다. 또 Size of the model도 약간 늘어났습니다."
      ]
    },
    {
      "cell_type": "code",
      "metadata": {
        "colab": {
          "base_uri": "https://localhost:8080/"
        },
        "id": "-mKTbf8B2hRV",
        "outputId": "ea2bbfd7-bbd9-441c-ed35-5291a95507a0"
      },
      "source": [
        "device = 'cpu'\r\n",
        "test(model=model, device=device, test_loader=test_loader)"
      ],
      "execution_count": 36,
      "outputs": [
        {
          "output_type": "stream",
          "text": [
            "LeNet(\n",
            "  (conv1): Conv2d(3, 6, kernel_size=(3, 3), stride=(1, 1))\n",
            "  (conv2): Conv2d(6, 16, kernel_size=(3, 3), stride=(1, 1))\n",
            "  (fc1): Linear(in_features=576, out_features=120, bias=True)\n",
            "  (fc2): Linear(in_features=120, out_features=84, bias=True)\n",
            "  (fc3): Linear(in_features=84, out_features=10, bias=True)\n",
            ")\n",
            "========================================= PERFORMANCE =============================================\n",
            "Size of the model(MB): 0.32949\n",
            "\n",
            "Test set: Average loss: 1.7765, Accuracy: 4062/10000 (41%)\n",
            "\n",
            "Elapsed time = 2.1412 milliseconds\n",
            "====================================================================================================\n"
          ],
          "name": "stdout"
        }
      ]
    },
    {
      "cell_type": "markdown",
      "metadata": {
        "id": "adkR97o3DvzH"
      },
      "source": [
        "이렇게 weight에 대해 프루닝을 적용해 보았습니다!\r\n",
        "\r\n",
        "이번에는 또 다른 parameter인 bias에 pruning을 적용해보겠습니다. random으로 값을 선택하여 가지치기한 weight와는 다르게, bias는 값이 작은 순서대로 프루닝을 수행해봅시다."
      ]
    },
    {
      "cell_type": "code",
      "metadata": {
        "colab": {
          "base_uri": "https://localhost:8080/"
        },
        "id": "AOCYgVzhD_VR",
        "outputId": "c1d03e0d-70b8-40ae-a2f9-51f33f882491"
      },
      "source": [
        "prune.l1_unstructured(module, name=\"bias\", amount=3)  # amount를 float으로 입력하면 해당 비율만큼, int로 입력할 경우 해당 갯수만큼 값을 선택하여 가지치기합니다. Lowest L1-norm을 값 비교의 기준으로 삼습니다."
      ],
      "execution_count": 37,
      "outputs": [
        {
          "output_type": "execute_result",
          "data": {
            "text/plain": [
              "Conv2d(3, 6, kernel_size=(3, 3), stride=(1, 1))"
            ]
          },
          "metadata": {
            "tags": []
          },
          "execution_count": 37
        }
      ]
    },
    {
      "cell_type": "code",
      "metadata": {
        "colab": {
          "base_uri": "https://localhost:8080/"
        },
        "id": "t6LcNI3fEf9o",
        "outputId": "28e42bd4-237c-480a-dab6-98989caa0bfd"
      },
      "source": [
        "print(list(module.named_parameters()))"
      ],
      "execution_count": 38,
      "outputs": [
        {
          "output_type": "stream",
          "text": [
            "[('weight_orig', Parameter containing:\n",
            "tensor([[[[ 0.2024, -0.1096, -0.0591],\n",
            "          [ 0.0960, -0.3782,  0.1715],\n",
            "          [-0.1034,  0.0725,  0.1319]],\n",
            "\n",
            "         [[ 0.0739, -0.0114, -0.0540],\n",
            "          [ 0.0949, -0.2900,  0.0435],\n",
            "          [-0.0695,  0.0064,  0.1052]],\n",
            "\n",
            "         [[ 0.2391,  0.0035, -0.0984],\n",
            "          [-0.0721, -0.2251,  0.0179],\n",
            "          [-0.0910,  0.0180,  0.2372]]],\n",
            "\n",
            "\n",
            "        [[[ 0.1354, -0.1102,  0.1989],\n",
            "          [ 0.0864,  0.2606,  0.1899],\n",
            "          [-0.2727, -0.3303, -0.1454]],\n",
            "\n",
            "         [[ 0.1770,  0.0107,  0.1193],\n",
            "          [-0.0953,  0.2146, -0.0885],\n",
            "          [ 0.0197, -0.1974, -0.2109]],\n",
            "\n",
            "         [[ 0.1478, -0.0241,  0.1199],\n",
            "          [-0.0054,  0.0543, -0.1415],\n",
            "          [-0.1349, -0.0109, -0.0577]]],\n",
            "\n",
            "\n",
            "        [[[ 0.1499,  0.2650, -0.0123],\n",
            "          [-0.0983,  0.2945,  0.1187],\n",
            "          [-0.1224,  0.1955,  0.1845]],\n",
            "\n",
            "         [[-0.0017, -0.0910, -0.1106],\n",
            "          [-0.1587,  0.0769, -0.1918],\n",
            "          [-0.3392,  0.0222, -0.0985]],\n",
            "\n",
            "         [[-0.0071,  0.1028,  0.0626],\n",
            "          [-0.0491,  0.1858,  0.1223],\n",
            "          [-0.3199,  0.0837, -0.1147]]],\n",
            "\n",
            "\n",
            "        [[[-0.2218, -0.0900, -0.0563],\n",
            "          [ 0.0068, -0.2220, -0.2724],\n",
            "          [ 0.1657, -0.0056,  0.1102]],\n",
            "\n",
            "         [[ 0.0804, -0.1511,  0.0726],\n",
            "          [ 0.0259, -0.1372, -0.1271],\n",
            "          [ 0.1347,  0.1162, -0.0555]],\n",
            "\n",
            "         [[ 0.0428,  0.2417,  0.0322],\n",
            "          [ 0.1447,  0.1433, -0.1106],\n",
            "          [-0.0801,  0.2930,  0.0546]]],\n",
            "\n",
            "\n",
            "        [[[ 0.0189, -0.0085,  0.0558],\n",
            "          [ 0.0507,  0.1383, -0.1355],\n",
            "          [ 0.0658,  0.0826,  0.1266]],\n",
            "\n",
            "         [[ 0.0492, -0.0804, -0.0169],\n",
            "          [-0.1645,  0.0715,  0.2822],\n",
            "          [-0.0506,  0.0961, -0.0683]],\n",
            "\n",
            "         [[-0.2153,  0.0801,  0.2607],\n",
            "          [ 0.1291, -0.0296,  0.1454],\n",
            "          [ 0.1853,  0.1264,  0.1418]]],\n",
            "\n",
            "\n",
            "        [[[ 0.1032, -0.0042,  0.0213],\n",
            "          [-0.1320, -0.2077,  0.0084],\n",
            "          [-0.0469, -0.1971,  0.1612]],\n",
            "\n",
            "         [[ 0.1114, -0.0694,  0.1594],\n",
            "          [ 0.0990,  0.0964,  0.2636],\n",
            "          [-0.0832,  0.0997,  0.0836]],\n",
            "\n",
            "         [[ 0.0271, -0.2183, -0.0444],\n",
            "          [-0.0844, -0.1288,  0.2395],\n",
            "          [-0.0870, -0.2635,  0.1441]]]], requires_grad=True)), ('bias_orig', Parameter containing:\n",
            "tensor([ 0.0359,  0.0059, -0.0366,  0.1202, -0.1031,  0.0273],\n",
            "       requires_grad=True))]\n"
          ],
          "name": "stdout"
        }
      ]
    },
    {
      "cell_type": "code",
      "metadata": {
        "colab": {
          "base_uri": "https://localhost:8080/"
        },
        "id": "6v-5Hsr6GM9O",
        "outputId": "b17df7ac-1ace-49c3-fab2-0b21a9e4d1e4"
      },
      "source": [
        "print(list(module.named_buffers()))"
      ],
      "execution_count": null,
      "outputs": [
        {
          "output_type": "stream",
          "text": [
            "[('weight_mask', tensor([[[[0., 1., 0.],\n",
            "          [0., 0., 1.],\n",
            "          [0., 1., 1.]]],\n",
            "\n",
            "\n",
            "        [[[1., 1., 1.],\n",
            "          [1., 0., 1.],\n",
            "          [1., 0., 0.]]],\n",
            "\n",
            "\n",
            "        [[[0., 1., 0.],\n",
            "          [1., 0., 1.],\n",
            "          [1., 1., 1.]]],\n",
            "\n",
            "\n",
            "        [[[1., 1., 1.],\n",
            "          [0., 1., 1.],\n",
            "          [1., 1., 0.]]],\n",
            "\n",
            "\n",
            "        [[[1., 1., 1.],\n",
            "          [1., 1., 1.],\n",
            "          [0., 1., 1.]]],\n",
            "\n",
            "\n",
            "        [[[1., 1., 1.],\n",
            "          [1., 1., 1.],\n",
            "          [1., 0., 0.]]]])), ('bias_mask', tensor([1., 0., 0., 0., 1., 1.]))]\n"
          ],
          "name": "stdout"
        }
      ]
    },
    {
      "cell_type": "code",
      "metadata": {
        "colab": {
          "base_uri": "https://localhost:8080/"
        },
        "id": "9-gvidouGOU4",
        "outputId": "ef13b4ef-7b56-4362-a75d-f6ddcb05b22f"
      },
      "source": [
        "print(module.bias)"
      ],
      "execution_count": 39,
      "outputs": [
        {
          "output_type": "stream",
          "text": [
            "tensor([ 0.0000,  0.0000, -0.0366,  0.1202, -0.1031,  0.0000],\n",
            "       grad_fn=<MulBackward0>)\n"
          ],
          "name": "stdout"
        }
      ]
    },
    {
      "cell_type": "code",
      "metadata": {
        "colab": {
          "base_uri": "https://localhost:8080/"
        },
        "id": "4iUr-p3iSmoG",
        "outputId": "1ef254f0-f74a-4a14-e0b4-805e2138a018"
      },
      "source": [
        "device = 'cpu'\r\n",
        "test(model=model, device=device, test_loader=test_loader)"
      ],
      "execution_count": 40,
      "outputs": [
        {
          "output_type": "stream",
          "text": [
            "LeNet(\n",
            "  (conv1): Conv2d(3, 6, kernel_size=(3, 3), stride=(1, 1))\n",
            "  (conv2): Conv2d(6, 16, kernel_size=(3, 3), stride=(1, 1))\n",
            "  (fc1): Linear(in_features=576, out_features=120, bias=True)\n",
            "  (fc2): Linear(in_features=120, out_features=84, bias=True)\n",
            "  (fc3): Linear(in_features=84, out_features=10, bias=True)\n",
            ")\n",
            "========================================= PERFORMANCE =============================================\n",
            "Size of the model(MB): 0.329819\n",
            "\n",
            "Test set: Average loss: 1.8006, Accuracy: 3982/10000 (40%)\n",
            "\n",
            "Elapsed time = 2.2161 milliseconds\n",
            "====================================================================================================\n"
          ],
          "name": "stdout"
        }
      ]
    },
    {
      "cell_type": "code",
      "metadata": {
        "colab": {
          "base_uri": "https://localhost:8080/"
        },
        "id": "Ar14pJytHQcc",
        "outputId": "b76f4ba9-6814-4873-8ee6-c70e746781db"
      },
      "source": [
        "# Check 'weight_mask' and 'bias_mask' exist\n",
        "print(list(module.named_buffers()))"
      ],
      "execution_count": 41,
      "outputs": [
        {
          "output_type": "stream",
          "text": [
            "[('weight_mask', tensor([[[[1., 0., 1.],\n",
            "          [1., 1., 1.],\n",
            "          [1., 1., 1.]],\n",
            "\n",
            "         [[1., 1., 1.],\n",
            "          [0., 1., 1.],\n",
            "          [1., 0., 1.]],\n",
            "\n",
            "         [[0., 1., 1.],\n",
            "          [1., 1., 1.],\n",
            "          [1., 0., 0.]]],\n",
            "\n",
            "\n",
            "        [[[0., 0., 1.],\n",
            "          [1., 0., 1.],\n",
            "          [1., 1., 0.]],\n",
            "\n",
            "         [[0., 1., 1.],\n",
            "          [1., 1., 0.],\n",
            "          [1., 1., 1.]],\n",
            "\n",
            "         [[1., 1., 1.],\n",
            "          [1., 1., 0.],\n",
            "          [0., 0., 1.]]],\n",
            "\n",
            "\n",
            "        [[[1., 0., 0.],\n",
            "          [0., 1., 0.],\n",
            "          [1., 1., 1.]],\n",
            "\n",
            "         [[0., 1., 0.],\n",
            "          [0., 1., 1.],\n",
            "          [1., 1., 1.]],\n",
            "\n",
            "         [[1., 1., 0.],\n",
            "          [1., 1., 1.],\n",
            "          [1., 1., 1.]]],\n",
            "\n",
            "\n",
            "        [[[1., 1., 0.],\n",
            "          [1., 0., 1.],\n",
            "          [0., 1., 1.]],\n",
            "\n",
            "         [[1., 0., 1.],\n",
            "          [1., 1., 1.],\n",
            "          [1., 0., 0.]],\n",
            "\n",
            "         [[1., 1., 1.],\n",
            "          [1., 0., 0.],\n",
            "          [1., 0., 1.]]],\n",
            "\n",
            "\n",
            "        [[[1., 1., 1.],\n",
            "          [0., 0., 1.],\n",
            "          [0., 0., 1.]],\n",
            "\n",
            "         [[1., 0., 1.],\n",
            "          [0., 1., 1.],\n",
            "          [1., 0., 1.]],\n",
            "\n",
            "         [[1., 0., 1.],\n",
            "          [1., 0., 1.],\n",
            "          [0., 1., 1.]]],\n",
            "\n",
            "\n",
            "        [[[1., 1., 1.],\n",
            "          [1., 1., 0.],\n",
            "          [1., 1., 1.]],\n",
            "\n",
            "         [[1., 1., 0.],\n",
            "          [0., 1., 1.],\n",
            "          [0., 1., 1.]],\n",
            "\n",
            "         [[1., 0., 1.],\n",
            "          [0., 1., 1.],\n",
            "          [0., 1., 1.]]]])), ('bias_mask', tensor([0., 0., 1., 1., 1., 0.]))]\n"
          ],
          "name": "stdout"
        }
      ]
    },
    {
      "cell_type": "markdown",
      "metadata": {
        "id": "oCImByoP3L2A"
      },
      "source": [
        "# Model 크기 비교\r\n",
        "프루닝 된 모델의 크기를 출력하면, 프루닝되기 전의 모델보다 모델의 사이즈가 커진 것을 확인할 수 있습니다.\r\n",
        "\r\n",
        "상식적으로 가지치기가 되었다면 모델의 크기가 줄어들어야 할 텐데, 오히려 모델의 용량이 늘어난 것은 왜일까요?"
      ]
    },
    {
      "cell_type": "code",
      "metadata": {
        "colab": {
          "base_uri": "https://localhost:8080/"
        },
        "id": "gK1SgI8GSmrb",
        "outputId": "759406a8-abdf-4cd1-a257-cb73a125a97e"
      },
      "source": [
        "print_size_of_model(model)"
      ],
      "execution_count": 42,
      "outputs": [
        {
          "output_type": "stream",
          "text": [
            "Size of the model(MB): 0.329819\n"
          ],
          "name": "stdout"
        }
      ]
    },
    {
      "cell_type": "markdown",
      "metadata": {
        "id": "10BfjmQE4UC3"
      },
      "source": [
        "# 프루닝 영구 적용하기\r\n",
        "Pytorch에서 제공하는 prune method는 mask를 생성하는 방식으로 프루닝을 수행하는 것을 볼 수 있었습니다.\r\n",
        "\r\n",
        "이 때 원본 모델의 parameter는 \"weight_orig\", \"bias_orig\"과 같은 형태로 보존하는 것 또한 볼 수 있었습니다."
      ]
    },
    {
      "cell_type": "code",
      "metadata": {
        "colab": {
          "base_uri": "https://localhost:8080/"
        },
        "id": "btaAHlYH9StX",
        "outputId": "b364c3da-3123-4461-9082-bccb56203e7f"
      },
      "source": [
        "print(list(module.named_parameters()))"
      ],
      "execution_count": 43,
      "outputs": [
        {
          "output_type": "stream",
          "text": [
            "[('weight_orig', Parameter containing:\n",
            "tensor([[[[ 0.2024, -0.1096, -0.0591],\n",
            "          [ 0.0960, -0.3782,  0.1715],\n",
            "          [-0.1034,  0.0725,  0.1319]],\n",
            "\n",
            "         [[ 0.0739, -0.0114, -0.0540],\n",
            "          [ 0.0949, -0.2900,  0.0435],\n",
            "          [-0.0695,  0.0064,  0.1052]],\n",
            "\n",
            "         [[ 0.2391,  0.0035, -0.0984],\n",
            "          [-0.0721, -0.2251,  0.0179],\n",
            "          [-0.0910,  0.0180,  0.2372]]],\n",
            "\n",
            "\n",
            "        [[[ 0.1354, -0.1102,  0.1989],\n",
            "          [ 0.0864,  0.2606,  0.1899],\n",
            "          [-0.2727, -0.3303, -0.1454]],\n",
            "\n",
            "         [[ 0.1770,  0.0107,  0.1193],\n",
            "          [-0.0953,  0.2146, -0.0885],\n",
            "          [ 0.0197, -0.1974, -0.2109]],\n",
            "\n",
            "         [[ 0.1478, -0.0241,  0.1199],\n",
            "          [-0.0054,  0.0543, -0.1415],\n",
            "          [-0.1349, -0.0109, -0.0577]]],\n",
            "\n",
            "\n",
            "        [[[ 0.1499,  0.2650, -0.0123],\n",
            "          [-0.0983,  0.2945,  0.1187],\n",
            "          [-0.1224,  0.1955,  0.1845]],\n",
            "\n",
            "         [[-0.0017, -0.0910, -0.1106],\n",
            "          [-0.1587,  0.0769, -0.1918],\n",
            "          [-0.3392,  0.0222, -0.0985]],\n",
            "\n",
            "         [[-0.0071,  0.1028,  0.0626],\n",
            "          [-0.0491,  0.1858,  0.1223],\n",
            "          [-0.3199,  0.0837, -0.1147]]],\n",
            "\n",
            "\n",
            "        [[[-0.2218, -0.0900, -0.0563],\n",
            "          [ 0.0068, -0.2220, -0.2724],\n",
            "          [ 0.1657, -0.0056,  0.1102]],\n",
            "\n",
            "         [[ 0.0804, -0.1511,  0.0726],\n",
            "          [ 0.0259, -0.1372, -0.1271],\n",
            "          [ 0.1347,  0.1162, -0.0555]],\n",
            "\n",
            "         [[ 0.0428,  0.2417,  0.0322],\n",
            "          [ 0.1447,  0.1433, -0.1106],\n",
            "          [-0.0801,  0.2930,  0.0546]]],\n",
            "\n",
            "\n",
            "        [[[ 0.0189, -0.0085,  0.0558],\n",
            "          [ 0.0507,  0.1383, -0.1355],\n",
            "          [ 0.0658,  0.0826,  0.1266]],\n",
            "\n",
            "         [[ 0.0492, -0.0804, -0.0169],\n",
            "          [-0.1645,  0.0715,  0.2822],\n",
            "          [-0.0506,  0.0961, -0.0683]],\n",
            "\n",
            "         [[-0.2153,  0.0801,  0.2607],\n",
            "          [ 0.1291, -0.0296,  0.1454],\n",
            "          [ 0.1853,  0.1264,  0.1418]]],\n",
            "\n",
            "\n",
            "        [[[ 0.1032, -0.0042,  0.0213],\n",
            "          [-0.1320, -0.2077,  0.0084],\n",
            "          [-0.0469, -0.1971,  0.1612]],\n",
            "\n",
            "         [[ 0.1114, -0.0694,  0.1594],\n",
            "          [ 0.0990,  0.0964,  0.2636],\n",
            "          [-0.0832,  0.0997,  0.0836]],\n",
            "\n",
            "         [[ 0.0271, -0.2183, -0.0444],\n",
            "          [-0.0844, -0.1288,  0.2395],\n",
            "          [-0.0870, -0.2635,  0.1441]]]], requires_grad=True)), ('bias_orig', Parameter containing:\n",
            "tensor([ 0.0359,  0.0059, -0.0366,  0.1202, -0.1031,  0.0273],\n",
            "       requires_grad=True))]\n"
          ],
          "name": "stdout"
        }
      ]
    },
    {
      "cell_type": "markdown",
      "metadata": {
        "id": "ZPkpsq2ELNUe"
      },
      "source": [
        "이러한 프루닝을 수행한 후 더 이상 원본 파라미터가 필요하지 않을 때, pruning을 영구히 적용하는 방법을 알아봅시다.\r\n",
        "\r\n",
        "prune.remove 함수를 사용하면, 기존의 원본 파라미터를 삭제하고 이를 prune이 적용된 weight를 교체하게 됩니다."
      ]
    },
    {
      "cell_type": "code",
      "metadata": {
        "colab": {
          "base_uri": "https://localhost:8080/"
        },
        "id": "Kas8wU-r4Nwo",
        "outputId": "c47b4933-ce87-4afb-a513-63e26f542f2d"
      },
      "source": [
        "prune.remove(module, 'weight')\r\n",
        "print(list(module.named_parameters()))"
      ],
      "execution_count": 44,
      "outputs": [
        {
          "output_type": "stream",
          "text": [
            "[('bias_orig', Parameter containing:\n",
            "tensor([ 0.0359,  0.0059, -0.0366,  0.1202, -0.1031,  0.0273],\n",
            "       requires_grad=True)), ('weight', Parameter containing:\n",
            "tensor([[[[ 0.2024, -0.0000, -0.0591],\n",
            "          [ 0.0960, -0.3782,  0.1715],\n",
            "          [-0.1034,  0.0725,  0.1319]],\n",
            "\n",
            "         [[ 0.0739, -0.0114, -0.0540],\n",
            "          [ 0.0000, -0.2900,  0.0435],\n",
            "          [-0.0695,  0.0000,  0.1052]],\n",
            "\n",
            "         [[ 0.0000,  0.0035, -0.0984],\n",
            "          [-0.0721, -0.2251,  0.0179],\n",
            "          [-0.0910,  0.0000,  0.0000]]],\n",
            "\n",
            "\n",
            "        [[[ 0.0000, -0.0000,  0.1989],\n",
            "          [ 0.0864,  0.0000,  0.1899],\n",
            "          [-0.2727, -0.3303, -0.0000]],\n",
            "\n",
            "         [[ 0.0000,  0.0107,  0.1193],\n",
            "          [-0.0953,  0.2146, -0.0000],\n",
            "          [ 0.0197, -0.1974, -0.2109]],\n",
            "\n",
            "         [[ 0.1478, -0.0241,  0.1199],\n",
            "          [-0.0054,  0.0543, -0.0000],\n",
            "          [-0.0000, -0.0000, -0.0577]]],\n",
            "\n",
            "\n",
            "        [[[ 0.1499,  0.0000, -0.0000],\n",
            "          [-0.0000,  0.2945,  0.0000],\n",
            "          [-0.1224,  0.1955,  0.1845]],\n",
            "\n",
            "         [[-0.0000, -0.0910, -0.0000],\n",
            "          [-0.0000,  0.0769, -0.1918],\n",
            "          [-0.3392,  0.0222, -0.0985]],\n",
            "\n",
            "         [[-0.0071,  0.1028,  0.0000],\n",
            "          [-0.0491,  0.1858,  0.1223],\n",
            "          [-0.3199,  0.0837, -0.1147]]],\n",
            "\n",
            "\n",
            "        [[[-0.2218, -0.0900, -0.0000],\n",
            "          [ 0.0068, -0.0000, -0.2724],\n",
            "          [ 0.0000, -0.0056,  0.1102]],\n",
            "\n",
            "         [[ 0.0804, -0.0000,  0.0726],\n",
            "          [ 0.0259, -0.1372, -0.1271],\n",
            "          [ 0.1347,  0.0000, -0.0000]],\n",
            "\n",
            "         [[ 0.0428,  0.2417,  0.0322],\n",
            "          [ 0.1447,  0.0000, -0.0000],\n",
            "          [-0.0801,  0.0000,  0.0546]]],\n",
            "\n",
            "\n",
            "        [[[ 0.0189, -0.0085,  0.0558],\n",
            "          [ 0.0000,  0.0000, -0.1355],\n",
            "          [ 0.0000,  0.0000,  0.1266]],\n",
            "\n",
            "         [[ 0.0492, -0.0000, -0.0169],\n",
            "          [-0.0000,  0.0715,  0.2822],\n",
            "          [-0.0506,  0.0000, -0.0683]],\n",
            "\n",
            "         [[-0.2153,  0.0000,  0.2607],\n",
            "          [ 0.1291, -0.0000,  0.1454],\n",
            "          [ 0.0000,  0.1264,  0.1418]]],\n",
            "\n",
            "\n",
            "        [[[ 0.1032, -0.0042,  0.0213],\n",
            "          [-0.1320, -0.2077,  0.0000],\n",
            "          [-0.0469, -0.1971,  0.1612]],\n",
            "\n",
            "         [[ 0.1114, -0.0694,  0.0000],\n",
            "          [ 0.0000,  0.0964,  0.2636],\n",
            "          [-0.0000,  0.0997,  0.0836]],\n",
            "\n",
            "         [[ 0.0271, -0.0000, -0.0444],\n",
            "          [-0.0000, -0.1288,  0.2395],\n",
            "          [-0.0000, -0.2635,  0.1441]]]], requires_grad=True))]\n"
          ],
          "name": "stdout"
        }
      ]
    },
    {
      "cell_type": "markdown",
      "metadata": {
        "id": "VuieF2khL2DR"
      },
      "source": [
        "weight에 해당하는 mask 또한 없어진 것을 볼 수 있습니다."
      ]
    },
    {
      "cell_type": "code",
      "metadata": {
        "colab": {
          "base_uri": "https://localhost:8080/"
        },
        "id": "_9G_h027_rpO",
        "outputId": "d24a3ac9-18f1-4fc9-fe5d-e4e387240ee6"
      },
      "source": [
        "print(list(module.named_buffers()))"
      ],
      "execution_count": 45,
      "outputs": [
        {
          "output_type": "stream",
          "text": [
            "[('bias_mask', tensor([0., 0., 1., 1., 1., 0.]))]\n"
          ],
          "name": "stdout"
        }
      ]
    },
    {
      "cell_type": "markdown",
      "metadata": {
        "id": "2Ow-G8pAMYei"
      },
      "source": [
        "마찬가지로 bias에 해당하는 prune도 영구 적용시켜보겠습니다."
      ]
    },
    {
      "cell_type": "code",
      "metadata": {
        "colab": {
          "base_uri": "https://localhost:8080/"
        },
        "id": "6y1uTaSF_mCC",
        "outputId": "a9e22919-93dc-4f9b-88ca-070bda2ae664"
      },
      "source": [
        "prune.remove(module, 'bias')\r\n",
        "print(list(module.named_parameters()))"
      ],
      "execution_count": 46,
      "outputs": [
        {
          "output_type": "stream",
          "text": [
            "[('weight', Parameter containing:\n",
            "tensor([[[[ 0.2024, -0.0000, -0.0591],\n",
            "          [ 0.0960, -0.3782,  0.1715],\n",
            "          [-0.1034,  0.0725,  0.1319]],\n",
            "\n",
            "         [[ 0.0739, -0.0114, -0.0540],\n",
            "          [ 0.0000, -0.2900,  0.0435],\n",
            "          [-0.0695,  0.0000,  0.1052]],\n",
            "\n",
            "         [[ 0.0000,  0.0035, -0.0984],\n",
            "          [-0.0721, -0.2251,  0.0179],\n",
            "          [-0.0910,  0.0000,  0.0000]]],\n",
            "\n",
            "\n",
            "        [[[ 0.0000, -0.0000,  0.1989],\n",
            "          [ 0.0864,  0.0000,  0.1899],\n",
            "          [-0.2727, -0.3303, -0.0000]],\n",
            "\n",
            "         [[ 0.0000,  0.0107,  0.1193],\n",
            "          [-0.0953,  0.2146, -0.0000],\n",
            "          [ 0.0197, -0.1974, -0.2109]],\n",
            "\n",
            "         [[ 0.1478, -0.0241,  0.1199],\n",
            "          [-0.0054,  0.0543, -0.0000],\n",
            "          [-0.0000, -0.0000, -0.0577]]],\n",
            "\n",
            "\n",
            "        [[[ 0.1499,  0.0000, -0.0000],\n",
            "          [-0.0000,  0.2945,  0.0000],\n",
            "          [-0.1224,  0.1955,  0.1845]],\n",
            "\n",
            "         [[-0.0000, -0.0910, -0.0000],\n",
            "          [-0.0000,  0.0769, -0.1918],\n",
            "          [-0.3392,  0.0222, -0.0985]],\n",
            "\n",
            "         [[-0.0071,  0.1028,  0.0000],\n",
            "          [-0.0491,  0.1858,  0.1223],\n",
            "          [-0.3199,  0.0837, -0.1147]]],\n",
            "\n",
            "\n",
            "        [[[-0.2218, -0.0900, -0.0000],\n",
            "          [ 0.0068, -0.0000, -0.2724],\n",
            "          [ 0.0000, -0.0056,  0.1102]],\n",
            "\n",
            "         [[ 0.0804, -0.0000,  0.0726],\n",
            "          [ 0.0259, -0.1372, -0.1271],\n",
            "          [ 0.1347,  0.0000, -0.0000]],\n",
            "\n",
            "         [[ 0.0428,  0.2417,  0.0322],\n",
            "          [ 0.1447,  0.0000, -0.0000],\n",
            "          [-0.0801,  0.0000,  0.0546]]],\n",
            "\n",
            "\n",
            "        [[[ 0.0189, -0.0085,  0.0558],\n",
            "          [ 0.0000,  0.0000, -0.1355],\n",
            "          [ 0.0000,  0.0000,  0.1266]],\n",
            "\n",
            "         [[ 0.0492, -0.0000, -0.0169],\n",
            "          [-0.0000,  0.0715,  0.2822],\n",
            "          [-0.0506,  0.0000, -0.0683]],\n",
            "\n",
            "         [[-0.2153,  0.0000,  0.2607],\n",
            "          [ 0.1291, -0.0000,  0.1454],\n",
            "          [ 0.0000,  0.1264,  0.1418]]],\n",
            "\n",
            "\n",
            "        [[[ 0.1032, -0.0042,  0.0213],\n",
            "          [-0.1320, -0.2077,  0.0000],\n",
            "          [-0.0469, -0.1971,  0.1612]],\n",
            "\n",
            "         [[ 0.1114, -0.0694,  0.0000],\n",
            "          [ 0.0000,  0.0964,  0.2636],\n",
            "          [-0.0000,  0.0997,  0.0836]],\n",
            "\n",
            "         [[ 0.0271, -0.0000, -0.0444],\n",
            "          [-0.0000, -0.1288,  0.2395],\n",
            "          [-0.0000, -0.2635,  0.1441]]]], requires_grad=True)), ('bias', Parameter containing:\n",
            "tensor([ 0.0000,  0.0000, -0.0366,  0.1202, -0.1031,  0.0000],\n",
            "       requires_grad=True))]\n"
          ],
          "name": "stdout"
        }
      ]
    },
    {
      "cell_type": "code",
      "metadata": {
        "colab": {
          "base_uri": "https://localhost:8080/"
        },
        "id": "ghABEy1qHhNJ",
        "outputId": "72bd23b5-7fc1-493e-a1e7-58c5edffb342"
      },
      "source": [
        "print(list(module.named_buffers()))"
      ],
      "execution_count": 47,
      "outputs": [
        {
          "output_type": "stream",
          "text": [
            "[]\n"
          ],
          "name": "stdout"
        }
      ]
    },
    {
      "cell_type": "markdown",
      "metadata": {
        "id": "pKEH-6IhMkRu"
      },
      "source": [
        "mask를 제거하고 pruned weight를 영구히 적용시키니, 모델의 사이즈 또한 원래의 모델 사이즈와 동일해진 것을 볼 수 있습니다."
      ]
    },
    {
      "cell_type": "code",
      "metadata": {
        "colab": {
          "base_uri": "https://localhost:8080/"
        },
        "id": "4D4_phTOHx7B",
        "outputId": "11af0276-5b94-4482-82cd-2cbe9897b592"
      },
      "source": [
        "print_size_of_model(model)"
      ],
      "execution_count": 48,
      "outputs": [
        {
          "output_type": "stream",
          "text": [
            "Size of the model(MB): 0.328585\n"
          ],
          "name": "stdout"
        }
      ]
    },
    {
      "cell_type": "code",
      "metadata": {
        "colab": {
          "base_uri": "https://localhost:8080/"
        },
        "id": "2bJxQzB_NN73",
        "outputId": "f4f3fd23-5045-4d24-bd4b-de4faff0103e"
      },
      "source": [
        "device = 'cpu'\n",
        "test(model=model, device=device, test_loader=test_loader)"
      ],
      "execution_count": 49,
      "outputs": [
        {
          "output_type": "stream",
          "text": [
            "LeNet(\n",
            "  (conv1): Conv2d(3, 6, kernel_size=(3, 3), stride=(1, 1))\n",
            "  (conv2): Conv2d(6, 16, kernel_size=(3, 3), stride=(1, 1))\n",
            "  (fc1): Linear(in_features=576, out_features=120, bias=True)\n",
            "  (fc2): Linear(in_features=120, out_features=84, bias=True)\n",
            "  (fc3): Linear(in_features=84, out_features=10, bias=True)\n",
            ")\n",
            "========================================= PERFORMANCE =============================================\n",
            "Size of the model(MB): 0.328585\n",
            "\n",
            "Test set: Average loss: 1.8006, Accuracy: 3982/10000 (40%)\n",
            "\n",
            "Elapsed time = 2.2569 milliseconds\n",
            "====================================================================================================\n"
          ],
          "name": "stdout"
        }
      ]
    },
    {
      "cell_type": "code",
      "metadata": {
        "id": "-8sMQIxbNOLH"
      },
      "source": [
        ""
      ],
      "execution_count": 49,
      "outputs": []
    }
  ]
}