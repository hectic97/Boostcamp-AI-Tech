{
  "nbformat": 4,
  "nbformat_minor": 0,
  "metadata": {
    "colab": {
      "name": "cnn.ipynb",
      "provenance": [],
      "collapsed_sections": [],
      "include_colab_link": true
    },
    "kernelspec": {
      "name": "python3",
      "display_name": "Python 3"
    },
    "accelerator": "GPU",
    "widgets": {
      "application/vnd.jupyter.widget-state+json": {
        "ac60404938e947e8a6c649d8e0a68ce6": {
          "model_module": "@jupyter-widgets/controls",
          "model_name": "HBoxModel",
          "state": {
            "_view_name": "HBoxView",
            "_dom_classes": [],
            "_model_name": "HBoxModel",
            "_view_module": "@jupyter-widgets/controls",
            "_model_module_version": "1.5.0",
            "_view_count": null,
            "_view_module_version": "1.5.0",
            "box_style": "",
            "layout": "IPY_MODEL_eb69f758880e43bf8288b02929846126",
            "_model_module": "@jupyter-widgets/controls",
            "children": [
              "IPY_MODEL_963a8fab1c05412ca1e00531828bb9c2",
              "IPY_MODEL_7962f3a9216742b886dd19e89a0800ed"
            ]
          }
        },
        "eb69f758880e43bf8288b02929846126": {
          "model_module": "@jupyter-widgets/base",
          "model_name": "LayoutModel",
          "state": {
            "_view_name": "LayoutView",
            "grid_template_rows": null,
            "right": null,
            "justify_content": null,
            "_view_module": "@jupyter-widgets/base",
            "overflow": null,
            "_model_module_version": "1.2.0",
            "_view_count": null,
            "flex_flow": null,
            "width": null,
            "min_width": null,
            "border": null,
            "align_items": null,
            "bottom": null,
            "_model_module": "@jupyter-widgets/base",
            "top": null,
            "grid_column": null,
            "overflow_y": null,
            "overflow_x": null,
            "grid_auto_flow": null,
            "grid_area": null,
            "grid_template_columns": null,
            "flex": null,
            "_model_name": "LayoutModel",
            "justify_items": null,
            "grid_row": null,
            "max_height": null,
            "align_content": null,
            "visibility": null,
            "align_self": null,
            "height": null,
            "min_height": null,
            "padding": null,
            "grid_auto_rows": null,
            "grid_gap": null,
            "max_width": null,
            "order": null,
            "_view_module_version": "1.2.0",
            "grid_template_areas": null,
            "object_position": null,
            "object_fit": null,
            "grid_auto_columns": null,
            "margin": null,
            "display": null,
            "left": null
          }
        },
        "963a8fab1c05412ca1e00531828bb9c2": {
          "model_module": "@jupyter-widgets/controls",
          "model_name": "FloatProgressModel",
          "state": {
            "_view_name": "ProgressView",
            "style": "IPY_MODEL_3c654a0c906e4c6197f56b8eae8786a4",
            "_dom_classes": [],
            "description": "",
            "_model_name": "FloatProgressModel",
            "bar_style": "success",
            "max": 1,
            "_view_module": "@jupyter-widgets/controls",
            "_model_module_version": "1.5.0",
            "value": 1,
            "_view_count": null,
            "_view_module_version": "1.5.0",
            "orientation": "horizontal",
            "min": 0,
            "description_tooltip": null,
            "_model_module": "@jupyter-widgets/controls",
            "layout": "IPY_MODEL_74143023f7de4062bdf8dd3461abf309"
          }
        },
        "7962f3a9216742b886dd19e89a0800ed": {
          "model_module": "@jupyter-widgets/controls",
          "model_name": "HTMLModel",
          "state": {
            "_view_name": "HTMLView",
            "style": "IPY_MODEL_2a73988bf9c6436bb80c17209bf81d2d",
            "_dom_classes": [],
            "description": "",
            "_model_name": "HTMLModel",
            "placeholder": "​",
            "_view_module": "@jupyter-widgets/controls",
            "_model_module_version": "1.5.0",
            "value": " 9920512/? [00:03&lt;00:00, 3296972.81it/s]",
            "_view_count": null,
            "_view_module_version": "1.5.0",
            "description_tooltip": null,
            "_model_module": "@jupyter-widgets/controls",
            "layout": "IPY_MODEL_3627a7481aca44158bde22585a03a80c"
          }
        },
        "3c654a0c906e4c6197f56b8eae8786a4": {
          "model_module": "@jupyter-widgets/controls",
          "model_name": "ProgressStyleModel",
          "state": {
            "_view_name": "StyleView",
            "_model_name": "ProgressStyleModel",
            "description_width": "initial",
            "_view_module": "@jupyter-widgets/base",
            "_model_module_version": "1.5.0",
            "_view_count": null,
            "_view_module_version": "1.2.0",
            "bar_color": null,
            "_model_module": "@jupyter-widgets/controls"
          }
        },
        "74143023f7de4062bdf8dd3461abf309": {
          "model_module": "@jupyter-widgets/base",
          "model_name": "LayoutModel",
          "state": {
            "_view_name": "LayoutView",
            "grid_template_rows": null,
            "right": null,
            "justify_content": null,
            "_view_module": "@jupyter-widgets/base",
            "overflow": null,
            "_model_module_version": "1.2.0",
            "_view_count": null,
            "flex_flow": null,
            "width": null,
            "min_width": null,
            "border": null,
            "align_items": null,
            "bottom": null,
            "_model_module": "@jupyter-widgets/base",
            "top": null,
            "grid_column": null,
            "overflow_y": null,
            "overflow_x": null,
            "grid_auto_flow": null,
            "grid_area": null,
            "grid_template_columns": null,
            "flex": null,
            "_model_name": "LayoutModel",
            "justify_items": null,
            "grid_row": null,
            "max_height": null,
            "align_content": null,
            "visibility": null,
            "align_self": null,
            "height": null,
            "min_height": null,
            "padding": null,
            "grid_auto_rows": null,
            "grid_gap": null,
            "max_width": null,
            "order": null,
            "_view_module_version": "1.2.0",
            "grid_template_areas": null,
            "object_position": null,
            "object_fit": null,
            "grid_auto_columns": null,
            "margin": null,
            "display": null,
            "left": null
          }
        },
        "2a73988bf9c6436bb80c17209bf81d2d": {
          "model_module": "@jupyter-widgets/controls",
          "model_name": "DescriptionStyleModel",
          "state": {
            "_view_name": "StyleView",
            "_model_name": "DescriptionStyleModel",
            "description_width": "",
            "_view_module": "@jupyter-widgets/base",
            "_model_module_version": "1.5.0",
            "_view_count": null,
            "_view_module_version": "1.2.0",
            "_model_module": "@jupyter-widgets/controls"
          }
        },
        "3627a7481aca44158bde22585a03a80c": {
          "model_module": "@jupyter-widgets/base",
          "model_name": "LayoutModel",
          "state": {
            "_view_name": "LayoutView",
            "grid_template_rows": null,
            "right": null,
            "justify_content": null,
            "_view_module": "@jupyter-widgets/base",
            "overflow": null,
            "_model_module_version": "1.2.0",
            "_view_count": null,
            "flex_flow": null,
            "width": null,
            "min_width": null,
            "border": null,
            "align_items": null,
            "bottom": null,
            "_model_module": "@jupyter-widgets/base",
            "top": null,
            "grid_column": null,
            "overflow_y": null,
            "overflow_x": null,
            "grid_auto_flow": null,
            "grid_area": null,
            "grid_template_columns": null,
            "flex": null,
            "_model_name": "LayoutModel",
            "justify_items": null,
            "grid_row": null,
            "max_height": null,
            "align_content": null,
            "visibility": null,
            "align_self": null,
            "height": null,
            "min_height": null,
            "padding": null,
            "grid_auto_rows": null,
            "grid_gap": null,
            "max_width": null,
            "order": null,
            "_view_module_version": "1.2.0",
            "grid_template_areas": null,
            "object_position": null,
            "object_fit": null,
            "grid_auto_columns": null,
            "margin": null,
            "display": null,
            "left": null
          }
        },
        "921432391aa9458da3fe88a5e436caf3": {
          "model_module": "@jupyter-widgets/controls",
          "model_name": "HBoxModel",
          "state": {
            "_view_name": "HBoxView",
            "_dom_classes": [],
            "_model_name": "HBoxModel",
            "_view_module": "@jupyter-widgets/controls",
            "_model_module_version": "1.5.0",
            "_view_count": null,
            "_view_module_version": "1.5.0",
            "box_style": "",
            "layout": "IPY_MODEL_3b88a139f0234a2183488119e88a30da",
            "_model_module": "@jupyter-widgets/controls",
            "children": [
              "IPY_MODEL_91554db813cd48d7a1f681564f6c5daa",
              "IPY_MODEL_e87c99d15b6c44c1aac7e059a71ac87b"
            ]
          }
        },
        "3b88a139f0234a2183488119e88a30da": {
          "model_module": "@jupyter-widgets/base",
          "model_name": "LayoutModel",
          "state": {
            "_view_name": "LayoutView",
            "grid_template_rows": null,
            "right": null,
            "justify_content": null,
            "_view_module": "@jupyter-widgets/base",
            "overflow": null,
            "_model_module_version": "1.2.0",
            "_view_count": null,
            "flex_flow": null,
            "width": null,
            "min_width": null,
            "border": null,
            "align_items": null,
            "bottom": null,
            "_model_module": "@jupyter-widgets/base",
            "top": null,
            "grid_column": null,
            "overflow_y": null,
            "overflow_x": null,
            "grid_auto_flow": null,
            "grid_area": null,
            "grid_template_columns": null,
            "flex": null,
            "_model_name": "LayoutModel",
            "justify_items": null,
            "grid_row": null,
            "max_height": null,
            "align_content": null,
            "visibility": null,
            "align_self": null,
            "height": null,
            "min_height": null,
            "padding": null,
            "grid_auto_rows": null,
            "grid_gap": null,
            "max_width": null,
            "order": null,
            "_view_module_version": "1.2.0",
            "grid_template_areas": null,
            "object_position": null,
            "object_fit": null,
            "grid_auto_columns": null,
            "margin": null,
            "display": null,
            "left": null
          }
        },
        "91554db813cd48d7a1f681564f6c5daa": {
          "model_module": "@jupyter-widgets/controls",
          "model_name": "FloatProgressModel",
          "state": {
            "_view_name": "ProgressView",
            "style": "IPY_MODEL_2790fc93dfc946659440d243ee13d8b6",
            "_dom_classes": [],
            "description": "",
            "_model_name": "FloatProgressModel",
            "bar_style": "success",
            "max": 1,
            "_view_module": "@jupyter-widgets/controls",
            "_model_module_version": "1.5.0",
            "value": 1,
            "_view_count": null,
            "_view_module_version": "1.5.0",
            "orientation": "horizontal",
            "min": 0,
            "description_tooltip": null,
            "_model_module": "@jupyter-widgets/controls",
            "layout": "IPY_MODEL_1de2922afe6044ed97d731b2900f2061"
          }
        },
        "e87c99d15b6c44c1aac7e059a71ac87b": {
          "model_module": "@jupyter-widgets/controls",
          "model_name": "HTMLModel",
          "state": {
            "_view_name": "HTMLView",
            "style": "IPY_MODEL_9f37188b7d6343dcae780e9f9f750a68",
            "_dom_classes": [],
            "description": "",
            "_model_name": "HTMLModel",
            "placeholder": "​",
            "_view_module": "@jupyter-widgets/controls",
            "_model_module_version": "1.5.0",
            "value": " 32768/? [00:01&lt;00:00, 21535.25it/s]",
            "_view_count": null,
            "_view_module_version": "1.5.0",
            "description_tooltip": null,
            "_model_module": "@jupyter-widgets/controls",
            "layout": "IPY_MODEL_bac6d79c38524516ba8b4cab32543ae1"
          }
        },
        "2790fc93dfc946659440d243ee13d8b6": {
          "model_module": "@jupyter-widgets/controls",
          "model_name": "ProgressStyleModel",
          "state": {
            "_view_name": "StyleView",
            "_model_name": "ProgressStyleModel",
            "description_width": "initial",
            "_view_module": "@jupyter-widgets/base",
            "_model_module_version": "1.5.0",
            "_view_count": null,
            "_view_module_version": "1.2.0",
            "bar_color": null,
            "_model_module": "@jupyter-widgets/controls"
          }
        },
        "1de2922afe6044ed97d731b2900f2061": {
          "model_module": "@jupyter-widgets/base",
          "model_name": "LayoutModel",
          "state": {
            "_view_name": "LayoutView",
            "grid_template_rows": null,
            "right": null,
            "justify_content": null,
            "_view_module": "@jupyter-widgets/base",
            "overflow": null,
            "_model_module_version": "1.2.0",
            "_view_count": null,
            "flex_flow": null,
            "width": null,
            "min_width": null,
            "border": null,
            "align_items": null,
            "bottom": null,
            "_model_module": "@jupyter-widgets/base",
            "top": null,
            "grid_column": null,
            "overflow_y": null,
            "overflow_x": null,
            "grid_auto_flow": null,
            "grid_area": null,
            "grid_template_columns": null,
            "flex": null,
            "_model_name": "LayoutModel",
            "justify_items": null,
            "grid_row": null,
            "max_height": null,
            "align_content": null,
            "visibility": null,
            "align_self": null,
            "height": null,
            "min_height": null,
            "padding": null,
            "grid_auto_rows": null,
            "grid_gap": null,
            "max_width": null,
            "order": null,
            "_view_module_version": "1.2.0",
            "grid_template_areas": null,
            "object_position": null,
            "object_fit": null,
            "grid_auto_columns": null,
            "margin": null,
            "display": null,
            "left": null
          }
        },
        "9f37188b7d6343dcae780e9f9f750a68": {
          "model_module": "@jupyter-widgets/controls",
          "model_name": "DescriptionStyleModel",
          "state": {
            "_view_name": "StyleView",
            "_model_name": "DescriptionStyleModel",
            "description_width": "",
            "_view_module": "@jupyter-widgets/base",
            "_model_module_version": "1.5.0",
            "_view_count": null,
            "_view_module_version": "1.2.0",
            "_model_module": "@jupyter-widgets/controls"
          }
        },
        "bac6d79c38524516ba8b4cab32543ae1": {
          "model_module": "@jupyter-widgets/base",
          "model_name": "LayoutModel",
          "state": {
            "_view_name": "LayoutView",
            "grid_template_rows": null,
            "right": null,
            "justify_content": null,
            "_view_module": "@jupyter-widgets/base",
            "overflow": null,
            "_model_module_version": "1.2.0",
            "_view_count": null,
            "flex_flow": null,
            "width": null,
            "min_width": null,
            "border": null,
            "align_items": null,
            "bottom": null,
            "_model_module": "@jupyter-widgets/base",
            "top": null,
            "grid_column": null,
            "overflow_y": null,
            "overflow_x": null,
            "grid_auto_flow": null,
            "grid_area": null,
            "grid_template_columns": null,
            "flex": null,
            "_model_name": "LayoutModel",
            "justify_items": null,
            "grid_row": null,
            "max_height": null,
            "align_content": null,
            "visibility": null,
            "align_self": null,
            "height": null,
            "min_height": null,
            "padding": null,
            "grid_auto_rows": null,
            "grid_gap": null,
            "max_width": null,
            "order": null,
            "_view_module_version": "1.2.0",
            "grid_template_areas": null,
            "object_position": null,
            "object_fit": null,
            "grid_auto_columns": null,
            "margin": null,
            "display": null,
            "left": null
          }
        },
        "bf91f355b7514baa93473213158e269e": {
          "model_module": "@jupyter-widgets/controls",
          "model_name": "HBoxModel",
          "state": {
            "_view_name": "HBoxView",
            "_dom_classes": [],
            "_model_name": "HBoxModel",
            "_view_module": "@jupyter-widgets/controls",
            "_model_module_version": "1.5.0",
            "_view_count": null,
            "_view_module_version": "1.5.0",
            "box_style": "",
            "layout": "IPY_MODEL_02eeb7e934b549698cdbc52a1d857bac",
            "_model_module": "@jupyter-widgets/controls",
            "children": [
              "IPY_MODEL_6ad93561f5524e4c9c422654cae81bca",
              "IPY_MODEL_013b66264f48446aa85f4dcbe6f0eee1"
            ]
          }
        },
        "02eeb7e934b549698cdbc52a1d857bac": {
          "model_module": "@jupyter-widgets/base",
          "model_name": "LayoutModel",
          "state": {
            "_view_name": "LayoutView",
            "grid_template_rows": null,
            "right": null,
            "justify_content": null,
            "_view_module": "@jupyter-widgets/base",
            "overflow": null,
            "_model_module_version": "1.2.0",
            "_view_count": null,
            "flex_flow": null,
            "width": null,
            "min_width": null,
            "border": null,
            "align_items": null,
            "bottom": null,
            "_model_module": "@jupyter-widgets/base",
            "top": null,
            "grid_column": null,
            "overflow_y": null,
            "overflow_x": null,
            "grid_auto_flow": null,
            "grid_area": null,
            "grid_template_columns": null,
            "flex": null,
            "_model_name": "LayoutModel",
            "justify_items": null,
            "grid_row": null,
            "max_height": null,
            "align_content": null,
            "visibility": null,
            "align_self": null,
            "height": null,
            "min_height": null,
            "padding": null,
            "grid_auto_rows": null,
            "grid_gap": null,
            "max_width": null,
            "order": null,
            "_view_module_version": "1.2.0",
            "grid_template_areas": null,
            "object_position": null,
            "object_fit": null,
            "grid_auto_columns": null,
            "margin": null,
            "display": null,
            "left": null
          }
        },
        "6ad93561f5524e4c9c422654cae81bca": {
          "model_module": "@jupyter-widgets/controls",
          "model_name": "FloatProgressModel",
          "state": {
            "_view_name": "ProgressView",
            "style": "IPY_MODEL_e23f714f89db4cab909b4fde72f69874",
            "_dom_classes": [],
            "description": "",
            "_model_name": "FloatProgressModel",
            "bar_style": "success",
            "max": 1,
            "_view_module": "@jupyter-widgets/controls",
            "_model_module_version": "1.5.0",
            "value": 1,
            "_view_count": null,
            "_view_module_version": "1.5.0",
            "orientation": "horizontal",
            "min": 0,
            "description_tooltip": null,
            "_model_module": "@jupyter-widgets/controls",
            "layout": "IPY_MODEL_8410b8ec88ce4d82bf51e5545adcbba8"
          }
        },
        "013b66264f48446aa85f4dcbe6f0eee1": {
          "model_module": "@jupyter-widgets/controls",
          "model_name": "HTMLModel",
          "state": {
            "_view_name": "HTMLView",
            "style": "IPY_MODEL_28be4acb66be437583919864d695586d",
            "_dom_classes": [],
            "description": "",
            "_model_name": "HTMLModel",
            "placeholder": "​",
            "_view_module": "@jupyter-widgets/controls",
            "_model_module_version": "1.5.0",
            "value": " 1654784/? [00:01&lt;00:00, 1360770.51it/s]",
            "_view_count": null,
            "_view_module_version": "1.5.0",
            "description_tooltip": null,
            "_model_module": "@jupyter-widgets/controls",
            "layout": "IPY_MODEL_36f2d44940b045a2ae8a28b9b6dd8c3a"
          }
        },
        "e23f714f89db4cab909b4fde72f69874": {
          "model_module": "@jupyter-widgets/controls",
          "model_name": "ProgressStyleModel",
          "state": {
            "_view_name": "StyleView",
            "_model_name": "ProgressStyleModel",
            "description_width": "initial",
            "_view_module": "@jupyter-widgets/base",
            "_model_module_version": "1.5.0",
            "_view_count": null,
            "_view_module_version": "1.2.0",
            "bar_color": null,
            "_model_module": "@jupyter-widgets/controls"
          }
        },
        "8410b8ec88ce4d82bf51e5545adcbba8": {
          "model_module": "@jupyter-widgets/base",
          "model_name": "LayoutModel",
          "state": {
            "_view_name": "LayoutView",
            "grid_template_rows": null,
            "right": null,
            "justify_content": null,
            "_view_module": "@jupyter-widgets/base",
            "overflow": null,
            "_model_module_version": "1.2.0",
            "_view_count": null,
            "flex_flow": null,
            "width": null,
            "min_width": null,
            "border": null,
            "align_items": null,
            "bottom": null,
            "_model_module": "@jupyter-widgets/base",
            "top": null,
            "grid_column": null,
            "overflow_y": null,
            "overflow_x": null,
            "grid_auto_flow": null,
            "grid_area": null,
            "grid_template_columns": null,
            "flex": null,
            "_model_name": "LayoutModel",
            "justify_items": null,
            "grid_row": null,
            "max_height": null,
            "align_content": null,
            "visibility": null,
            "align_self": null,
            "height": null,
            "min_height": null,
            "padding": null,
            "grid_auto_rows": null,
            "grid_gap": null,
            "max_width": null,
            "order": null,
            "_view_module_version": "1.2.0",
            "grid_template_areas": null,
            "object_position": null,
            "object_fit": null,
            "grid_auto_columns": null,
            "margin": null,
            "display": null,
            "left": null
          }
        },
        "28be4acb66be437583919864d695586d": {
          "model_module": "@jupyter-widgets/controls",
          "model_name": "DescriptionStyleModel",
          "state": {
            "_view_name": "StyleView",
            "_model_name": "DescriptionStyleModel",
            "description_width": "",
            "_view_module": "@jupyter-widgets/base",
            "_model_module_version": "1.5.0",
            "_view_count": null,
            "_view_module_version": "1.2.0",
            "_model_module": "@jupyter-widgets/controls"
          }
        },
        "36f2d44940b045a2ae8a28b9b6dd8c3a": {
          "model_module": "@jupyter-widgets/base",
          "model_name": "LayoutModel",
          "state": {
            "_view_name": "LayoutView",
            "grid_template_rows": null,
            "right": null,
            "justify_content": null,
            "_view_module": "@jupyter-widgets/base",
            "overflow": null,
            "_model_module_version": "1.2.0",
            "_view_count": null,
            "flex_flow": null,
            "width": null,
            "min_width": null,
            "border": null,
            "align_items": null,
            "bottom": null,
            "_model_module": "@jupyter-widgets/base",
            "top": null,
            "grid_column": null,
            "overflow_y": null,
            "overflow_x": null,
            "grid_auto_flow": null,
            "grid_area": null,
            "grid_template_columns": null,
            "flex": null,
            "_model_name": "LayoutModel",
            "justify_items": null,
            "grid_row": null,
            "max_height": null,
            "align_content": null,
            "visibility": null,
            "align_self": null,
            "height": null,
            "min_height": null,
            "padding": null,
            "grid_auto_rows": null,
            "grid_gap": null,
            "max_width": null,
            "order": null,
            "_view_module_version": "1.2.0",
            "grid_template_areas": null,
            "object_position": null,
            "object_fit": null,
            "grid_auto_columns": null,
            "margin": null,
            "display": null,
            "left": null
          }
        },
        "40d4f8697ed94d47b3f1e1ec69fe136a": {
          "model_module": "@jupyter-widgets/controls",
          "model_name": "HBoxModel",
          "state": {
            "_view_name": "HBoxView",
            "_dom_classes": [],
            "_model_name": "HBoxModel",
            "_view_module": "@jupyter-widgets/controls",
            "_model_module_version": "1.5.0",
            "_view_count": null,
            "_view_module_version": "1.5.0",
            "box_style": "",
            "layout": "IPY_MODEL_f3119f64bc6d4a5a83c2befd30fabc0b",
            "_model_module": "@jupyter-widgets/controls",
            "children": [
              "IPY_MODEL_becf3ae432e143a08cd2f1c324af09f0",
              "IPY_MODEL_7e75e4ffabf34891b3fd16adc5335808"
            ]
          }
        },
        "f3119f64bc6d4a5a83c2befd30fabc0b": {
          "model_module": "@jupyter-widgets/base",
          "model_name": "LayoutModel",
          "state": {
            "_view_name": "LayoutView",
            "grid_template_rows": null,
            "right": null,
            "justify_content": null,
            "_view_module": "@jupyter-widgets/base",
            "overflow": null,
            "_model_module_version": "1.2.0",
            "_view_count": null,
            "flex_flow": null,
            "width": null,
            "min_width": null,
            "border": null,
            "align_items": null,
            "bottom": null,
            "_model_module": "@jupyter-widgets/base",
            "top": null,
            "grid_column": null,
            "overflow_y": null,
            "overflow_x": null,
            "grid_auto_flow": null,
            "grid_area": null,
            "grid_template_columns": null,
            "flex": null,
            "_model_name": "LayoutModel",
            "justify_items": null,
            "grid_row": null,
            "max_height": null,
            "align_content": null,
            "visibility": null,
            "align_self": null,
            "height": null,
            "min_height": null,
            "padding": null,
            "grid_auto_rows": null,
            "grid_gap": null,
            "max_width": null,
            "order": null,
            "_view_module_version": "1.2.0",
            "grid_template_areas": null,
            "object_position": null,
            "object_fit": null,
            "grid_auto_columns": null,
            "margin": null,
            "display": null,
            "left": null
          }
        },
        "becf3ae432e143a08cd2f1c324af09f0": {
          "model_module": "@jupyter-widgets/controls",
          "model_name": "FloatProgressModel",
          "state": {
            "_view_name": "ProgressView",
            "style": "IPY_MODEL_6d2652c44693479aa8c1aaf1f9d1c4e0",
            "_dom_classes": [],
            "description": "",
            "_model_name": "FloatProgressModel",
            "bar_style": "success",
            "max": 1,
            "_view_module": "@jupyter-widgets/controls",
            "_model_module_version": "1.5.0",
            "value": 1,
            "_view_count": null,
            "_view_module_version": "1.5.0",
            "orientation": "horizontal",
            "min": 0,
            "description_tooltip": null,
            "_model_module": "@jupyter-widgets/controls",
            "layout": "IPY_MODEL_520ada4a4a964040a12a680922bcf98b"
          }
        },
        "7e75e4ffabf34891b3fd16adc5335808": {
          "model_module": "@jupyter-widgets/controls",
          "model_name": "HTMLModel",
          "state": {
            "_view_name": "HTMLView",
            "style": "IPY_MODEL_6ba115a90d4f4ceaa1335dab0e17ee5a",
            "_dom_classes": [],
            "description": "",
            "_model_name": "HTMLModel",
            "placeholder": "​",
            "_view_module": "@jupyter-widgets/controls",
            "_model_module_version": "1.5.0",
            "value": " 8192/? [00:00&lt;00:00, 20409.41it/s]",
            "_view_count": null,
            "_view_module_version": "1.5.0",
            "description_tooltip": null,
            "_model_module": "@jupyter-widgets/controls",
            "layout": "IPY_MODEL_96c97fc378564f74bf5a8405fbda72d4"
          }
        },
        "6d2652c44693479aa8c1aaf1f9d1c4e0": {
          "model_module": "@jupyter-widgets/controls",
          "model_name": "ProgressStyleModel",
          "state": {
            "_view_name": "StyleView",
            "_model_name": "ProgressStyleModel",
            "description_width": "initial",
            "_view_module": "@jupyter-widgets/base",
            "_model_module_version": "1.5.0",
            "_view_count": null,
            "_view_module_version": "1.2.0",
            "bar_color": null,
            "_model_module": "@jupyter-widgets/controls"
          }
        },
        "520ada4a4a964040a12a680922bcf98b": {
          "model_module": "@jupyter-widgets/base",
          "model_name": "LayoutModel",
          "state": {
            "_view_name": "LayoutView",
            "grid_template_rows": null,
            "right": null,
            "justify_content": null,
            "_view_module": "@jupyter-widgets/base",
            "overflow": null,
            "_model_module_version": "1.2.0",
            "_view_count": null,
            "flex_flow": null,
            "width": null,
            "min_width": null,
            "border": null,
            "align_items": null,
            "bottom": null,
            "_model_module": "@jupyter-widgets/base",
            "top": null,
            "grid_column": null,
            "overflow_y": null,
            "overflow_x": null,
            "grid_auto_flow": null,
            "grid_area": null,
            "grid_template_columns": null,
            "flex": null,
            "_model_name": "LayoutModel",
            "justify_items": null,
            "grid_row": null,
            "max_height": null,
            "align_content": null,
            "visibility": null,
            "align_self": null,
            "height": null,
            "min_height": null,
            "padding": null,
            "grid_auto_rows": null,
            "grid_gap": null,
            "max_width": null,
            "order": null,
            "_view_module_version": "1.2.0",
            "grid_template_areas": null,
            "object_position": null,
            "object_fit": null,
            "grid_auto_columns": null,
            "margin": null,
            "display": null,
            "left": null
          }
        },
        "6ba115a90d4f4ceaa1335dab0e17ee5a": {
          "model_module": "@jupyter-widgets/controls",
          "model_name": "DescriptionStyleModel",
          "state": {
            "_view_name": "StyleView",
            "_model_name": "DescriptionStyleModel",
            "description_width": "",
            "_view_module": "@jupyter-widgets/base",
            "_model_module_version": "1.5.0",
            "_view_count": null,
            "_view_module_version": "1.2.0",
            "_model_module": "@jupyter-widgets/controls"
          }
        },
        "96c97fc378564f74bf5a8405fbda72d4": {
          "model_module": "@jupyter-widgets/base",
          "model_name": "LayoutModel",
          "state": {
            "_view_name": "LayoutView",
            "grid_template_rows": null,
            "right": null,
            "justify_content": null,
            "_view_module": "@jupyter-widgets/base",
            "overflow": null,
            "_model_module_version": "1.2.0",
            "_view_count": null,
            "flex_flow": null,
            "width": null,
            "min_width": null,
            "border": null,
            "align_items": null,
            "bottom": null,
            "_model_module": "@jupyter-widgets/base",
            "top": null,
            "grid_column": null,
            "overflow_y": null,
            "overflow_x": null,
            "grid_auto_flow": null,
            "grid_area": null,
            "grid_template_columns": null,
            "flex": null,
            "_model_name": "LayoutModel",
            "justify_items": null,
            "grid_row": null,
            "max_height": null,
            "align_content": null,
            "visibility": null,
            "align_self": null,
            "height": null,
            "min_height": null,
            "padding": null,
            "grid_auto_rows": null,
            "grid_gap": null,
            "max_width": null,
            "order": null,
            "_view_module_version": "1.2.0",
            "grid_template_areas": null,
            "object_position": null,
            "object_fit": null,
            "grid_auto_columns": null,
            "margin": null,
            "display": null,
            "left": null
          }
        }
      }
    }
  },
  "cells": [
    {
      "cell_type": "markdown",
      "metadata": {
        "id": "view-in-github",
        "colab_type": "text"
      },
      "source": [
        "<a href=\"https://colab.research.google.com/github/hectic97/Boostcamp-AI-Tech/blob/main/U-stage/Week3/cnn.ipynb\" target=\"_parent\"><img src=\"https://colab.research.google.com/assets/colab-badge.svg\" alt=\"Open In Colab\"/></a>"
      ]
    },
    {
      "cell_type": "markdown",
      "metadata": {
        "id": "oGfS2g6XvFEw"
      },
      "source": [
        "<table class=\"tfo-notebook-buttons\" align=\"left\">\n",
        "  <td>\n",
        "    <a target=\"_blank\" href=\"https://colab.research.google.com/github/sjchoi86/upstage-basic-deeplearning/blob/main/notebook/cnn.ipynb\"><img src=\"https://www.tensorflow.org/images/colab_logo_32px.png\" />Colab</a>\n",
        "  </td>\n",
        "  <td>\n",
        "    <a target=\"_blank\" href=\"https://github.com/sjchoi86/upstage-basic-deeplearning/blob/main/notebook/cnn.ipynb\"><img src=\"https://www.tensorflow.org/images/GitHub-Mark-32px.png\" />View Source</a>\n",
        "  </td>\n",
        "</table>"
      ]
    },
    {
      "cell_type": "markdown",
      "metadata": {
        "id": "FJIOvMYGLFH6"
      },
      "source": [
        "# Convolutional Neural Network (CNN)"
      ]
    },
    {
      "cell_type": "code",
      "metadata": {
        "id": "khkLmD7yK_ei",
        "colab": {
          "base_uri": "https://localhost:8080/"
        },
        "outputId": "76af679f-4c10-40f9-e21c-4ad220832bc7"
      },
      "source": [
        "import numpy as np\n",
        "import matplotlib.pyplot as plt\n",
        "import torch\n",
        "import torch.nn as nn\n",
        "import torch.optim as optim\n",
        "import torch.nn.functional as F\n",
        "%matplotlib inline\n",
        "%config InlineBackend.figure_format='retina'\n",
        "print (\"PyTorch version:[%s].\"%(torch.__version__))\n",
        "device = torch.device('cuda:0' if torch.cuda.is_available() else 'cpu')\n",
        "print (\"device:[%s].\"%(device))"
      ],
      "execution_count": 2,
      "outputs": [
        {
          "output_type": "stream",
          "text": [
            "PyTorch version:[1.7.0+cu101].\n",
            "device:[cuda:0].\n"
          ],
          "name": "stdout"
        }
      ]
    },
    {
      "cell_type": "markdown",
      "metadata": {
        "id": "aciwjqf7MsTa"
      },
      "source": [
        "### Dataset"
      ]
    },
    {
      "cell_type": "code",
      "metadata": {
        "id": "GojZi6XMLZZ5",
        "colab": {
          "base_uri": "https://localhost:8080/",
          "height": 759,
          "referenced_widgets": [
            "ac60404938e947e8a6c649d8e0a68ce6",
            "eb69f758880e43bf8288b02929846126",
            "963a8fab1c05412ca1e00531828bb9c2",
            "7962f3a9216742b886dd19e89a0800ed",
            "3c654a0c906e4c6197f56b8eae8786a4",
            "74143023f7de4062bdf8dd3461abf309",
            "2a73988bf9c6436bb80c17209bf81d2d",
            "3627a7481aca44158bde22585a03a80c",
            "921432391aa9458da3fe88a5e436caf3",
            "3b88a139f0234a2183488119e88a30da",
            "91554db813cd48d7a1f681564f6c5daa",
            "e87c99d15b6c44c1aac7e059a71ac87b",
            "2790fc93dfc946659440d243ee13d8b6",
            "1de2922afe6044ed97d731b2900f2061",
            "9f37188b7d6343dcae780e9f9f750a68",
            "bac6d79c38524516ba8b4cab32543ae1",
            "bf91f355b7514baa93473213158e269e",
            "02eeb7e934b549698cdbc52a1d857bac",
            "6ad93561f5524e4c9c422654cae81bca",
            "013b66264f48446aa85f4dcbe6f0eee1",
            "e23f714f89db4cab909b4fde72f69874",
            "8410b8ec88ce4d82bf51e5545adcbba8",
            "28be4acb66be437583919864d695586d",
            "36f2d44940b045a2ae8a28b9b6dd8c3a",
            "40d4f8697ed94d47b3f1e1ec69fe136a",
            "f3119f64bc6d4a5a83c2befd30fabc0b",
            "becf3ae432e143a08cd2f1c324af09f0",
            "7e75e4ffabf34891b3fd16adc5335808",
            "6d2652c44693479aa8c1aaf1f9d1c4e0",
            "520ada4a4a964040a12a680922bcf98b",
            "6ba115a90d4f4ceaa1335dab0e17ee5a",
            "96c97fc378564f74bf5a8405fbda72d4"
          ]
        },
        "outputId": "3f06f4bf-0629-4738-f071-f474c0d7ba6d"
      },
      "source": [
        "from torchvision import datasets,transforms\n",
        "mnist_train = datasets.MNIST(root='./data/',train=True,transform=transforms.ToTensor(),download=True)\n",
        "mnist_test = datasets.MNIST(root='./data/',train=False,transform=transforms.ToTensor(),download=True)\n",
        "print (\"mnist_train:\\n\",mnist_train,\"\\n\")\n",
        "print (\"mnist_test:\\n\",mnist_test,\"\\n\")\n",
        "print (\"Done.\")"
      ],
      "execution_count": 3,
      "outputs": [
        {
          "output_type": "stream",
          "text": [
            "Downloading http://yann.lecun.com/exdb/mnist/train-images-idx3-ubyte.gz to ./data/MNIST/raw/train-images-idx3-ubyte.gz\n"
          ],
          "name": "stdout"
        },
        {
          "output_type": "display_data",
          "data": {
            "application/vnd.jupyter.widget-view+json": {
              "model_id": "ac60404938e947e8a6c649d8e0a68ce6",
              "version_minor": 0,
              "version_major": 2
            },
            "text/plain": [
              "HBox(children=(FloatProgress(value=1.0, bar_style='info', max=1.0), HTML(value='')))"
            ]
          },
          "metadata": {
            "tags": []
          }
        },
        {
          "output_type": "stream",
          "text": [
            "Extracting ./data/MNIST/raw/train-images-idx3-ubyte.gz to ./data/MNIST/raw\n",
            "Downloading http://yann.lecun.com/exdb/mnist/train-labels-idx1-ubyte.gz to ./data/MNIST/raw/train-labels-idx1-ubyte.gz\n"
          ],
          "name": "stdout"
        },
        {
          "output_type": "display_data",
          "data": {
            "application/vnd.jupyter.widget-view+json": {
              "model_id": "921432391aa9458da3fe88a5e436caf3",
              "version_minor": 0,
              "version_major": 2
            },
            "text/plain": [
              "HBox(children=(FloatProgress(value=1.0, bar_style='info', max=1.0), HTML(value='')))"
            ]
          },
          "metadata": {
            "tags": []
          }
        },
        {
          "output_type": "stream",
          "text": [
            "Extracting ./data/MNIST/raw/train-labels-idx1-ubyte.gz to ./data/MNIST/raw\n",
            "Downloading http://yann.lecun.com/exdb/mnist/t10k-images-idx3-ubyte.gz to ./data/MNIST/raw/t10k-images-idx3-ubyte.gz\n"
          ],
          "name": "stdout"
        },
        {
          "output_type": "display_data",
          "data": {
            "application/vnd.jupyter.widget-view+json": {
              "model_id": "bf91f355b7514baa93473213158e269e",
              "version_minor": 0,
              "version_major": 2
            },
            "text/plain": [
              "HBox(children=(FloatProgress(value=1.0, bar_style='info', max=1.0), HTML(value='')))"
            ]
          },
          "metadata": {
            "tags": []
          }
        },
        {
          "output_type": "stream",
          "text": [
            "Extracting ./data/MNIST/raw/t10k-images-idx3-ubyte.gz to ./data/MNIST/raw\n",
            "Downloading http://yann.lecun.com/exdb/mnist/t10k-labels-idx1-ubyte.gz to ./data/MNIST/raw/t10k-labels-idx1-ubyte.gz\n"
          ],
          "name": "stdout"
        },
        {
          "output_type": "display_data",
          "data": {
            "application/vnd.jupyter.widget-view+json": {
              "model_id": "40d4f8697ed94d47b3f1e1ec69fe136a",
              "version_minor": 0,
              "version_major": 2
            },
            "text/plain": [
              "HBox(children=(FloatProgress(value=1.0, bar_style='info', max=1.0), HTML(value='')))"
            ]
          },
          "metadata": {
            "tags": []
          }
        },
        {
          "output_type": "stream",
          "text": [
            "Extracting ./data/MNIST/raw/t10k-labels-idx1-ubyte.gz to ./data/MNIST/raw\n",
            "Processing...\n",
            "Done!\n",
            "mnist_train:\n",
            " Dataset MNIST\n",
            "    Number of datapoints: 60000\n",
            "    Root location: ./data/\n",
            "    Split: Train\n",
            "    StandardTransform\n",
            "Transform: ToTensor() \n",
            "\n",
            "\n",
            "\n",
            "\n",
            "\n",
            "mnist_test:\n",
            " Dataset MNIST\n",
            "    Number of datapoints: 10000\n",
            "    Root location: ./data/\n",
            "    Split: Test\n",
            "    StandardTransform\n",
            "Transform: ToTensor() \n",
            "\n",
            "Done.\n"
          ],
          "name": "stdout"
        },
        {
          "output_type": "stream",
          "text": [
            "/usr/local/lib/python3.6/dist-packages/torchvision/datasets/mnist.py:480: UserWarning: The given NumPy array is not writeable, and PyTorch does not support non-writeable tensors. This means you can write to the underlying (supposedly non-writeable) NumPy array using the tensor. You may want to copy the array to protect its data or make it writeable before converting it to a tensor. This type of warning will be suppressed for the rest of this program. (Triggered internally at  /pytorch/torch/csrc/utils/tensor_numpy.cpp:141.)\n",
            "  return torch.from_numpy(parsed.astype(m[2], copy=False)).view(*s)\n"
          ],
          "name": "stderr"
        }
      ]
    },
    {
      "cell_type": "markdown",
      "metadata": {
        "id": "vD9uNmGDN3Fx"
      },
      "source": [
        "### Data Iterator"
      ]
    },
    {
      "cell_type": "code",
      "metadata": {
        "id": "kt2NQt92LaP8",
        "colab": {
          "base_uri": "https://localhost:8080/"
        },
        "outputId": "47eae261-466e-40b5-e122-64bf08f8c383"
      },
      "source": [
        "BATCH_SIZE = 256\n",
        "train_iter = torch.utils.data.DataLoader(mnist_train,batch_size=BATCH_SIZE,shuffle=True,num_workers=1)\n",
        "test_iter = torch.utils.data.DataLoader(mnist_test,batch_size=BATCH_SIZE,shuffle=True,num_workers=1)\n",
        "print (\"Done.\")"
      ],
      "execution_count": 4,
      "outputs": [
        {
          "output_type": "stream",
          "text": [
            "Done.\n"
          ],
          "name": "stdout"
        }
      ]
    },
    {
      "cell_type": "markdown",
      "metadata": {
        "id": "Kx8FI2g3ONca"
      },
      "source": [
        "### Define Model"
      ]
    },
    {
      "cell_type": "code",
      "metadata": {
        "id": "hMBOgjaVLalV",
        "colab": {
          "base_uri": "https://localhost:8080/"
        },
        "outputId": "07a2ef11-ab1f-4007-d377-adc2783c1b19"
      },
      "source": [
        "class ConvolutionalNeuralNetworkClass(nn.Module):\n",
        "    \"\"\"\n",
        "        Convolutional Neural Network (CNN) Class\n",
        "    \"\"\"\n",
        "    def __init__(self,name='cnn',xdim=[1,28,28],\n",
        "                 ksize=3,cdims=[32,64],hdims=[1024,128],ydim=10,\n",
        "                 USE_BATCHNORM=False):\n",
        "        super(ConvolutionalNeuralNetworkClass,self).__init__()\n",
        "        self.name = name\n",
        "        self.xdim = xdim\n",
        "        self.ksize = ksize\n",
        "        self.cdims = cdims\n",
        "        self.hdims = hdims\n",
        "        self.ydim = ydim\n",
        "        self.USE_BATCHNORM = USE_BATCHNORM\n",
        "\n",
        "        # Convolutional layers\n",
        "        self.layers = []\n",
        "        prev_cdim = self.xdim[0]\n",
        "        for cdim in self.cdims: # for each hidden layer\n",
        "            self.layers.append(\n",
        "                nn.Conv2d(prev_cdim,cdim,self.ksize,padding=self.ksize//2)\n",
        "             ) # convlution \n",
        "            if self.USE_BATCHNORM:\n",
        "                self.layers.append(nn.BatchNorm2d(cdim)) # batch-norm\n",
        "            self.layers.append(nn.ReLU(True))  # activation\n",
        "            self.layers.append(nn.MaxPool2d(kernel_size=(2,2), stride=(2,2))) # max-pooling \n",
        "            self.layers.append(nn.Dropout2d(p=0.5))  # dropout\n",
        "            prev_cdim = cdim\n",
        "\n",
        "        # Dense layers\n",
        "        self.layers.append(nn.Flatten())\n",
        "        prev_hdim = prev_cdim*(self.xdim[1]//(2**len(self.cdims)))*(self.xdim[2]//(2**len(self.cdims)))\n",
        "        for hdim in self.hdims:\n",
        "            self.layers.append(nn.Linear(\n",
        "                prev_hdim,hdim\n",
        "                               ))\n",
        "            self.layers.append(nn.ReLU(True))  # activation\n",
        "            prev_hdim = hdim\n",
        "        # Final layer (without activation)\n",
        "        self.layers.append(nn.Linear(prev_hdim,self.ydim,bias=True))\n",
        "\n",
        "        # Concatenate all layers \n",
        "        self.net = nn.Sequential()\n",
        "        for l_idx,layer in enumerate(self.layers):\n",
        "            layer_name = \"%s_%02d\"%(type(layer).__name__.lower(),l_idx)\n",
        "            self.net.add_module(layer_name,layer)\n",
        "        self.init_param() # initialize parameters\n",
        "        \n",
        "    def init_param(self):\n",
        "        for m in self.modules():\n",
        "            if isinstance(m,nn.Conv2d): # init conv\n",
        "                nn.init.kaiming_normal_(m.weight)\n",
        "                nn.init.zeros_(m.bias)\n",
        "            elif isinstance(m,nn.BatchNorm2d): # init BN\n",
        "                nn.init.constant_(m.weight,1)\n",
        "                nn.init.constant_(m.bias,0)\n",
        "            elif isinstance(m,nn.Linear): # lnit dense\n",
        "                nn.init.kaiming_normal_(m.weight)\n",
        "                nn.init.zeros_(m.bias)\n",
        "            \n",
        "    def forward(self,x):\n",
        "        return self.net(x)\n",
        "\n",
        "C = ConvolutionalNeuralNetworkClass(\n",
        "    name='cnn',xdim=[1,28,28],ksize=3,cdims=[32,64],\n",
        "    hdims=[32],ydim=10).to(device)\n",
        "loss = nn.CrossEntropyLoss()\n",
        "optm = optim.Adam(C.parameters(),lr=1e-3)\n",
        "print (\"Done.\")"
      ],
      "execution_count": 5,
      "outputs": [
        {
          "output_type": "stream",
          "text": [
            "Done.\n"
          ],
          "name": "stdout"
        }
      ]
    },
    {
      "cell_type": "markdown",
      "metadata": {
        "id": "Gd4GqagEaaxP"
      },
      "source": [
        "### Check Parameters"
      ]
    },
    {
      "cell_type": "code",
      "metadata": {
        "id": "s9JhupRpaahm",
        "colab": {
          "base_uri": "https://localhost:8080/"
        },
        "outputId": "5815d043-9d2d-4ee3-9811-40985ac0b553"
      },
      "source": [
        "np.set_printoptions(precision=3)\n",
        "n_param = 0\n",
        "for p_idx,(param_name,param) in enumerate(C.named_parameters()):\n",
        "    if param.requires_grad:\n",
        "        param_numpy = param.detach().cpu().numpy() # to numpy array \n",
        "        n_param += len(param_numpy.reshape(-1))\n",
        "        print (\"[%d] name:[%s] shape:[%s].\"%(p_idx,param_name,param_numpy.shape))\n",
        "        print (\"    val:%s\"%(param_numpy.reshape(-1)[:5]))\n",
        "print (\"Total number of parameters:[%s].\"%(format(n_param,',d')))"
      ],
      "execution_count": 6,
      "outputs": [
        {
          "output_type": "stream",
          "text": [
            "[0] name:[net.conv2d_00.weight] shape:[(32, 1, 3, 3)].\n",
            "    val:[-0.255 -0.2    0.739 -0.308  0.483]\n",
            "[1] name:[net.conv2d_00.bias] shape:[(32,)].\n",
            "    val:[0. 0. 0. 0. 0.]\n",
            "[2] name:[net.conv2d_04.weight] shape:[(64, 32, 3, 3)].\n",
            "    val:[-0.005  0.167  0.003 -0.026  0.019]\n",
            "[3] name:[net.conv2d_04.bias] shape:[(64,)].\n",
            "    val:[0. 0. 0. 0. 0.]\n",
            "[4] name:[net.linear_09.weight] shape:[(32, 3136)].\n",
            "    val:[-0.027 -0.003 -0.02  -0.023  0.017]\n",
            "[5] name:[net.linear_09.bias] shape:[(32,)].\n",
            "    val:[0. 0. 0. 0. 0.]\n",
            "[6] name:[net.linear_11.weight] shape:[(10, 32)].\n",
            "    val:[ 0.296  0.066 -0.497 -0.289 -0.01 ]\n",
            "[7] name:[net.linear_11.bias] shape:[(10,)].\n",
            "    val:[0. 0. 0. 0. 0.]\n",
            "Total number of parameters:[119,530].\n"
          ],
          "name": "stdout"
        }
      ]
    },
    {
      "cell_type": "markdown",
      "metadata": {
        "id": "i574DsE8Z039"
      },
      "source": [
        "### Simple Forward Path of the CNN Model"
      ]
    },
    {
      "cell_type": "code",
      "metadata": {
        "id": "cJl7XSQMORAZ",
        "colab": {
          "base_uri": "https://localhost:8080/"
        },
        "outputId": "ab19626a-4725-4cac-c27c-9f276e79038e"
      },
      "source": [
        "np.set_printoptions(precision=3)\n",
        "torch.set_printoptions(precision=3)\n",
        "x_numpy = np.random.rand(2,1,28,28)\n",
        "x_torch = torch.from_numpy(x_numpy).float().to(device)\n",
        "y_torch = C.forward(x_torch) # forward path\n",
        "y_numpy = y_torch.detach().cpu().numpy() # torch tensor to numpy array\n",
        "print (\"x_torch:\\n\",x_torch)\n",
        "print (\"y_torch:\\n\",y_torch)\n",
        "print (\"\\nx_numpy %s:\\n\"%(x_numpy.shape,),x_numpy)\n",
        "print (\"y_numpy %s:\\n\"%(y_numpy.shape,),y_numpy)"
      ],
      "execution_count": 7,
      "outputs": [
        {
          "output_type": "stream",
          "text": [
            "x_torch:\n",
            " tensor([[[[3.643e-01, 7.699e-01, 8.312e-01,  ..., 3.210e-01, 2.723e-01,\n",
            "           6.072e-01],\n",
            "          [1.460e-01, 4.422e-01, 5.838e-01,  ..., 8.933e-01, 3.918e-02,\n",
            "           4.421e-01],\n",
            "          [1.107e-01, 5.119e-01, 4.461e-01,  ..., 7.454e-01, 9.310e-01,\n",
            "           1.116e-02],\n",
            "          ...,\n",
            "          [8.456e-01, 1.435e-02, 1.598e-01,  ..., 1.832e-01, 7.859e-01,\n",
            "           2.617e-01],\n",
            "          [8.245e-01, 1.866e-01, 2.297e-01,  ..., 3.215e-01, 5.651e-01,\n",
            "           5.105e-01],\n",
            "          [3.781e-01, 2.741e-01, 9.348e-01,  ..., 2.591e-01, 7.025e-01,\n",
            "           2.532e-04]]],\n",
            "\n",
            "\n",
            "        [[[5.328e-01, 5.376e-01, 2.796e-01,  ..., 4.113e-03, 8.470e-01,\n",
            "           7.105e-01],\n",
            "          [3.018e-02, 8.140e-01, 4.501e-01,  ..., 7.666e-02, 5.083e-01,\n",
            "           6.083e-01],\n",
            "          [4.828e-01, 6.295e-01, 1.820e-01,  ..., 9.605e-03, 6.115e-01,\n",
            "           1.354e-01],\n",
            "          ...,\n",
            "          [9.591e-01, 5.771e-01, 2.892e-01,  ..., 1.771e-02, 7.597e-01,\n",
            "           3.138e-01],\n",
            "          [8.439e-01, 8.028e-01, 7.040e-01,  ..., 8.793e-01, 5.311e-01,\n",
            "           8.796e-01],\n",
            "          [3.239e-01, 3.764e-01, 8.150e-01,  ..., 9.461e-01, 1.234e-01,\n",
            "           5.001e-01]]]], device='cuda:0')\n",
            "y_torch:\n",
            " tensor([[ 5.134, -0.390, -4.073,  8.273, -6.484, -2.418, -1.777,  6.274,  4.460,\n",
            "         -3.907],\n",
            "        [-1.625, -4.806, -1.159,  3.966, -3.269, -2.037, -2.039, -4.128,  1.635,\n",
            "         -5.080]], device='cuda:0', grad_fn=<AddmmBackward>)\n",
            "\n",
            "x_numpy (2, 1, 28, 28):\n",
            " [[[[3.643e-01 7.699e-01 8.312e-01 ... 3.210e-01 2.723e-01 6.072e-01]\n",
            "   [1.460e-01 4.422e-01 5.838e-01 ... 8.933e-01 3.918e-02 4.421e-01]\n",
            "   [1.107e-01 5.119e-01 4.461e-01 ... 7.454e-01 9.310e-01 1.116e-02]\n",
            "   ...\n",
            "   [8.456e-01 1.435e-02 1.598e-01 ... 1.832e-01 7.859e-01 2.617e-01]\n",
            "   [8.245e-01 1.866e-01 2.297e-01 ... 3.215e-01 5.651e-01 5.105e-01]\n",
            "   [3.781e-01 2.741e-01 9.348e-01 ... 2.591e-01 7.025e-01 2.532e-04]]]\n",
            "\n",
            "\n",
            " [[[5.328e-01 5.376e-01 2.796e-01 ... 4.113e-03 8.470e-01 7.105e-01]\n",
            "   [3.018e-02 8.140e-01 4.501e-01 ... 7.666e-02 5.083e-01 6.083e-01]\n",
            "   [4.828e-01 6.295e-01 1.820e-01 ... 9.605e-03 6.115e-01 1.354e-01]\n",
            "   ...\n",
            "   [9.591e-01 5.771e-01 2.892e-01 ... 1.771e-02 7.597e-01 3.138e-01]\n",
            "   [8.439e-01 8.028e-01 7.040e-01 ... 8.793e-01 5.311e-01 8.796e-01]\n",
            "   [3.239e-01 3.764e-01 8.150e-01 ... 9.461e-01 1.234e-01 5.001e-01]]]]\n",
            "y_numpy (2, 10):\n",
            " [[ 5.134 -0.39  -4.073  8.273 -6.484 -2.418 -1.777  6.274  4.46  -3.907]\n",
            " [-1.625 -4.806 -1.159  3.966 -3.269 -2.037 -2.039 -4.128  1.635 -5.08 ]]\n"
          ],
          "name": "stdout"
        }
      ]
    },
    {
      "cell_type": "markdown",
      "metadata": {
        "id": "9-qCaXAKcOLx"
      },
      "source": [
        "### Evaluation Function"
      ]
    },
    {
      "cell_type": "code",
      "metadata": {
        "id": "q9LmS7OqcNzh",
        "colab": {
          "base_uri": "https://localhost:8080/"
        },
        "outputId": "f77ed56d-d8a7-4cde-f179-232d6d4cd73e"
      },
      "source": [
        "def func_eval(model,data_iter,device):\n",
        "    with torch.no_grad():\n",
        "        n_total,n_correct = 0,0\n",
        "        model.eval() # evaluate (affects DropOut and BN)\n",
        "        for batch_in,batch_out in data_iter:\n",
        "            y_trgt = batch_out.to(device)\n",
        "            model_pred = model(batch_in.view(-1,1,28,28).to(device))\n",
        "            _,y_pred = torch.max(model_pred.data,1)\n",
        "            n_correct += (y_pred==y_trgt).sum().item()\n",
        "            n_total += batch_in.size(0)\n",
        "        val_accr = (n_correct/n_total)\n",
        "        model.train() # back to train mode \n",
        "    return val_accr\n",
        "print (\"Done\")"
      ],
      "execution_count": 8,
      "outputs": [
        {
          "output_type": "stream",
          "text": [
            "Done\n"
          ],
          "name": "stdout"
        }
      ]
    },
    {
      "cell_type": "markdown",
      "metadata": {
        "id": "iy7XZ21CiNZA"
      },
      "source": [
        "### Initial Evaluation"
      ]
    },
    {
      "cell_type": "code",
      "metadata": {
        "id": "EMR1DaAyLa5Y",
        "colab": {
          "base_uri": "https://localhost:8080/"
        },
        "outputId": "c5b57385-8c1f-4ae6-e2b0-ec35f07f546d"
      },
      "source": [
        "C.init_param() # initialize parameters\n",
        "train_accr = func_eval(C,train_iter,device)\n",
        "test_accr = func_eval(C,test_iter,device)\n",
        "print (\"train_accr:[%.3f] test_accr:[%.3f].\"%(train_accr,test_accr))"
      ],
      "execution_count": 9,
      "outputs": [
        {
          "output_type": "stream",
          "text": [
            "train_accr:[0.129] test_accr:[0.134].\n"
          ],
          "name": "stdout"
        }
      ]
    },
    {
      "cell_type": "markdown",
      "metadata": {
        "id": "c6s_S4BIipcT"
      },
      "source": [
        "### Train"
      ]
    },
    {
      "cell_type": "code",
      "metadata": {
        "id": "2LNJOJVCiO3k",
        "colab": {
          "base_uri": "https://localhost:8080/"
        },
        "outputId": "3031c416-5617-4038-dfe4-a2a800335ffd"
      },
      "source": [
        "print (\"Start training.\")\n",
        "C.init_param() # initialize parameters\n",
        "C.train() # to train mode \n",
        "EPOCHS,print_every = 10,1\n",
        "for epoch in range(EPOCHS):\n",
        "    loss_val_sum = 0\n",
        "    for batch_in,batch_out in train_iter:\n",
        "        # Forward path\n",
        "        y_pred = C.forward(batch_in.view(-1,1,28,28).to(device))\n",
        "        loss_out = loss(y_pred,batch_out.to(device))\n",
        "        # Update\n",
        "        optm.zero_grad()    # reset gradient \n",
        "        loss_out.backward()    # backpropagate\n",
        "        optm.step()    # optimizer update\n",
        "        loss_val_sum += loss_out\n",
        "    loss_val_avg = loss_val_sum/len(train_iter)\n",
        "    # Print\n",
        "    if ((epoch%print_every)==0) or (epoch==(EPOCHS-1)):\n",
        "        train_accr = func_eval(C,train_iter,device)\n",
        "        test_accr = func_eval(C,test_iter,device)\n",
        "        print (\"epoch:[%d] loss:[%.3f] train_accr:[%.3f] test_accr:[%.3f].\"%\n",
        "               (epoch,loss_val_avg,train_accr,test_accr))\n",
        "print (\"Done\")"
      ],
      "execution_count": 10,
      "outputs": [
        {
          "output_type": "stream",
          "text": [
            "Start training.\n",
            "epoch:[0] loss:[0.618] train_accr:[0.956] test_accr:[0.958].\n",
            "epoch:[1] loss:[0.181] train_accr:[0.973] test_accr:[0.973].\n",
            "epoch:[2] loss:[0.130] train_accr:[0.979] test_accr:[0.977].\n",
            "epoch:[3] loss:[0.104] train_accr:[0.983] test_accr:[0.981].\n",
            "epoch:[4] loss:[0.090] train_accr:[0.986] test_accr:[0.983].\n",
            "epoch:[5] loss:[0.081] train_accr:[0.987] test_accr:[0.984].\n",
            "epoch:[6] loss:[0.074] train_accr:[0.988] test_accr:[0.985].\n",
            "epoch:[7] loss:[0.068] train_accr:[0.990] test_accr:[0.986].\n",
            "epoch:[8] loss:[0.066] train_accr:[0.991] test_accr:[0.986].\n",
            "epoch:[9] loss:[0.060] train_accr:[0.992] test_accr:[0.988].\n",
            "Done\n"
          ],
          "name": "stdout"
        }
      ]
    },
    {
      "cell_type": "markdown",
      "metadata": {
        "id": "ceHT-OdujWMS"
      },
      "source": [
        "### Test"
      ]
    },
    {
      "cell_type": "code",
      "metadata": {
        "id": "x1CZBbCwjMh7",
        "colab": {
          "base_uri": "https://localhost:8080/",
          "height": 608
        },
        "outputId": "d0b0c5c1-59e8-4dd5-c09e-33064be43a72"
      },
      "source": [
        "n_sample = 25\n",
        "sample_indices = np.random.choice(len(mnist_test.targets),n_sample,replace=False)\n",
        "test_x = mnist_test.data[sample_indices]\n",
        "test_y = mnist_test.targets[sample_indices]\n",
        "with torch.no_grad():\n",
        "    C.eval() # to evaluation mode \n",
        "    y_pred = C.forward(test_x.view(-1,1,28,28).type(torch.float).to(device)/255.)\n",
        "y_pred = y_pred.argmax(axis=1)\n",
        "plt.figure(figsize=(10,10))\n",
        "for idx in range(n_sample):\n",
        "    plt.subplot(5, 5, idx+1)\n",
        "    plt.imshow(test_x[idx], cmap='gray')\n",
        "    plt.axis('off')\n",
        "    plt.title(\"Pred:%d, Label:%d\"%(y_pred[idx],test_y[idx]))\n",
        "plt.show()    \n",
        "print (\"Done\")"
      ],
      "execution_count": 11,
      "outputs": [
        {
          "output_type": "display_data",
          "data": {
            "image/png": "[encoded data removed]",
            "text/plain": [
              "<Figure size 720x720 with 25 Axes>"
            ]
          },
          "metadata": {
            "tags": [],
            "image/png": {
              "width": 569,
              "height": 573
            },
            "needs_background": "light"
          }
        },
        {
          "output_type": "stream",
          "text": [
            "Done\n"
          ],
          "name": "stdout"
        }
      ]
    },
    {
      "cell_type": "code",
      "metadata": {
        "id": "i6poTCYZj4uM"
      },
      "source": [
        ""
      ],
      "execution_count": null,
      "outputs": []
    }
  ]
}