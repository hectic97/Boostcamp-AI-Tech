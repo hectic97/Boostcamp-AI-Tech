{
  "nbformat": 4,
  "nbformat_minor": 0,
  "metadata": {
    "kernelspec": {
      "display_name": "Python 3",
      "language": "python",
      "name": "python3"
    },
    "language_info": {
      "codemirror_mode": {
        "name": "ipython",
        "version": 3
      },
      "file_extension": ".py",
      "mimetype": "text/x-python",
      "name": "python",
      "nbconvert_exporter": "python",
      "pygments_lexer": "ipython3",
      "version": "3.8.3"
    },
    "colab": {
      "name": "P2_한국어_전처리_실습.ipynb",
      "provenance": [],
      "collapsed_sections": [],
      "include_colab_link": true
    }
  },
  "cells": [
    {
      "cell_type": "markdown",
      "metadata": {
        "id": "view-in-github",
        "colab_type": "text"
      },
      "source": [
        "<a href=\"https://colab.research.google.com/github/yjunej/Boostcamp-AI-Tech/blob/main/P-Stage/P2/P2_%ED%95%9C%EA%B5%AD%EC%96%B4_%EC%A0%84%EC%B2%98%EB%A6%AC_%EC%8B%A4%EC%8A%B5.ipynb\" target=\"_parent\"><img src=\"https://colab.research.google.com/assets/colab-badge.svg\" alt=\"Open In Colab\"/></a>"
      ]
    },
    {
      "cell_type": "markdown",
      "metadata": {
        "id": "vgX6XvMDeNlT"
      },
      "source": [
        "# 한글 자연어 전처리 실습 문제\n",
        "> 작성자      \n",
        "```\n",
        "* 김성현 (bananaband657@gmail.com)  \n",
        "김바다 (qkek983@gmail.com)\n",
        "박상희 (parksanghee0103@gmail.com)  \n",
        "이정우 (jungwoo.l2.rs@gmail.com)\n",
        "```\n",
        "\n",
        "[CC BY-NC-ND](https://creativecommons.org/licenses/by-nc-nd/2.0/kr/)"
      ]
    },
    {
      "cell_type": "markdown",
      "metadata": {
        "id": "pPtd1SPn8RQl"
      },
      "source": [
        "이번 실습에서는 실제 현업에서 필요로 하는 다양한 전처리를 실습해보도록 하겠습니다! :-)   \n",
        "중간 중간에 있는 'myFunction' 부분을 채워서 제출해주세요!   \n",
        "예제 코드는 다음날인 4월 14일에 공개됩니다 🤗   "
      ]
    },
    {
      "cell_type": "markdown",
      "metadata": {
        "id": "fGkAbUoAl2uT"
      },
      "source": [
        "\n",
        "### 음성처리 관련 문제 (3)\n",
        "1. 알파벳 및 특수문자를 한글 발음으로 변환하기\n",
        "2. 대화속에서 등장한 금액과 계좌번호 추출하기\n",
        "3. 대화속에서 등장한 핸드폰 번호 추출하기\n",
        "\n",
        "### 개인정보 관련 문제 (2)\n",
        "4. 개인정보 마스킹하기\n",
        "5. 욕설 삐처리하기\n",
        "\n",
        "### 그 외 (2)\n",
        "6. 특정 영상의 유투브 댓글 크롤링하기\n",
        "7. Corpus EDA"
      ]
    },
    {
      "cell_type": "markdown",
      "metadata": {
        "id": "WQ7Vm-AreNlf"
      },
      "source": [
        "### 1. 자연어를 한글 발음으로 변환하기\n",
        "\n",
        "한국어는 특히 자연어를 발음으로 표현할 때, 구개음화 등과 같은 다양한 특징을 가집니다 😂   \n",
        "음성 합성을 위한 텍스트를 생성할 때, '소리나는 대로' 표현하기 위해 일반적인 자연어 텍스트를 발음 형태로 변형해주기도 합니다 🤗   \n",
        "\n",
        "\n"
      ]
    },
    {
      "cell_type": "code",
      "metadata": {
        "colab": {
          "base_uri": "https://localhost:8080/"
        },
        "id": "nYosdfe4nCYR",
        "outputId": "21913657-0627-4710-bcab-6a9ab7a2ca4a"
      },
      "source": [
        "!pip install g2pk"
      ],
      "execution_count": 1,
      "outputs": [
        {
          "output_type": "stream",
          "text": [
            "Collecting g2pk\n",
            "  Downloading https://files.pythonhosted.org/packages/ed/ba/3bdb3be04c45b1a814e84a131b48afbad0818d82284f0df6c4f9b0c11a43/g2pK-0.9.4-py3-none-any.whl\n",
            "Collecting python-mecab-ko\n",
            "  Downloading https://files.pythonhosted.org/packages/1f/1d/9c869b1230dfd12c2fc84cfd307ae76a48f8e218db19feab00ef451a147e/python-mecab-ko-1.0.11.tar.gz\n",
            "Collecting konlpy\n",
            "\u001b[?25l  Downloading https://files.pythonhosted.org/packages/85/0e/f385566fec837c0b83f216b2da65db9997b35dd675e107752005b7d392b1/konlpy-0.5.2-py2.py3-none-any.whl (19.4MB)\n",
            "\u001b[K     |████████████████████████████████| 19.4MB 1.4MB/s \n",
            "\u001b[?25hRequirement already satisfied: nltk in /usr/local/lib/python3.7/dist-packages (from g2pk) (3.2.5)\n",
            "Collecting jamo\n",
            "  Downloading https://files.pythonhosted.org/packages/ac/cc/49812faae67f9a24be6ddaf58a2cf7e8c3cbfcf5b762d9414f7103d2ea2c/jamo-0.4.1-py3-none-any.whl\n",
            "Collecting pybind11~=2.0\n",
            "\u001b[?25l  Downloading https://files.pythonhosted.org/packages/8d/43/7339dbabbc2793718d59703aace4166f53c29ee1c202f6ff5bf8a26c4d91/pybind11-2.6.2-py2.py3-none-any.whl (191kB)\n",
            "\u001b[K     |████████████████████████████████| 194kB 42.8MB/s \n",
            "\u001b[?25hRequirement already satisfied: tweepy>=3.7.0 in /usr/local/lib/python3.7/dist-packages (from konlpy->g2pk) (3.10.0)\n",
            "Requirement already satisfied: numpy>=1.6 in /usr/local/lib/python3.7/dist-packages (from konlpy->g2pk) (1.19.5)\n",
            "Requirement already satisfied: lxml>=4.1.0 in /usr/local/lib/python3.7/dist-packages (from konlpy->g2pk) (4.2.6)\n",
            "Collecting beautifulsoup4==4.6.0\n",
            "\u001b[?25l  Downloading https://files.pythonhosted.org/packages/9e/d4/10f46e5cfac773e22707237bfcd51bbffeaf0a576b0a847ec7ab15bd7ace/beautifulsoup4-4.6.0-py3-none-any.whl (86kB)\n",
            "\u001b[K     |████████████████████████████████| 92kB 8.4MB/s \n",
            "\u001b[?25hCollecting colorama\n",
            "  Downloading https://files.pythonhosted.org/packages/44/98/5b86278fbbf250d239ae0ecb724f8572af1c91f4a11edf4d36a206189440/colorama-0.4.4-py2.py3-none-any.whl\n",
            "Collecting JPype1>=0.7.0\n",
            "\u001b[?25l  Downloading https://files.pythonhosted.org/packages/cd/a5/9781e2ef4ca92d09912c4794642c1653aea7607f473e156cf4d423a881a1/JPype1-1.2.1-cp37-cp37m-manylinux2010_x86_64.whl (457kB)\n",
            "\u001b[K     |████████████████████████████████| 460kB 37.1MB/s \n",
            "\u001b[?25hRequirement already satisfied: six in /usr/local/lib/python3.7/dist-packages (from nltk->g2pk) (1.15.0)\n",
            "Requirement already satisfied: requests-oauthlib>=0.7.0 in /usr/local/lib/python3.7/dist-packages (from tweepy>=3.7.0->konlpy->g2pk) (1.3.0)\n",
            "Requirement already satisfied: requests[socks]>=2.11.1 in /usr/local/lib/python3.7/dist-packages (from tweepy>=3.7.0->konlpy->g2pk) (2.23.0)\n",
            "Requirement already satisfied: typing-extensions; python_version < \"3.8\" in /usr/local/lib/python3.7/dist-packages (from JPype1>=0.7.0->konlpy->g2pk) (3.7.4.3)\n",
            "Requirement already satisfied: oauthlib>=3.0.0 in /usr/local/lib/python3.7/dist-packages (from requests-oauthlib>=0.7.0->tweepy>=3.7.0->konlpy->g2pk) (3.1.0)\n",
            "Requirement already satisfied: chardet<4,>=3.0.2 in /usr/local/lib/python3.7/dist-packages (from requests[socks]>=2.11.1->tweepy>=3.7.0->konlpy->g2pk) (3.0.4)\n",
            "Requirement already satisfied: certifi>=2017.4.17 in /usr/local/lib/python3.7/dist-packages (from requests[socks]>=2.11.1->tweepy>=3.7.0->konlpy->g2pk) (2020.12.5)\n",
            "Requirement already satisfied: urllib3!=1.25.0,!=1.25.1,<1.26,>=1.21.1 in /usr/local/lib/python3.7/dist-packages (from requests[socks]>=2.11.1->tweepy>=3.7.0->konlpy->g2pk) (1.24.3)\n",
            "Requirement already satisfied: idna<3,>=2.5 in /usr/local/lib/python3.7/dist-packages (from requests[socks]>=2.11.1->tweepy>=3.7.0->konlpy->g2pk) (2.10)\n",
            "Requirement already satisfied: PySocks!=1.5.7,>=1.5.6; extra == \"socks\" in /usr/local/lib/python3.7/dist-packages (from requests[socks]>=2.11.1->tweepy>=3.7.0->konlpy->g2pk) (1.7.1)\n",
            "Building wheels for collected packages: python-mecab-ko\n",
            "  Building wheel for python-mecab-ko (setup.py) ... \u001b[?25lerror\n",
            "\u001b[31m  ERROR: Failed building wheel for python-mecab-ko\u001b[0m\n",
            "\u001b[?25h  Running setup.py clean for python-mecab-ko\n",
            "Failed to build python-mecab-ko\n",
            "Installing collected packages: pybind11, python-mecab-ko, beautifulsoup4, colorama, JPype1, konlpy, jamo, g2pk\n",
            "    Running setup.py install for python-mecab-ko ... \u001b[?25l\u001b[?25hdone\n",
            "  Found existing installation: beautifulsoup4 4.6.3\n",
            "    Uninstalling beautifulsoup4-4.6.3:\n",
            "      Successfully uninstalled beautifulsoup4-4.6.3\n",
            "Successfully installed JPype1-1.2.1 beautifulsoup4-4.6.0 colorama-0.4.4 g2pk-0.9.4 jamo-0.4.1 konlpy-0.5.2 pybind11-2.6.2 python-mecab-ko-1.0.11\n"
          ],
          "name": "stdout"
        }
      ]
    },
    {
      "cell_type": "code",
      "metadata": {
        "id": "JLa9t6conekq",
        "colab": {
          "base_uri": "https://localhost:8080/"
        },
        "outputId": "cba18e89-cbdd-4856-bc23-8eee8e73dd83"
      },
      "source": [
        "from g2pk import G2p\n",
        "g2p = G2p()"
      ],
      "execution_count": 2,
      "outputs": [
        {
          "output_type": "stream",
          "text": [
            "[nltk_data] Downloading package cmudict to /root/nltk_data...\n",
            "[nltk_data]   Unzipping corpora/cmudict.zip.\n"
          ],
          "name": "stdout"
        }
      ]
    },
    {
      "cell_type": "code",
      "metadata": {
        "id": "mMaxaBkteNlg"
      },
      "source": [
        "text = \"Lost arc는 smile gate가 개발한 action game이다.\\n\\\n",
        "2014년 11월 12일 최초 공개했으며 2018년 11월 7일부터 오픈 베타 테스트를 진행하다 2019년 12월 4일 정식 오픈했다.\""
      ],
      "execution_count": 3,
      "outputs": []
    },
    {
      "cell_type": "code",
      "metadata": {
        "colab": {
          "base_uri": "https://localhost:8080/"
        },
        "id": "g5gCE8VgnH62",
        "outputId": "82d72ae2-bacb-4522-d868-ab26788f0838"
      },
      "source": [
        "print(g2p(text))"
      ],
      "execution_count": 6,
      "outputs": [
        {
          "output_type": "stream",
          "text": [
            "로스트 아크는 스마일 게이트가 개발하 낵쎤 게이미다.\n",
            "이영일사녀 니리뤄 리리일 최초 공개해쓰며 이영일팔려 니리뤌 치릴부터 오픈 베타 테스트를 진행하다 이영일구녀 니리월 사일 정시 고픈핻따.\n"
          ],
          "name": "stdout"
        }
      ]
    },
    {
      "cell_type": "markdown",
      "metadata": {
        "id": "BivaUUHxeNlk"
      },
      "source": [
        "### 2. 대화속에서 등장한 금액과 계좌번호 추출하기\n",
        "\n",
        "- 고객과 상담사간의 통화 내용을 음성인식한 데이터입니다.   \n",
        "- 해당 데이터에서 금액과 계좌번호를 추출하는 시나리오입니다.   \n",
        "- A은행의 계좌번호는 \"-\"를 포함해서 12자리입니다.\n",
        "\n",
        "- 예시) xxx-xxx-xxxx"
      ]
    },
    {
      "cell_type": "code",
      "metadata": {
        "id": "QvguPltheNll"
      },
      "source": [
        "texts = [\"여보세요. 거기 A은행이죠? 저의 계좌에 문제가 있어서 연락드렸습니다. 어플로 돈을 송금해야 하는데 오류가 뜨네요.\",\n",
        "         \"네! 고객님 안녕하세요. A은행 상담사 홍길동입니다. 계좌번호에 문제가 생기셔서 연락주셨다구요?\",\n",
        "         \"네 맞아요\",\n",
        "         \"현재 어플 전산망의 문제가 생겨 복구중에 있습니다. 직접 송금 서비스를 도와드리겠습니다. 인출하실 계좌번호를 알려주실 수 있을까요?\",\n",
        "         \"일이삼다시사오육다시칠팔구공이요\",\n",
        "         \"고객님이 송금하고 싶으신 금액은 얼마입니까?\",\n",
        "         \"팔억구천팔백칠십오만육백오십칠원이에요\",\n",
        "         \"고객님이 송금하시고자 하는 계좌번호를 알려주실 수 있을까요?\",\n",
        "         \"영구팔다시칠육오다시사삼이일이요\",\n",
        "         \"네! 고객님 이용해 불편을 드려 대단히 죄송합니다. 송금 정상처리되었습니다.\",\n",
        "         \"네 감사합니다.\"]"
      ],
      "execution_count": 10,
      "outputs": []
    },
    {
      "cell_type": "code",
      "metadata": {
        "id": "VxMG-TSxeNll",
        "colab": {
          "base_uri": "https://localhost:8080/"
        },
        "outputId": "c0ae775c-29a0-484a-88ca-955225c0bbfd"
      },
      "source": [
        "texts"
      ],
      "execution_count": 11,
      "outputs": [
        {
          "output_type": "execute_result",
          "data": {
            "text/plain": [
              "['여보세요. 거기 A은행이죠? 저의 계좌에 문제가 있어서 연락드렸습니다. 어플로 돈을 송금해야 하는데 오류가 뜨네요.',\n",
              " '네! 고객님 안녕하세요. A은행 상담사 홍길동입니다. 계좌번호에 문제가 생기셔서 연락주셨다구요?',\n",
              " '네 맞아요',\n",
              " '현재 어플 전산망의 문제가 생겨 복구중에 있습니다. 직접 송금 서비스를 도와드리겠습니다. 인출하실 계좌번호를 알려주실 수 있을까요?',\n",
              " '일이삼다시사오육다시칠팔구공이요',\n",
              " '고객님이 송금하고 싶으신 금액은 얼마입니까?',\n",
              " '팔억구천팔백칠십오만육백오십칠원이에요',\n",
              " '고객님이 송금하시고자 하는 계좌번호를 알려주실 수 있을까요?',\n",
              " '영구팔다시칠육오다시사삼이일이요',\n",
              " '네! 고객님 이용해 불편을 드려 대단히 죄송합니다. 송금 정상처리되었습니다.',\n",
              " '네 감사합니다.']"
            ]
          },
          "metadata": {
            "tags": []
          },
          "execution_count": 11
        }
      ]
    },
    {
      "cell_type": "code",
      "metadata": {
        "id": "MfZ-7n6neNlm"
      },
      "source": [
        "def myFunction (texts) : \n",
        "    \n",
        "    # 최종 원하는 결과들을 딕셔너리 형태로 리턴\n",
        "    return {\"from_Account\" : from_account, \"to_Account\" : to_account, \"money\" : money_extraction}"
      ],
      "execution_count": null,
      "outputs": []
    },
    {
      "cell_type": "code",
      "metadata": {
        "scrolled": false,
        "id": "qJyfKHl8eNln",
        "outputId": "41cee188-c824-4455-dd74-cb31165c86d5"
      },
      "source": [
        "myFunction(texts)"
      ],
      "execution_count": null,
      "outputs": [
        {
          "output_type": "execute_result",
          "data": {
            "text/plain": [
              "{'from_Account': '123-456-7890',\n",
              " 'to_Account': '098-765-4321',\n",
              " 'money': '898,750,657원'}"
            ]
          },
          "metadata": {
            "tags": []
          },
          "execution_count": 8
        }
      ]
    },
    {
      "cell_type": "markdown",
      "metadata": {
        "id": "vmcLZA1LeNlo"
      },
      "source": [
        "### 3. 대화속에서 등장한 핸드폰 번호 추출하기\n",
        "\n",
        "- 고객과 상담사간의 통화 내용을 음성인식한 데이터입니다.   \n",
        "- 대화 속에 등장한 핸드폰 번호를 추출해보도록 하겠습니다.   "
      ]
    },
    {
      "cell_type": "code",
      "metadata": {
        "id": "fp5jpUQCeNlo"
      },
      "source": [
        "texts = [\"XXX 쇼핑몰 고객센터입니다.\",\n",
        "         \"배송 관련 문의 사항은 공일공육사칠구팔구삼삼입니다.\",\n",
        "         \"환불 및 교환 관련 문의사항은 공삼일구육칠이육삼삼입니다.\",\n",
        "         \"제품 풀질 문의사항은 공일일일일이삼일이삼사입니다.\", \n",
        "         \"기타 문의사항은 공삼일팔구구구일이삼사입니다.\",\n",
        "         \"상담원 연결은 공이칠칠칠팔이팔이입니다.\"]"
      ],
      "execution_count": 12,
      "outputs": []
    },
    {
      "cell_type": "code",
      "metadata": {
        "id": "HroLOpJ7eNlp",
        "colab": {
          "base_uri": "https://localhost:8080/"
        },
        "outputId": "013d5585-d835-40f7-f9d0-54b9f8bccb0e"
      },
      "source": [
        "texts"
      ],
      "execution_count": 13,
      "outputs": [
        {
          "output_type": "execute_result",
          "data": {
            "text/plain": [
              "['XXX 쇼핑몰 고객센터입니다.',\n",
              " '배송 관련 문의 사항은 공일공육사칠구팔구삼삼입니다.',\n",
              " '환불 및 교환 관련 문의사항은 공삼일구육칠이육삼삼입니다.',\n",
              " '제품 풀질 문의사항은 공일일일일이삼일이삼사입니다.',\n",
              " '기타 문의사항은 공삼일팔구구구일이삼사입니다.',\n",
              " '상담원 연결은 공이칠칠칠팔이팔이입니다.']"
            ]
          },
          "metadata": {
            "tags": []
          },
          "execution_count": 13
        }
      ]
    },
    {
      "cell_type": "code",
      "metadata": {
        "id": "OnCWIYOieNlp"
      },
      "source": [
        "def myFunction (texts) : \n",
        "\n",
        "    # 저장된 전화번호 리스트를 리턴\n",
        "    return phones"
      ],
      "execution_count": null,
      "outputs": []
    },
    {
      "cell_type": "code",
      "metadata": {
        "id": "MwJDPXczeNlq",
        "outputId": "299a6d2b-de0e-4ace-a8fc-181524acc055"
      },
      "source": [
        "myFunction(texts)"
      ],
      "execution_count": null,
      "outputs": [
        {
          "output_type": "execute_result",
          "data": {
            "text/plain": [
              "['010-6479-8933',\n",
              " '031-967-2633',\n",
              " '011-1123-1234',\n",
              " '031-8999-1234',\n",
              " '02-777-8282']"
            ]
          },
          "metadata": {
            "tags": []
          },
          "execution_count": 12
        }
      ]
    },
    {
      "cell_type": "markdown",
      "metadata": {
        "id": "wJPDvtTOeNlr"
      },
      "source": [
        "### 4. 개인정보 마스킹하기"
      ]
    },
    {
      "cell_type": "markdown",
      "metadata": {
        "id": "_zkSx0At-jC4"
      },
      "source": [
        "- 개인정보 마스킹의 중요성은 아무리 강조해도 지나치지 않습니다.\n",
        "- 아래 텍스트들에 대해 개인 정보를 마스킹해보겠습니다."
      ]
    },
    {
      "cell_type": "code",
      "metadata": {
        "id": "Qm7PbUD-eNls"
      },
      "source": [
        "texts = [\"진 김석진 1992-12-04 Seokjin_INTP@gmail.com\",\n",
        "         \"슈가 민윤기 1993-03-09 Yunki_INTP@daum.com\",\n",
        "         \"제이홉 정호석 1994-02-18 Hoseok_ESFJ@naver.com\",\n",
        "         \"RM 김남준 1994-09-12 Namjun_ENFP@naver.com\",\n",
        "         \"지민 박지민 1995-10-13 Jimin_ENJF@daum.com\",\n",
        "         \"뷔 김태형 1995-12-30 Taehyung_ENFP@hanmail.net\",\n",
        "         \"정국 전정국 1997-09-01 Jungkook_ISFP-A@kakak.com\"]"
      ],
      "execution_count": 14,
      "outputs": []
    },
    {
      "cell_type": "code",
      "metadata": {
        "id": "zqMSVdjzeNlt",
        "colab": {
          "base_uri": "https://localhost:8080/"
        },
        "outputId": "47e50b37-9357-4390-8f5d-eed1b96e00d7"
      },
      "source": [
        "texts"
      ],
      "execution_count": 15,
      "outputs": [
        {
          "output_type": "execute_result",
          "data": {
            "text/plain": [
              "['진 김석진 1992-12-04 Seokjin_INTP@gmail.com',\n",
              " '슈가 민윤기 1993-03-09 Yunki_INTP@daum.com',\n",
              " '제이홉 정호석 1994-02-18 Hoseok_ESFJ@naver.com',\n",
              " 'RM 김남준 1994-09-12 Namjun_ENFP@naver.com',\n",
              " '지민 박지민 1995-10-13 Jimin_ENJF@daum.com',\n",
              " '뷔 김태형 1995-12-30 Taehyung_ENFP@hanmail.net',\n",
              " '정국 전정국 1997-09-01 Jungkook_ISFP-A@kakak.com']"
            ]
          },
          "metadata": {
            "tags": []
          },
          "execution_count": 15
        }
      ]
    },
    {
      "cell_type": "code",
      "metadata": {
        "id": "fj7rXutQeNlt"
      },
      "source": [
        "import re\n",
        "\n",
        "def myFunction (texts) : \n",
        "    \n",
        "    new_texts = []\n",
        "            \n",
        "    return new_texts"
      ],
      "execution_count": 16,
      "outputs": []
    },
    {
      "cell_type": "code",
      "metadata": {
        "id": "EZ9tQ3QGeNlu",
        "colab": {
          "base_uri": "https://localhost:8080/"
        },
        "outputId": "6ccd1139-3785-40a0-8f62-85ef5405a617"
      },
      "source": [
        "myFunction(texts)"
      ],
      "execution_count": 17,
      "outputs": [
        {
          "output_type": "execute_result",
          "data": {
            "text/plain": [
              "[]"
            ]
          },
          "metadata": {
            "tags": []
          },
          "execution_count": 17
        }
      ]
    },
    {
      "cell_type": "markdown",
      "metadata": {
        "id": "vjGr9U3BeNlv"
      },
      "source": [
        "### 5.  욕설 삐처리 하기"
      ]
    },
    {
      "cell_type": "code",
      "metadata": {
        "id": "KMQvoKVyeNlv",
        "colab": {
          "base_uri": "https://localhost:8080/"
        },
        "outputId": "ad9996c5-7250-429e-8fdd-9fa508e30ae6"
      },
      "source": [
        "!git clone https://github.com/2runo/Curse-detection-data.git"
      ],
      "execution_count": 18,
      "outputs": [
        {
          "output_type": "stream",
          "text": [
            "Cloning into 'Curse-detection-data'...\n",
            "remote: Enumerating objects: 16, done.\u001b[K\n",
            "remote: Counting objects: 100% (16/16), done.\u001b[K\n",
            "remote: Compressing objects: 100% (16/16), done.\u001b[K\n",
            "remote: Total 16 (delta 4), reused 0 (delta 0), pack-reused 0\u001b[K\n",
            "Unpacking objects: 100% (16/16), done.\n"
          ],
          "name": "stdout"
        }
      ]
    },
    {
      "cell_type": "code",
      "metadata": {
        "id": "Gs5eF1QIeNlw",
        "colab": {
          "base_uri": "https://localhost:8080/"
        },
        "outputId": "79951ea7-78d6-405b-a3c2-002eac4a5b06"
      },
      "source": [
        "import random\n",
        "import pandas as pd\n",
        "from tqdm import tqdm\n",
        "\n",
        "data = pd.DataFrame()\n",
        "\n",
        "f = open(\"./Curse-detection-data/dataset.txt\", 'r')\n",
        "lines = f.readlines()\n",
        "for line in tqdm(lines):\n",
        "    docs = line.replace(\"\\n\", \"\").split(\"|\")\n",
        "    data = data.append({\"text\":docs[0], \"label\":docs[1]}, ignore_index=True)\n",
        "f.close()\n",
        "\n",
        "data = data[data[\"label\"] == \"1\"].reset_index(drop=True)\n",
        "random_index = random.sample(range(len(data)), 10)\n",
        "texts = [data.loc[row][\"text\"] for row in random_index]"
      ],
      "execution_count": 19,
      "outputs": [
        {
          "output_type": "stream",
          "text": [
            "100%|██████████| 5825/5825 [00:18<00:00, 310.80it/s]\n"
          ],
          "name": "stderr"
        }
      ]
    },
    {
      "cell_type": "code",
      "metadata": {
        "id": "--X3IwgOeNlx",
        "outputId": "d1d164fd-b761-466f-f1de-4dffc4f530c5"
      },
      "source": [
        "texts"
      ],
      "execution_count": null,
      "outputs": [
        {
          "output_type": "execute_result",
          "data": {
            "text/plain": [
              "['키 170 27살 따먹은여자 23명 ㅁㅌㅊ?',\n",
              " '그럼 꼽아 놓고 하면 좆질로 분수 가능?',\n",
              " '닌 어딘데 중앙대무시하냐 확 쑤셔불랑게',\n",
              " '짱개새끼를 존나게 빨아대네.',\n",
              " '전시라고 말했고 여럿이서 사람 병신만들기 쉽고 죽은자는 말이없다.내목숨을 위해서 기꺼히 엿같은 새끼에게 내 K2 소총으로 후장을 갈겨줄테다 그게 간부라고 해도 말이지간부새끼땜에 죽나 다르게죽나 죽는건 매한가지',\n",
              " '미씨 원탑을 까노',\n",
              " 'ㅈㅈ위쪽 뼈에닿을때까지 눌러서 재는거라던데',\n",
              " '정봉주 같은애가  국회의원을 했다는것만으로조선인 수준이 적나라하게 드러난거지',\n",
              " '방구석에서 귀찮으니 시켜먹어대는 새끼 늘어나니까 저런 병신같은데도 늘어나는듯ㅋㅋㅋㅋㅋ',\n",
              " '아니 메시 허락은 안받고 아버지 허락을 처받고있냐 미친 양아치 새기네']"
            ]
          },
          "metadata": {
            "tags": []
          },
          "execution_count": 19
        }
      ]
    },
    {
      "cell_type": "code",
      "metadata": {
        "colab": {
          "base_uri": "https://localhost:8080/"
        },
        "id": "5lWpZ17zEGIe",
        "outputId": "bed031ad-5332-4c89-c975-d38d237fd0f4"
      },
      "source": [
        "texts"
      ],
      "execution_count": 20,
      "outputs": [
        {
          "output_type": "execute_result",
          "data": {
            "text/plain": [
              "['기술협력도 해보겠다고 나대다가 미국에게 경고 처먹고 버로우 탔던 게 한국 놈들임.',\n",
              " '그래도 이번 감독이 저 년 병풍처럼 거의 지워버림',\n",
              " '2.5겠지 시팔ㅋㅋㅋㅋㅋ',\n",
              " '제목 읽기 개힘드네일단 ㅁㅈㅎ줌',\n",
              " '말도 안되는 개소리임. 여자가 하는 말 잘 들어보면 90%가 쓸데없는 잡소리임.  즉 위 짤 같은애 한테 분노 할 필요가 없다는 말임.',\n",
              " '응 근데 ㅅㅂ 고졸 무스펙인데 따도 할수있으려나 모르겠다 다시 노가다나 해야하나',\n",
              " '니미 애미 씹보지 븅신아 ㅋㅋㅋㅋㅋ',\n",
              " '주식으로 주는것도 아닌데 뭔 영향 븅신년아',\n",
              " '따뜻한거지 편하기는병신아',\n",
              " '뭐가 감사하냐 꺼져라.']"
            ]
          },
          "metadata": {
            "tags": []
          },
          "execution_count": 20
        }
      ]
    },
    {
      "cell_type": "code",
      "metadata": {
        "id": "J5P3h_zdeNlx",
        "colab": {
          "base_uri": "https://localhost:8080/"
        },
        "outputId": "4a84b9dd-09e6-4069-b8f3-6daf10903583"
      },
      "source": [
        "# 욕설 사전\n",
        "!git clone https://github.com/LDNOOBW/List-of-Dirty-Naughty-Obscene-and-Otherwise-Bad-Words\n",
        "!git clone https://github.com/doublems/korean-bad-words\n",
        "!git clone https://github.com/organization/Gentleman/"
      ],
      "execution_count": 21,
      "outputs": [
        {
          "output_type": "stream",
          "text": [
            "Cloning into 'List-of-Dirty-Naughty-Obscene-and-Otherwise-Bad-Words'...\n",
            "remote: Enumerating objects: 480, done.\u001b[K\n",
            "remote: Total 480 (delta 0), reused 0 (delta 0), pack-reused 480\u001b[K\n",
            "Receiving objects: 100% (480/480), 110.14 KiB | 1.51 MiB/s, done.\n",
            "Resolving deltas: 100% (249/249), done.\n",
            "Cloning into 'korean-bad-words'...\n",
            "remote: Enumerating objects: 56, done.\u001b[K\n",
            "remote: Total 56 (delta 0), reused 0 (delta 0), pack-reused 56\u001b[K\n",
            "Unpacking objects: 100% (56/56), done.\n",
            "Cloning into 'Gentleman'...\n",
            "remote: Enumerating objects: 55, done.\u001b[K\n",
            "remote: Total 55 (delta 0), reused 0 (delta 0), pack-reused 55\u001b[K\n",
            "Unpacking objects: 100% (55/55), done.\n"
          ],
          "name": "stdout"
        }
      ]
    },
    {
      "cell_type": "code",
      "metadata": {
        "id": "_L7gXSZeeNly"
      },
      "source": [
        "import json\n",
        "\n",
        "# 비속어 사전 01\n",
        "slang_list_01 = []\n",
        "f = open(\"./List-of-Dirty-Naughty-Obscene-and-Otherwise-Bad-Words/ko\", 'r')\n",
        "lines = f.readlines()\n",
        "for line in lines:\n",
        "    line = line.replace(\"\\n\", \"\")\n",
        "    slang_list_01.append(line)\n",
        "f.close()\n",
        "\n",
        "# 비속어 사전 02\n",
        "slang_list_02 = []\n",
        "f = open(\"./korean-bad-words/korean-bad-words.md\", 'r')\n",
        "lines = f.readlines()\n",
        "for line in lines:\n",
        "    line = line.replace(\"\\n\", \"\")\n",
        "    slang_list_02.append(line)\n",
        "f.close()\n",
        "\n",
        "# 비속어 사전 03\n",
        "with open('./Gentleman/resources/badwords.json') as json_file:\n",
        "    json_data = json.load(json_file)\n",
        "slang_list_03 = json_data[\"badwords\"]\n",
        "\n",
        "# 비속어 사전 통합\n",
        "slang_list = slang_list_01 + slang_list_02 + slang_list_03\n",
        "slang_list = list(set(slang_list))"
      ],
      "execution_count": 22,
      "outputs": []
    },
    {
      "cell_type": "code",
      "metadata": {
        "id": "C9bmZGPWeNlz"
      },
      "source": [
        "def myFunction(texts) : \n",
        "    \n",
        "    new_texts = []\n",
        "            \n",
        "    return new_texts"
      ],
      "execution_count": 23,
      "outputs": []
    },
    {
      "cell_type": "code",
      "metadata": {
        "id": "JN6e3BRYeNlz",
        "outputId": "87b02886-fac8-429b-b3cc-ad9abbc9985a"
      },
      "source": [
        "myFunction(texts)"
      ],
      "execution_count": null,
      "outputs": [
        {
          "output_type": "execute_result",
          "data": {
            "text/plain": [
              "['키 170 27살 따먹은여자 23명 ㅁㅌㅊ?',\n",
              " '그럼 꼽아 놓고 하면 *질로 분수 가능?',\n",
              " '닌 어딘데 중앙대무시하냐 확 쑤셔불랑게',\n",
              " '짱**끼를 **게 **대네.',\n",
              " '전시라고 말했고 여럿이서 사람 **만들기 쉽고 죽은자는 말이없다.내목숨을 위해서 기꺼히 **은 **에게 내 K2 소총으로 **을 갈겨줄테다 그게 간부라고 해도 말이지간부**땜에 죽나 다르게죽나 죽는건 매한가지',\n",
              " '미씨 원탑을 까노',\n",
              " 'ㅈㅈ위쪽 뼈에닿을때까지 눌러서 재는거라던데',\n",
              " '정봉주 같은애가  국회의원을 했다는것만으로조선인 수준이 적나라하게 드러난거지',\n",
              " '방구석에서 귀찮으니 시켜먹어대는 ** 늘어나니까 저런 **같은데도 늘어나는듯ㅋㅋㅋㅋㅋ',\n",
              " '아니 메시 허락은 안받고 아버지 허락을 처받고있냐 ** **치 새기네']"
            ]
          },
          "metadata": {
            "tags": []
          },
          "execution_count": 24
        }
      ]
    },
    {
      "cell_type": "markdown",
      "metadata": {
        "id": "Ndj6FT0ueNlz"
      },
      "source": [
        "### 6. 특정 영상의 유투브 댓글 크롤링하기\n",
        "\n",
        "1. 셀레니움을 위해서 크롬 드라이버 설치하기"
      ]
    },
    {
      "cell_type": "code",
      "metadata": {
        "colab": {
          "base_uri": "https://localhost:8080/"
        },
        "id": "KAAyBu7hEXl9",
        "outputId": "10167b39-1a0b-4a84-adc7-a85807521344"
      },
      "source": [
        "\n",
        "!pip install selenium"
      ],
      "execution_count": 26,
      "outputs": [
        {
          "output_type": "stream",
          "text": [
            "Collecting selenium\n",
            "\u001b[?25l  Downloading https://files.pythonhosted.org/packages/80/d6/4294f0b4bce4de0abf13e17190289f9d0613b0a44e5dd6a7f5ca98459853/selenium-3.141.0-py2.py3-none-any.whl (904kB)\n",
            "\u001b[K     |████████████████████████████████| 911kB 5.2MB/s \n",
            "\u001b[?25hRequirement already satisfied: urllib3 in /usr/local/lib/python3.7/dist-packages (from selenium) (1.24.3)\n",
            "Installing collected packages: selenium\n",
            "Successfully installed selenium-3.141.0\n"
          ],
          "name": "stdout"
        }
      ]
    },
    {
      "cell_type": "code",
      "metadata": {
        "colab": {
          "base_uri": "https://localhost:8080/"
        },
        "id": "zCRUQMNOEc-5",
        "outputId": "ba3d9d28-8a36-4416-fd7d-266bd698bc18"
      },
      "source": [
        "\n",
        "!pip install pyvirtualdisplay"
      ],
      "execution_count": 28,
      "outputs": [
        {
          "output_type": "stream",
          "text": [
            "Collecting pyvirtualdisplay\n",
            "  Downloading https://files.pythonhosted.org/packages/19/88/7a198a5ee3baa3d547f5a49574cd8c3913b216f5276b690b028f89ffb325/PyVirtualDisplay-2.1-py3-none-any.whl\n",
            "Collecting EasyProcess\n",
            "  Downloading https://files.pythonhosted.org/packages/48/3c/75573613641c90c6d094059ac28adb748560d99bd27ee6f80cce398f404e/EasyProcess-0.3-py2.py3-none-any.whl\n",
            "Installing collected packages: EasyProcess, pyvirtualdisplay\n",
            "Successfully installed EasyProcess-0.3 pyvirtualdisplay-2.1\n"
          ],
          "name": "stdout"
        }
      ]
    },
    {
      "cell_type": "code",
      "metadata": {
        "id": "myH_S11-eNl0"
      },
      "source": [
        "import time\n",
        "from bs4 import BeautifulSoup\n",
        "from selenium import webdriver\n",
        "from pyvirtualdisplay import Display"
      ],
      "execution_count": 29,
      "outputs": []
    },
    {
      "cell_type": "code",
      "metadata": {
        "id": "db6xOyOleNl0",
        "colab": {
          "base_uri": "https://localhost:8080/",
          "height": 422
        },
        "outputId": "69f77878-e578-4136-a2d7-f8c88d7916e7"
      },
      "source": [
        "display = Display(visible=0, size = (1024,768))\n",
        "display.start()\n",
        "driver = webdriver.Chrome(\"/home/roa/project/chromedriver\")"
      ],
      "execution_count": 30,
      "outputs": [
        {
          "output_type": "error",
          "ename": "EasyProcessError",
          "evalue": "ignored",
          "traceback": [
            "\u001b[0;31m---------------------------------------------------------------------------\u001b[0m",
            "\u001b[0;31mFileNotFoundError\u001b[0m                         Traceback (most recent call last)",
            "\u001b[0;32m/usr/local/lib/python3.7/dist-packages/easyprocess/__init__.py\u001b[0m in \u001b[0;36mstart\u001b[0;34m(self)\u001b[0m\n\u001b[1;32m    168\u001b[0m             self.popen = subprocess.Popen(\n\u001b[0;32m--> 169\u001b[0;31m                 \u001b[0mcmd\u001b[0m\u001b[0;34m,\u001b[0m \u001b[0mstdout\u001b[0m\u001b[0;34m=\u001b[0m\u001b[0mstdout\u001b[0m\u001b[0;34m,\u001b[0m \u001b[0mstderr\u001b[0m\u001b[0;34m=\u001b[0m\u001b[0mstderr\u001b[0m\u001b[0;34m,\u001b[0m \u001b[0mcwd\u001b[0m\u001b[0;34m=\u001b[0m\u001b[0mself\u001b[0m\u001b[0;34m.\u001b[0m\u001b[0mcwd\u001b[0m\u001b[0;34m,\u001b[0m \u001b[0menv\u001b[0m\u001b[0;34m=\u001b[0m\u001b[0mself\u001b[0m\u001b[0;34m.\u001b[0m\u001b[0menv\u001b[0m\u001b[0;34m,\u001b[0m\u001b[0;34m\u001b[0m\u001b[0;34m\u001b[0m\u001b[0m\n\u001b[0m\u001b[1;32m    170\u001b[0m             )\n",
            "\u001b[0;32m/usr/lib/python3.7/subprocess.py\u001b[0m in \u001b[0;36m__init__\u001b[0;34m(self, args, bufsize, executable, stdin, stdout, stderr, preexec_fn, close_fds, shell, cwd, env, universal_newlines, startupinfo, creationflags, restore_signals, start_new_session, pass_fds, encoding, errors, text)\u001b[0m\n\u001b[1;32m    799\u001b[0m                                 \u001b[0merrread\u001b[0m\u001b[0;34m,\u001b[0m \u001b[0merrwrite\u001b[0m\u001b[0;34m,\u001b[0m\u001b[0;34m\u001b[0m\u001b[0;34m\u001b[0m\u001b[0m\n\u001b[0;32m--> 800\u001b[0;31m                                 restore_signals, start_new_session)\n\u001b[0m\u001b[1;32m    801\u001b[0m         \u001b[0;32mexcept\u001b[0m\u001b[0;34m:\u001b[0m\u001b[0;34m\u001b[0m\u001b[0;34m\u001b[0m\u001b[0m\n",
            "\u001b[0;32m/usr/lib/python3.7/subprocess.py\u001b[0m in \u001b[0;36m_execute_child\u001b[0;34m(self, args, executable, preexec_fn, close_fds, pass_fds, cwd, env, startupinfo, creationflags, shell, p2cread, p2cwrite, c2pread, c2pwrite, errread, errwrite, restore_signals, start_new_session)\u001b[0m\n\u001b[1;32m   1550\u001b[0m                             \u001b[0merr_msg\u001b[0m \u001b[0;34m+=\u001b[0m \u001b[0;34m': '\u001b[0m \u001b[0;34m+\u001b[0m \u001b[0mrepr\u001b[0m\u001b[0;34m(\u001b[0m\u001b[0merr_filename\u001b[0m\u001b[0;34m)\u001b[0m\u001b[0;34m\u001b[0m\u001b[0;34m\u001b[0m\u001b[0m\n\u001b[0;32m-> 1551\u001b[0;31m                     \u001b[0;32mraise\u001b[0m \u001b[0mchild_exception_type\u001b[0m\u001b[0;34m(\u001b[0m\u001b[0merrno_num\u001b[0m\u001b[0;34m,\u001b[0m \u001b[0merr_msg\u001b[0m\u001b[0;34m,\u001b[0m \u001b[0merr_filename\u001b[0m\u001b[0;34m)\u001b[0m\u001b[0;34m\u001b[0m\u001b[0;34m\u001b[0m\u001b[0m\n\u001b[0m\u001b[1;32m   1552\u001b[0m                 \u001b[0;32mraise\u001b[0m \u001b[0mchild_exception_type\u001b[0m\u001b[0;34m(\u001b[0m\u001b[0merr_msg\u001b[0m\u001b[0;34m)\u001b[0m\u001b[0;34m\u001b[0m\u001b[0;34m\u001b[0m\u001b[0m\n",
            "\u001b[0;31mFileNotFoundError\u001b[0m: [Errno 2] No such file or directory: 'Xvfb': 'Xvfb'",
            "\nDuring handling of the above exception, another exception occurred:\n",
            "\u001b[0;31mEasyProcessError\u001b[0m                          Traceback (most recent call last)",
            "\u001b[0;32m<ipython-input-30-a950b663a889>\u001b[0m in \u001b[0;36m<module>\u001b[0;34m()\u001b[0m\n\u001b[0;32m----> 1\u001b[0;31m \u001b[0mdisplay\u001b[0m \u001b[0;34m=\u001b[0m \u001b[0mDisplay\u001b[0m\u001b[0;34m(\u001b[0m\u001b[0mvisible\u001b[0m\u001b[0;34m=\u001b[0m\u001b[0;36m0\u001b[0m\u001b[0;34m,\u001b[0m \u001b[0msize\u001b[0m \u001b[0;34m=\u001b[0m \u001b[0;34m(\u001b[0m\u001b[0;36m1024\u001b[0m\u001b[0;34m,\u001b[0m\u001b[0;36m768\u001b[0m\u001b[0;34m)\u001b[0m\u001b[0;34m)\u001b[0m\u001b[0;34m\u001b[0m\u001b[0;34m\u001b[0m\u001b[0m\n\u001b[0m\u001b[1;32m      2\u001b[0m \u001b[0mdisplay\u001b[0m\u001b[0;34m.\u001b[0m\u001b[0mstart\u001b[0m\u001b[0;34m(\u001b[0m\u001b[0;34m)\u001b[0m\u001b[0;34m\u001b[0m\u001b[0;34m\u001b[0m\u001b[0m\n\u001b[1;32m      3\u001b[0m \u001b[0mdriver\u001b[0m \u001b[0;34m=\u001b[0m \u001b[0mwebdriver\u001b[0m\u001b[0;34m.\u001b[0m\u001b[0mChrome\u001b[0m\u001b[0;34m(\u001b[0m\u001b[0;34m\"/home/roa/project/chromedriver\"\u001b[0m\u001b[0;34m)\u001b[0m\u001b[0;34m\u001b[0m\u001b[0;34m\u001b[0m\u001b[0m\n",
            "\u001b[0;32m/usr/local/lib/python3.7/dist-packages/pyvirtualdisplay/display.py\u001b[0m in \u001b[0;36m__init__\u001b[0;34m(self, backend, visible, size, color_depth, bgcolor, use_xauth, retries, extra_args, manage_global_env, **kwargs)\u001b[0m\n\u001b[1;32m     61\u001b[0m             \u001b[0mextra_args\u001b[0m\u001b[0;34m=\u001b[0m\u001b[0mextra_args\u001b[0m\u001b[0;34m,\u001b[0m\u001b[0;34m\u001b[0m\u001b[0;34m\u001b[0m\u001b[0m\n\u001b[1;32m     62\u001b[0m             \u001b[0mmanage_global_env\u001b[0m\u001b[0;34m=\u001b[0m\u001b[0mmanage_global_env\u001b[0m\u001b[0;34m,\u001b[0m\u001b[0;34m\u001b[0m\u001b[0;34m\u001b[0m\u001b[0m\n\u001b[0;32m---> 63\u001b[0;31m             \u001b[0;34m**\u001b[0m\u001b[0mkwargs\u001b[0m\u001b[0;34m\u001b[0m\u001b[0;34m\u001b[0m\u001b[0m\n\u001b[0m\u001b[1;32m     64\u001b[0m         )\n\u001b[1;32m     65\u001b[0m \u001b[0;34m\u001b[0m\u001b[0m\n",
            "\u001b[0;32m/usr/local/lib/python3.7/dist-packages/pyvirtualdisplay/xvfb.py\u001b[0m in \u001b[0;36m__init__\u001b[0;34m(self, size, color_depth, bgcolor, use_xauth, fbdir, dpi, retries, extra_args, manage_global_env)\u001b[0m\n\u001b[1;32m     48\u001b[0m             \u001b[0mretries\u001b[0m\u001b[0;34m=\u001b[0m\u001b[0mretries\u001b[0m\u001b[0;34m,\u001b[0m\u001b[0;34m\u001b[0m\u001b[0;34m\u001b[0m\u001b[0m\n\u001b[1;32m     49\u001b[0m             \u001b[0mextra_args\u001b[0m\u001b[0;34m=\u001b[0m\u001b[0mextra_args\u001b[0m\u001b[0;34m,\u001b[0m\u001b[0;34m\u001b[0m\u001b[0;34m\u001b[0m\u001b[0m\n\u001b[0;32m---> 50\u001b[0;31m             \u001b[0mmanage_global_env\u001b[0m\u001b[0;34m=\u001b[0m\u001b[0mmanage_global_env\u001b[0m\u001b[0;34m,\u001b[0m\u001b[0;34m\u001b[0m\u001b[0;34m\u001b[0m\u001b[0m\n\u001b[0m\u001b[1;32m     51\u001b[0m         )\n\u001b[1;32m     52\u001b[0m \u001b[0;34m\u001b[0m\u001b[0m\n",
            "\u001b[0;32m/usr/local/lib/python3.7/dist-packages/pyvirtualdisplay/abstractdisplay.py\u001b[0m in \u001b[0;36m__init__\u001b[0;34m(self, program, use_xauth, retries, extra_args, manage_global_env)\u001b[0m\n\u001b[1;32m     86\u001b[0m         \u001b[0mself\u001b[0m\u001b[0;34m.\u001b[0m\u001b[0m_retries_current\u001b[0m \u001b[0;34m=\u001b[0m \u001b[0;36m0\u001b[0m\u001b[0;34m\u001b[0m\u001b[0;34m\u001b[0m\u001b[0m\n\u001b[1;32m     87\u001b[0m \u001b[0;34m\u001b[0m\u001b[0m\n\u001b[0;32m---> 88\u001b[0;31m         \u001b[0mhelptext\u001b[0m \u001b[0;34m=\u001b[0m \u001b[0mget_helptext\u001b[0m\u001b[0;34m(\u001b[0m\u001b[0mprogram\u001b[0m\u001b[0;34m)\u001b[0m\u001b[0;34m\u001b[0m\u001b[0;34m\u001b[0m\u001b[0m\n\u001b[0m\u001b[1;32m     89\u001b[0m         \u001b[0mself\u001b[0m\u001b[0;34m.\u001b[0m\u001b[0m_has_displayfd\u001b[0m \u001b[0;34m=\u001b[0m \u001b[0;34m\"-displayfd\"\u001b[0m \u001b[0;32min\u001b[0m \u001b[0mhelptext\u001b[0m\u001b[0;34m\u001b[0m\u001b[0;34m\u001b[0m\u001b[0m\n\u001b[1;32m     90\u001b[0m         \u001b[0;32mif\u001b[0m \u001b[0;32mnot\u001b[0m \u001b[0mself\u001b[0m\u001b[0;34m.\u001b[0m\u001b[0m_has_displayfd\u001b[0m\u001b[0;34m:\u001b[0m\u001b[0;34m\u001b[0m\u001b[0;34m\u001b[0m\u001b[0m\n",
            "\u001b[0;32m/usr/local/lib/python3.7/dist-packages/pyvirtualdisplay/util.py\u001b[0m in \u001b[0;36mget_helptext\u001b[0;34m(program)\u001b[0m\n\u001b[1;32m      8\u001b[0m     \u001b[0mp\u001b[0m\u001b[0;34m.\u001b[0m\u001b[0menable_stdout_log\u001b[0m \u001b[0;34m=\u001b[0m \u001b[0;32mFalse\u001b[0m\u001b[0;34m\u001b[0m\u001b[0;34m\u001b[0m\u001b[0m\n\u001b[1;32m      9\u001b[0m     \u001b[0mp\u001b[0m\u001b[0;34m.\u001b[0m\u001b[0menable_stderr_log\u001b[0m \u001b[0;34m=\u001b[0m \u001b[0;32mFalse\u001b[0m\u001b[0;34m\u001b[0m\u001b[0;34m\u001b[0m\u001b[0m\n\u001b[0;32m---> 10\u001b[0;31m     \u001b[0mp\u001b[0m\u001b[0;34m.\u001b[0m\u001b[0mcall\u001b[0m\u001b[0;34m(\u001b[0m\u001b[0;34m)\u001b[0m\u001b[0;34m\u001b[0m\u001b[0;34m\u001b[0m\u001b[0m\n\u001b[0m\u001b[1;32m     11\u001b[0m     \u001b[0mhelptext\u001b[0m \u001b[0;34m=\u001b[0m \u001b[0mp\u001b[0m\u001b[0;34m.\u001b[0m\u001b[0mstderr\u001b[0m\u001b[0;34m\u001b[0m\u001b[0;34m\u001b[0m\u001b[0m\n\u001b[1;32m     12\u001b[0m     \u001b[0;32mreturn\u001b[0m \u001b[0mhelptext\u001b[0m\u001b[0;34m\u001b[0m\u001b[0;34m\u001b[0m\u001b[0m\n",
            "\u001b[0;32m/usr/local/lib/python3.7/dist-packages/easyprocess/__init__.py\u001b[0m in \u001b[0;36mcall\u001b[0;34m(self, timeout)\u001b[0m\n\u001b[1;32m    139\u001b[0m \u001b[0;34m\u001b[0m\u001b[0m\n\u001b[1;32m    140\u001b[0m         \"\"\"\n\u001b[0;32m--> 141\u001b[0;31m         \u001b[0mself\u001b[0m\u001b[0;34m.\u001b[0m\u001b[0mstart\u001b[0m\u001b[0;34m(\u001b[0m\u001b[0;34m)\u001b[0m\u001b[0;34m.\u001b[0m\u001b[0mwait\u001b[0m\u001b[0;34m(\u001b[0m\u001b[0mtimeout\u001b[0m\u001b[0;34m=\u001b[0m\u001b[0mtimeout\u001b[0m\u001b[0;34m)\u001b[0m\u001b[0;34m\u001b[0m\u001b[0;34m\u001b[0m\u001b[0m\n\u001b[0m\u001b[1;32m    142\u001b[0m         \u001b[0;32mif\u001b[0m \u001b[0mself\u001b[0m\u001b[0;34m.\u001b[0m\u001b[0mis_alive\u001b[0m\u001b[0;34m(\u001b[0m\u001b[0;34m)\u001b[0m\u001b[0;34m:\u001b[0m\u001b[0;34m\u001b[0m\u001b[0;34m\u001b[0m\u001b[0m\n\u001b[1;32m    143\u001b[0m             \u001b[0mself\u001b[0m\u001b[0;34m.\u001b[0m\u001b[0mstop\u001b[0m\u001b[0;34m(\u001b[0m\u001b[0;34m)\u001b[0m\u001b[0;34m\u001b[0m\u001b[0;34m\u001b[0m\u001b[0m\n",
            "\u001b[0;32m/usr/local/lib/python3.7/dist-packages/easyprocess/__init__.py\u001b[0m in \u001b[0;36mstart\u001b[0;34m(self)\u001b[0m\n\u001b[1;32m    172\u001b[0m             \u001b[0mlog\u001b[0m\u001b[0;34m.\u001b[0m\u001b[0mdebug\u001b[0m\u001b[0;34m(\u001b[0m\u001b[0;34m\"OSError exception: %s\"\u001b[0m\u001b[0;34m,\u001b[0m \u001b[0moserror\u001b[0m\u001b[0;34m)\u001b[0m\u001b[0;34m\u001b[0m\u001b[0;34m\u001b[0m\u001b[0m\n\u001b[1;32m    173\u001b[0m             \u001b[0mself\u001b[0m\u001b[0;34m.\u001b[0m\u001b[0moserror\u001b[0m \u001b[0;34m=\u001b[0m \u001b[0moserror\u001b[0m\u001b[0;34m\u001b[0m\u001b[0;34m\u001b[0m\u001b[0m\n\u001b[0;32m--> 174\u001b[0;31m             \u001b[0;32mraise\u001b[0m \u001b[0mEasyProcessError\u001b[0m\u001b[0;34m(\u001b[0m\u001b[0mself\u001b[0m\u001b[0;34m,\u001b[0m \u001b[0;34m\"start error\"\u001b[0m\u001b[0;34m)\u001b[0m\u001b[0;34m\u001b[0m\u001b[0;34m\u001b[0m\u001b[0m\n\u001b[0m\u001b[1;32m    175\u001b[0m         \u001b[0mself\u001b[0m\u001b[0;34m.\u001b[0m\u001b[0mis_started\u001b[0m \u001b[0;34m=\u001b[0m \u001b[0;32mTrue\u001b[0m\u001b[0;34m\u001b[0m\u001b[0;34m\u001b[0m\u001b[0m\n\u001b[1;32m    176\u001b[0m         \u001b[0mlog\u001b[0m\u001b[0;34m.\u001b[0m\u001b[0mdebug\u001b[0m\u001b[0;34m(\u001b[0m\u001b[0;34m\"process was started (pid=%s)\"\u001b[0m\u001b[0;34m,\u001b[0m \u001b[0mself\u001b[0m\u001b[0;34m.\u001b[0m\u001b[0mpid\u001b[0m\u001b[0;34m)\u001b[0m\u001b[0;34m\u001b[0m\u001b[0;34m\u001b[0m\u001b[0m\n",
            "\u001b[0;31mEasyProcessError\u001b[0m: start error <EasyProcess cmd_param=['Xvfb', '-help'] cmd=['Xvfb', '-help'] oserror=[Errno 2] No such file or directory: 'Xvfb': 'Xvfb' return_code=None stdout=\"None\" stderr=\"None\" timeout_happened=False>"
          ]
        }
      ]
    },
    {
      "cell_type": "code",
      "metadata": {
        "id": "_NeNoL-FeNl1"
      },
      "source": [
        "url = \"https://www.youtube.com/watch?v=BS6O0zOGX4E&list=PLlMkM4tgfjnLSOjrEJN31gZATbcj_MpUm\""
      ],
      "execution_count": null,
      "outputs": []
    },
    {
      "cell_type": "code",
      "metadata": {
        "id": "aY5TrVAqeNl1"
      },
      "source": [
        "def myFunction (url, n) : \n",
        "    \n",
        "    # 크롬 드라이버\n",
        "    driver.get(url)\n",
        "    \n",
        "    # 페이지의 가장 아래부분의 창 높이를 저장\n",
        "    last_page_height = driver.execute_script(\"return document.documentElement.scrollHeight\") \n",
        "    \n",
        "    # 창이 제일 아래에 도달할 때 까지 반복\n",
        "    while True: \n",
        "        \n",
        "        # 스크롤\n",
        "        driver.execute_script(\"window.scrollTo(0, document.documentElement.scrollHeight);\") \n",
        "        \n",
        "        # 1초 대기\n",
        "        time.sleep(1.0) \n",
        "        \n",
        "        # 헌재의 스크롤 높이\n",
        "        new_page_height = driver.execute_script(\"return document.documentElement.scrollHeight\") \n",
        "        \n",
        "        # 현재 높이가 제일 아래이면 반복문 탈출\n",
        "        if new_page_height == last_page_height: \n",
        "            break \n",
        "        \n",
        "        # 현재 페이지 갱신\n",
        "        last_page_height = new_page_height\n",
        "    \n",
        "    # 페이지 소스 가져오기\n",
        "    html_source = driver.page_source\n",
        "    \n",
        "    # lxml을 parsing\n",
        "    soup = BeautifulSoup(html_source, 'lxml')\n",
        "        \n",
        "    # 댓글부분 선택\n",
        "    comments = soup.select('yt-formatted-string#content-text')\n",
        "    \n",
        "    # 텍스트만 정제해서 담을 리스트\n",
        "    comments_preprossed = []\n",
        "    \n",
        "    # 1 ~ n개 까지만 가져옴\n",
        "    for comment in comments[:n] : \n",
        "        \n",
        "        # 가져온 댓글 내용을 저장\n",
        "        comments_preprossed.append(comment.text)\n",
        "\n",
        "    # 저장된 댓글 리턴\n",
        "    return comments_preprossed"
      ],
      "execution_count": null,
      "outputs": []
    },
    {
      "cell_type": "code",
      "metadata": {
        "id": "2gGx9bJpeNl4",
        "outputId": "264f96fd-769b-4f3a-a1b0-7b11251504d7"
      },
      "source": [
        "myFunction(url=url, n=10)"
      ],
      "execution_count": null,
      "outputs": [
        {
          "output_type": "execute_result",
          "data": {
            "text/plain": [
              "['질문이나 강의에 대한 건의등이 있으시면 편안하게 올려 주세요. 다음 강의등에 반영하겠습니다.',\n",
              " '소고기 국수 먹으러 다니시던 분 아니신가?',\n",
              " '감사합니다!',\n",
              " '감사합니다. 유익한 강의네요!',\n",
              " '열심히 듣도록 하겠습니다! 강의 정말 감사합니다!!',\n",
              " '사랑합니다 교수님 ^^',\n",
              " '좋은 강좌 만들어주셔서 감사합니다 열심히 정독하겠습니다',\n",
              " '좋은 강의 감사합니다.',\n",
              " '감사합니다 열심히 듣겠습니다.',\n",
              " '와.. 감사합니다! @_@']"
            ]
          },
          "metadata": {
            "tags": []
          },
          "execution_count": 29
        }
      ]
    },
    {
      "cell_type": "markdown",
      "metadata": {
        "id": "amOMaaBheNl5"
      },
      "source": [
        "### 7. Corpus EDA\n",
        "\n",
        "- 사전 언어 모델을 학습하기전에, 학습시킬 Corpus에 대해 이해하는 것은 필수입니다.\n",
        "\n",
        "- 주어진 Corpus의 문장의 통계값\n",
        "\n",
        "- 가장 많이 나온 단어"
      ]
    },
    {
      "cell_type": "code",
      "metadata": {
        "id": "LtJl2Ei4eNl6"
      },
      "source": [
        "texts = myFunction(url, n=100)"
      ],
      "execution_count": null,
      "outputs": []
    },
    {
      "cell_type": "code",
      "metadata": {
        "id": "KmVOM_NzeNl6"
      },
      "source": [
        "import numpy as np\n",
        "from collections import Counter"
      ],
      "execution_count": null,
      "outputs": []
    },
    {
      "cell_type": "code",
      "metadata": {
        "id": "YYFTF7dveNl7"
      },
      "source": [
        "def myFunction (texts) : \n",
        "    \n",
        "    texts_len = []\n",
        "    \n",
        "    word_list = []\n",
        "\n",
        "    \n",
        "    # 문장의 길이를 저장 및 띄어쓰기 단위로 토큰화\n",
        "    for text in texts : \n",
        "        texts_len.append(len(text))\n",
        "      \n",
        "        # 띄어쓰기 토큰\n",
        "        for word in text.split() : \n",
        "            word_list.append(word)\n",
        "    \n",
        "    # 문장에 포함된 단어들 카운트\n",
        "    counter = Counter(word_list)\n",
        "    \n",
        "    # 가장 많이 나온 단어 10개\n",
        "    word_list = counter.most_common(n=10)\n",
        "\n",
        "    # 빈도는 지우고 단어만, 순서대로 저장\n",
        "    word_list = [word[0] for word in word_list]\n",
        "     \n",
        "    return {\"texts\" : len(texts),\n",
        "            \"maximum\" : np.max(texts_len), \"minumum\" : np.min(texts_len),\n",
        "            \"mean\" : np.mean(texts_len), \"median\" : np.median(texts_len), \"std\" : np.std(texts_len),\n",
        "            \"1Q\" : np.quantile(texts_len, 0.25), \"3Q\" : np.quantile(texts_len, 0.75),\n",
        "            \"TOP1_word\" : word_list[0], \"TOP10_word\":word_list[:10]}"
      ],
      "execution_count": null,
      "outputs": []
    },
    {
      "cell_type": "code",
      "metadata": {
        "id": "O29qze9LeNl7",
        "outputId": "ea134694-4386-4a3c-9240-16acb78ba67f"
      },
      "source": [
        "myFunction(texts)"
      ],
      "execution_count": null,
      "outputs": [
        {
          "output_type": "execute_result",
          "data": {
            "text/plain": [
              "{'texts': 100,\n",
              " 'maximum': 223,\n",
              " 'minumum': 2,\n",
              " 'mean': 32.23,\n",
              " 'median': 20.0,\n",
              " 'std': 37.95941385216585,\n",
              " '1Q': 11.75,\n",
              " '3Q': 38.0,\n",
              " 'TOP1_word': '좋은',\n",
              " 'TOP10_word': ['좋은',\n",
              "  '감사합니다',\n",
              "  '강의',\n",
              "  '감사합니다.',\n",
              "  '정말',\n",
              "  '강의를',\n",
              "  '열심히',\n",
              "  '감사합니다!',\n",
              "  '너무',\n",
              "  '이렇게']}"
            ]
          },
          "metadata": {
            "tags": []
          },
          "execution_count": 33
        }
      ]
    }
  ]
}