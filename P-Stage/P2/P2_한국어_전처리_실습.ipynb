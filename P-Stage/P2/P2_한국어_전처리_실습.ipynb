{
  "nbformat": 4,
  "nbformat_minor": 0,
  "metadata": {
    "kernelspec": {
      "display_name": "Python 3",
      "language": "python",
      "name": "python3"
    },
    "language_info": {
      "codemirror_mode": {
        "name": "ipython",
        "version": 3
      },
      "file_extension": ".py",
      "mimetype": "text/x-python",
      "name": "python",
      "nbconvert_exporter": "python",
      "pygments_lexer": "ipython3",
      "version": "3.8.3"
    },
    "colab": {
      "name": "P2_한국어_전처리_실습.ipynb",
      "provenance": [],
      "collapsed_sections": [],
      "include_colab_link": true
    }
  },
  "cells": [
    {
      "cell_type": "markdown",
      "metadata": {
        "id": "view-in-github",
        "colab_type": "text"
      },
      "source": [
        "<a href=\"https://colab.research.google.com/github/yjunej/Boostcamp-AI-Tech/blob/main/P-Stage/P2/P2_%ED%95%9C%EA%B5%AD%EC%96%B4_%EC%A0%84%EC%B2%98%EB%A6%AC_%EC%8B%A4%EC%8A%B5.ipynb\" target=\"_parent\"><img src=\"https://colab.research.google.com/assets/colab-badge.svg\" alt=\"Open In Colab\"/></a>"
      ]
    },
    {
      "cell_type": "markdown",
      "metadata": {
        "id": "vgX6XvMDeNlT"
      },
      "source": [
        "# 한글 자연어 전처리 실습 문제 예제 코드\n",
        "> 작성자      \n",
        "```\n",
        "* 김성현 (bananaband657@gmail.com)  \n",
        "김바다 (qkek983@gmail.com)\n",
        "박상희 (parksanghee0103@gmail.com)  \n",
        "이정우 (jungwoo.l2.rs@gmail.com)\n",
        "```\n",
        "\n",
        "[CC BY-NC-ND](https://creativecommons.org/licenses/by-nc-nd/2.0/kr/)"
      ]
    },
    {
      "cell_type": "markdown",
      "metadata": {
        "id": "pPtd1SPn8RQl"
      },
      "source": [
        "실습 예제 코드를 공유드립니다! 🤗    \n",
        "예제는 말 그대로 예제니까, 정답이 아닙니다! 🤤   \n",
        "여러분이 작성하신 모든 코드가 정답입니다! 🤗🤗     "
      ]
    },
    {
      "cell_type": "markdown",
      "metadata": {
        "id": "fGkAbUoAl2uT"
      },
      "source": [
        "\n",
        "### 음성처리 관련 문제 (3)\n",
        "1. 알파벳 및 특수문자를 한글 발음으로 변환하기\n",
        "2. 대화속에서 등장한 금액과 계좌번호 추출하기\n",
        "3. 대화속에서 등장한 핸드폰 번호 추출하기\n",
        "\n",
        "### 개인정보 관련 문제 (2)\n",
        "4. 개인정보 마스킹하기\n",
        "5. 욕설 삐처리하기\n",
        "\n",
        "### 그 외 (2)\n",
        "6. 특정 영상의 유투브 댓글 크롤링하기\n",
        "7. Corpus EDA"
      ]
    },
    {
      "cell_type": "markdown",
      "metadata": {
        "id": "WQ7Vm-AreNlf"
      },
      "source": [
        "### 1. 자연어를 한글 발음으로 변환하기\n",
        "\n",
        "한국어는 특히 자연어를 발음으로 표현할 때, 구개음화 등과 같은 다양한 특징을 가집니다 😂   \n",
        "음성 합성을 위한 텍스트를 생성할 때, '소리나는 대로' 표현하기 위해 일반적인 자연어 텍스트를 발음 형태로 변형해주기도 합니다 🤗   \n",
        "\n",
        "\n"
      ]
    },
    {
      "cell_type": "code",
      "metadata": {
        "colab": {
          "base_uri": "https://localhost:8080/"
        },
        "id": "nYosdfe4nCYR",
        "outputId": "f3a9f0a0-3391-4e93-d358-3e4d4ad2ce1a"
      },
      "source": [
        "!pip install g2pk"
      ],
      "execution_count": null,
      "outputs": [
        {
          "output_type": "stream",
          "text": [
            "Collecting g2pk\n",
            "  Downloading https://files.pythonhosted.org/packages/ed/ba/3bdb3be04c45b1a814e84a131b48afbad0818d82284f0df6c4f9b0c11a43/g2pK-0.9.4-py3-none-any.whl\n",
            "Collecting python-mecab-ko\n",
            "  Downloading https://files.pythonhosted.org/packages/1f/1d/9c869b1230dfd12c2fc84cfd307ae76a48f8e218db19feab00ef451a147e/python-mecab-ko-1.0.11.tar.gz\n",
            "Collecting konlpy\n",
            "\u001b[?25l  Downloading https://files.pythonhosted.org/packages/85/0e/f385566fec837c0b83f216b2da65db9997b35dd675e107752005b7d392b1/konlpy-0.5.2-py2.py3-none-any.whl (19.4MB)\n",
            "\u001b[K     |████████████████████████████████| 19.4MB 1.3MB/s \n",
            "\u001b[?25hRequirement already satisfied: nltk in /usr/local/lib/python3.7/dist-packages (from g2pk) (3.2.5)\n",
            "Collecting jamo\n",
            "  Downloading https://files.pythonhosted.org/packages/ac/cc/49812faae67f9a24be6ddaf58a2cf7e8c3cbfcf5b762d9414f7103d2ea2c/jamo-0.4.1-py3-none-any.whl\n",
            "Collecting pybind11~=2.0\n",
            "\u001b[?25l  Downloading https://files.pythonhosted.org/packages/8d/43/7339dbabbc2793718d59703aace4166f53c29ee1c202f6ff5bf8a26c4d91/pybind11-2.6.2-py2.py3-none-any.whl (191kB)\n",
            "\u001b[K     |████████████████████████████████| 194kB 40.4MB/s \n",
            "\u001b[?25hCollecting beautifulsoup4==4.6.0\n",
            "\u001b[?25l  Downloading https://files.pythonhosted.org/packages/9e/d4/10f46e5cfac773e22707237bfcd51bbffeaf0a576b0a847ec7ab15bd7ace/beautifulsoup4-4.6.0-py3-none-any.whl (86kB)\n",
            "\u001b[K     |████████████████████████████████| 92kB 6.2MB/s \n",
            "\u001b[?25hCollecting JPype1>=0.7.0\n",
            "\u001b[?25l  Downloading https://files.pythonhosted.org/packages/cd/a5/9781e2ef4ca92d09912c4794642c1653aea7607f473e156cf4d423a881a1/JPype1-1.2.1-cp37-cp37m-manylinux2010_x86_64.whl (457kB)\n",
            "\u001b[K     |████████████████████████████████| 460kB 40.6MB/s \n",
            "\u001b[?25hCollecting colorama\n",
            "  Downloading https://files.pythonhosted.org/packages/44/98/5b86278fbbf250d239ae0ecb724f8572af1c91f4a11edf4d36a206189440/colorama-0.4.4-py2.py3-none-any.whl\n",
            "Requirement already satisfied: tweepy>=3.7.0 in /usr/local/lib/python3.7/dist-packages (from konlpy->g2pk) (3.10.0)\n",
            "Requirement already satisfied: lxml>=4.1.0 in /usr/local/lib/python3.7/dist-packages (from konlpy->g2pk) (4.2.6)\n",
            "Requirement already satisfied: numpy>=1.6 in /usr/local/lib/python3.7/dist-packages (from konlpy->g2pk) (1.19.5)\n",
            "Requirement already satisfied: six in /usr/local/lib/python3.7/dist-packages (from nltk->g2pk) (1.15.0)\n",
            "Requirement already satisfied: typing-extensions; python_version < \"3.8\" in /usr/local/lib/python3.7/dist-packages (from JPype1>=0.7.0->konlpy->g2pk) (3.7.4.3)\n",
            "Requirement already satisfied: requests[socks]>=2.11.1 in /usr/local/lib/python3.7/dist-packages (from tweepy>=3.7.0->konlpy->g2pk) (2.23.0)\n",
            "Requirement already satisfied: requests-oauthlib>=0.7.0 in /usr/local/lib/python3.7/dist-packages (from tweepy>=3.7.0->konlpy->g2pk) (1.3.0)\n",
            "Requirement already satisfied: idna<3,>=2.5 in /usr/local/lib/python3.7/dist-packages (from requests[socks]>=2.11.1->tweepy>=3.7.0->konlpy->g2pk) (2.10)\n",
            "Requirement already satisfied: chardet<4,>=3.0.2 in /usr/local/lib/python3.7/dist-packages (from requests[socks]>=2.11.1->tweepy>=3.7.0->konlpy->g2pk) (3.0.4)\n",
            "Requirement already satisfied: urllib3!=1.25.0,!=1.25.1,<1.26,>=1.21.1 in /usr/local/lib/python3.7/dist-packages (from requests[socks]>=2.11.1->tweepy>=3.7.0->konlpy->g2pk) (1.24.3)\n",
            "Requirement already satisfied: certifi>=2017.4.17 in /usr/local/lib/python3.7/dist-packages (from requests[socks]>=2.11.1->tweepy>=3.7.0->konlpy->g2pk) (2020.12.5)\n",
            "Requirement already satisfied: PySocks!=1.5.7,>=1.5.6; extra == \"socks\" in /usr/local/lib/python3.7/dist-packages (from requests[socks]>=2.11.1->tweepy>=3.7.0->konlpy->g2pk) (1.7.1)\n",
            "Requirement already satisfied: oauthlib>=3.0.0 in /usr/local/lib/python3.7/dist-packages (from requests-oauthlib>=0.7.0->tweepy>=3.7.0->konlpy->g2pk) (3.1.0)\n",
            "Building wheels for collected packages: python-mecab-ko\n",
            "  Building wheel for python-mecab-ko (setup.py) ... \u001b[?25lerror\n",
            "\u001b[31m  ERROR: Failed building wheel for python-mecab-ko\u001b[0m\n",
            "\u001b[?25h  Running setup.py clean for python-mecab-ko\n",
            "Failed to build python-mecab-ko\n",
            "Installing collected packages: pybind11, python-mecab-ko, beautifulsoup4, JPype1, colorama, konlpy, jamo, g2pk\n",
            "    Running setup.py install for python-mecab-ko ... \u001b[?25l\u001b[?25hdone\n",
            "  Found existing installation: beautifulsoup4 4.6.3\n",
            "    Uninstalling beautifulsoup4-4.6.3:\n",
            "      Successfully uninstalled beautifulsoup4-4.6.3\n",
            "Successfully installed JPype1-1.2.1 beautifulsoup4-4.6.0 colorama-0.4.4 g2pk-0.9.4 jamo-0.4.1 konlpy-0.5.2 pybind11-2.6.2 python-mecab-ko-1.0.11\n"
          ],
          "name": "stdout"
        }
      ]
    },
    {
      "cell_type": "code",
      "metadata": {
        "id": "JLa9t6conekq"
      },
      "source": [
        "from g2pk import G2p\n",
        "g2p = G2p()"
      ],
      "execution_count": null,
      "outputs": []
    },
    {
      "cell_type": "code",
      "metadata": {
        "id": "mMaxaBkteNlg"
      },
      "source": [
        "text = \"Lost arc는 smile gate가 개발한 action game이다.\\n\\\n",
        "2014년 11월 12일 최초 공개했으며 2018년 11월 7일부터 오픈 베타 테스트를 진행하다 2019년 12월 4일 정식 오픈했다.\""
      ],
      "execution_count": null,
      "outputs": []
    },
    {
      "cell_type": "code",
      "metadata": {
        "colab": {
          "base_uri": "https://localhost:8080/"
        },
        "id": "g5gCE8VgnH62",
        "outputId": "59fe1711-0f81-4d94-d60f-45b0f48b5368"
      },
      "source": [
        "print(g2p(text))"
      ],
      "execution_count": null,
      "outputs": [
        {
          "output_type": "stream",
          "text": [
            "로스트 아크는 스마일 게이트가 개발하 낵쎤 게이미다.\n",
            "이영일사녀 니리뤄 리리일 최초 공개해쓰며 이영일팔려 니리뤌 치릴부터 오픈 베타 테스트를 진행하다 이영일구녀 니리월 사일 정시 고픈핻따.\n"
          ],
          "name": "stdout"
        }
      ]
    },
    {
      "cell_type": "markdown",
      "metadata": {
        "id": "BivaUUHxeNlk"
      },
      "source": [
        "### 2. 대화속에서 등장한 금액과 계좌번호 추출하기\n",
        "\n",
        "- 고객과 상담사간의 통화 내용을 음성인식한 데이터입니다.   \n",
        "- 해당 데이터에서 금액과 계좌번호를 추출하는 시나리오입니다.   \n",
        "- A은행의 계좌번호는 \"-\"를 포함해서 12자리입니다.\n",
        "\n",
        "- 예시) xxx-xxx-xxxx"
      ]
    },
    {
      "cell_type": "code",
      "metadata": {
        "id": "QvguPltheNll"
      },
      "source": [
        "texts = [\"여보세요. 거기 A은행이죠? 저의 계좌에 문제가 있어서 연락드렸습니다. 어플로 돈을 송금해야 하는데 오류가 뜨네요.\",\n",
        "         \"네! 고객님 안녕하세요. A은행 상담사 홍길동입니다. 계좌번호에 문제가 생기셔서 연락주셨다구요?\",\n",
        "         \"네 맞아요\",\n",
        "         \"현재 어플 전산망의 문제가 생겨 복구중에 있습니다. 직접 송금 서비스를 도와드리겠습니다. 인출하실 계좌번호를 알려주실 수 있을까요?\",\n",
        "         \"일이삼다시사오육다시칠팔구공이요\",\n",
        "         \"고객님이 송금하고 싶으신 금액은 얼마입니까?\",\n",
        "         \"팔억구천팔백칠십오만육백오십칠원이에요\",\n",
        "         \"고객님이 송금하시고자 하는 계좌번호를 알려주실 수 있을까요?\",\n",
        "         \"영구팔다시칠육오다시사삼이일이요\",\n",
        "         \"네! 고객님 이용해 불편을 드려 대단히 죄송합니다. 송금 정상처리되었습니다.\",\n",
        "         \"네 감사합니다.\"]"
      ],
      "execution_count": null,
      "outputs": []
    },
    {
      "cell_type": "code",
      "metadata": {
        "id": "VxMG-TSxeNll",
        "outputId": "d6810e68-04d2-4081-ab89-ca94b7ef8aab"
      },
      "source": [
        "texts"
      ],
      "execution_count": null,
      "outputs": [
        {
          "output_type": "execute_result",
          "data": {
            "text/plain": [
              "['여보세요. 거기 A은행이죠? 저의 계좌에 문제가 있어서 연락드렸습니다. 어플로 돈을 송금해야 하는데 오류가 뜨네요.',\n",
              " '네! 고객님 안녕하세요. A은행 상담사 홍길동입니다. 계좌번호에 문제가 생기셔서 연락주셨다구요?',\n",
              " '네 맞아요',\n",
              " '현재 어플 전산망의 문제가 생겨 복구중에 있습니다. 직접 송금 서비스를 도와드리겠습니다. 인출하실 계좌번호를 알려주실 수 있을까요?',\n",
              " '일이삼다시사오육다시칠팔구공이요',\n",
              " '고객님이 송금하고 싶으신 금액은 얼마입니까?',\n",
              " '팔억구천팔백칠십오만육백오십칠원이에요',\n",
              " '고객님이 송금하시고자 하는 계좌번호를 알려주실 수 있을까요?',\n",
              " '영구팔다시칠육오다시사삼이일이요',\n",
              " '네! 고객님 이용해 불편을 드려 대단히 죄송합니다. 송금 정상처리되었습니다.',\n",
              " '네 감사합니다.']"
            ]
          },
          "metadata": {
            "tags": []
          },
          "execution_count": 6
        }
      ]
    },
    {
      "cell_type": "code",
      "metadata": {
        "id": "MfZ-7n6neNlm"
      },
      "source": [
        "def myFunction (texts) : \n",
        "    \n",
        "    # 추출할 데이터를 저장할 공간\n",
        "    from_account = \"\"\n",
        "    to_account = \"\" \n",
        "    money_extraction = 0\n",
        "    \n",
        "    # 원하는 정보를 물어보는 문장인지 체크\n",
        "    from_account_question = False\n",
        "    to_account_question = False\n",
        "    money_extraction_question = False\n",
        "    \n",
        "    # 숫자 한글 발음 딕셔너리\n",
        "    kor_to_num = {'일':1, \"이\":2, \"삼\":3, \"사\":4, \"오\":5,\n",
        "                  \"육\":6, \"칠\":7, \"팔\":8, \"구\":9, \"공\":0, \"영\":0,\n",
        "                  \"억\":100000000, \"만\":10000, \"천\" : 1000,  \"백\":100, \"십\":10}\n",
        "    \n",
        "    # 문장을 순환하면서 전처리 진행\n",
        "    for text in texts : \n",
        "        \n",
        "        # 금액 질문이 들어오면 금액을 추출\n",
        "        if money_extraction_question == True : \n",
        "            \n",
        "            # 문장에서 원을 기준으로 앞부분을 변환시켜야 할 금액으로 인식\n",
        "            text = text.split(\"원\")[0]\n",
        "            \n",
        "            # 억 or 만을 기준으로 분리\n",
        "            text = text.replace(\"억\", \" 억 \")\n",
        "            text = text.replace(\"만\", \" 만 \")\n",
        "            \n",
        "            # 띄어쓰기 기준 리스트로 변환\n",
        "            text = text.split()\n",
        "                        \n",
        "            # 쪼개진 문자의 길이 만큼 순한하되 2번째 자리는 억 or 만 등의 단위이므로, 2씩 증가\n",
        "            for i in range(0, len(text), 2) : \n",
        "                \n",
        "                # 앞자리는 무조건 존재\n",
        "                front_num = text[i]\n",
        "                \n",
        "                # 뒤의 단위는 존재하지 않을 수 있기 때문에, 없으면 \"일\"이라는 기본 단위를 붙혀줌.\n",
        "                try : \n",
        "                    back_num = text[i+1]\n",
        "                except :\n",
        "                    back_num = \"일\"\n",
        "\n",
        "                # 한글을 새롭게 숫자로 바꿀 저장소\n",
        "                new_front_num, new_back_num = 0, 0\n",
        "                \n",
        "                # 임시로 계산한 금액을 저장할 공간\n",
        "                temp_money = 0\n",
        "                \n",
        "                # 만약, 앞의 변환해야할 숫자를 순환, 단 각 짝수 자리에는 천 백 십 등의 단위가 나타남.            \n",
        "                for k in range(0, len(front_num), 2) : \n",
        "                    \n",
        "                    # 앞의 숫자와 뒤의 단위를 곱해서 계산\n",
        "                    try : \n",
        "                        temp_money += kor_to_num[front_num[k]] * kor_to_num[front_num[k+1]]\n",
        "                    \n",
        "                    # 만약, 뒷 자리가 없는 경우 그냥 계산\n",
        "                    except : \n",
        "                        temp_money += kor_to_num[front_num[k]]\n",
        "                \n",
        "                # 앞의 변환이 끝난 숫자에 큰 단위를 곱해서 최종 금액에 더함.\n",
        "                money_extraction += temp_money * kor_to_num[back_num]     \n",
        "                                \n",
        "            # 금액 단위 표시하기\n",
        "            money_extraction = \"{:,}원\".format(money_extraction)\n",
        "                \n",
        "            # 금액 계산이 완료되서 다시 질문을 False로 변환\n",
        "            money_extraction_question = False\n",
        "        \n",
        "        # 출금 계좌 질문이 들어오면 계좌번호를 추출\n",
        "        elif from_account_question == True : \n",
        "            \n",
        "            # 하이픈 변환\n",
        "            data = text.replace(\"다시\", \"-\")\n",
        "            \n",
        "            # 숫자발음 변환\n",
        "            for num in kor_to_num.keys() :\n",
        "                data = data.replace(num, str(kor_to_num[num]))\n",
        "                \n",
        "            # 계좌번호는 하이픈을 합쳐서 총 12자리\n",
        "            from_account = data[:12]\n",
        "            \n",
        "            # 계좌번호 변환이 완료되서 다시 질문을 False로 변환\n",
        "            from_account_question = False\n",
        "        \n",
        "        # 송금 계좌 질문이 들어오면 계좌번호를 추출\n",
        "        elif to_account_question == True : \n",
        "            data = text.replace(\"다시\", \"-\")\n",
        "            for num in kor_to_num.keys() :\n",
        "                data = data.replace(num, str(kor_to_num[num]))\n",
        "            to_account = data[:12]\n",
        "            to_account_question = False        \n",
        "        \n",
        "        # 원하는 질문인지 체크\n",
        "        if (\"송금\" in text) and (\"금액\" in text) : \n",
        "            money_extraction_question = True\n",
        "        elif (\"인출\" in text) and (\"계좌번호\" in text) : \n",
        "            from_account_question = True\n",
        "        elif (\"송금\" in text) and (\"계좌번호\" in text) : \n",
        "            to_account_question = True\n",
        "    \n",
        "    # 최종 원하는 결과들을 딕셔너리 형태로 리턴\n",
        "    return {\"from_Account\" : from_account, \"to_Account\" : to_account, \"money\" : money_extraction}"
      ],
      "execution_count": null,
      "outputs": []
    },
    {
      "cell_type": "code",
      "metadata": {
        "scrolled": false,
        "id": "qJyfKHl8eNln",
        "outputId": "41cee188-c824-4455-dd74-cb31165c86d5"
      },
      "source": [
        "myFunction(texts)"
      ],
      "execution_count": null,
      "outputs": [
        {
          "output_type": "execute_result",
          "data": {
            "text/plain": [
              "{'from_Account': '123-456-7890',\n",
              " 'to_Account': '098-765-4321',\n",
              " 'money': '898,750,657원'}"
            ]
          },
          "metadata": {
            "tags": []
          },
          "execution_count": 8
        }
      ]
    },
    {
      "cell_type": "markdown",
      "metadata": {
        "id": "vmcLZA1LeNlo"
      },
      "source": [
        "### 3. 대화속에서 등장한 핸드폰 번호 추출하기\n",
        "\n",
        "- 고객과 상담사간의 통화 내용을 음성인식한 데이터입니다.   \n",
        "- 대화 속에 등장한 핸드폰 번호를 추출해보도록 하겠습니다.   "
      ]
    },
    {
      "cell_type": "code",
      "metadata": {
        "id": "fp5jpUQCeNlo"
      },
      "source": [
        "texts = [\"XXX 쇼핑몰 고객센터입니다.\",\n",
        "         \"배송 관련 문의 사항은 공일공육사칠구팔구삼삼입니다.\",\n",
        "         \"환불 및 교환 관련 문의사항은 공삼일구육칠이육삼삼입니다.\",\n",
        "         \"제품 풀질 문의사항은 공일일일일이삼일이삼사입니다.\", \n",
        "         \"기타 문의사항은 공삼일팔구구구일이삼사입니다.\",\n",
        "         \"상담원 연결은 공이칠칠칠팔이팔이입니다.\"]"
      ],
      "execution_count": null,
      "outputs": []
    },
    {
      "cell_type": "code",
      "metadata": {
        "id": "HroLOpJ7eNlp",
        "outputId": "adc44dcf-7673-4b27-bd4e-9fd4b81a04d6"
      },
      "source": [
        "texts"
      ],
      "execution_count": null,
      "outputs": [
        {
          "output_type": "execute_result",
          "data": {
            "text/plain": [
              "['XXX 쇼핑몰 고객센터입니다.',\n",
              " '배송 관련 문의 사항은 공일공육사칠구팔구삼삼입니다.',\n",
              " '환불 및 교환 관련 문의사항은 공삼일구육칠이육삼삼입니다.',\n",
              " '제품 풀질 문의사항은 공일일일일이삼일이삼사입니다.',\n",
              " '기타 문의사항은 공삼일팔구구구일이삼사입니다.',\n",
              " '상담원 연결은 공이칠칠칠팔이팔이입니다.']"
            ]
          },
          "metadata": {
            "tags": []
          },
          "execution_count": 10
        }
      ]
    },
    {
      "cell_type": "code",
      "metadata": {
        "id": "OnCWIYOieNlp"
      },
      "source": [
        "def myFunction (texts) : \n",
        "    \n",
        "    kor_to_num = {'일':1, \"이\":2, \"삼\":3, \"사\":4, \"오\":5,\n",
        "                  \"육\":6, \"칠\":7, \"팔\":8, \"구\":9, \"공\":0}\n",
        "    \n",
        "    phones = []\n",
        "    \n",
        "    for text in texts : \n",
        "        \n",
        "        # 주어진 문장에서 제일 마지막에 전화번호가 있다고 가정\n",
        "        text = text.split(\" \")[-1]\n",
        "        \n",
        "        # 번호부분에서 \"입니다.\"를 제외\n",
        "        text = text.replace(\"입니다.\", \"\")\n",
        "                  \n",
        "        # 한글을 숫자로 변환\n",
        "        for num in kor_to_num.keys() : \n",
        "            text = text.replace(num, str(kor_to_num[num]))\n",
        "        \n",
        "        try :\n",
        "            \n",
        "            # 만약, 전부 숫자로 변환된다면, 전화번호라고 인식\n",
        "            int(text)\n",
        "                    \n",
        "            # 핸드폰 번호의 경우 3자리 - 4자리 - 4자리 형태를 띔\n",
        "            if (text[0] == \"0\") and (text[1] == \"1\") : \n",
        "                new_text = text[0:3] + \"-\" + text[3:7] + \"-\" + text[7:]\n",
        "                \n",
        "            # 일반 전화의 경우, 031과 02에 따라 구분하고, 가운데 자리가 3자리 or 4자리에 따라 처리\n",
        "            else : \n",
        "                if text[0:3] == \"031\" :  \n",
        "                    if len(text[3:]) == 7 : \n",
        "                        new_text = text[0:3] + \"-\" + text[3:6] + \"-\" + text[6:]\n",
        "                    else : \n",
        "                        new_text = text[0:3] + \"-\" + text[3:7] + \"-\" + text[7:]\n",
        "                elif text[0:2] == \"02\" : \n",
        "                    if len(text[2:]) == 7 : \n",
        "                        new_text = text[0:2] + \"-\" + text[2:5] + \"-\" + text[5:]\n",
        "                    else : \n",
        "                        new_text = text[0:2] + \"-\" + text[2:6] + \"-\" + text[6:]\n",
        "\n",
        "            # 숫자로 변환된 전화번호를 저장\n",
        "            phones.append(new_text)\n",
        "\n",
        "        # 만약, int(text)가 안된다면, 전화번호가 아니라고 인식 \n",
        "        except :\n",
        "            pass\n",
        "\n",
        "    # 저장된 전화번호 리스트를 리턴\n",
        "    return phones"
      ],
      "execution_count": null,
      "outputs": []
    },
    {
      "cell_type": "code",
      "metadata": {
        "id": "MwJDPXczeNlq",
        "outputId": "299a6d2b-de0e-4ace-a8fc-181524acc055"
      },
      "source": [
        "myFunction(texts)"
      ],
      "execution_count": null,
      "outputs": [
        {
          "output_type": "execute_result",
          "data": {
            "text/plain": [
              "['010-6479-8933',\n",
              " '031-967-2633',\n",
              " '011-1123-1234',\n",
              " '031-8999-1234',\n",
              " '02-777-8282']"
            ]
          },
          "metadata": {
            "tags": []
          },
          "execution_count": 12
        }
      ]
    },
    {
      "cell_type": "markdown",
      "metadata": {
        "id": "wJPDvtTOeNlr"
      },
      "source": [
        "### 4. 개인정보 마스킹하기\n"
      ]
    },
    {
      "cell_type": "markdown",
      "metadata": {
        "id": "dlMYwbjJ_dMq"
      },
      "source": [
        "- 개인정보 마스킹의 중요성은 아무리 강조해도 지나치지 않습니다.\n",
        "- 아래 텍스트들에 대해 개인 정보를 마스킹해보겠습니다."
      ]
    },
    {
      "cell_type": "code",
      "metadata": {
        "id": "Qm7PbUD-eNls"
      },
      "source": [
        "texts = [\"진 김석진 1992-12-04 Seokjin_INTP@gmail.com\",\n",
        "         \"슈가 민윤기 1993-03-09 Yunki_INTP@daum.com\",\n",
        "         \"제이홉 정호석 1994-02-18 Hoseok_ESFJ@naver.com\",\n",
        "         \"RM 김남준 1994-09-12 Namjun_ENFP@naver.com\",\n",
        "         \"지민 박지민 1995-10-13 Jimin_ENJF@daum.com\",\n",
        "         \"뷔 김태형 1995-12-30 Taehyung_ENFP@hanmail.net\",\n",
        "         \"정국 전정국 1997-09-01 Jungkook_ISFP-A@kakak.com\"]"
      ],
      "execution_count": null,
      "outputs": []
    },
    {
      "cell_type": "code",
      "metadata": {
        "id": "zqMSVdjzeNlt",
        "outputId": "c0934983-8625-473a-e63c-2667d44fbcb6"
      },
      "source": [
        "texts"
      ],
      "execution_count": null,
      "outputs": [
        {
          "output_type": "execute_result",
          "data": {
            "text/plain": [
              "['진 김석진 1992-12-04 Seokjin_INTP@gmail.com',\n",
              " '슈가 민윤기 1993-03-09 Yunki_INTP@daum.com',\n",
              " '제이홉 정호석 1994-02-18 Hoseok_ESFJ@naver.com',\n",
              " 'RM 김남준 1994-09-12 Namjun_ENFP@naver.com',\n",
              " '지민 박지민 1995-10-13 Jimin_ENJF@daum.com',\n",
              " '뷔 김태형 1995-12-30 Taehyung_ENFP@hanmail.net',\n",
              " '정국 전정국 1997-09-01 Jungkook_ISFP-A@kakak.com']"
            ]
          },
          "metadata": {
            "tags": []
          },
          "execution_count": 14
        }
      ]
    },
    {
      "cell_type": "code",
      "metadata": {
        "id": "fj7rXutQeNlt"
      },
      "source": [
        "import re\n",
        "\n",
        "def myFunction (texts) : \n",
        "    \n",
        "    new_texts = []\n",
        "    \n",
        "    # 문장을 반복\n",
        "    for text in texts : \n",
        "        \n",
        "        # 새로 변환된 문장\n",
        "        text_2 = \"\"\n",
        "        \n",
        "        # 각 문장에서 띄어쓰기 단위로 분리\n",
        "        for doc in text.split() : \n",
        "            \n",
        "            # 첫번째 단어(이름)은 그대로 저장\n",
        "            if doc == text.split()[0] : \n",
        "                text_2 += doc + \" \" \n",
        "            \n",
        "            # 두번째부터 Masking을 적용\n",
        "            else : \n",
        "            \n",
        "                # 이름 마스킹 (성만 남기고 * 처리)\n",
        "                if re.sub(r\"[ㄱ-ㅣ가-힣]+[ㄱ-ㅣ가-힣]+[ㄱ-ㅣ가-힣]\", \"*\", doc) == \"*\" : \n",
        "                    text_2 += doc[0] + \"**\" + \" \"\n",
        "                    \n",
        "                # 이메일 마스킹 (@뒤는 살리고, 앞부분은 맨 앞에만 표시)\n",
        "                elif re.sub(r\"[a-zA-Z0-9+-_.]+@[a-zA-Z0-9-]+\\.[a-zA-Z0-9-.]+\", \"*\", doc) == \"*\" : \n",
        "                    \n",
        "                    # masking 된 이메일\n",
        "                    email_mask = \"\"\n",
        "                    \n",
        "                    # 이메일의 부분 masking\n",
        "                    for i in range(len(doc)) : \n",
        "                        \n",
        "                        # 이메일 첫번째 단어는 저장\n",
        "                        if i == 0 : \n",
        "                            email_mask += doc[i]\n",
        "                        \n",
        "                        # 철자가 @이면 표시하고, 반목문 탈출\n",
        "                        elif (doc[i] == \"@\"): \n",
        "                            email_mask += doc[i]\n",
        "                            break\n",
        "                            \n",
        "                        # 이외의 부분은 전부 masking 처리\n",
        "                        else :\n",
        "                            email_mask += \"*\"\n",
        "                    \n",
        "                    # 만약, 반복문을 탈출 했을 때 뒤의 문자가 더 남았다면, 나머지는 그냥 저장\n",
        "                    if i != len(doc) - 1 : \n",
        "                        email_mask += doc[i+1:]\n",
        "                        \n",
        "                    #  최종 masking된 이메일을 저장\n",
        "                    text_2 += email_mask\n",
        "\n",
        "                # 마스킹 할 것이 없으면 그냥 추가\n",
        "                else : \n",
        "                    text_2 += doc + \" \"              \n",
        "        \n",
        "        # 앞뒤 공백 제거\n",
        "        text_2 = text_2.strip()\n",
        "        \n",
        "        # 최종 결과 저장\n",
        "        new_texts.append(text_2)\n",
        "            \n",
        "    return new_texts"
      ],
      "execution_count": null,
      "outputs": []
    },
    {
      "cell_type": "code",
      "metadata": {
        "id": "EZ9tQ3QGeNlu",
        "outputId": "37bc99f7-3fd1-4c30-914e-2713a30821c2"
      },
      "source": [
        "myFunction(texts)"
      ],
      "execution_count": null,
      "outputs": [
        {
          "output_type": "execute_result",
          "data": {
            "text/plain": [
              "['진 김** 1992-12-04 S***********@gmail.com',\n",
              " '슈가 민** 1993-03-09 Y*********@daum.com',\n",
              " '제이홉 정** 1994-02-18 H**********@naver.com',\n",
              " 'RM 김** 1994-09-12 N**********@naver.com',\n",
              " '지민 박** 1995-10-13 J*********@daum.com',\n",
              " '뷔 김** 1995-12-30 T************@hanmail.net',\n",
              " '정국 전** 1997-09-01 J**************@kakak.com']"
            ]
          },
          "metadata": {
            "tags": []
          },
          "execution_count": 16
        }
      ]
    },
    {
      "cell_type": "markdown",
      "metadata": {
        "id": "vjGr9U3BeNlv"
      },
      "source": [
        "### 5.  욕설 삐처리 하기"
      ]
    },
    {
      "cell_type": "code",
      "metadata": {
        "id": "KMQvoKVyeNlv",
        "outputId": "e20d4ea6-090a-438e-8739-b36037df0984"
      },
      "source": [
        "!git clone https://github.com/2runo/Curse-detection-data.git"
      ],
      "execution_count": null,
      "outputs": [
        {
          "output_type": "stream",
          "text": [
            "fatal: destination path 'Curse-detection-data' already exists and is not an empty directory.\r\n"
          ],
          "name": "stdout"
        }
      ]
    },
    {
      "cell_type": "code",
      "metadata": {
        "id": "Gs5eF1QIeNlw",
        "outputId": "fd18dfe4-4895-4329-d706-81db180e614b"
      },
      "source": [
        "import random\n",
        "import pandas as pd\n",
        "from tqdm import tqdm\n",
        "\n",
        "data = pd.DataFrame()\n",
        "\n",
        "f = open(\"./Curse-detection-data/dataset.txt\", 'r')\n",
        "lines = f.readlines()\n",
        "for line in tqdm(lines):\n",
        "    docs = line.replace(\"\\n\", \"\").split(\"|\")\n",
        "    data = data.append({\"text\":docs[0], \"label\":docs[1]}, ignore_index=True)\n",
        "f.close()\n",
        "\n",
        "data = data[data[\"label\"] == \"1\"].reset_index(drop=True)\n",
        "random_index = random.sample(range(len(data)), 10)\n",
        "texts = [data.loc[row][\"text\"] for row in random_index]"
      ],
      "execution_count": null,
      "outputs": [
        {
          "output_type": "stream",
          "text": [
            "100%|██████████| 5825/5825 [00:11<00:00, 504.55it/s]\n"
          ],
          "name": "stderr"
        }
      ]
    },
    {
      "cell_type": "code",
      "metadata": {
        "id": "--X3IwgOeNlx",
        "outputId": "d1d164fd-b761-466f-f1de-4dffc4f530c5"
      },
      "source": [
        "texts"
      ],
      "execution_count": null,
      "outputs": [
        {
          "output_type": "execute_result",
          "data": {
            "text/plain": [
              "['키 170 27살 따먹은여자 23명 ㅁㅌㅊ?',\n",
              " '그럼 꼽아 놓고 하면 좆질로 분수 가능?',\n",
              " '닌 어딘데 중앙대무시하냐 확 쑤셔불랑게',\n",
              " '짱개새끼를 존나게 빨아대네.',\n",
              " '전시라고 말했고 여럿이서 사람 병신만들기 쉽고 죽은자는 말이없다.내목숨을 위해서 기꺼히 엿같은 새끼에게 내 K2 소총으로 후장을 갈겨줄테다 그게 간부라고 해도 말이지간부새끼땜에 죽나 다르게죽나 죽는건 매한가지',\n",
              " '미씨 원탑을 까노',\n",
              " 'ㅈㅈ위쪽 뼈에닿을때까지 눌러서 재는거라던데',\n",
              " '정봉주 같은애가  국회의원을 했다는것만으로조선인 수준이 적나라하게 드러난거지',\n",
              " '방구석에서 귀찮으니 시켜먹어대는 새끼 늘어나니까 저런 병신같은데도 늘어나는듯ㅋㅋㅋㅋㅋ',\n",
              " '아니 메시 허락은 안받고 아버지 허락을 처받고있냐 미친 양아치 새기네']"
            ]
          },
          "metadata": {
            "tags": []
          },
          "execution_count": 19
        }
      ]
    },
    {
      "cell_type": "code",
      "metadata": {
        "id": "J5P3h_zdeNlx",
        "outputId": "030c5c62-449c-4449-dc39-c7ee06d11ee0"
      },
      "source": [
        "# 욕설 사전\n",
        "!git clone https://github.com/LDNOOBW/List-of-Dirty-Naughty-Obscene-and-Otherwise-Bad-Words\n",
        "!git clone https://github.com/doublems/korean-bad-words\n",
        "!git clone https://github.com/organization/Gentleman/"
      ],
      "execution_count": null,
      "outputs": [
        {
          "output_type": "stream",
          "text": [
            "fatal: destination path 'List-of-Dirty-Naughty-Obscene-and-Otherwise-Bad-Words' already exists and is not an empty directory.\n",
            "fatal: destination path 'korean-bad-words' already exists and is not an empty directory.\n",
            "fatal: destination path 'Gentleman' already exists and is not an empty directory.\n"
          ],
          "name": "stdout"
        }
      ]
    },
    {
      "cell_type": "code",
      "metadata": {
        "id": "_L7gXSZeeNly"
      },
      "source": [
        "import json\n",
        "\n",
        "# 비속어 사전 01\n",
        "slang_list_01 = []\n",
        "f = open(\"./List-of-Dirty-Naughty-Obscene-and-Otherwise-Bad-Words/ko\", 'r')\n",
        "lines = f.readlines()\n",
        "for line in lines:\n",
        "    line = line.replace(\"\\n\", \"\")\n",
        "    slang_list_01.append(line)\n",
        "f.close()\n",
        "\n",
        "# 비속어 사전 02\n",
        "slang_list_02 = []\n",
        "f = open(\"./korean-bad-words/korean-bad-words.md\", 'r')\n",
        "lines = f.readlines()\n",
        "for line in lines:\n",
        "    line = line.replace(\"\\n\", \"\")\n",
        "    slang_list_02.append(line)\n",
        "f.close()\n",
        "\n",
        "# 비속어 사전 03\n",
        "with open('./Gentleman/resources/badwords.json') as json_file:\n",
        "    json_data = json.load(json_file)\n",
        "slang_list_03 = json_data[\"badwords\"]\n",
        "\n",
        "# 비속어 사전 통합\n",
        "slang_list = slang_list_01 + slang_list_02 + slang_list_03\n",
        "slang_list = list(set(slang_list))"
      ],
      "execution_count": null,
      "outputs": []
    },
    {
      "cell_type": "code",
      "metadata": {
        "id": "C9bmZGPWeNlz"
      },
      "source": [
        "def myFunction(texts) : \n",
        "    \n",
        "    new_texts = []\n",
        "    \n",
        "    for text in texts : \n",
        "        \n",
        "        for word in slang_list : \n",
        "            \n",
        "            text = text.replace(word, \"*\"*len(word))\n",
        "            \n",
        "        new_texts.append(text)\n",
        "            \n",
        "    return new_texts"
      ],
      "execution_count": null,
      "outputs": []
    },
    {
      "cell_type": "code",
      "metadata": {
        "id": "JN6e3BRYeNlz",
        "outputId": "87b02886-fac8-429b-b3cc-ad9abbc9985a"
      },
      "source": [
        "myFunction(texts)"
      ],
      "execution_count": null,
      "outputs": [
        {
          "output_type": "execute_result",
          "data": {
            "text/plain": [
              "['키 170 27살 따먹은여자 23명 ㅁㅌㅊ?',\n",
              " '그럼 꼽아 놓고 하면 *질로 분수 가능?',\n",
              " '닌 어딘데 중앙대무시하냐 확 쑤셔불랑게',\n",
              " '짱**끼를 **게 **대네.',\n",
              " '전시라고 말했고 여럿이서 사람 **만들기 쉽고 죽은자는 말이없다.내목숨을 위해서 기꺼히 **은 **에게 내 K2 소총으로 **을 갈겨줄테다 그게 간부라고 해도 말이지간부**땜에 죽나 다르게죽나 죽는건 매한가지',\n",
              " '미씨 원탑을 까노',\n",
              " 'ㅈㅈ위쪽 뼈에닿을때까지 눌러서 재는거라던데',\n",
              " '정봉주 같은애가  국회의원을 했다는것만으로조선인 수준이 적나라하게 드러난거지',\n",
              " '방구석에서 귀찮으니 시켜먹어대는 ** 늘어나니까 저런 **같은데도 늘어나는듯ㅋㅋㅋㅋㅋ',\n",
              " '아니 메시 허락은 안받고 아버지 허락을 처받고있냐 ** **치 새기네']"
            ]
          },
          "metadata": {
            "tags": []
          },
          "execution_count": 24
        }
      ]
    },
    {
      "cell_type": "markdown",
      "metadata": {
        "id": "Ndj6FT0ueNlz"
      },
      "source": [
        "### 6. 특정 영상의 유투브 댓글 크롤링하기\n",
        "\n",
        "1. 셀레니움을 위해서 크롬 드라이버 설치하기"
      ]
    },
    {
      "cell_type": "code",
      "metadata": {
        "id": "myH_S11-eNl0"
      },
      "source": [
        "import time\n",
        "from bs4 import BeautifulSoup\n",
        "from selenium import webdriver\n",
        "from pyvirtualdisplay import Display"
      ],
      "execution_count": null,
      "outputs": []
    },
    {
      "cell_type": "code",
      "metadata": {
        "id": "db6xOyOleNl0"
      },
      "source": [
        "display = Display(visible=0, size = (1024,768))\n",
        "display.start()\n",
        "driver = webdriver.Chrome(\"/home/roa/project/chromedriver\")"
      ],
      "execution_count": null,
      "outputs": []
    },
    {
      "cell_type": "code",
      "metadata": {
        "id": "_NeNoL-FeNl1"
      },
      "source": [
        "url = \"https://www.youtube.com/watch?v=BS6O0zOGX4E&list=PLlMkM4tgfjnLSOjrEJN31gZATbcj_MpUm\""
      ],
      "execution_count": null,
      "outputs": []
    },
    {
      "cell_type": "code",
      "metadata": {
        "id": "aY5TrVAqeNl1"
      },
      "source": [
        "def myFunction (url, n) : \n",
        "    \n",
        "    # 크롬 드라이버\n",
        "    driver.get(url)\n",
        "    \n",
        "    # 페이지의 가장 아래부분의 창 높이를 저장\n",
        "    last_page_height = driver.execute_script(\"return document.documentElement.scrollHeight\") \n",
        "    \n",
        "    # 창이 제일 아래에 도달할 때 까지 반복\n",
        "    while True: \n",
        "        \n",
        "        # 스크롤\n",
        "        driver.execute_script(\"window.scrollTo(0, document.documentElement.scrollHeight);\") \n",
        "        \n",
        "        # 1초 대기\n",
        "        time.sleep(1.0) \n",
        "        \n",
        "        # 헌재의 스크롤 높이\n",
        "        new_page_height = driver.execute_script(\"return document.documentElement.scrollHeight\") \n",
        "        \n",
        "        # 현재 높이가 제일 아래이면 반복문 탈출\n",
        "        if new_page_height == last_page_height: \n",
        "            break \n",
        "        \n",
        "        # 현재 페이지 갱신\n",
        "        last_page_height = new_page_height\n",
        "    \n",
        "    # 페이지 소스 가져오기\n",
        "    html_source = driver.page_source\n",
        "    \n",
        "    # lxml을 parsing\n",
        "    soup = BeautifulSoup(html_source, 'lxml')\n",
        "        \n",
        "    # 댓글부분 선택\n",
        "    comments = soup.select('yt-formatted-string#content-text')\n",
        "    \n",
        "    # 텍스트만 정제해서 담을 리스트\n",
        "    comments_preprossed = []\n",
        "    \n",
        "    # 1 ~ n개 까지만 가져옴\n",
        "    for comment in comments[:n] : \n",
        "        \n",
        "        # 가져온 댓글 내용을 저장\n",
        "        comments_preprossed.append(comment.text)\n",
        "\n",
        "    # 저장된 댓글 리턴\n",
        "    return comments_preprossed"
      ],
      "execution_count": null,
      "outputs": []
    },
    {
      "cell_type": "code",
      "metadata": {
        "id": "2gGx9bJpeNl4",
        "outputId": "264f96fd-769b-4f3a-a1b0-7b11251504d7"
      },
      "source": [
        "myFunction(url=url, n=10)"
      ],
      "execution_count": null,
      "outputs": [
        {
          "output_type": "execute_result",
          "data": {
            "text/plain": [
              "['질문이나 강의에 대한 건의등이 있으시면 편안하게 올려 주세요. 다음 강의등에 반영하겠습니다.',\n",
              " '소고기 국수 먹으러 다니시던 분 아니신가?',\n",
              " '감사합니다!',\n",
              " '감사합니다. 유익한 강의네요!',\n",
              " '열심히 듣도록 하겠습니다! 강의 정말 감사합니다!!',\n",
              " '사랑합니다 교수님 ^^',\n",
              " '좋은 강좌 만들어주셔서 감사합니다 열심히 정독하겠습니다',\n",
              " '좋은 강의 감사합니다.',\n",
              " '감사합니다 열심히 듣겠습니다.',\n",
              " '와.. 감사합니다! @_@']"
            ]
          },
          "metadata": {
            "tags": []
          },
          "execution_count": 29
        }
      ]
    },
    {
      "cell_type": "markdown",
      "metadata": {
        "id": "amOMaaBheNl5"
      },
      "source": [
        "### 7. Corpus EDA\n",
        "\n",
        "- 사전 언어 모델을 학습하기전에, 학습시킬 Corpus에 대해 이해하는 것은 필수입니다.\n",
        "\n",
        "- 주어진 Corpus의 문장의 통계값\n",
        "\n",
        "- 가장 많이 나온 단어"
      ]
    },
    {
      "cell_type": "code",
      "metadata": {
        "id": "LtJl2Ei4eNl6"
      },
      "source": [
        "texts = myFunction(url, n=100)"
      ],
      "execution_count": null,
      "outputs": []
    },
    {
      "cell_type": "code",
      "metadata": {
        "id": "KmVOM_NzeNl6"
      },
      "source": [
        "import numpy as np\n",
        "from collections import Counter"
      ],
      "execution_count": null,
      "outputs": []
    },
    {
      "cell_type": "code",
      "metadata": {
        "id": "YYFTF7dveNl7"
      },
      "source": [
        "def myFunction (texts) : \n",
        "    \n",
        "    texts_len = []\n",
        "    \n",
        "    word_list = []\n",
        "\n",
        "    \n",
        "    # 문장의 길이를 저장 및 띄어쓰기 단위로 토큰화\n",
        "    for text in texts : \n",
        "        texts_len.append(len(text))\n",
        "      \n",
        "        # 띄어쓰기 토큰\n",
        "        for word in text.split() : \n",
        "            word_list.append(word)\n",
        "    \n",
        "    # 문장에 포함된 단어들 카운트\n",
        "    counter = Counter(word_list)\n",
        "    \n",
        "    # 가장 많이 나온 단어 10개\n",
        "    word_list = counter.most_common(n=10)\n",
        "\n",
        "    # 빈도는 지우고 단어만, 순서대로 저장\n",
        "    word_list = [word[0] for word in word_list]\n",
        "     \n",
        "    return {\"texts\" : len(texts),\n",
        "            \"maximum\" : np.max(texts_len), \"minumum\" : np.min(texts_len),\n",
        "            \"mean\" : np.mean(texts_len), \"median\" : np.median(texts_len), \"std\" : np.std(texts_len),\n",
        "            \"1Q\" : np.quantile(texts_len, 0.25), \"3Q\" : np.quantile(texts_len, 0.75),\n",
        "            \"TOP1_word\" : word_list[0], \"TOP10_word\":word_list[:10]}"
      ],
      "execution_count": null,
      "outputs": []
    },
    {
      "cell_type": "code",
      "metadata": {
        "id": "O29qze9LeNl7",
        "outputId": "ea134694-4386-4a3c-9240-16acb78ba67f"
      },
      "source": [
        "myFunction(texts)"
      ],
      "execution_count": null,
      "outputs": [
        {
          "output_type": "execute_result",
          "data": {
            "text/plain": [
              "{'texts': 100,\n",
              " 'maximum': 223,\n",
              " 'minumum': 2,\n",
              " 'mean': 32.23,\n",
              " 'median': 20.0,\n",
              " 'std': 37.95941385216585,\n",
              " '1Q': 11.75,\n",
              " '3Q': 38.0,\n",
              " 'TOP1_word': '좋은',\n",
              " 'TOP10_word': ['좋은',\n",
              "  '감사합니다',\n",
              "  '강의',\n",
              "  '감사합니다.',\n",
              "  '정말',\n",
              "  '강의를',\n",
              "  '열심히',\n",
              "  '감사합니다!',\n",
              "  '너무',\n",
              "  '이렇게']}"
            ]
          },
          "metadata": {
            "tags": []
          },
          "execution_count": 33
        }
      ]
    }
  ]
}